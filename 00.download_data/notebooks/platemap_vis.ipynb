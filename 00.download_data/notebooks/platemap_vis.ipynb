{
    "cells": [
        {
            "cell_type": "markdown",
            "metadata": {},
            "source": [
                "# Generate platemap visualizations\n"
            ]
        },
        {
            "cell_type": "markdown",
            "metadata": {},
            "source": [
                "## Import libraries"
            ]
        },
        {
            "cell_type": "code",
            "execution_count": 1,
            "metadata": {
                "vscode": {
                    "languageId": "r"
                }
            },
            "outputs": [
                {
                    "name": "stderr",
                    "output_type": "stream",
                    "text": [
                        "Warning message:\n",
                        "\u201cpackage \u2018ggplot2\u2019 was built under R version 4.2.3\u201d\n",
                        "Warning message:\n",
                        "\u201cpackage \u2018platetools\u2019 was built under R version 4.2.3\u201d\n",
                        "Warning message:\n",
                        "\u201cpackage \u2018RColorBrewer\u2019 was built under R version 4.2.3\u201d\n"
                    ]
                }
            ],
            "source": [
                "suppressPackageStartupMessages(library(dplyr))\n",
                "suppressPackageStartupMessages(library(ggplot2))\n",
                "suppressPackageStartupMessages(library(platetools))\n",
                "suppressPackageStartupMessages(library(RColorBrewer))\n"
            ]
        },
        {
            "cell_type": "markdown",
            "metadata": {},
            "source": [
                "## Set paths"
            ]
        },
        {
            "cell_type": "code",
            "execution_count": 2,
            "metadata": {
                "vscode": {
                    "languageId": "r"
                }
            },
            "outputs": [],
            "source": [
                "patients <- read.csv(file.path(\"../../data/patient_IDs.txt\"), header = FALSE, col.names = \"PatientID\")\n",
                "list_of_platemaps <- c()\n",
                "for (i in 1:nrow(patients)) {\n",
                "  patient_id <- patients$PatientID[i]\n",
                "  platemap_file <- file.path(paste0(\"../../data/\",patient_id),\"platemap\",\"platemap.csv\")\n",
                "  if (file.exists(platemap_file)) {\n",
                "    platemap <- read.csv(platemap_file)\n",
                "    platemap <- platemap %>%\n",
                "      mutate(PatientID = patient_id)\n",
                "    list_of_platemaps[[i]] <- platemap\n",
                "  } else {\n",
                "    warning(paste(\"Platemap file for patient\", patient_id, \"not found. Skipping.\"))\n",
                "  }\n",
                "}"
            ]
        },
        {
            "cell_type": "code",
            "execution_count": 3,
            "metadata": {
                "vscode": {
                    "languageId": "r"
                }
            },
            "outputs": [],
            "source": [
                "output_fig_dir <- file.path(\"platemap_figures\")\n",
                "if (!dir.exists(output_fig_dir)) {\n",
                "    dir.create(output_fig_dir, recursive = TRUE)\n",
                "}\n",
                "platemap_suffix <- \"_platemap_figure.png\"\n",
                "\n",
                "# Define output figure paths\n",
                "output_platemap_files <- list()\n",
                "for (df in list_of_platemaps) {\n",
                "    patient_id <- df$PatientID[1]\n",
                "    \n",
                "    output_platemap_files[[patient_id]] <- file.path(output_fig_dir, paste0(patient_id, platemap_suffix))\n",
                "}"
            ]
        },
        {
            "cell_type": "markdown",
            "metadata": {},
            "source": [
                "## Load in platemap file"
            ]
        },
        {
            "cell_type": "code",
            "execution_count": 4,
            "metadata": {
                "vscode": {
                    "languageId": "r"
                }
            },
            "outputs": [],
            "source": [
                "# Load in all platemap CSV files\n",
                "platemap_dfs <- list()\n",
                "for (plate in list_of_platemaps) {\n",
                "    # Update 'Dose' column\n",
                "    plate <- plate %>%\n",
                "        mutate(\n",
                "            dose = case_when(\n",
                "                treatment == \"DMSO\" ~ paste0(dose, \"%\"),\n",
                "                TRUE ~ paste0(dose, \" uM\")\n",
                "            )\n",
                "        )\n",
                "    \n",
                "    # Store the updated data frame directly (not as a list)\n",
                "    platemap_dfs[[plate$PatientID[1]]] <- plate  # Remove the list() wrapper\n",
                "}"
            ]
        },
        {
            "cell_type": "markdown",
            "metadata": {},
            "source": [
                "## Create example platemaps and save figures"
            ]
        },
        {
            "cell_type": "code",
            "execution_count": 7,
            "metadata": {
                "vscode": {
                    "languageId": "r"
                }
            },
            "outputs": [],
            "source": [
                "for (plate in names(platemap_dfs)) {\n",
                "    output_file <- output_platemap_files[[plate]]\n",
                "    \n",
                "    # Access the dataframe directly\n",
                "    current_platemap <- platemap_dfs[[plate]]\n",
                "    \n",
                "    platemap <- platetools::raw_map(\n",
                "        data = current_platemap$treatment,\n",
                "        well = current_platemap$well_position,\n",
                "        plate = 96,\n",
                "        size = 10\n",
                "    ) +\n",
                "        ggtitle(paste(\"Platemap layout for plate\", plate)) +\n",
                "        theme(\n",
                "            plot.title = element_text(size = 10, face = \"bold\"),\n",
                "            legend.position = \"right\",\n",
                "            legend.box = \"vertical\",\n",
                "            legend.spacing.y = unit(0.5, \"cm\"),\n",
                "            legend.margin = margin(t = 0, b = 5, unit = \"pt\"),\n",
                "            legend.text = element_text(size = 8),\n",
                "            legend.title = element_text(size = 9)\n",
                "        ) +\n",
                "        geom_point(aes(shape = current_platemap$dose)) +\n",
                "        scale_shape_discrete(name = \"Dose\") +\n",
                "        # scale_fill_manual(values = okabe_ito, name = \"Treatment\") +\n",
                "        guides(\n",
                "            shape = guide_legend(order = 2, nrow = 1, override.aes = list(size = 3)),\n",
                "            fill = guide_legend(order = 1, ncol = 2, override.aes = list(size = 3))\n",
                "        )\n",
                "\n",
                "    ggsave(output_file, platemap, device = 'png', dpi = 600, height = 4, width = 8)\n",
                "}"
            ]
        }
    ],
    "metadata": {
        "kernelspec": {
            "display_name": "R",
            "language": "R",
            "name": "ir"
        },
        "language_info": {
            "codemirror_mode": "r",
            "file_extension": ".r",
            "mimetype": "text/x-r-source",
            "name": "R",
            "pygments_lexer": "r",
            "version": "4.2.2"
        }
    },
    "nbformat": 4,
    "nbformat_minor": 2
}
