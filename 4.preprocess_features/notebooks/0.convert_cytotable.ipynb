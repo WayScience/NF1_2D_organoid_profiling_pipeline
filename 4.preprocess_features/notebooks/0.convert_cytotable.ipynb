{
    "cells": [
        {
            "cell_type": "markdown",
            "metadata": {},
            "source": [
                "# Convert SQLite output(s) to parquet files with CytoTable"
            ]
        },
        {
            "cell_type": "markdown",
            "metadata": {},
            "source": [
                "## Import libraries"
            ]
        },
        {
            "cell_type": "code",
            "execution_count": 1,
            "metadata": {},
            "outputs": [],
            "source": [
                "import argparse\n",
                "import logging\n",
                "import pathlib\n",
                "import uuid\n",
                "\n",
                "import duckdb\n",
                "import pandas as pd\n",
                "import tqdm\n",
                "\n",
                "# cytotable will merge objects from SQLite file into single cells and save as parquet file\n",
                "from cytotable import convert, presets\n",
                "from parsl.config import Config\n",
                "from parsl.executors import HighThroughputExecutor\n",
                "\n",
                "# Set the logging level to a higher level to avoid outputting unnecessary errors from config file in convert function\n",
                "logging.getLogger().setLevel(logging.ERROR)\n",
                "try:\n",
                "    cfg = get_ipython().config\n",
                "    in_notebook = True\n",
                "except NameError:\n",
                "    in_notebook = False"
            ]
        },
        {
            "cell_type": "code",
            "execution_count": 2,
            "metadata": {},
            "outputs": [
                {
                    "name": "stdout",
                    "output_type": "stream",
                    "text": [
                        "Running in a notebook\n"
                    ]
                }
            ],
            "source": [
                "if not in_notebook:\n",
                "    print(\"Running as script\")\n",
                "    # set up arg parser\n",
                "    parser = argparse.ArgumentParser(description=\"Segment the nuclei of a tiff image\")\n",
                "\n",
                "    parser.add_argument(\n",
                "        \"--patient\",\n",
                "        type=str,\n",
                "        help=\"Patient ID\",\n",
                "    )\n",
                "\n",
                "    args = parser.parse_args()\n",
                "    patient = args.patient\n",
                "else:\n",
                "    print(\"Running in a notebook\")\n",
                "    patient = \"SARCO361_T1\"\n",
                "\n",
                "middle_slice_input = pathlib.Path(\n",
                "    f\"../../data/{patient}/cellprofiler_middle_slice_output/\"\n",
                ").resolve(strict=True)\n",
                "max_projected_input = pathlib.Path(\n",
                "    f\"../../data/{patient}/cellprofiler_zmax_proj_output/\"\n",
                ").resolve(strict=True)\n",
                "\n",
                "# directory for processed data\n",
                "output_dir = pathlib.Path(f\"../../data/{patient}/0.converted/\").resolve()\n",
                "output_dir.mkdir(parents=True, exist_ok=True)\n",
                "middle_slice_sc_output = pathlib.Path(output_dir, \"middle_slice_sc.parquet\").resolve()\n",
                "max_projected_sc_output = pathlib.Path(output_dir, \"max_projected_sc.parquet\").resolve()\n",
                "middle_slice_organoid_output = pathlib.Path(\n",
                "    output_dir, \"middle_slice_organoid.parquet\"\n",
                ").resolve()\n",
                "max_projected_organoid_output = pathlib.Path(\n",
                "    output_dir, \"max_projected_organoid.parquet\"\n",
                ").resolve()"
            ]
        },
        {
            "cell_type": "markdown",
            "metadata": {},
            "source": [
                "## Set paths and variables"
            ]
        },
        {
            "cell_type": "code",
            "execution_count": 3,
            "metadata": {},
            "outputs": [],
            "source": [
                "# preset configurations based on typical CellProfiler outputs\n",
                "preset = \"cellprofiler_sqlite_pycytominer\"\n",
                "\n",
                "# update preset to include site metadata and cell counts\n",
                "joins = presets.config[\"cellprofiler_sqlite_pycytominer\"][\"CONFIG_JOINS\"].replace(\n",
                "    \"Image_Metadata_Well,\",\n",
                "    \"Image_Metadata_Well, Image_Metadata_Site, Image_Count_Cells,\",\n",
                ")\n",
                "\n",
                "# type of file output from cytotable (currently only parquet)\n",
                "dest_datatype = \"parquet\"\n",
                "\n",
                "\n",
                "well_fov_dict = {}\n",
                "for sqlite_dir in [middle_slice_input, max_projected_input]:\n",
                "    twoD_type = sqlite_dir.name.split(\"_out\")[0].split(\"cellprofiler_\")[1]\n",
                "    well_fov_dict[twoD_type] = {}\n",
                "    sqlites = list(sqlite_dir.rglob(\"*sqlite\"))\n",
                "    sqlites.sort()  # sort to ensure consistent order\n",
                "    for file_path in sqlites:\n",
                "        well_fov = file_path.parent.stem\n",
                "        well_fov_dict[twoD_type][well_fov] = {\n",
                "            \"image_path\": file_path,\n",
                "            \"output_dir\": output_dir / twoD_type / f\"{well_fov}\",\n",
                "        }"
            ]
        },
        {
            "cell_type": "markdown",
            "metadata": {},
            "source": [
                "## Convert SQLite to parquet file(s) for single-cell profiles"
            ]
        },
        {
            "cell_type": "code",
            "execution_count": 4,
            "metadata": {},
            "outputs": [
                {
                    "data": {
                        "text/plain": [
                            "{'middle_slice': {'df_list': []}, 'zmax_proj': {'df_list': []}}"
                        ]
                    },
                    "execution_count": 4,
                    "metadata": {},
                    "output_type": "execute_result"
                }
            ],
            "source": [
                "output_dict_of_dfs = {}\n",
                "for sqlite_dir in [middle_slice_input, max_projected_input]:\n",
                "    output_dict_of_dfs[sqlite_dir.name.split(\"_out\")[0].split(\"cellprofiler_\")[1]] = {\n",
                "        \"df_list\": [],\n",
                "    }\n",
                "output_dict_of_dfs"
            ]
        },
        {
            "cell_type": "code",
            "execution_count": 5,
            "metadata": {},
            "outputs": [
                {
                    "name": "stderr",
                    "output_type": "stream",
                    "text": [
                        "  0%|          | 1/349 [00:08<48:53,  8.43s/it]"
                    ]
                },
                {
                    "name": "stdout",
                    "output_type": "stream",
                    "text": [
                        "Error processing /home/lippincm/4TB_A/NF1_2D_organoid_profiling_pipeline/data/SARCO361_T1/cellprofiler_middle_slice_output/C10-1/gff_extracted_features.sqlite: list index out of range\n"
                    ]
                },
                {
                    "name": "stderr",
                    "output_type": "stream",
                    "text": [
                        "  1%|          | 3/349 [00:09<13:50,  2.40s/it]"
                    ]
                },
                {
                    "name": "stdout",
                    "output_type": "stream",
                    "text": [
                        "Error processing /home/lippincm/4TB_A/NF1_2D_organoid_profiling_pipeline/data/SARCO361_T1/cellprofiler_middle_slice_output/C10-2/gff_extracted_features.sqlite: list index out of range\n",
                        "Error processing /home/lippincm/4TB_A/NF1_2D_organoid_profiling_pipeline/data/SARCO361_T1/cellprofiler_middle_slice_output/C10-3/gff_extracted_features.sqlite: An existing file or directory was provided as dest_path: '/home/lippincm/4TB_A/NF1_2D_organoid_profiling_pipeline/data/SARCO361_T1/0.converted/middle_slice/C10-3_sc.parquet'. Please use a new path for this parameter.\n"
                    ]
                },
                {
                    "name": "stderr",
                    "output_type": "stream",
                    "text": [
                        "  1%|          | 4/349 [00:10<09:23,  1.63s/it]"
                    ]
                },
                {
                    "name": "stdout",
                    "output_type": "stream",
                    "text": [
                        "Error processing /home/lippincm/4TB_A/NF1_2D_organoid_profiling_pipeline/data/SARCO361_T1/cellprofiler_middle_slice_output/C10-4/gff_extracted_features.sqlite: list index out of range\n"
                    ]
                },
                {
                    "name": "stderr",
                    "output_type": "stream",
                    "text": [
                        "  1%|\u258f         | 5/349 [00:11<07:32,  1.31s/it]"
                    ]
                },
                {
                    "name": "stdout",
                    "output_type": "stream",
                    "text": [
                        "Error processing /home/lippincm/4TB_A/NF1_2D_organoid_profiling_pipeline/data/SARCO361_T1/cellprofiler_middle_slice_output/C10-5/gff_extracted_features.sqlite: list index out of range\n"
                    ]
                },
                {
                    "name": "stderr",
                    "output_type": "stream",
                    "text": [
                        "  2%|\u258f         | 6/349 [00:11<05:41,  1.00it/s]"
                    ]
                },
                {
                    "name": "stdout",
                    "output_type": "stream",
                    "text": [
                        "Error processing /home/lippincm/4TB_A/NF1_2D_organoid_profiling_pipeline/data/SARCO361_T1/cellprofiler_middle_slice_output/C10-6/gff_extracted_features.sqlite: list index out of range\n"
                    ]
                },
                {
                    "name": "stderr",
                    "output_type": "stream",
                    "text": [
                        "  2%|\u258f         | 7/349 [00:12<04:40,  1.22it/s]"
                    ]
                },
                {
                    "name": "stdout",
                    "output_type": "stream",
                    "text": [
                        "Error processing /home/lippincm/4TB_A/NF1_2D_organoid_profiling_pipeline/data/SARCO361_T1/cellprofiler_middle_slice_output/C10-7/gff_extracted_features.sqlite: list index out of range\n"
                    ]
                },
                {
                    "name": "stderr",
                    "output_type": "stream",
                    "text": [
                        "  2%|\u258f         | 8/349 [00:12<03:58,  1.43it/s]"
                    ]
                },
                {
                    "name": "stdout",
                    "output_type": "stream",
                    "text": [
                        "Error processing /home/lippincm/4TB_A/NF1_2D_organoid_profiling_pipeline/data/SARCO361_T1/cellprofiler_middle_slice_output/C11-1/gff_extracted_features.sqlite: list index out of range\n"
                    ]
                },
                {
                    "name": "stderr",
                    "output_type": "stream",
                    "text": [
                        "  3%|\u258e         | 9/349 [00:12<03:29,  1.63it/s]"
                    ]
                },
                {
                    "name": "stdout",
                    "output_type": "stream",
                    "text": [
                        "Error processing /home/lippincm/4TB_A/NF1_2D_organoid_profiling_pipeline/data/SARCO361_T1/cellprofiler_middle_slice_output/C11-2/gff_extracted_features.sqlite: An existing file or directory was provided as dest_path: '/home/lippincm/4TB_A/NF1_2D_organoid_profiling_pipeline/data/SARCO361_T1/0.converted/middle_slice/C11-2_sc.parquet'. Please use a new path for this parameter.\n"
                    ]
                },
                {
                    "name": "stderr",
                    "output_type": "stream",
                    "text": [
                        "  3%|\u258e         | 10/349 [00:13<03:09,  1.79it/s]"
                    ]
                },
                {
                    "name": "stdout",
                    "output_type": "stream",
                    "text": [
                        "Error processing /home/lippincm/4TB_A/NF1_2D_organoid_profiling_pipeline/data/SARCO361_T1/cellprofiler_middle_slice_output/C11-3/gff_extracted_features.sqlite: An existing file or directory was provided as dest_path: '/home/lippincm/4TB_A/NF1_2D_organoid_profiling_pipeline/data/SARCO361_T1/0.converted/middle_slice/C11-3_sc.parquet'. Please use a new path for this parameter.\n"
                    ]
                },
                {
                    "name": "stderr",
                    "output_type": "stream",
                    "text": [
                        "  3%|\u258e         | 11/349 [00:14<03:26,  1.64it/s]"
                    ]
                },
                {
                    "name": "stdout",
                    "output_type": "stream",
                    "text": [
                        "Error processing /home/lippincm/4TB_A/NF1_2D_organoid_profiling_pipeline/data/SARCO361_T1/cellprofiler_middle_slice_output/C11-4/gff_extracted_features.sqlite: list index out of range\n"
                    ]
                },
                {
                    "name": "stderr",
                    "output_type": "stream",
                    "text": [
                        "  3%|\u258e         | 12/349 [00:14<02:58,  1.89it/s]"
                    ]
                },
                {
                    "name": "stdout",
                    "output_type": "stream",
                    "text": [
                        "Error processing /home/lippincm/4TB_A/NF1_2D_organoid_profiling_pipeline/data/SARCO361_T1/cellprofiler_middle_slice_output/C11-5/gff_extracted_features.sqlite: An existing file or directory was provided as dest_path: '/home/lippincm/4TB_A/NF1_2D_organoid_profiling_pipeline/data/SARCO361_T1/0.converted/middle_slice/C11-5_sc.parquet'. Please use a new path for this parameter.\n"
                    ]
                },
                {
                    "name": "stderr",
                    "output_type": "stream",
                    "text": [
                        "  4%|\u258e         | 13/349 [00:14<02:58,  1.88it/s]"
                    ]
                },
                {
                    "name": "stdout",
                    "output_type": "stream",
                    "text": [
                        "Error processing /home/lippincm/4TB_A/NF1_2D_organoid_profiling_pipeline/data/SARCO361_T1/cellprofiler_middle_slice_output/C11-6/gff_extracted_features.sqlite: list index out of range\n"
                    ]
                },
                {
                    "name": "stderr",
                    "output_type": "stream",
                    "text": [
                        "  4%|\u258d         | 14/349 [00:15<02:54,  1.92it/s]"
                    ]
                },
                {
                    "name": "stdout",
                    "output_type": "stream",
                    "text": [
                        "Error processing /home/lippincm/4TB_A/NF1_2D_organoid_profiling_pipeline/data/SARCO361_T1/cellprofiler_middle_slice_output/C11-7/gff_extracted_features.sqlite: list index out of range\n"
                    ]
                },
                {
                    "name": "stderr",
                    "output_type": "stream",
                    "text": [
                        "  4%|\u258d         | 15/349 [00:15<02:35,  2.15it/s]"
                    ]
                },
                {
                    "name": "stdout",
                    "output_type": "stream",
                    "text": [
                        "Error processing /home/lippincm/4TB_A/NF1_2D_organoid_profiling_pipeline/data/SARCO361_T1/cellprofiler_middle_slice_output/C2-1/gff_extracted_features.sqlite: list index out of range\n"
                    ]
                },
                {
                    "name": "stderr",
                    "output_type": "stream",
                    "text": [
                        "  5%|\u258d         | 16/349 [00:16<02:31,  2.20it/s]"
                    ]
                },
                {
                    "name": "stdout",
                    "output_type": "stream",
                    "text": [
                        "Error processing /home/lippincm/4TB_A/NF1_2D_organoid_profiling_pipeline/data/SARCO361_T1/cellprofiler_middle_slice_output/C2-2/gff_extracted_features.sqlite: An existing file or directory was provided as dest_path: '/home/lippincm/4TB_A/NF1_2D_organoid_profiling_pipeline/data/SARCO361_T1/0.converted/middle_slice/C2-2_sc.parquet'. Please use a new path for this parameter.\n"
                    ]
                },
                {
                    "name": "stderr",
                    "output_type": "stream",
                    "text": [
                        "  5%|\u258d         | 17/349 [00:16<02:23,  2.32it/s]"
                    ]
                },
                {
                    "name": "stdout",
                    "output_type": "stream",
                    "text": [
                        "Error processing /home/lippincm/4TB_A/NF1_2D_organoid_profiling_pipeline/data/SARCO361_T1/cellprofiler_middle_slice_output/C2-3/gff_extracted_features.sqlite: list index out of range\n"
                    ]
                },
                {
                    "name": "stderr",
                    "output_type": "stream",
                    "text": [
                        "  5%|\u258c         | 18/349 [00:17<02:49,  1.95it/s]"
                    ]
                },
                {
                    "name": "stdout",
                    "output_type": "stream",
                    "text": [
                        "Error processing /home/lippincm/4TB_A/NF1_2D_organoid_profiling_pipeline/data/SARCO361_T1/cellprofiler_middle_slice_output/C2-4/gff_extracted_features.sqlite: list index out of range\n"
                    ]
                },
                {
                    "name": "stderr",
                    "output_type": "stream",
                    "text": [
                        "  5%|\u258c         | 19/349 [00:17<02:47,  1.96it/s]"
                    ]
                },
                {
                    "name": "stdout",
                    "output_type": "stream",
                    "text": [
                        "Error processing /home/lippincm/4TB_A/NF1_2D_organoid_profiling_pipeline/data/SARCO361_T1/cellprofiler_middle_slice_output/C2-5/gff_extracted_features.sqlite: list index out of range\n"
                    ]
                },
                {
                    "name": "stderr",
                    "output_type": "stream",
                    "text": [
                        "  6%|\u258c         | 20/349 [00:18<03:13,  1.70it/s]"
                    ]
                },
                {
                    "name": "stdout",
                    "output_type": "stream",
                    "text": [
                        "Error processing /home/lippincm/4TB_A/NF1_2D_organoid_profiling_pipeline/data/SARCO361_T1/cellprofiler_middle_slice_output/C2-6/gff_extracted_features.sqlite: list index out of range\n"
                    ]
                },
                {
                    "name": "stderr",
                    "output_type": "stream",
                    "text": [
                        "  6%|\u258c         | 21/349 [00:18<02:36,  2.10it/s]"
                    ]
                },
                {
                    "name": "stdout",
                    "output_type": "stream",
                    "text": [
                        "Error processing /home/lippincm/4TB_A/NF1_2D_organoid_profiling_pipeline/data/SARCO361_T1/cellprofiler_middle_slice_output/C2-7/gff_extracted_features.sqlite: An existing file or directory was provided as dest_path: '/home/lippincm/4TB_A/NF1_2D_organoid_profiling_pipeline/data/SARCO361_T1/0.converted/middle_slice/C2-7_sc.parquet'. Please use a new path for this parameter.\n"
                    ]
                },
                {
                    "name": "stderr",
                    "output_type": "stream",
                    "text": [
                        "  6%|\u258b         | 22/349 [00:18<02:09,  2.53it/s]"
                    ]
                },
                {
                    "name": "stdout",
                    "output_type": "stream",
                    "text": [
                        "Error processing /home/lippincm/4TB_A/NF1_2D_organoid_profiling_pipeline/data/SARCO361_T1/cellprofiler_middle_slice_output/C3-1/gff_extracted_features.sqlite: An existing file or directory was provided as dest_path: '/home/lippincm/4TB_A/NF1_2D_organoid_profiling_pipeline/data/SARCO361_T1/0.converted/middle_slice/C3-1_sc.parquet'. Please use a new path for this parameter.\n"
                    ]
                },
                {
                    "name": "stderr",
                    "output_type": "stream",
                    "text": [
                        "  7%|\u258b         | 25/349 [00:19<01:11,  4.54it/s]"
                    ]
                },
                {
                    "name": "stdout",
                    "output_type": "stream",
                    "text": [
                        "Error processing /home/lippincm/4TB_A/NF1_2D_organoid_profiling_pipeline/data/SARCO361_T1/cellprofiler_middle_slice_output/C3-2/gff_extracted_features.sqlite: An existing file or directory was provided as dest_path: '/home/lippincm/4TB_A/NF1_2D_organoid_profiling_pipeline/data/SARCO361_T1/0.converted/middle_slice/C3-2_sc.parquet'. Please use a new path for this parameter.\n",
                        "Error processing /home/lippincm/4TB_A/NF1_2D_organoid_profiling_pipeline/data/SARCO361_T1/cellprofiler_middle_slice_output/C3-3/gff_extracted_features.sqlite: An existing file or directory was provided as dest_path: '/home/lippincm/4TB_A/NF1_2D_organoid_profiling_pipeline/data/SARCO361_T1/0.converted/middle_slice/C3-3_sc.parquet'. Please use a new path for this parameter.\n",
                        "Error processing /home/lippincm/4TB_A/NF1_2D_organoid_profiling_pipeline/data/SARCO361_T1/cellprofiler_middle_slice_output/C3-4/gff_extracted_features.sqlite: An existing file or directory was provided as dest_path: '/home/lippincm/4TB_A/NF1_2D_organoid_profiling_pipeline/data/SARCO361_T1/0.converted/middle_slice/C3-4_sc.parquet'. Please use a new path for this parameter.\n"
                    ]
                },
                {
                    "name": "stderr",
                    "output_type": "stream",
                    "text": [
                        "  7%|\u258b         | 26/349 [00:20<01:51,  2.91it/s]"
                    ]
                },
                {
                    "name": "stdout",
                    "output_type": "stream",
                    "text": [
                        "Error processing /home/lippincm/4TB_A/NF1_2D_organoid_profiling_pipeline/data/SARCO361_T1/cellprofiler_middle_slice_output/C3-5/gff_extracted_features.sqlite: list index out of range\n"
                    ]
                },
                {
                    "name": "stderr",
                    "output_type": "stream",
                    "text": [
                        "  8%|\u258a         | 27/349 [00:20<02:00,  2.67it/s]"
                    ]
                },
                {
                    "name": "stdout",
                    "output_type": "stream",
                    "text": [
                        "Error processing /home/lippincm/4TB_A/NF1_2D_organoid_profiling_pipeline/data/SARCO361_T1/cellprofiler_middle_slice_output/C3-6/gff_extracted_features.sqlite: list index out of range\n",
                        "Error processing /home/lippincm/4TB_A/NF1_2D_organoid_profiling_pipeline/data/SARCO361_T1/cellprofiler_middle_slice_output/C3-7/gff_extracted_features.sqlite: An existing file or directory was provided as dest_path: '/home/lippincm/4TB_A/NF1_2D_organoid_profiling_pipeline/data/SARCO361_T1/0.converted/middle_slice/C3-7_sc.parquet'. Please use a new path for this parameter.\n"
                    ]
                },
                {
                    "name": "stderr",
                    "output_type": "stream",
                    "text": [
                        "  8%|\u258a         | 29/349 [00:21<01:44,  3.08it/s]"
                    ]
                },
                {
                    "name": "stdout",
                    "output_type": "stream",
                    "text": [
                        "Error processing /home/lippincm/4TB_A/NF1_2D_organoid_profiling_pipeline/data/SARCO361_T1/cellprofiler_middle_slice_output/C4-1/gff_extracted_features.sqlite: An existing file or directory was provided as dest_path: '/home/lippincm/4TB_A/NF1_2D_organoid_profiling_pipeline/data/SARCO361_T1/0.converted/middle_slice/C4-1_sc.parquet'. Please use a new path for this parameter.\n"
                    ]
                },
                {
                    "name": "stderr",
                    "output_type": "stream",
                    "text": [
                        "  9%|\u258a         | 30/349 [00:21<01:55,  2.75it/s]"
                    ]
                },
                {
                    "name": "stdout",
                    "output_type": "stream",
                    "text": [
                        "Error processing /home/lippincm/4TB_A/NF1_2D_organoid_profiling_pipeline/data/SARCO361_T1/cellprofiler_middle_slice_output/C4-2/gff_extracted_features.sqlite: list index out of range\n"
                    ]
                },
                {
                    "name": "stderr",
                    "output_type": "stream",
                    "text": [
                        "  9%|\u2589         | 31/349 [00:21<02:03,  2.58it/s]"
                    ]
                },
                {
                    "name": "stdout",
                    "output_type": "stream",
                    "text": [
                        "Error processing /home/lippincm/4TB_A/NF1_2D_organoid_profiling_pipeline/data/SARCO361_T1/cellprofiler_middle_slice_output/C4-3/gff_extracted_features.sqlite: list index out of range\n"
                    ]
                },
                {
                    "name": "stderr",
                    "output_type": "stream",
                    "text": [
                        " 10%|\u2589         | 34/349 [00:22<01:11,  4.42it/s]"
                    ]
                },
                {
                    "name": "stdout",
                    "output_type": "stream",
                    "text": [
                        "Error processing /home/lippincm/4TB_A/NF1_2D_organoid_profiling_pipeline/data/SARCO361_T1/cellprofiler_middle_slice_output/C4-4/gff_extracted_features.sqlite: An existing file or directory was provided as dest_path: '/home/lippincm/4TB_A/NF1_2D_organoid_profiling_pipeline/data/SARCO361_T1/0.converted/middle_slice/C4-4_sc.parquet'. Please use a new path for this parameter.\n",
                        "Error processing /home/lippincm/4TB_A/NF1_2D_organoid_profiling_pipeline/data/SARCO361_T1/cellprofiler_middle_slice_output/C4-5/gff_extracted_features.sqlite: An existing file or directory was provided as dest_path: '/home/lippincm/4TB_A/NF1_2D_organoid_profiling_pipeline/data/SARCO361_T1/0.converted/middle_slice/C4-5_sc.parquet'. Please use a new path for this parameter.\n",
                        "Error processing /home/lippincm/4TB_A/NF1_2D_organoid_profiling_pipeline/data/SARCO361_T1/cellprofiler_middle_slice_output/C4-6/gff_extracted_features.sqlite: An existing file or directory was provided as dest_path: '/home/lippincm/4TB_A/NF1_2D_organoid_profiling_pipeline/data/SARCO361_T1/0.converted/middle_slice/C4-6_sc.parquet'. Please use a new path for this parameter.\n"
                    ]
                },
                {
                    "name": "stderr",
                    "output_type": "stream",
                    "text": [
                        " 10%|\u2588         | 35/349 [00:22<01:09,  4.55it/s]"
                    ]
                },
                {
                    "name": "stdout",
                    "output_type": "stream",
                    "text": [
                        "Error processing /home/lippincm/4TB_A/NF1_2D_organoid_profiling_pipeline/data/SARCO361_T1/cellprofiler_middle_slice_output/C4-7/gff_extracted_features.sqlite: An existing file or directory was provided as dest_path: '/home/lippincm/4TB_A/NF1_2D_organoid_profiling_pipeline/data/SARCO361_T1/0.converted/middle_slice/C4-7_sc.parquet'. Please use a new path for this parameter.\n"
                    ]
                },
                {
                    "name": "stderr",
                    "output_type": "stream",
                    "text": [
                        " 10%|\u2588         | 36/349 [00:23<01:27,  3.58it/s]"
                    ]
                },
                {
                    "name": "stdout",
                    "output_type": "stream",
                    "text": [
                        "Error processing /home/lippincm/4TB_A/NF1_2D_organoid_profiling_pipeline/data/SARCO361_T1/cellprofiler_middle_slice_output/C5-1/gff_extracted_features.sqlite: An existing file or directory was provided as dest_path: '/home/lippincm/4TB_A/NF1_2D_organoid_profiling_pipeline/data/SARCO361_T1/0.converted/middle_slice/C5-1_sc.parquet'. Please use a new path for this parameter.\n"
                    ]
                },
                {
                    "name": "stderr",
                    "output_type": "stream",
                    "text": [
                        " 11%|\u2588         | 37/349 [00:23<01:44,  2.98it/s]"
                    ]
                },
                {
                    "name": "stdout",
                    "output_type": "stream",
                    "text": [
                        "Error processing /home/lippincm/4TB_A/NF1_2D_organoid_profiling_pipeline/data/SARCO361_T1/cellprofiler_middle_slice_output/C5-2/gff_extracted_features.sqlite: list index out of range\n"
                    ]
                },
                {
                    "name": "stderr",
                    "output_type": "stream",
                    "text": [
                        " 11%|\u2588         | 38/349 [00:23<01:42,  3.04it/s]"
                    ]
                },
                {
                    "name": "stdout",
                    "output_type": "stream",
                    "text": [
                        "Error processing /home/lippincm/4TB_A/NF1_2D_organoid_profiling_pipeline/data/SARCO361_T1/cellprofiler_middle_slice_output/C5-3/gff_extracted_features.sqlite: list index out of range\n"
                    ]
                },
                {
                    "name": "stderr",
                    "output_type": "stream",
                    "text": [
                        " 11%|\u2588         | 39/349 [00:24<01:59,  2.60it/s]"
                    ]
                },
                {
                    "name": "stdout",
                    "output_type": "stream",
                    "text": [
                        "Error processing /home/lippincm/4TB_A/NF1_2D_organoid_profiling_pipeline/data/SARCO361_T1/cellprofiler_middle_slice_output/C5-4/gff_extracted_features.sqlite: list index out of range\n"
                    ]
                },
                {
                    "name": "stderr",
                    "output_type": "stream",
                    "text": [
                        " 11%|\u2588\u258f        | 40/349 [00:24<01:45,  2.93it/s]"
                    ]
                },
                {
                    "name": "stdout",
                    "output_type": "stream",
                    "text": [
                        "Error processing /home/lippincm/4TB_A/NF1_2D_organoid_profiling_pipeline/data/SARCO361_T1/cellprofiler_middle_slice_output/C5-5/gff_extracted_features.sqlite: An existing file or directory was provided as dest_path: '/home/lippincm/4TB_A/NF1_2D_organoid_profiling_pipeline/data/SARCO361_T1/0.converted/middle_slice/C5-5_sc.parquet'. Please use a new path for this parameter.\n"
                    ]
                },
                {
                    "name": "stderr",
                    "output_type": "stream",
                    "text": [
                        " 12%|\u2588\u258f        | 41/349 [00:25<01:52,  2.73it/s]"
                    ]
                },
                {
                    "name": "stdout",
                    "output_type": "stream",
                    "text": [
                        "Error processing /home/lippincm/4TB_A/NF1_2D_organoid_profiling_pipeline/data/SARCO361_T1/cellprofiler_middle_slice_output/C5-6/gff_extracted_features.sqlite: An existing file or directory was provided as dest_path: '/home/lippincm/4TB_A/NF1_2D_organoid_profiling_pipeline/data/SARCO361_T1/0.converted/middle_slice/C5-6_sc.parquet'. Please use a new path for this parameter.\n"
                    ]
                },
                {
                    "name": "stderr",
                    "output_type": "stream",
                    "text": [
                        " 12%|\u2588\u258f        | 42/349 [00:25<02:22,  2.15it/s]"
                    ]
                },
                {
                    "name": "stdout",
                    "output_type": "stream",
                    "text": [
                        "Error processing /home/lippincm/4TB_A/NF1_2D_organoid_profiling_pipeline/data/SARCO361_T1/cellprofiler_middle_slice_output/C5-7/gff_extracted_features.sqlite: list index out of range\n"
                    ]
                },
                {
                    "name": "stderr",
                    "output_type": "stream",
                    "text": [
                        " 12%|\u2588\u258f        | 43/349 [00:26<02:10,  2.34it/s]"
                    ]
                },
                {
                    "name": "stdout",
                    "output_type": "stream",
                    "text": [
                        "Error processing /home/lippincm/4TB_A/NF1_2D_organoid_profiling_pipeline/data/SARCO361_T1/cellprofiler_middle_slice_output/C6-1/gff_extracted_features.sqlite: list index out of range\n",
                        "Error processing /home/lippincm/4TB_A/NF1_2D_organoid_profiling_pipeline/data/SARCO361_T1/cellprofiler_middle_slice_output/C6-2/gff_extracted_features.sqlite: An existing file or directory was provided as dest_path: '/home/lippincm/4TB_A/NF1_2D_organoid_profiling_pipeline/data/SARCO361_T1/0.converted/middle_slice/C6-2_sc.parquet'. Please use a new path for this parameter.\n"
                    ]
                },
                {
                    "name": "stderr",
                    "output_type": "stream",
                    "text": [
                        " 13%|\u2588\u258e        | 45/349 [00:26<01:41,  3.01it/s]"
                    ]
                },
                {
                    "name": "stdout",
                    "output_type": "stream",
                    "text": [
                        "Error processing /home/lippincm/4TB_A/NF1_2D_organoid_profiling_pipeline/data/SARCO361_T1/cellprofiler_middle_slice_output/C6-3/gff_extracted_features.sqlite: list index out of range\n"
                    ]
                },
                {
                    "name": "stderr",
                    "output_type": "stream",
                    "text": [
                        " 13%|\u2588\u258e        | 46/349 [00:26<01:53,  2.68it/s]"
                    ]
                },
                {
                    "name": "stdout",
                    "output_type": "stream",
                    "text": [
                        "Error processing /home/lippincm/4TB_A/NF1_2D_organoid_profiling_pipeline/data/SARCO361_T1/cellprofiler_middle_slice_output/C6-4/gff_extracted_features.sqlite: list index out of range\n",
                        "Error processing /home/lippincm/4TB_A/NF1_2D_organoid_profiling_pipeline/data/SARCO361_T1/cellprofiler_middle_slice_output/C6-5/gff_extracted_features.sqlite: An existing file or directory was provided as dest_path: '/home/lippincm/4TB_A/NF1_2D_organoid_profiling_pipeline/data/SARCO361_T1/0.converted/middle_slice/C6-5_sc.parquet'. Please use a new path for this parameter.\n"
                    ]
                },
                {
                    "name": "stderr",
                    "output_type": "stream",
                    "text": [
                        " 14%|\u2588\u258d        | 48/349 [00:27<01:52,  2.69it/s]"
                    ]
                },
                {
                    "name": "stdout",
                    "output_type": "stream",
                    "text": [
                        "Error processing /home/lippincm/4TB_A/NF1_2D_organoid_profiling_pipeline/data/SARCO361_T1/cellprofiler_middle_slice_output/C6-6/gff_extracted_features.sqlite: list index out of range\n"
                    ]
                },
                {
                    "name": "stderr",
                    "output_type": "stream",
                    "text": [
                        " 14%|\u2588\u258d        | 49/349 [00:27<01:40,  2.99it/s]"
                    ]
                },
                {
                    "name": "stdout",
                    "output_type": "stream",
                    "text": [
                        "Error processing /home/lippincm/4TB_A/NF1_2D_organoid_profiling_pipeline/data/SARCO361_T1/cellprofiler_middle_slice_output/C6-7/gff_extracted_features.sqlite: An existing file or directory was provided as dest_path: '/home/lippincm/4TB_A/NF1_2D_organoid_profiling_pipeline/data/SARCO361_T1/0.converted/middle_slice/C6-7_sc.parquet'. Please use a new path for this parameter.\n"
                    ]
                },
                {
                    "name": "stderr",
                    "output_type": "stream",
                    "text": [
                        " 14%|\u2588\u258d        | 50/349 [00:28<01:30,  3.30it/s]"
                    ]
                },
                {
                    "name": "stdout",
                    "output_type": "stream",
                    "text": [
                        "Error processing /home/lippincm/4TB_A/NF1_2D_organoid_profiling_pipeline/data/SARCO361_T1/cellprofiler_middle_slice_output/C7-1/gff_extracted_features.sqlite: An existing file or directory was provided as dest_path: '/home/lippincm/4TB_A/NF1_2D_organoid_profiling_pipeline/data/SARCO361_T1/0.converted/middle_slice/C7-1_sc.parquet'. Please use a new path for this parameter.\n"
                    ]
                },
                {
                    "name": "stderr",
                    "output_type": "stream",
                    "text": [
                        " 15%|\u2588\u258d        | 51/349 [00:28<01:44,  2.86it/s]"
                    ]
                },
                {
                    "name": "stdout",
                    "output_type": "stream",
                    "text": [
                        "Error processing /home/lippincm/4TB_A/NF1_2D_organoid_profiling_pipeline/data/SARCO361_T1/cellprofiler_middle_slice_output/C7-2/gff_extracted_features.sqlite: list index out of range\n"
                    ]
                },
                {
                    "name": "stderr",
                    "output_type": "stream",
                    "text": [
                        " 15%|\u2588\u258d        | 52/349 [00:29<01:53,  2.61it/s]"
                    ]
                },
                {
                    "name": "stdout",
                    "output_type": "stream",
                    "text": [
                        "Error processing /home/lippincm/4TB_A/NF1_2D_organoid_profiling_pipeline/data/SARCO361_T1/cellprofiler_middle_slice_output/C7-3/gff_extracted_features.sqlite: list index out of range\n"
                    ]
                },
                {
                    "name": "stderr",
                    "output_type": "stream",
                    "text": [
                        " 15%|\u2588\u258c        | 53/349 [00:29<02:17,  2.15it/s]"
                    ]
                },
                {
                    "name": "stdout",
                    "output_type": "stream",
                    "text": [
                        "Error processing /home/lippincm/4TB_A/NF1_2D_organoid_profiling_pipeline/data/SARCO361_T1/cellprofiler_middle_slice_output/C7-4/gff_extracted_features.sqlite: list index out of range\n"
                    ]
                },
                {
                    "name": "stderr",
                    "output_type": "stream",
                    "text": [
                        " 16%|\u2588\u258c        | 55/349 [00:30<01:38,  2.99it/s]"
                    ]
                },
                {
                    "name": "stdout",
                    "output_type": "stream",
                    "text": [
                        "Error processing /home/lippincm/4TB_A/NF1_2D_organoid_profiling_pipeline/data/SARCO361_T1/cellprofiler_middle_slice_output/C7-5/gff_extracted_features.sqlite: An existing file or directory was provided as dest_path: '/home/lippincm/4TB_A/NF1_2D_organoid_profiling_pipeline/data/SARCO361_T1/0.converted/middle_slice/C7-5_sc.parquet'. Please use a new path for this parameter.\n",
                        "Error processing /home/lippincm/4TB_A/NF1_2D_organoid_profiling_pipeline/data/SARCO361_T1/cellprofiler_middle_slice_output/C7-6/gff_extracted_features.sqlite: An existing file or directory was provided as dest_path: '/home/lippincm/4TB_A/NF1_2D_organoid_profiling_pipeline/data/SARCO361_T1/0.converted/middle_slice/C7-6_sc.parquet'. Please use a new path for this parameter.\n"
                    ]
                },
                {
                    "name": "stderr",
                    "output_type": "stream",
                    "text": [
                        " 16%|\u2588\u258c        | 56/349 [00:30<01:37,  3.01it/s]"
                    ]
                },
                {
                    "name": "stdout",
                    "output_type": "stream",
                    "text": [
                        "Error processing /home/lippincm/4TB_A/NF1_2D_organoid_profiling_pipeline/data/SARCO361_T1/cellprofiler_middle_slice_output/C7-7/gff_extracted_features.sqlite: list index out of range\n"
                    ]
                },
                {
                    "name": "stderr",
                    "output_type": "stream",
                    "text": [
                        " 16%|\u2588\u258b        | 57/349 [00:30<01:27,  3.33it/s]"
                    ]
                },
                {
                    "name": "stdout",
                    "output_type": "stream",
                    "text": [
                        "Error processing /home/lippincm/4TB_A/NF1_2D_organoid_profiling_pipeline/data/SARCO361_T1/cellprofiler_middle_slice_output/C8-1/gff_extracted_features.sqlite: An existing file or directory was provided as dest_path: '/home/lippincm/4TB_A/NF1_2D_organoid_profiling_pipeline/data/SARCO361_T1/0.converted/middle_slice/C8-1_sc.parquet'. Please use a new path for this parameter.\n"
                    ]
                },
                {
                    "name": "stderr",
                    "output_type": "stream",
                    "text": [
                        " 17%|\u2588\u258b        | 58/349 [00:30<01:20,  3.60it/s]"
                    ]
                },
                {
                    "name": "stdout",
                    "output_type": "stream",
                    "text": [
                        "Error processing /home/lippincm/4TB_A/NF1_2D_organoid_profiling_pipeline/data/SARCO361_T1/cellprofiler_middle_slice_output/C8-2/gff_extracted_features.sqlite: An existing file or directory was provided as dest_path: '/home/lippincm/4TB_A/NF1_2D_organoid_profiling_pipeline/data/SARCO361_T1/0.converted/middle_slice/C8-2_sc.parquet'. Please use a new path for this parameter.\n"
                    ]
                },
                {
                    "name": "stderr",
                    "output_type": "stream",
                    "text": [
                        " 17%|\u2588\u258b        | 59/349 [00:31<01:14,  3.89it/s]"
                    ]
                },
                {
                    "name": "stdout",
                    "output_type": "stream",
                    "text": [
                        "Error processing /home/lippincm/4TB_A/NF1_2D_organoid_profiling_pipeline/data/SARCO361_T1/cellprofiler_middle_slice_output/C8-3/gff_extracted_features.sqlite: An existing file or directory was provided as dest_path: '/home/lippincm/4TB_A/NF1_2D_organoid_profiling_pipeline/data/SARCO361_T1/0.converted/middle_slice/C8-3_sc.parquet'. Please use a new path for this parameter.\n"
                    ]
                },
                {
                    "name": "stderr",
                    "output_type": "stream",
                    "text": [
                        " 17%|\u2588\u258b        | 60/349 [00:31<01:23,  3.47it/s]"
                    ]
                },
                {
                    "name": "stdout",
                    "output_type": "stream",
                    "text": [
                        "Error processing /home/lippincm/4TB_A/NF1_2D_organoid_profiling_pipeline/data/SARCO361_T1/cellprofiler_middle_slice_output/C8-4/gff_extracted_features.sqlite: list index out of range\n"
                    ]
                },
                {
                    "name": "stderr",
                    "output_type": "stream",
                    "text": [
                        " 17%|\u2588\u258b        | 61/349 [00:31<01:38,  2.92it/s]"
                    ]
                },
                {
                    "name": "stdout",
                    "output_type": "stream",
                    "text": [
                        "Error processing /home/lippincm/4TB_A/NF1_2D_organoid_profiling_pipeline/data/SARCO361_T1/cellprofiler_middle_slice_output/C8-5/gff_extracted_features.sqlite: An existing file or directory was provided as dest_path: '/home/lippincm/4TB_A/NF1_2D_organoid_profiling_pipeline/data/SARCO361_T1/0.converted/middle_slice/C8-5_sc.parquet'. Please use a new path for this parameter.\n"
                    ]
                },
                {
                    "name": "stderr",
                    "output_type": "stream",
                    "text": [
                        " 18%|\u2588\u258a        | 62/349 [00:32<02:08,  2.23it/s]"
                    ]
                },
                {
                    "name": "stdout",
                    "output_type": "stream",
                    "text": [
                        "Error processing /home/lippincm/4TB_A/NF1_2D_organoid_profiling_pipeline/data/SARCO361_T1/cellprofiler_middle_slice_output/C8-6/gff_extracted_features.sqlite: list index out of range\n"
                    ]
                },
                {
                    "name": "stderr",
                    "output_type": "stream",
                    "text": [
                        " 18%|\u2588\u258a        | 63/349 [00:33<02:06,  2.26it/s]"
                    ]
                },
                {
                    "name": "stdout",
                    "output_type": "stream",
                    "text": [
                        "Error processing /home/lippincm/4TB_A/NF1_2D_organoid_profiling_pipeline/data/SARCO361_T1/cellprofiler_middle_slice_output/C8-7/gff_extracted_features.sqlite: list index out of range\n"
                    ]
                },
                {
                    "name": "stderr",
                    "output_type": "stream",
                    "text": [
                        " 18%|\u2588\u258a        | 64/349 [00:33<02:12,  2.16it/s]"
                    ]
                },
                {
                    "name": "stdout",
                    "output_type": "stream",
                    "text": [
                        "Error processing /home/lippincm/4TB_A/NF1_2D_organoid_profiling_pipeline/data/SARCO361_T1/cellprofiler_middle_slice_output/C9-1/gff_extracted_features.sqlite: list index out of range\n"
                    ]
                },
                {
                    "name": "stderr",
                    "output_type": "stream",
                    "text": [
                        " 19%|\u2588\u258a        | 65/349 [00:34<02:09,  2.19it/s]"
                    ]
                },
                {
                    "name": "stdout",
                    "output_type": "stream",
                    "text": [
                        "Error processing /home/lippincm/4TB_A/NF1_2D_organoid_profiling_pipeline/data/SARCO361_T1/cellprofiler_middle_slice_output/C9-2/gff_extracted_features.sqlite: list index out of range\n"
                    ]
                },
                {
                    "name": "stderr",
                    "output_type": "stream",
                    "text": [
                        " 19%|\u2588\u2589        | 66/349 [00:34<02:46,  1.70it/s]"
                    ]
                },
                {
                    "name": "stdout",
                    "output_type": "stream",
                    "text": [
                        "Error processing /home/lippincm/4TB_A/NF1_2D_organoid_profiling_pipeline/data/SARCO361_T1/cellprofiler_middle_slice_output/C9-3/gff_extracted_features.sqlite: An existing file or directory was provided as dest_path: '/home/lippincm/4TB_A/NF1_2D_organoid_profiling_pipeline/data/SARCO361_T1/0.converted/middle_slice/C9-3_sc.parquet'. Please use a new path for this parameter.\n"
                    ]
                },
                {
                    "name": "stderr",
                    "output_type": "stream",
                    "text": [
                        " 19%|\u2588\u2589        | 67/349 [00:35<02:34,  1.82it/s]"
                    ]
                },
                {
                    "name": "stdout",
                    "output_type": "stream",
                    "text": [
                        "Error processing /home/lippincm/4TB_A/NF1_2D_organoid_profiling_pipeline/data/SARCO361_T1/cellprofiler_middle_slice_output/C9-4/gff_extracted_features.sqlite: An existing file or directory was provided as dest_path: '/home/lippincm/4TB_A/NF1_2D_organoid_profiling_pipeline/data/SARCO361_T1/0.converted/middle_slice/C9-4_sc.parquet'. Please use a new path for this parameter.\n"
                    ]
                },
                {
                    "name": "stderr",
                    "output_type": "stream",
                    "text": [
                        " 19%|\u2588\u2589        | 68/349 [00:35<02:24,  1.94it/s]"
                    ]
                },
                {
                    "name": "stdout",
                    "output_type": "stream",
                    "text": [
                        "Error processing /home/lippincm/4TB_A/NF1_2D_organoid_profiling_pipeline/data/SARCO361_T1/cellprofiler_middle_slice_output/C9-5/gff_extracted_features.sqlite: An existing file or directory was provided as dest_path: '/home/lippincm/4TB_A/NF1_2D_organoid_profiling_pipeline/data/SARCO361_T1/0.converted/middle_slice/C9-5_sc.parquet'. Please use a new path for this parameter.\n"
                    ]
                },
                {
                    "name": "stderr",
                    "output_type": "stream",
                    "text": [
                        " 20%|\u2588\u2589        | 69/349 [00:36<02:09,  2.16it/s]"
                    ]
                },
                {
                    "name": "stdout",
                    "output_type": "stream",
                    "text": [
                        "Error processing /home/lippincm/4TB_A/NF1_2D_organoid_profiling_pipeline/data/SARCO361_T1/cellprofiler_middle_slice_output/C9-6/gff_extracted_features.sqlite: list index out of range\n"
                    ]
                },
                {
                    "name": "stderr",
                    "output_type": "stream",
                    "text": [
                        " 20%|\u2588\u2588        | 70/349 [00:36<02:28,  1.87it/s]"
                    ]
                },
                {
                    "name": "stdout",
                    "output_type": "stream",
                    "text": [
                        "Error processing /home/lippincm/4TB_A/NF1_2D_organoid_profiling_pipeline/data/SARCO361_T1/cellprofiler_middle_slice_output/C9-7/gff_extracted_features.sqlite: list index out of range\n"
                    ]
                },
                {
                    "name": "stderr",
                    "output_type": "stream",
                    "text": [
                        " 20%|\u2588\u2588        | 71/349 [00:37<02:22,  1.96it/s]"
                    ]
                },
                {
                    "name": "stdout",
                    "output_type": "stream",
                    "text": [
                        "Error processing /home/lippincm/4TB_A/NF1_2D_organoid_profiling_pipeline/data/SARCO361_T1/cellprofiler_middle_slice_output/D10-1/gff_extracted_features.sqlite: list index out of range\n"
                    ]
                },
                {
                    "name": "stderr",
                    "output_type": "stream",
                    "text": [
                        " 21%|\u2588\u2588        | 72/349 [00:37<02:06,  2.19it/s]"
                    ]
                },
                {
                    "name": "stdout",
                    "output_type": "stream",
                    "text": [
                        "Error processing /home/lippincm/4TB_A/NF1_2D_organoid_profiling_pipeline/data/SARCO361_T1/cellprofiler_middle_slice_output/D10-2/gff_extracted_features.sqlite: list index out of range\n"
                    ]
                },
                {
                    "name": "stderr",
                    "output_type": "stream",
                    "text": [
                        " 21%|\u2588\u2588        | 73/349 [00:38<01:54,  2.40it/s]"
                    ]
                },
                {
                    "name": "stdout",
                    "output_type": "stream",
                    "text": [
                        "Error processing /home/lippincm/4TB_A/NF1_2D_organoid_profiling_pipeline/data/SARCO361_T1/cellprofiler_middle_slice_output/D10-3/gff_extracted_features.sqlite: list index out of range\n",
                        "Error processing /home/lippincm/4TB_A/NF1_2D_organoid_profiling_pipeline/data/SARCO361_T1/cellprofiler_middle_slice_output/D10-4/gff_extracted_features.sqlite: An existing file or directory was provided as dest_path: '/home/lippincm/4TB_A/NF1_2D_organoid_profiling_pipeline/data/SARCO361_T1/0.converted/middle_slice/D10-4_sc.parquet'. Please use a new path for this parameter.\n"
                    ]
                },
                {
                    "name": "stderr",
                    "output_type": "stream",
                    "text": [
                        " 21%|\u2588\u2588\u258f       | 75/349 [00:38<01:19,  3.46it/s]"
                    ]
                },
                {
                    "name": "stdout",
                    "output_type": "stream",
                    "text": [
                        "Error processing /home/lippincm/4TB_A/NF1_2D_organoid_profiling_pipeline/data/SARCO361_T1/cellprofiler_middle_slice_output/D10-5/gff_extracted_features.sqlite: An existing file or directory was provided as dest_path: '/home/lippincm/4TB_A/NF1_2D_organoid_profiling_pipeline/data/SARCO361_T1/0.converted/middle_slice/D10-5_sc.parquet'. Please use a new path for this parameter.\n"
                    ]
                },
                {
                    "name": "stderr",
                    "output_type": "stream",
                    "text": [
                        " 22%|\u2588\u2588\u258f       | 76/349 [00:38<01:44,  2.60it/s]"
                    ]
                },
                {
                    "name": "stdout",
                    "output_type": "stream",
                    "text": [
                        "Error processing /home/lippincm/4TB_A/NF1_2D_organoid_profiling_pipeline/data/SARCO361_T1/cellprofiler_middle_slice_output/D10-6/gff_extracted_features.sqlite: list index out of range\n"
                    ]
                },
                {
                    "name": "stderr",
                    "output_type": "stream",
                    "text": [
                        " 22%|\u2588\u2588\u258f       | 77/349 [00:39<01:40,  2.72it/s]"
                    ]
                },
                {
                    "name": "stdout",
                    "output_type": "stream",
                    "text": [
                        "Error processing /home/lippincm/4TB_A/NF1_2D_organoid_profiling_pipeline/data/SARCO361_T1/cellprofiler_middle_slice_output/D10-7/gff_extracted_features.sqlite: list index out of range\n"
                    ]
                },
                {
                    "name": "stderr",
                    "output_type": "stream",
                    "text": [
                        " 22%|\u2588\u2588\u258f       | 78/349 [00:39<01:28,  3.08it/s]"
                    ]
                },
                {
                    "name": "stdout",
                    "output_type": "stream",
                    "text": [
                        "Error processing /home/lippincm/4TB_A/NF1_2D_organoid_profiling_pipeline/data/SARCO361_T1/cellprofiler_middle_slice_output/D11-1/gff_extracted_features.sqlite: An existing file or directory was provided as dest_path: '/home/lippincm/4TB_A/NF1_2D_organoid_profiling_pipeline/data/SARCO361_T1/0.converted/middle_slice/D11-1_sc.parquet'. Please use a new path for this parameter.\n"
                    ]
                },
                {
                    "name": "stderr",
                    "output_type": "stream",
                    "text": [
                        " 23%|\u2588\u2588\u258e       | 79/349 [00:39<01:18,  3.43it/s]"
                    ]
                },
                {
                    "name": "stdout",
                    "output_type": "stream",
                    "text": [
                        "Error processing /home/lippincm/4TB_A/NF1_2D_organoid_profiling_pipeline/data/SARCO361_T1/cellprofiler_middle_slice_output/D11-2/gff_extracted_features.sqlite: An existing file or directory was provided as dest_path: '/home/lippincm/4TB_A/NF1_2D_organoid_profiling_pipeline/data/SARCO361_T1/0.converted/middle_slice/D11-2_sc.parquet'. Please use a new path for this parameter.\n"
                    ]
                },
                {
                    "name": "stderr",
                    "output_type": "stream",
                    "text": [
                        " 23%|\u2588\u2588\u258e       | 80/349 [00:40<01:20,  3.36it/s]"
                    ]
                },
                {
                    "name": "stdout",
                    "output_type": "stream",
                    "text": [
                        "Error processing /home/lippincm/4TB_A/NF1_2D_organoid_profiling_pipeline/data/SARCO361_T1/cellprofiler_middle_slice_output/D11-3/gff_extracted_features.sqlite: list index out of range\n",
                        "Error processing /home/lippincm/4TB_A/NF1_2D_organoid_profiling_pipeline/data/SARCO361_T1/cellprofiler_middle_slice_output/D11-4/gff_extracted_features.sqlite: An existing file or directory was provided as dest_path: '/home/lippincm/4TB_A/NF1_2D_organoid_profiling_pipeline/data/SARCO361_T1/0.converted/middle_slice/D11-4_sc.parquet'. Please use a new path for this parameter.\n"
                    ]
                },
                {
                    "name": "stderr",
                    "output_type": "stream",
                    "text": [
                        " 23%|\u2588\u2588\u258e       | 82/349 [00:40<00:59,  4.46it/s]"
                    ]
                },
                {
                    "name": "stdout",
                    "output_type": "stream",
                    "text": [
                        "Error processing /home/lippincm/4TB_A/NF1_2D_organoid_profiling_pipeline/data/SARCO361_T1/cellprofiler_middle_slice_output/D11-5/gff_extracted_features.sqlite: An existing file or directory was provided as dest_path: '/home/lippincm/4TB_A/NF1_2D_organoid_profiling_pipeline/data/SARCO361_T1/0.converted/middle_slice/D11-5_sc.parquet'. Please use a new path for this parameter.\n"
                    ]
                },
                {
                    "name": "stderr",
                    "output_type": "stream",
                    "text": [
                        " 24%|\u2588\u2588\u258d       | 83/349 [00:40<00:58,  4.53it/s]"
                    ]
                },
                {
                    "name": "stdout",
                    "output_type": "stream",
                    "text": [
                        "Error processing /home/lippincm/4TB_A/NF1_2D_organoid_profiling_pipeline/data/SARCO361_T1/cellprofiler_middle_slice_output/D11-6/gff_extracted_features.sqlite: An existing file or directory was provided as dest_path: '/home/lippincm/4TB_A/NF1_2D_organoid_profiling_pipeline/data/SARCO361_T1/0.converted/middle_slice/D11-6_sc.parquet'. Please use a new path for this parameter.\n"
                    ]
                },
                {
                    "name": "stderr",
                    "output_type": "stream",
                    "text": [
                        " 24%|\u2588\u2588\u258d       | 84/349 [00:40<01:15,  3.50it/s]"
                    ]
                },
                {
                    "name": "stdout",
                    "output_type": "stream",
                    "text": [
                        "Error processing /home/lippincm/4TB_A/NF1_2D_organoid_profiling_pipeline/data/SARCO361_T1/cellprofiler_middle_slice_output/D11-7/gff_extracted_features.sqlite: list index out of range\n",
                        "Error processing /home/lippincm/4TB_A/NF1_2D_organoid_profiling_pipeline/data/SARCO361_T1/cellprofiler_middle_slice_output/D2-1/gff_extracted_features.sqlite: An existing file or directory was provided as dest_path: '/home/lippincm/4TB_A/NF1_2D_organoid_profiling_pipeline/data/SARCO361_T1/0.converted/middle_slice/D2-1_sc.parquet'. Please use a new path for this parameter.\n"
                    ]
                },
                {
                    "name": "stderr",
                    "output_type": "stream",
                    "text": [
                        " 25%|\u2588\u2588\u258d       | 86/349 [00:41<00:59,  4.43it/s]"
                    ]
                },
                {
                    "name": "stdout",
                    "output_type": "stream",
                    "text": [
                        "Error processing /home/lippincm/4TB_A/NF1_2D_organoid_profiling_pipeline/data/SARCO361_T1/cellprofiler_middle_slice_output/D2-2/gff_extracted_features.sqlite: An existing file or directory was provided as dest_path: '/home/lippincm/4TB_A/NF1_2D_organoid_profiling_pipeline/data/SARCO361_T1/0.converted/middle_slice/D2-2_sc.parquet'. Please use a new path for this parameter.\n"
                    ]
                },
                {
                    "name": "stderr",
                    "output_type": "stream",
                    "text": [
                        " 25%|\u2588\u2588\u258d       | 87/349 [00:41<01:13,  3.57it/s]"
                    ]
                },
                {
                    "name": "stdout",
                    "output_type": "stream",
                    "text": [
                        "Error processing /home/lippincm/4TB_A/NF1_2D_organoid_profiling_pipeline/data/SARCO361_T1/cellprofiler_middle_slice_output/D2-4/gff_extracted_features.sqlite: list index out of range\n"
                    ]
                },
                {
                    "name": "stderr",
                    "output_type": "stream",
                    "text": [
                        " 25%|\u2588\u2588\u258c       | 88/349 [00:41<01:08,  3.81it/s]"
                    ]
                },
                {
                    "name": "stdout",
                    "output_type": "stream",
                    "text": [
                        "Error processing /home/lippincm/4TB_A/NF1_2D_organoid_profiling_pipeline/data/SARCO361_T1/cellprofiler_middle_slice_output/D2-5/gff_extracted_features.sqlite: An existing file or directory was provided as dest_path: '/home/lippincm/4TB_A/NF1_2D_organoid_profiling_pipeline/data/SARCO361_T1/0.converted/middle_slice/D2-5_sc.parquet'. Please use a new path for this parameter.\n"
                    ]
                },
                {
                    "name": "stderr",
                    "output_type": "stream",
                    "text": [
                        " 26%|\u2588\u2588\u258c       | 90/349 [00:42<01:26,  3.01it/s]"
                    ]
                },
                {
                    "name": "stdout",
                    "output_type": "stream",
                    "text": [
                        "Error processing /home/lippincm/4TB_A/NF1_2D_organoid_profiling_pipeline/data/SARCO361_T1/cellprofiler_middle_slice_output/D2-6/gff_extracted_features.sqlite: list index out of range\n",
                        "Error processing /home/lippincm/4TB_A/NF1_2D_organoid_profiling_pipeline/data/SARCO361_T1/cellprofiler_middle_slice_output/D2-7/gff_extracted_features.sqlite: An existing file or directory was provided as dest_path: '/home/lippincm/4TB_A/NF1_2D_organoid_profiling_pipeline/data/SARCO361_T1/0.converted/middle_slice/D2-7_sc.parquet'. Please use a new path for this parameter.\n"
                    ]
                },
                {
                    "name": "stderr",
                    "output_type": "stream",
                    "text": [
                        " 26%|\u2588\u2588\u258c       | 91/349 [00:43<01:23,  3.07it/s]"
                    ]
                },
                {
                    "name": "stdout",
                    "output_type": "stream",
                    "text": [
                        "Error processing /home/lippincm/4TB_A/NF1_2D_organoid_profiling_pipeline/data/SARCO361_T1/cellprofiler_middle_slice_output/D3-1/gff_extracted_features.sqlite: list index out of range\n"
                    ]
                },
                {
                    "name": "stderr",
                    "output_type": "stream",
                    "text": [
                        " 26%|\u2588\u2588\u258b       | 92/349 [00:43<01:34,  2.73it/s]"
                    ]
                },
                {
                    "name": "stdout",
                    "output_type": "stream",
                    "text": [
                        "Error processing /home/lippincm/4TB_A/NF1_2D_organoid_profiling_pipeline/data/SARCO361_T1/cellprofiler_middle_slice_output/D3-2/gff_extracted_features.sqlite: list index out of range\n"
                    ]
                },
                {
                    "name": "stderr",
                    "output_type": "stream",
                    "text": [
                        " 27%|\u2588\u2588\u258b       | 93/349 [00:44<01:42,  2.49it/s]"
                    ]
                },
                {
                    "name": "stdout",
                    "output_type": "stream",
                    "text": [
                        "Error processing /home/lippincm/4TB_A/NF1_2D_organoid_profiling_pipeline/data/SARCO361_T1/cellprofiler_middle_slice_output/D3-3/gff_extracted_features.sqlite: list index out of range\n"
                    ]
                },
                {
                    "name": "stderr",
                    "output_type": "stream",
                    "text": [
                        " 27%|\u2588\u2588\u258b       | 94/349 [00:44<01:45,  2.42it/s]"
                    ]
                },
                {
                    "name": "stdout",
                    "output_type": "stream",
                    "text": [
                        "Error processing /home/lippincm/4TB_A/NF1_2D_organoid_profiling_pipeline/data/SARCO361_T1/cellprofiler_middle_slice_output/D3-4/gff_extracted_features.sqlite: list index out of range\n"
                    ]
                },
                {
                    "name": "stderr",
                    "output_type": "stream",
                    "text": [
                        " 27%|\u2588\u2588\u258b       | 95/349 [00:45<01:51,  2.28it/s]"
                    ]
                },
                {
                    "name": "stdout",
                    "output_type": "stream",
                    "text": [
                        "Error processing /home/lippincm/4TB_A/NF1_2D_organoid_profiling_pipeline/data/SARCO361_T1/cellprofiler_middle_slice_output/D3-5/gff_extracted_features.sqlite: list index out of range\n"
                    ]
                },
                {
                    "name": "stderr",
                    "output_type": "stream",
                    "text": [
                        " 28%|\u2588\u2588\u258a       | 96/349 [00:45<01:52,  2.24it/s]"
                    ]
                },
                {
                    "name": "stdout",
                    "output_type": "stream",
                    "text": [
                        "Error processing /home/lippincm/4TB_A/NF1_2D_organoid_profiling_pipeline/data/SARCO361_T1/cellprofiler_middle_slice_output/D3-6/gff_extracted_features.sqlite: An existing file or directory was provided as dest_path: '/home/lippincm/4TB_A/NF1_2D_organoid_profiling_pipeline/data/SARCO361_T1/0.converted/middle_slice/D3-6_sc.parquet'. Please use a new path for this parameter.\n"
                    ]
                },
                {
                    "name": "stderr",
                    "output_type": "stream",
                    "text": [
                        " 28%|\u2588\u2588\u258a       | 97/349 [00:45<01:53,  2.22it/s]"
                    ]
                },
                {
                    "name": "stdout",
                    "output_type": "stream",
                    "text": [
                        "Error processing /home/lippincm/4TB_A/NF1_2D_organoid_profiling_pipeline/data/SARCO361_T1/cellprofiler_middle_slice_output/D3-7/gff_extracted_features.sqlite: list index out of range\n",
                        "Error processing /home/lippincm/4TB_A/NF1_2D_organoid_profiling_pipeline/data/SARCO361_T1/cellprofiler_middle_slice_output/D4-1/gff_extracted_features.sqlite: An existing file or directory was provided as dest_path: '/home/lippincm/4TB_A/NF1_2D_organoid_profiling_pipeline/data/SARCO361_T1/0.converted/middle_slice/D4-1_sc.parquet'. Please use a new path for this parameter.\n"
                    ]
                },
                {
                    "name": "stderr",
                    "output_type": "stream",
                    "text": [
                        " 28%|\u2588\u2588\u258a       | 99/349 [00:46<01:16,  3.29it/s]"
                    ]
                },
                {
                    "name": "stdout",
                    "output_type": "stream",
                    "text": [
                        "Error processing /home/lippincm/4TB_A/NF1_2D_organoid_profiling_pipeline/data/SARCO361_T1/cellprofiler_middle_slice_output/D4-2/gff_extracted_features.sqlite: An existing file or directory was provided as dest_path: '/home/lippincm/4TB_A/NF1_2D_organoid_profiling_pipeline/data/SARCO361_T1/0.converted/middle_slice/D4-2_sc.parquet'. Please use a new path for this parameter.\n",
                        "Error processing /home/lippincm/4TB_A/NF1_2D_organoid_profiling_pipeline/data/SARCO361_T1/cellprofiler_middle_slice_output/D4-3/gff_extracted_features.sqlite: An existing file or directory was provided as dest_path: '/home/lippincm/4TB_A/NF1_2D_organoid_profiling_pipeline/data/SARCO361_T1/0.converted/middle_slice/D4-3_sc.parquet'. Please use a new path for this parameter.\n"
                    ]
                },
                {
                    "name": "stderr",
                    "output_type": "stream",
                    "text": [
                        " 29%|\u2588\u2588\u2589       | 101/349 [00:46<01:00,  4.13it/s]"
                    ]
                },
                {
                    "name": "stdout",
                    "output_type": "stream",
                    "text": [
                        "Error processing /home/lippincm/4TB_A/NF1_2D_organoid_profiling_pipeline/data/SARCO361_T1/cellprofiler_middle_slice_output/D4-4/gff_extracted_features.sqlite: An existing file or directory was provided as dest_path: '/home/lippincm/4TB_A/NF1_2D_organoid_profiling_pipeline/data/SARCO361_T1/0.converted/middle_slice/D4-4_sc.parquet'. Please use a new path for this parameter.\n"
                    ]
                },
                {
                    "name": "stderr",
                    "output_type": "stream",
                    "text": [
                        " 29%|\u2588\u2588\u2589       | 102/349 [00:47<01:24,  2.94it/s]"
                    ]
                },
                {
                    "name": "stdout",
                    "output_type": "stream",
                    "text": [
                        "Error processing /home/lippincm/4TB_A/NF1_2D_organoid_profiling_pipeline/data/SARCO361_T1/cellprofiler_middle_slice_output/D4-5/gff_extracted_features.sqlite: list index out of range\n"
                    ]
                },
                {
                    "name": "stderr",
                    "output_type": "stream",
                    "text": [
                        " 30%|\u2588\u2588\u2589       | 104/349 [00:47<01:09,  3.51it/s]"
                    ]
                },
                {
                    "name": "stdout",
                    "output_type": "stream",
                    "text": [
                        "Error processing /home/lippincm/4TB_A/NF1_2D_organoid_profiling_pipeline/data/SARCO361_T1/cellprofiler_middle_slice_output/D4-6/gff_extracted_features.sqlite: An existing file or directory was provided as dest_path: '/home/lippincm/4TB_A/NF1_2D_organoid_profiling_pipeline/data/SARCO361_T1/0.converted/middle_slice/D4-6_sc.parquet'. Please use a new path for this parameter.\n",
                        "Error processing /home/lippincm/4TB_A/NF1_2D_organoid_profiling_pipeline/data/SARCO361_T1/cellprofiler_middle_slice_output/D4-7/gff_extracted_features.sqlite: An existing file or directory was provided as dest_path: '/home/lippincm/4TB_A/NF1_2D_organoid_profiling_pipeline/data/SARCO361_T1/0.converted/middle_slice/D4-7_sc.parquet'. Please use a new path for this parameter.\n"
                    ]
                },
                {
                    "name": "stderr",
                    "output_type": "stream",
                    "text": [
                        " 30%|\u2588\u2588\u2588       | 105/349 [00:48<01:18,  3.10it/s]"
                    ]
                },
                {
                    "name": "stdout",
                    "output_type": "stream",
                    "text": [
                        "Error processing /home/lippincm/4TB_A/NF1_2D_organoid_profiling_pipeline/data/SARCO361_T1/cellprofiler_middle_slice_output/D5-1/gff_extracted_features.sqlite: list index out of range\n"
                    ]
                },
                {
                    "name": "stderr",
                    "output_type": "stream",
                    "text": [
                        " 30%|\u2588\u2588\u2588       | 106/349 [00:48<01:13,  3.31it/s]"
                    ]
                },
                {
                    "name": "stdout",
                    "output_type": "stream",
                    "text": [
                        "Error processing /home/lippincm/4TB_A/NF1_2D_organoid_profiling_pipeline/data/SARCO361_T1/cellprofiler_middle_slice_output/D5-2/gff_extracted_features.sqlite: An existing file or directory was provided as dest_path: '/home/lippincm/4TB_A/NF1_2D_organoid_profiling_pipeline/data/SARCO361_T1/0.converted/middle_slice/D5-2_sc.parquet'. Please use a new path for this parameter.\n",
                        "Error processing /home/lippincm/4TB_A/NF1_2D_organoid_profiling_pipeline/data/SARCO361_T1/cellprofiler_middle_slice_output/D5-3/gff_extracted_features.sqlite: An existing file or directory was provided as dest_path: '/home/lippincm/4TB_A/NF1_2D_organoid_profiling_pipeline/data/SARCO361_T1/0.converted/middle_slice/D5-3_sc.parquet'. Please use a new path for this parameter.\n"
                    ]
                },
                {
                    "name": "stderr",
                    "output_type": "stream",
                    "text": [
                        " 31%|\u2588\u2588\u2588       | 108/349 [00:49<01:21,  2.96it/s]"
                    ]
                },
                {
                    "name": "stdout",
                    "output_type": "stream",
                    "text": [
                        "Error processing /home/lippincm/4TB_A/NF1_2D_organoid_profiling_pipeline/data/SARCO361_T1/cellprofiler_middle_slice_output/D5-4/gff_extracted_features.sqlite: list index out of range\n"
                    ]
                },
                {
                    "name": "stderr",
                    "output_type": "stream",
                    "text": [
                        " 31%|\u2588\u2588\u2588       | 109/349 [00:49<01:14,  3.24it/s]"
                    ]
                },
                {
                    "name": "stdout",
                    "output_type": "stream",
                    "text": [
                        "Error processing /home/lippincm/4TB_A/NF1_2D_organoid_profiling_pipeline/data/SARCO361_T1/cellprofiler_middle_slice_output/D5-5/gff_extracted_features.sqlite: An existing file or directory was provided as dest_path: '/home/lippincm/4TB_A/NF1_2D_organoid_profiling_pipeline/data/SARCO361_T1/0.converted/middle_slice/D5-5_sc.parquet'. Please use a new path for this parameter.\n"
                    ]
                },
                {
                    "name": "stderr",
                    "output_type": "stream",
                    "text": [
                        " 32%|\u2588\u2588\u2588\u258f      | 110/349 [00:50<01:38,  2.43it/s]"
                    ]
                },
                {
                    "name": "stdout",
                    "output_type": "stream",
                    "text": [
                        "Error processing /home/lippincm/4TB_A/NF1_2D_organoid_profiling_pipeline/data/SARCO361_T1/cellprofiler_middle_slice_output/D5-6/gff_extracted_features.sqlite: list index out of range\n"
                    ]
                },
                {
                    "name": "stderr",
                    "output_type": "stream",
                    "text": [
                        " 32%|\u2588\u2588\u2588\u258f      | 112/349 [00:50<01:35,  2.49it/s]"
                    ]
                },
                {
                    "name": "stdout",
                    "output_type": "stream",
                    "text": [
                        "Error processing /home/lippincm/4TB_A/NF1_2D_organoid_profiling_pipeline/data/SARCO361_T1/cellprofiler_middle_slice_output/D5-7/gff_extracted_features.sqlite: list index out of range\n",
                        "Error processing /home/lippincm/4TB_A/NF1_2D_organoid_profiling_pipeline/data/SARCO361_T1/cellprofiler_middle_slice_output/D6-1/gff_extracted_features.sqlite: An existing file or directory was provided as dest_path: '/home/lippincm/4TB_A/NF1_2D_organoid_profiling_pipeline/data/SARCO361_T1/0.converted/middle_slice/D6-1_sc.parquet'. Please use a new path for this parameter.\n"
                    ]
                },
                {
                    "name": "stderr",
                    "output_type": "stream",
                    "text": [
                        " 32%|\u2588\u2588\u2588\u258f      | 113/349 [00:51<01:37,  2.43it/s]"
                    ]
                },
                {
                    "name": "stdout",
                    "output_type": "stream",
                    "text": [
                        "Error processing /home/lippincm/4TB_A/NF1_2D_organoid_profiling_pipeline/data/SARCO361_T1/cellprofiler_middle_slice_output/D6-2/gff_extracted_features.sqlite: An existing file or directory was provided as dest_path: '/home/lippincm/4TB_A/NF1_2D_organoid_profiling_pipeline/data/SARCO361_T1/0.converted/middle_slice/D6-2_sc.parquet'. Please use a new path for this parameter.\n"
                    ]
                },
                {
                    "name": "stderr",
                    "output_type": "stream",
                    "text": [
                        " 33%|\u2588\u2588\u2588\u258e      | 114/349 [00:51<01:23,  2.83it/s]"
                    ]
                },
                {
                    "name": "stdout",
                    "output_type": "stream",
                    "text": [
                        "Error processing /home/lippincm/4TB_A/NF1_2D_organoid_profiling_pipeline/data/SARCO361_T1/cellprofiler_middle_slice_output/D6-3/gff_extracted_features.sqlite: An existing file or directory was provided as dest_path: '/home/lippincm/4TB_A/NF1_2D_organoid_profiling_pipeline/data/SARCO361_T1/0.converted/middle_slice/D6-3_sc.parquet'. Please use a new path for this parameter.\n"
                    ]
                },
                {
                    "name": "stderr",
                    "output_type": "stream",
                    "text": [
                        " 33%|\u2588\u2588\u2588\u258e      | 115/349 [00:51<01:13,  3.18it/s]"
                    ]
                },
                {
                    "name": "stdout",
                    "output_type": "stream",
                    "text": [
                        "Error processing /home/lippincm/4TB_A/NF1_2D_organoid_profiling_pipeline/data/SARCO361_T1/cellprofiler_middle_slice_output/D6-4/gff_extracted_features.sqlite: An existing file or directory was provided as dest_path: '/home/lippincm/4TB_A/NF1_2D_organoid_profiling_pipeline/data/SARCO361_T1/0.converted/middle_slice/D6-4_sc.parquet'. Please use a new path for this parameter.\n"
                    ]
                },
                {
                    "name": "stderr",
                    "output_type": "stream",
                    "text": [
                        " 33%|\u2588\u2588\u2588\u258e      | 116/349 [00:52<01:40,  2.33it/s]"
                    ]
                },
                {
                    "name": "stdout",
                    "output_type": "stream",
                    "text": [
                        "Error processing /home/lippincm/4TB_A/NF1_2D_organoid_profiling_pipeline/data/SARCO361_T1/cellprofiler_middle_slice_output/D6-5/gff_extracted_features.sqlite: list index out of range\n"
                    ]
                },
                {
                    "name": "stderr",
                    "output_type": "stream",
                    "text": [
                        " 34%|\u2588\u2588\u2588\u258e      | 117/349 [00:52<01:40,  2.31it/s]"
                    ]
                },
                {
                    "name": "stdout",
                    "output_type": "stream",
                    "text": [
                        "Error processing /home/lippincm/4TB_A/NF1_2D_organoid_profiling_pipeline/data/SARCO361_T1/cellprofiler_middle_slice_output/D6-6/gff_extracted_features.sqlite: list index out of range\n"
                    ]
                },
                {
                    "name": "stderr",
                    "output_type": "stream",
                    "text": [
                        " 34%|\u2588\u2588\u2588\u258d      | 118/349 [00:53<01:30,  2.55it/s]"
                    ]
                },
                {
                    "name": "stdout",
                    "output_type": "stream",
                    "text": [
                        "Error processing /home/lippincm/4TB_A/NF1_2D_organoid_profiling_pipeline/data/SARCO361_T1/cellprofiler_middle_slice_output/D6-7/gff_extracted_features.sqlite: list index out of range\n"
                    ]
                },
                {
                    "name": "stderr",
                    "output_type": "stream",
                    "text": [
                        " 34%|\u2588\u2588\u2588\u258d      | 119/349 [00:53<01:25,  2.68it/s]"
                    ]
                },
                {
                    "name": "stdout",
                    "output_type": "stream",
                    "text": [
                        "Error processing /home/lippincm/4TB_A/NF1_2D_organoid_profiling_pipeline/data/SARCO361_T1/cellprofiler_middle_slice_output/D7-1/gff_extracted_features.sqlite: list index out of range\n"
                    ]
                },
                {
                    "name": "stderr",
                    "output_type": "stream",
                    "text": [
                        " 34%|\u2588\u2588\u2588\u258d      | 120/349 [00:53<01:30,  2.53it/s]"
                    ]
                },
                {
                    "name": "stdout",
                    "output_type": "stream",
                    "text": [
                        "Error processing /home/lippincm/4TB_A/NF1_2D_organoid_profiling_pipeline/data/SARCO361_T1/cellprofiler_middle_slice_output/D7-2/gff_extracted_features.sqlite: list index out of range\n"
                    ]
                },
                {
                    "name": "stderr",
                    "output_type": "stream",
                    "text": [
                        " 35%|\u2588\u2588\u2588\u258d      | 121/349 [00:54<01:17,  2.93it/s]"
                    ]
                },
                {
                    "name": "stdout",
                    "output_type": "stream",
                    "text": [
                        "Error processing /home/lippincm/4TB_A/NF1_2D_organoid_profiling_pipeline/data/SARCO361_T1/cellprofiler_middle_slice_output/D7-3/gff_extracted_features.sqlite: An existing file or directory was provided as dest_path: '/home/lippincm/4TB_A/NF1_2D_organoid_profiling_pipeline/data/SARCO361_T1/0.converted/middle_slice/D7-3_sc.parquet'. Please use a new path for this parameter.\n",
                        "Error processing /home/lippincm/4TB_A/NF1_2D_organoid_profiling_pipeline/data/SARCO361_T1/cellprofiler_middle_slice_output/D7-4/gff_extracted_features.sqlite: An existing file or directory was provided as dest_path: '/home/lippincm/4TB_A/NF1_2D_organoid_profiling_pipeline/data/SARCO361_T1/0.converted/middle_slice/D7-4_sc.parquet'. Please use a new path for this parameter.\n"
                    ]
                },
                {
                    "name": "stderr",
                    "output_type": "stream",
                    "text": [
                        " 35%|\u2588\u2588\u2588\u258c      | 123/349 [00:54<01:09,  3.26it/s]"
                    ]
                },
                {
                    "name": "stdout",
                    "output_type": "stream",
                    "text": [
                        "Error processing /home/lippincm/4TB_A/NF1_2D_organoid_profiling_pipeline/data/SARCO361_T1/cellprofiler_middle_slice_output/D7-5/gff_extracted_features.sqlite: list index out of range\n",
                        "Error processing /home/lippincm/4TB_A/NF1_2D_organoid_profiling_pipeline/data/SARCO361_T1/cellprofiler_middle_slice_output/D7-6/gff_extracted_features.sqlite: An existing file or directory was provided as dest_path: '/home/lippincm/4TB_A/NF1_2D_organoid_profiling_pipeline/data/SARCO361_T1/0.converted/middle_slice/D7-6_sc.parquet'. Please use a new path for this parameter.\n"
                    ]
                },
                {
                    "name": "stderr",
                    "output_type": "stream",
                    "text": [
                        " 36%|\u2588\u2588\u2588\u258c      | 125/349 [00:55<01:03,  3.53it/s]"
                    ]
                },
                {
                    "name": "stdout",
                    "output_type": "stream",
                    "text": [
                        "Error processing /home/lippincm/4TB_A/NF1_2D_organoid_profiling_pipeline/data/SARCO361_T1/cellprofiler_middle_slice_output/D7-7/gff_extracted_features.sqlite: list index out of range\n"
                    ]
                },
                {
                    "name": "stderr",
                    "output_type": "stream",
                    "text": [
                        " 36%|\u2588\u2588\u2588\u258c      | 126/349 [00:55<01:11,  3.11it/s]"
                    ]
                },
                {
                    "name": "stdout",
                    "output_type": "stream",
                    "text": [
                        "Error processing /home/lippincm/4TB_A/NF1_2D_organoid_profiling_pipeline/data/SARCO361_T1/cellprofiler_middle_slice_output/D8-1/gff_extracted_features.sqlite: list index out of range\n"
                    ]
                },
                {
                    "name": "stderr",
                    "output_type": "stream",
                    "text": [
                        " 36%|\u2588\u2588\u2588\u258b      | 127/349 [00:56<01:18,  2.85it/s]"
                    ]
                },
                {
                    "name": "stdout",
                    "output_type": "stream",
                    "text": [
                        "Error processing /home/lippincm/4TB_A/NF1_2D_organoid_profiling_pipeline/data/SARCO361_T1/cellprofiler_middle_slice_output/D8-2/gff_extracted_features.sqlite: An existing file or directory was provided as dest_path: '/home/lippincm/4TB_A/NF1_2D_organoid_profiling_pipeline/data/SARCO361_T1/0.converted/middle_slice/D8-2_sc.parquet'. Please use a new path for this parameter.\n"
                    ]
                },
                {
                    "name": "stderr",
                    "output_type": "stream",
                    "text": [
                        " 37%|\u2588\u2588\u2588\u258b      | 128/349 [00:56<01:23,  2.63it/s]"
                    ]
                },
                {
                    "name": "stdout",
                    "output_type": "stream",
                    "text": [
                        "Error processing /home/lippincm/4TB_A/NF1_2D_organoid_profiling_pipeline/data/SARCO361_T1/cellprofiler_middle_slice_output/D8-3/gff_extracted_features.sqlite: list index out of range\n"
                    ]
                },
                {
                    "name": "stderr",
                    "output_type": "stream",
                    "text": [
                        " 37%|\u2588\u2588\u2588\u258b      | 130/349 [00:56<01:05,  3.35it/s]"
                    ]
                },
                {
                    "name": "stdout",
                    "output_type": "stream",
                    "text": [
                        "Error processing /home/lippincm/4TB_A/NF1_2D_organoid_profiling_pipeline/data/SARCO361_T1/cellprofiler_middle_slice_output/D8-4/gff_extracted_features.sqlite: An existing file or directory was provided as dest_path: '/home/lippincm/4TB_A/NF1_2D_organoid_profiling_pipeline/data/SARCO361_T1/0.converted/middle_slice/D8-4_sc.parquet'. Please use a new path for this parameter.\n",
                        "Error processing /home/lippincm/4TB_A/NF1_2D_organoid_profiling_pipeline/data/SARCO361_T1/cellprofiler_middle_slice_output/D8-5/gff_extracted_features.sqlite: An existing file or directory was provided as dest_path: '/home/lippincm/4TB_A/NF1_2D_organoid_profiling_pipeline/data/SARCO361_T1/0.converted/middle_slice/D8-5_sc.parquet'. Please use a new path for this parameter.\n"
                    ]
                },
                {
                    "name": "stderr",
                    "output_type": "stream",
                    "text": [
                        " 38%|\u2588\u2588\u2588\u258a      | 131/349 [00:57<01:06,  3.30it/s]"
                    ]
                },
                {
                    "name": "stdout",
                    "output_type": "stream",
                    "text": [
                        "Error processing /home/lippincm/4TB_A/NF1_2D_organoid_profiling_pipeline/data/SARCO361_T1/cellprofiler_middle_slice_output/D8-6/gff_extracted_features.sqlite: list index out of range\n"
                    ]
                },
                {
                    "name": "stderr",
                    "output_type": "stream",
                    "text": [
                        " 38%|\u2588\u2588\u2588\u258a      | 132/349 [00:57<01:14,  2.92it/s]"
                    ]
                },
                {
                    "name": "stdout",
                    "output_type": "stream",
                    "text": [
                        "Error processing /home/lippincm/4TB_A/NF1_2D_organoid_profiling_pipeline/data/SARCO361_T1/cellprofiler_middle_slice_output/D8-7/gff_extracted_features.sqlite: An existing file or directory was provided as dest_path: '/home/lippincm/4TB_A/NF1_2D_organoid_profiling_pipeline/data/SARCO361_T1/0.converted/middle_slice/D8-7_sc.parquet'. Please use a new path for this parameter.\n",
                        "Error processing /home/lippincm/4TB_A/NF1_2D_organoid_profiling_pipeline/data/SARCO361_T1/cellprofiler_middle_slice_output/D9-1/gff_extracted_features.sqlite: An existing file or directory was provided as dest_path: '/home/lippincm/4TB_A/NF1_2D_organoid_profiling_pipeline/data/SARCO361_T1/0.converted/middle_slice/D9-1_sc.parquet'. Please use a new path for this parameter.\n"
                    ]
                },
                {
                    "name": "stderr",
                    "output_type": "stream",
                    "text": [
                        " 38%|\u2588\u2588\u2588\u258a      | 134/349 [00:58<00:53,  4.03it/s]"
                    ]
                },
                {
                    "name": "stdout",
                    "output_type": "stream",
                    "text": [
                        "Error processing /home/lippincm/4TB_A/NF1_2D_organoid_profiling_pipeline/data/SARCO361_T1/cellprofiler_middle_slice_output/D9-2/gff_extracted_features.sqlite: An existing file or directory was provided as dest_path: '/home/lippincm/4TB_A/NF1_2D_organoid_profiling_pipeline/data/SARCO361_T1/0.converted/middle_slice/D9-2_sc.parquet'. Please use a new path for this parameter.\n"
                    ]
                },
                {
                    "name": "stderr",
                    "output_type": "stream",
                    "text": [
                        " 39%|\u2588\u2588\u2588\u258a      | 135/349 [00:58<01:17,  2.78it/s]"
                    ]
                },
                {
                    "name": "stdout",
                    "output_type": "stream",
                    "text": [
                        "Error processing /home/lippincm/4TB_A/NF1_2D_organoid_profiling_pipeline/data/SARCO361_T1/cellprofiler_middle_slice_output/D9-3/gff_extracted_features.sqlite: list index out of range\n",
                        "Error processing /home/lippincm/4TB_A/NF1_2D_organoid_profiling_pipeline/data/SARCO361_T1/cellprofiler_middle_slice_output/D9-4/gff_extracted_features.sqlite: An existing file or directory was provided as dest_path: '/home/lippincm/4TB_A/NF1_2D_organoid_profiling_pipeline/data/SARCO361_T1/0.converted/middle_slice/D9-4_sc.parquet'. Please use a new path for this parameter.\n"
                    ]
                },
                {
                    "name": "stderr",
                    "output_type": "stream",
                    "text": [
                        " 40%|\u2588\u2588\u2588\u2589      | 138/349 [00:59<01:09,  3.04it/s]"
                    ]
                },
                {
                    "name": "stdout",
                    "output_type": "stream",
                    "text": [
                        "Error processing /home/lippincm/4TB_A/NF1_2D_organoid_profiling_pipeline/data/SARCO361_T1/cellprofiler_middle_slice_output/D9-5/gff_extracted_features.sqlite: list index out of range\n",
                        "Error processing /home/lippincm/4TB_A/NF1_2D_organoid_profiling_pipeline/data/SARCO361_T1/cellprofiler_middle_slice_output/D9-6/gff_extracted_features.sqlite: An existing file or directory was provided as dest_path: '/home/lippincm/4TB_A/NF1_2D_organoid_profiling_pipeline/data/SARCO361_T1/0.converted/middle_slice/D9-6_sc.parquet'. Please use a new path for this parameter.\n"
                    ]
                },
                {
                    "name": "stderr",
                    "output_type": "stream",
                    "text": [
                        " 40%|\u2588\u2588\u2588\u2589      | 139/349 [01:00<01:27,  2.39it/s]"
                    ]
                },
                {
                    "name": "stdout",
                    "output_type": "stream",
                    "text": [
                        "Error processing /home/lippincm/4TB_A/NF1_2D_organoid_profiling_pipeline/data/SARCO361_T1/cellprofiler_middle_slice_output/D9-7/gff_extracted_features.sqlite: list index out of range\n"
                    ]
                },
                {
                    "name": "stderr",
                    "output_type": "stream",
                    "text": [
                        " 40%|\u2588\u2588\u2588\u2588      | 140/349 [01:00<01:29,  2.35it/s]"
                    ]
                },
                {
                    "name": "stdout",
                    "output_type": "stream",
                    "text": [
                        "Error processing /home/lippincm/4TB_A/NF1_2D_organoid_profiling_pipeline/data/SARCO361_T1/cellprofiler_middle_slice_output/E10-1/gff_extracted_features.sqlite: list index out of range\n"
                    ]
                },
                {
                    "name": "stderr",
                    "output_type": "stream",
                    "text": [
                        " 40%|\u2588\u2588\u2588\u2588      | 141/349 [01:01<01:24,  2.47it/s]"
                    ]
                },
                {
                    "name": "stdout",
                    "output_type": "stream",
                    "text": [
                        "Error processing /home/lippincm/4TB_A/NF1_2D_organoid_profiling_pipeline/data/SARCO361_T1/cellprofiler_middle_slice_output/E10-2/gff_extracted_features.sqlite: list index out of range\n"
                    ]
                },
                {
                    "name": "stderr",
                    "output_type": "stream",
                    "text": [
                        " 41%|\u2588\u2588\u2588\u2588      | 142/349 [01:01<01:27,  2.37it/s]"
                    ]
                },
                {
                    "name": "stdout",
                    "output_type": "stream",
                    "text": [
                        "Error processing /home/lippincm/4TB_A/NF1_2D_organoid_profiling_pipeline/data/SARCO361_T1/cellprofiler_middle_slice_output/E10-3/gff_extracted_features.sqlite: list index out of range\n"
                    ]
                },
                {
                    "name": "stderr",
                    "output_type": "stream",
                    "text": [
                        " 41%|\u2588\u2588\u2588\u2588      | 143/349 [01:02<01:28,  2.32it/s]"
                    ]
                },
                {
                    "name": "stdout",
                    "output_type": "stream",
                    "text": [
                        "Error processing /home/lippincm/4TB_A/NF1_2D_organoid_profiling_pipeline/data/SARCO361_T1/cellprofiler_middle_slice_output/E10-4/gff_extracted_features.sqlite: An existing file or directory was provided as dest_path: '/home/lippincm/4TB_A/NF1_2D_organoid_profiling_pipeline/data/SARCO361_T1/0.converted/middle_slice/E10-4_sc.parquet'. Please use a new path for this parameter.\n"
                    ]
                },
                {
                    "name": "stderr",
                    "output_type": "stream",
                    "text": [
                        " 41%|\u2588\u2588\u2588\u2588\u258f     | 144/349 [01:02<01:30,  2.26it/s]"
                    ]
                },
                {
                    "name": "stdout",
                    "output_type": "stream",
                    "text": [
                        "Error processing /home/lippincm/4TB_A/NF1_2D_organoid_profiling_pipeline/data/SARCO361_T1/cellprofiler_middle_slice_output/E10-5/gff_extracted_features.sqlite: list index out of range\n"
                    ]
                },
                {
                    "name": "stderr",
                    "output_type": "stream",
                    "text": [
                        " 42%|\u2588\u2588\u2588\u2588\u258f     | 145/349 [01:02<01:23,  2.43it/s]"
                    ]
                },
                {
                    "name": "stdout",
                    "output_type": "stream",
                    "text": [
                        "Error processing /home/lippincm/4TB_A/NF1_2D_organoid_profiling_pipeline/data/SARCO361_T1/cellprofiler_middle_slice_output/E10-6/gff_extracted_features.sqlite: list index out of range\n"
                    ]
                },
                {
                    "name": "stderr",
                    "output_type": "stream",
                    "text": [
                        " 42%|\u2588\u2588\u2588\u2588\u258f     | 148/349 [01:03<00:48,  4.16it/s]"
                    ]
                },
                {
                    "name": "stdout",
                    "output_type": "stream",
                    "text": [
                        "Error processing /home/lippincm/4TB_A/NF1_2D_organoid_profiling_pipeline/data/SARCO361_T1/cellprofiler_middle_slice_output/E10-7/gff_extracted_features.sqlite: list index out of range\n",
                        "Error processing /home/lippincm/4TB_A/NF1_2D_organoid_profiling_pipeline/data/SARCO361_T1/cellprofiler_middle_slice_output/E11-1/gff_extracted_features.sqlite: An existing file or directory was provided as dest_path: '/home/lippincm/4TB_A/NF1_2D_organoid_profiling_pipeline/data/SARCO361_T1/0.converted/middle_slice/E11-1_sc.parquet'. Please use a new path for this parameter.\n",
                        "Error processing /home/lippincm/4TB_A/NF1_2D_organoid_profiling_pipeline/data/SARCO361_T1/cellprofiler_middle_slice_output/E11-2/gff_extracted_features.sqlite: An existing file or directory was provided as dest_path: '/home/lippincm/4TB_A/NF1_2D_organoid_profiling_pipeline/data/SARCO361_T1/0.converted/middle_slice/E11-2_sc.parquet'. Please use a new path for this parameter.\n"
                    ]
                },
                {
                    "name": "stderr",
                    "output_type": "stream",
                    "text": [
                        " 43%|\u2588\u2588\u2588\u2588\u258e     | 149/349 [01:03<00:57,  3.45it/s]"
                    ]
                },
                {
                    "name": "stdout",
                    "output_type": "stream",
                    "text": [
                        "Error processing /home/lippincm/4TB_A/NF1_2D_organoid_profiling_pipeline/data/SARCO361_T1/cellprofiler_middle_slice_output/E11-3/gff_extracted_features.sqlite: list index out of range\n"
                    ]
                },
                {
                    "name": "stderr",
                    "output_type": "stream",
                    "text": [
                        " 43%|\u2588\u2588\u2588\u2588\u258e     | 150/349 [01:04<00:54,  3.66it/s]"
                    ]
                },
                {
                    "name": "stdout",
                    "output_type": "stream",
                    "text": [
                        "Error processing /home/lippincm/4TB_A/NF1_2D_organoid_profiling_pipeline/data/SARCO361_T1/cellprofiler_middle_slice_output/E11-4/gff_extracted_features.sqlite: An existing file or directory was provided as dest_path: '/home/lippincm/4TB_A/NF1_2D_organoid_profiling_pipeline/data/SARCO361_T1/0.converted/middle_slice/E11-4_sc.parquet'. Please use a new path for this parameter.\n",
                        "Error processing /home/lippincm/4TB_A/NF1_2D_organoid_profiling_pipeline/data/SARCO361_T1/cellprofiler_middle_slice_output/E11-5/gff_extracted_features.sqlite: An existing file or directory was provided as dest_path: '/home/lippincm/4TB_A/NF1_2D_organoid_profiling_pipeline/data/SARCO361_T1/0.converted/middle_slice/E11-5_sc.parquet'. Please use a new path for this parameter.\n"
                    ]
                },
                {
                    "name": "stderr",
                    "output_type": "stream",
                    "text": [
                        " 44%|\u2588\u2588\u2588\u2588\u258d     | 153/349 [01:04<00:41,  4.74it/s]"
                    ]
                },
                {
                    "name": "stdout",
                    "output_type": "stream",
                    "text": [
                        "Error processing /home/lippincm/4TB_A/NF1_2D_organoid_profiling_pipeline/data/SARCO361_T1/cellprofiler_middle_slice_output/E11-6/gff_extracted_features.sqlite: An existing file or directory was provided as dest_path: '/home/lippincm/4TB_A/NF1_2D_organoid_profiling_pipeline/data/SARCO361_T1/0.converted/middle_slice/E11-6_sc.parquet'. Please use a new path for this parameter.\n",
                        "Error processing /home/lippincm/4TB_A/NF1_2D_organoid_profiling_pipeline/data/SARCO361_T1/cellprofiler_middle_slice_output/E11-7/gff_extracted_features.sqlite: An existing file or directory was provided as dest_path: '/home/lippincm/4TB_A/NF1_2D_organoid_profiling_pipeline/data/SARCO361_T1/0.converted/middle_slice/E11-7_sc.parquet'. Please use a new path for this parameter.\n"
                    ]
                },
                {
                    "name": "stderr",
                    "output_type": "stream",
                    "text": [
                        " 44%|\u2588\u2588\u2588\u2588\u258d     | 154/349 [01:04<00:52,  3.74it/s]"
                    ]
                },
                {
                    "name": "stdout",
                    "output_type": "stream",
                    "text": [
                        "Error processing /home/lippincm/4TB_A/NF1_2D_organoid_profiling_pipeline/data/SARCO361_T1/cellprofiler_middle_slice_output/E2-1/gff_extracted_features.sqlite: list index out of range\n"
                    ]
                },
                {
                    "name": "stderr",
                    "output_type": "stream",
                    "text": [
                        " 44%|\u2588\u2588\u2588\u2588\u258d     | 155/349 [01:05<01:00,  3.20it/s]"
                    ]
                },
                {
                    "name": "stdout",
                    "output_type": "stream",
                    "text": [
                        "Error processing /home/lippincm/4TB_A/NF1_2D_organoid_profiling_pipeline/data/SARCO361_T1/cellprofiler_middle_slice_output/E2-2/gff_extracted_features.sqlite: An existing file or directory was provided as dest_path: '/home/lippincm/4TB_A/NF1_2D_organoid_profiling_pipeline/data/SARCO361_T1/0.converted/middle_slice/E2-2_sc.parquet'. Please use a new path for this parameter.\n"
                    ]
                },
                {
                    "name": "stderr",
                    "output_type": "stream",
                    "text": [
                        " 45%|\u2588\u2588\u2588\u2588\u258d     | 156/349 [01:05<01:09,  2.76it/s]"
                    ]
                },
                {
                    "name": "stdout",
                    "output_type": "stream",
                    "text": [
                        "Error processing /home/lippincm/4TB_A/NF1_2D_organoid_profiling_pipeline/data/SARCO361_T1/cellprofiler_middle_slice_output/E2-3/gff_extracted_features.sqlite: list index out of range\n"
                    ]
                },
                {
                    "name": "stderr",
                    "output_type": "stream",
                    "text": [
                        " 45%|\u2588\u2588\u2588\u2588\u258d     | 157/349 [01:06<01:17,  2.47it/s]"
                    ]
                },
                {
                    "name": "stdout",
                    "output_type": "stream",
                    "text": [
                        "Error processing /home/lippincm/4TB_A/NF1_2D_organoid_profiling_pipeline/data/SARCO361_T1/cellprofiler_middle_slice_output/E2-4/gff_extracted_features.sqlite: list index out of range\n"
                    ]
                },
                {
                    "name": "stderr",
                    "output_type": "stream",
                    "text": [
                        " 45%|\u2588\u2588\u2588\u2588\u258c     | 158/349 [01:06<01:20,  2.39it/s]"
                    ]
                },
                {
                    "name": "stdout",
                    "output_type": "stream",
                    "text": [
                        "Error processing /home/lippincm/4TB_A/NF1_2D_organoid_profiling_pipeline/data/SARCO361_T1/cellprofiler_middle_slice_output/E2-5/gff_extracted_features.sqlite: list index out of range\n"
                    ]
                },
                {
                    "name": "stderr",
                    "output_type": "stream",
                    "text": [
                        " 46%|\u2588\u2588\u2588\u2588\u258c     | 159/349 [01:07<01:08,  2.78it/s]"
                    ]
                },
                {
                    "name": "stdout",
                    "output_type": "stream",
                    "text": [
                        "Error processing /home/lippincm/4TB_A/NF1_2D_organoid_profiling_pipeline/data/SARCO361_T1/cellprofiler_middle_slice_output/E2-6/gff_extracted_features.sqlite: An existing file or directory was provided as dest_path: '/home/lippincm/4TB_A/NF1_2D_organoid_profiling_pipeline/data/SARCO361_T1/0.converted/middle_slice/E2-6_sc.parquet'. Please use a new path for this parameter.\n"
                    ]
                },
                {
                    "name": "stderr",
                    "output_type": "stream",
                    "text": [
                        " 46%|\u2588\u2588\u2588\u2588\u258c     | 160/349 [01:07<01:06,  2.83it/s]"
                    ]
                },
                {
                    "name": "stdout",
                    "output_type": "stream",
                    "text": [
                        "Error processing /home/lippincm/4TB_A/NF1_2D_organoid_profiling_pipeline/data/SARCO361_T1/cellprofiler_middle_slice_output/E2-7/gff_extracted_features.sqlite: list index out of range\n"
                    ]
                },
                {
                    "name": "stderr",
                    "output_type": "stream",
                    "text": [
                        " 47%|\u2588\u2588\u2588\u2588\u258b     | 163/349 [01:07<00:41,  4.53it/s]"
                    ]
                },
                {
                    "name": "stdout",
                    "output_type": "stream",
                    "text": [
                        "Error processing /home/lippincm/4TB_A/NF1_2D_organoid_profiling_pipeline/data/SARCO361_T1/cellprofiler_middle_slice_output/E3-1/gff_extracted_features.sqlite: list index out of range\n",
                        "Error processing /home/lippincm/4TB_A/NF1_2D_organoid_profiling_pipeline/data/SARCO361_T1/cellprofiler_middle_slice_output/E3-2/gff_extracted_features.sqlite: An existing file or directory was provided as dest_path: '/home/lippincm/4TB_A/NF1_2D_organoid_profiling_pipeline/data/SARCO361_T1/0.converted/middle_slice/E3-2_sc.parquet'. Please use a new path for this parameter.\n",
                        "Error processing /home/lippincm/4TB_A/NF1_2D_organoid_profiling_pipeline/data/SARCO361_T1/cellprofiler_middle_slice_output/E3-3/gff_extracted_features.sqlite: An existing file or directory was provided as dest_path: '/home/lippincm/4TB_A/NF1_2D_organoid_profiling_pipeline/data/SARCO361_T1/0.converted/middle_slice/E3-3_sc.parquet'. Please use a new path for this parameter.\n"
                    ]
                },
                {
                    "name": "stderr",
                    "output_type": "stream",
                    "text": [
                        " 47%|\u2588\u2588\u2588\u2588\u258b     | 165/349 [01:08<00:36,  5.06it/s]"
                    ]
                },
                {
                    "name": "stdout",
                    "output_type": "stream",
                    "text": [
                        "Error processing /home/lippincm/4TB_A/NF1_2D_organoid_profiling_pipeline/data/SARCO361_T1/cellprofiler_middle_slice_output/E3-4/gff_extracted_features.sqlite: An existing file or directory was provided as dest_path: '/home/lippincm/4TB_A/NF1_2D_organoid_profiling_pipeline/data/SARCO361_T1/0.converted/middle_slice/E3-4_sc.parquet'. Please use a new path for this parameter.\n",
                        "Error processing /home/lippincm/4TB_A/NF1_2D_organoid_profiling_pipeline/data/SARCO361_T1/cellprofiler_middle_slice_output/E3-5/gff_extracted_features.sqlite: An existing file or directory was provided as dest_path: '/home/lippincm/4TB_A/NF1_2D_organoid_profiling_pipeline/data/SARCO361_T1/0.converted/middle_slice/E3-5_sc.parquet'. Please use a new path for this parameter.\n"
                    ]
                },
                {
                    "name": "stderr",
                    "output_type": "stream",
                    "text": [
                        " 48%|\u2588\u2588\u2588\u2588\u258a     | 166/349 [01:08<00:47,  3.84it/s]"
                    ]
                },
                {
                    "name": "stdout",
                    "output_type": "stream",
                    "text": [
                        "Error processing /home/lippincm/4TB_A/NF1_2D_organoid_profiling_pipeline/data/SARCO361_T1/cellprofiler_middle_slice_output/E3-6/gff_extracted_features.sqlite: list index out of range\n"
                    ]
                },
                {
                    "name": "stderr",
                    "output_type": "stream",
                    "text": [
                        " 48%|\u2588\u2588\u2588\u2588\u258a     | 167/349 [01:09<00:58,  3.12it/s]"
                    ]
                },
                {
                    "name": "stdout",
                    "output_type": "stream",
                    "text": [
                        "Error processing /home/lippincm/4TB_A/NF1_2D_organoid_profiling_pipeline/data/SARCO361_T1/cellprofiler_middle_slice_output/E3-7/gff_extracted_features.sqlite: list index out of range\n"
                    ]
                },
                {
                    "name": "stderr",
                    "output_type": "stream",
                    "text": [
                        " 48%|\u2588\u2588\u2588\u2588\u258a     | 168/349 [01:09<00:53,  3.36it/s]"
                    ]
                },
                {
                    "name": "stdout",
                    "output_type": "stream",
                    "text": [
                        "Error processing /home/lippincm/4TB_A/NF1_2D_organoid_profiling_pipeline/data/SARCO361_T1/cellprofiler_middle_slice_output/E4-1/gff_extracted_features.sqlite: An existing file or directory was provided as dest_path: '/home/lippincm/4TB_A/NF1_2D_organoid_profiling_pipeline/data/SARCO361_T1/0.converted/middle_slice/E4-1_sc.parquet'. Please use a new path for this parameter.\n"
                    ]
                },
                {
                    "name": "stderr",
                    "output_type": "stream",
                    "text": [
                        " 48%|\u2588\u2588\u2588\u2588\u258a     | 169/349 [01:09<00:56,  3.17it/s]"
                    ]
                },
                {
                    "name": "stdout",
                    "output_type": "stream",
                    "text": [
                        "Error processing /home/lippincm/4TB_A/NF1_2D_organoid_profiling_pipeline/data/SARCO361_T1/cellprofiler_middle_slice_output/E4-2/gff_extracted_features.sqlite: list index out of range\n"
                    ]
                },
                {
                    "name": "stderr",
                    "output_type": "stream",
                    "text": [
                        " 49%|\u2588\u2588\u2588\u2588\u258a     | 170/349 [01:10<00:56,  3.17it/s]"
                    ]
                },
                {
                    "name": "stdout",
                    "output_type": "stream",
                    "text": [
                        "Error processing /home/lippincm/4TB_A/NF1_2D_organoid_profiling_pipeline/data/SARCO361_T1/cellprofiler_middle_slice_output/E4-3/gff_extracted_features.sqlite: list index out of range\n"
                    ]
                },
                {
                    "name": "stderr",
                    "output_type": "stream",
                    "text": [
                        " 49%|\u2588\u2588\u2588\u2588\u2589     | 171/349 [01:10<00:50,  3.54it/s]"
                    ]
                },
                {
                    "name": "stdout",
                    "output_type": "stream",
                    "text": [
                        "Error processing /home/lippincm/4TB_A/NF1_2D_organoid_profiling_pipeline/data/SARCO361_T1/cellprofiler_middle_slice_output/E4-4/gff_extracted_features.sqlite: An existing file or directory was provided as dest_path: '/home/lippincm/4TB_A/NF1_2D_organoid_profiling_pipeline/data/SARCO361_T1/0.converted/middle_slice/E4-4_sc.parquet'. Please use a new path for this parameter.\n"
                    ]
                },
                {
                    "name": "stderr",
                    "output_type": "stream",
                    "text": [
                        " 49%|\u2588\u2588\u2588\u2588\u2589     | 172/349 [01:10<00:58,  3.05it/s]"
                    ]
                },
                {
                    "name": "stdout",
                    "output_type": "stream",
                    "text": [
                        "Error processing /home/lippincm/4TB_A/NF1_2D_organoid_profiling_pipeline/data/SARCO361_T1/cellprofiler_middle_slice_output/E4-5/gff_extracted_features.sqlite: An existing file or directory was provided as dest_path: '/home/lippincm/4TB_A/NF1_2D_organoid_profiling_pipeline/data/SARCO361_T1/0.converted/middle_slice/E4-5_sc.parquet'. Please use a new path for this parameter.\n",
                        "Error processing /home/lippincm/4TB_A/NF1_2D_organoid_profiling_pipeline/data/SARCO361_T1/cellprofiler_middle_slice_output/E4-6/gff_extracted_features.sqlite: An existing file or directory was provided as dest_path: '/home/lippincm/4TB_A/NF1_2D_organoid_profiling_pipeline/data/SARCO361_T1/0.converted/middle_slice/E4-6_sc.parquet'. Please use a new path for this parameter.\n"
                    ]
                },
                {
                    "name": "stderr",
                    "output_type": "stream",
                    "text": [
                        " 50%|\u2588\u2588\u2588\u2588\u2589     | 174/349 [01:11<00:52,  3.33it/s]"
                    ]
                },
                {
                    "name": "stdout",
                    "output_type": "stream",
                    "text": [
                        "Error processing /home/lippincm/4TB_A/NF1_2D_organoid_profiling_pipeline/data/SARCO361_T1/cellprofiler_middle_slice_output/E4-7/gff_extracted_features.sqlite: list index out of range\n",
                        "Error processing /home/lippincm/4TB_A/NF1_2D_organoid_profiling_pipeline/data/SARCO361_T1/cellprofiler_middle_slice_output/E5-1/gff_extracted_features.sqlite: An existing file or directory was provided as dest_path: '/home/lippincm/4TB_A/NF1_2D_organoid_profiling_pipeline/data/SARCO361_T1/0.converted/middle_slice/E5-1_sc.parquet'. Please use a new path for this parameter.\n"
                    ]
                },
                {
                    "name": "stderr",
                    "output_type": "stream",
                    "text": [
                        " 50%|\u2588\u2588\u2588\u2588\u2588     | 176/349 [01:11<00:42,  4.10it/s]"
                    ]
                },
                {
                    "name": "stdout",
                    "output_type": "stream",
                    "text": [
                        "Error processing /home/lippincm/4TB_A/NF1_2D_organoid_profiling_pipeline/data/SARCO361_T1/cellprofiler_middle_slice_output/E5-2/gff_extracted_features.sqlite: An existing file or directory was provided as dest_path: '/home/lippincm/4TB_A/NF1_2D_organoid_profiling_pipeline/data/SARCO361_T1/0.converted/middle_slice/E5-2_sc.parquet'. Please use a new path for this parameter.\n"
                    ]
                },
                {
                    "name": "stderr",
                    "output_type": "stream",
                    "text": [
                        " 51%|\u2588\u2588\u2588\u2588\u2588     | 177/349 [01:11<00:45,  3.77it/s]"
                    ]
                },
                {
                    "name": "stdout",
                    "output_type": "stream",
                    "text": [
                        "Error processing /home/lippincm/4TB_A/NF1_2D_organoid_profiling_pipeline/data/SARCO361_T1/cellprofiler_middle_slice_output/E5-3/gff_extracted_features.sqlite: list index out of range\n"
                    ]
                },
                {
                    "name": "stderr",
                    "output_type": "stream",
                    "text": [
                        " 51%|\u2588\u2588\u2588\u2588\u2588     | 178/349 [01:12<00:53,  3.17it/s]"
                    ]
                },
                {
                    "name": "stdout",
                    "output_type": "stream",
                    "text": [
                        "Error processing /home/lippincm/4TB_A/NF1_2D_organoid_profiling_pipeline/data/SARCO361_T1/cellprofiler_middle_slice_output/E5-4/gff_extracted_features.sqlite: list index out of range\n",
                        "Error processing /home/lippincm/4TB_A/NF1_2D_organoid_profiling_pipeline/data/SARCO361_T1/cellprofiler_middle_slice_output/E5-5/gff_extracted_features.sqlite: An existing file or directory was provided as dest_path: '/home/lippincm/4TB_A/NF1_2D_organoid_profiling_pipeline/data/SARCO361_T1/0.converted/middle_slice/E5-5_sc.parquet'. Please use a new path for this parameter.\n"
                    ]
                },
                {
                    "name": "stderr",
                    "output_type": "stream",
                    "text": [
                        " 52%|\u2588\u2588\u2588\u2588\u2588\u258f    | 180/349 [01:12<00:44,  3.77it/s]"
                    ]
                },
                {
                    "name": "stdout",
                    "output_type": "stream",
                    "text": [
                        "Error processing /home/lippincm/4TB_A/NF1_2D_organoid_profiling_pipeline/data/SARCO361_T1/cellprofiler_middle_slice_output/E5-6/gff_extracted_features.sqlite: list index out of range\n"
                    ]
                },
                {
                    "name": "stderr",
                    "output_type": "stream",
                    "text": [
                        " 52%|\u2588\u2588\u2588\u2588\u2588\u258f    | 181/349 [01:13<00:47,  3.53it/s]"
                    ]
                },
                {
                    "name": "stdout",
                    "output_type": "stream",
                    "text": [
                        "Error processing /home/lippincm/4TB_A/NF1_2D_organoid_profiling_pipeline/data/SARCO361_T1/cellprofiler_middle_slice_output/E5-7/gff_extracted_features.sqlite: list index out of range\n"
                    ]
                },
                {
                    "name": "stderr",
                    "output_type": "stream",
                    "text": [
                        " 52%|\u2588\u2588\u2588\u2588\u2588\u258f    | 182/349 [01:13<00:48,  3.43it/s]"
                    ]
                },
                {
                    "name": "stdout",
                    "output_type": "stream",
                    "text": [
                        "Error processing /home/lippincm/4TB_A/NF1_2D_organoid_profiling_pipeline/data/SARCO361_T1/cellprofiler_middle_slice_output/E6-1/gff_extracted_features.sqlite: list index out of range\n"
                    ]
                },
                {
                    "name": "stderr",
                    "output_type": "stream",
                    "text": [
                        " 52%|\u2588\u2588\u2588\u2588\u2588\u258f    | 183/349 [01:13<00:54,  3.02it/s]"
                    ]
                },
                {
                    "name": "stdout",
                    "output_type": "stream",
                    "text": [
                        "Error processing /home/lippincm/4TB_A/NF1_2D_organoid_profiling_pipeline/data/SARCO361_T1/cellprofiler_middle_slice_output/E6-2/gff_extracted_features.sqlite: list index out of range\n",
                        "Error processing /home/lippincm/4TB_A/NF1_2D_organoid_profiling_pipeline/data/SARCO361_T1/cellprofiler_middle_slice_output/E6-3/gff_extracted_features.sqlite: An existing file or directory was provided as dest_path: '/home/lippincm/4TB_A/NF1_2D_organoid_profiling_pipeline/data/SARCO361_T1/0.converted/middle_slice/E6-3_sc.parquet'. Please use a new path for this parameter.\n"
                    ]
                },
                {
                    "name": "stderr",
                    "output_type": "stream",
                    "text": [
                        " 53%|\u2588\u2588\u2588\u2588\u2588\u258e    | 185/349 [01:14<00:45,  3.58it/s]"
                    ]
                },
                {
                    "name": "stdout",
                    "output_type": "stream",
                    "text": [
                        "Error processing /home/lippincm/4TB_A/NF1_2D_organoid_profiling_pipeline/data/SARCO361_T1/cellprofiler_middle_slice_output/E6-4/gff_extracted_features.sqlite: list index out of range\n",
                        "Error processing /home/lippincm/4TB_A/NF1_2D_organoid_profiling_pipeline/data/SARCO361_T1/cellprofiler_middle_slice_output/E6-5/gff_extracted_features.sqlite: An existing file or directory was provided as dest_path: '/home/lippincm/4TB_A/NF1_2D_organoid_profiling_pipeline/data/SARCO361_T1/0.converted/middle_slice/E6-5_sc.parquet'. Please use a new path for this parameter.\n"
                    ]
                },
                {
                    "name": "stderr",
                    "output_type": "stream",
                    "text": [
                        " 54%|\u2588\u2588\u2588\u2588\u2588\u258d    | 189/349 [01:14<00:27,  5.84it/s]"
                    ]
                },
                {
                    "name": "stdout",
                    "output_type": "stream",
                    "text": [
                        "Error processing /home/lippincm/4TB_A/NF1_2D_organoid_profiling_pipeline/data/SARCO361_T1/cellprofiler_middle_slice_output/E6-6/gff_extracted_features.sqlite: An existing file or directory was provided as dest_path: '/home/lippincm/4TB_A/NF1_2D_organoid_profiling_pipeline/data/SARCO361_T1/0.converted/middle_slice/E6-6_sc.parquet'. Please use a new path for this parameter.\n",
                        "Error processing /home/lippincm/4TB_A/NF1_2D_organoid_profiling_pipeline/data/SARCO361_T1/cellprofiler_middle_slice_output/E6-7/gff_extracted_features.sqlite: An existing file or directory was provided as dest_path: '/home/lippincm/4TB_A/NF1_2D_organoid_profiling_pipeline/data/SARCO361_T1/0.converted/middle_slice/E6-7_sc.parquet'. Please use a new path for this parameter.\n",
                        "Error processing /home/lippincm/4TB_A/NF1_2D_organoid_profiling_pipeline/data/SARCO361_T1/cellprofiler_middle_slice_output/E7-1/gff_extracted_features.sqlite: An existing file or directory was provided as dest_path: '/home/lippincm/4TB_A/NF1_2D_organoid_profiling_pipeline/data/SARCO361_T1/0.converted/middle_slice/E7-1_sc.parquet'. Please use a new path for this parameter.\n"
                    ]
                },
                {
                    "name": "stderr",
                    "output_type": "stream",
                    "text": [
                        " 54%|\u2588\u2588\u2588\u2588\u2588\u258d    | 190/349 [01:15<00:37,  4.21it/s]"
                    ]
                },
                {
                    "name": "stdout",
                    "output_type": "stream",
                    "text": [
                        "Error processing /home/lippincm/4TB_A/NF1_2D_organoid_profiling_pipeline/data/SARCO361_T1/cellprofiler_middle_slice_output/E7-2/gff_extracted_features.sqlite: list index out of range\n"
                    ]
                },
                {
                    "name": "stderr",
                    "output_type": "stream",
                    "text": [
                        " 55%|\u2588\u2588\u2588\u2588\u2588\u258d    | 191/349 [01:15<00:36,  4.32it/s]"
                    ]
                },
                {
                    "name": "stdout",
                    "output_type": "stream",
                    "text": [
                        "Error processing /home/lippincm/4TB_A/NF1_2D_organoid_profiling_pipeline/data/SARCO361_T1/cellprofiler_middle_slice_output/E7-3/gff_extracted_features.sqlite: An existing file or directory was provided as dest_path: '/home/lippincm/4TB_A/NF1_2D_organoid_profiling_pipeline/data/SARCO361_T1/0.converted/middle_slice/E7-3_sc.parquet'. Please use a new path for this parameter.\n"
                    ]
                },
                {
                    "name": "stderr",
                    "output_type": "stream",
                    "text": [
                        " 55%|\u2588\u2588\u2588\u2588\u2588\u258c    | 192/349 [01:16<00:53,  2.95it/s]"
                    ]
                },
                {
                    "name": "stdout",
                    "output_type": "stream",
                    "text": [
                        "Error processing /home/lippincm/4TB_A/NF1_2D_organoid_profiling_pipeline/data/SARCO361_T1/cellprofiler_middle_slice_output/E7-4/gff_extracted_features.sqlite: list index out of range\n"
                    ]
                },
                {
                    "name": "stderr",
                    "output_type": "stream",
                    "text": [
                        " 55%|\u2588\u2588\u2588\u2588\u2588\u258c    | 193/349 [01:16<00:56,  2.75it/s]"
                    ]
                },
                {
                    "name": "stdout",
                    "output_type": "stream",
                    "text": [
                        "Error processing /home/lippincm/4TB_A/NF1_2D_organoid_profiling_pipeline/data/SARCO361_T1/cellprofiler_middle_slice_output/E7-5/gff_extracted_features.sqlite: list index out of range\n"
                    ]
                },
                {
                    "name": "stderr",
                    "output_type": "stream",
                    "text": [
                        " 56%|\u2588\u2588\u2588\u2588\u2588\u258c    | 194/349 [01:16<01:01,  2.53it/s]"
                    ]
                },
                {
                    "name": "stdout",
                    "output_type": "stream",
                    "text": [
                        "Error processing /home/lippincm/4TB_A/NF1_2D_organoid_profiling_pipeline/data/SARCO361_T1/cellprofiler_middle_slice_output/E7-6/gff_extracted_features.sqlite: list index out of range\n"
                    ]
                },
                {
                    "name": "stderr",
                    "output_type": "stream",
                    "text": [
                        " 56%|\u2588\u2588\u2588\u2588\u2588\u258c    | 195/349 [01:17<00:57,  2.67it/s]"
                    ]
                },
                {
                    "name": "stdout",
                    "output_type": "stream",
                    "text": [
                        "Error processing /home/lippincm/4TB_A/NF1_2D_organoid_profiling_pipeline/data/SARCO361_T1/cellprofiler_middle_slice_output/E7-7/gff_extracted_features.sqlite: list index out of range\n",
                        "Error processing /home/lippincm/4TB_A/NF1_2D_organoid_profiling_pipeline/data/SARCO361_T1/cellprofiler_middle_slice_output/E8-1/gff_extracted_features.sqlite: An existing file or directory was provided as dest_path: '/home/lippincm/4TB_A/NF1_2D_organoid_profiling_pipeline/data/SARCO361_T1/0.converted/middle_slice/E8-1_sc.parquet'. Please use a new path for this parameter.\n"
                    ]
                },
                {
                    "name": "stderr",
                    "output_type": "stream",
                    "text": [
                        " 57%|\u2588\u2588\u2588\u2588\u2588\u258b    | 198/349 [01:17<00:42,  3.54it/s]"
                    ]
                },
                {
                    "name": "stdout",
                    "output_type": "stream",
                    "text": [
                        "Error processing /home/lippincm/4TB_A/NF1_2D_organoid_profiling_pipeline/data/SARCO361_T1/cellprofiler_middle_slice_output/E8-2/gff_extracted_features.sqlite: list index out of range\n",
                        "Error processing /home/lippincm/4TB_A/NF1_2D_organoid_profiling_pipeline/data/SARCO361_T1/cellprofiler_middle_slice_output/E8-3/gff_extracted_features.sqlite: An existing file or directory was provided as dest_path: '/home/lippincm/4TB_A/NF1_2D_organoid_profiling_pipeline/data/SARCO361_T1/0.converted/middle_slice/E8-3_sc.parquet'. Please use a new path for this parameter.\n"
                    ]
                },
                {
                    "name": "stderr",
                    "output_type": "stream",
                    "text": [
                        " 57%|\u2588\u2588\u2588\u2588\u2588\u258b    | 199/349 [01:18<00:50,  2.97it/s]"
                    ]
                },
                {
                    "name": "stdout",
                    "output_type": "stream",
                    "text": [
                        "Error processing /home/lippincm/4TB_A/NF1_2D_organoid_profiling_pipeline/data/SARCO361_T1/cellprofiler_middle_slice_output/E8-4/gff_extracted_features.sqlite: list index out of range\n"
                    ]
                },
                {
                    "name": "stderr",
                    "output_type": "stream",
                    "text": [
                        " 57%|\u2588\u2588\u2588\u2588\u2588\u258b    | 200/349 [01:19<01:04,  2.33it/s]"
                    ]
                },
                {
                    "name": "stdout",
                    "output_type": "stream",
                    "text": [
                        "Error processing /home/lippincm/4TB_A/NF1_2D_organoid_profiling_pipeline/data/SARCO361_T1/cellprofiler_middle_slice_output/E8-5/gff_extracted_features.sqlite: list index out of range\n"
                    ]
                },
                {
                    "name": "stderr",
                    "output_type": "stream",
                    "text": [
                        " 58%|\u2588\u2588\u2588\u2588\u2588\u258a    | 203/349 [01:19<00:34,  4.24it/s]"
                    ]
                },
                {
                    "name": "stdout",
                    "output_type": "stream",
                    "text": [
                        "Error processing /home/lippincm/4TB_A/NF1_2D_organoid_profiling_pipeline/data/SARCO361_T1/cellprofiler_middle_slice_output/E8-6/gff_extracted_features.sqlite: An existing file or directory was provided as dest_path: '/home/lippincm/4TB_A/NF1_2D_organoid_profiling_pipeline/data/SARCO361_T1/0.converted/middle_slice/E8-6_sc.parquet'. Please use a new path for this parameter.\n",
                        "Error processing /home/lippincm/4TB_A/NF1_2D_organoid_profiling_pipeline/data/SARCO361_T1/cellprofiler_middle_slice_output/E8-7/gff_extracted_features.sqlite: An existing file or directory was provided as dest_path: '/home/lippincm/4TB_A/NF1_2D_organoid_profiling_pipeline/data/SARCO361_T1/0.converted/middle_slice/E8-7_sc.parquet'. Please use a new path for this parameter.\n",
                        "Error processing /home/lippincm/4TB_A/NF1_2D_organoid_profiling_pipeline/data/SARCO361_T1/cellprofiler_middle_slice_output/E9-1/gff_extracted_features.sqlite: An existing file or directory was provided as dest_path: '/home/lippincm/4TB_A/NF1_2D_organoid_profiling_pipeline/data/SARCO361_T1/0.converted/middle_slice/E9-1_sc.parquet'. Please use a new path for this parameter.\n"
                    ]
                },
                {
                    "name": "stderr",
                    "output_type": "stream",
                    "text": [
                        " 59%|\u2588\u2588\u2588\u2588\u2588\u258a    | 205/349 [01:19<00:31,  4.50it/s]"
                    ]
                },
                {
                    "name": "stdout",
                    "output_type": "stream",
                    "text": [
                        "Error processing /home/lippincm/4TB_A/NF1_2D_organoid_profiling_pipeline/data/SARCO361_T1/cellprofiler_middle_slice_output/E9-2/gff_extracted_features.sqlite: An existing file or directory was provided as dest_path: '/home/lippincm/4TB_A/NF1_2D_organoid_profiling_pipeline/data/SARCO361_T1/0.converted/middle_slice/E9-2_sc.parquet'. Please use a new path for this parameter.\n",
                        "Error processing /home/lippincm/4TB_A/NF1_2D_organoid_profiling_pipeline/data/SARCO361_T1/cellprofiler_middle_slice_output/E9-3/gff_extracted_features.sqlite: An existing file or directory was provided as dest_path: '/home/lippincm/4TB_A/NF1_2D_organoid_profiling_pipeline/data/SARCO361_T1/0.converted/middle_slice/E9-3_sc.parquet'. Please use a new path for this parameter.\n",
                        "Error processing /home/lippincm/4TB_A/NF1_2D_organoid_profiling_pipeline/data/SARCO361_T1/cellprofiler_middle_slice_output/E9-4/gff_extracted_features.sqlite: An existing file or directory was provided as dest_path: '/home/lippincm/4TB_A/NF1_2D_organoid_profiling_pipeline/data/SARCO361_T1/0.converted/middle_slice/E9-4_sc.parquet'. Please use a new path for this parameter.\n"
                    ]
                },
                {
                    "name": "stderr",
                    "output_type": "stream",
                    "text": [
                        " 60%|\u2588\u2588\u2588\u2588\u2588\u2589    | 209/349 [01:20<00:21,  6.44it/s]"
                    ]
                },
                {
                    "name": "stdout",
                    "output_type": "stream",
                    "text": [
                        "Error processing /home/lippincm/4TB_A/NF1_2D_organoid_profiling_pipeline/data/SARCO361_T1/cellprofiler_middle_slice_output/E9-5/gff_extracted_features.sqlite: list index out of range\n",
                        "Error processing /home/lippincm/4TB_A/NF1_2D_organoid_profiling_pipeline/data/SARCO361_T1/cellprofiler_middle_slice_output/E9-6/gff_extracted_features.sqlite: An existing file or directory was provided as dest_path: '/home/lippincm/4TB_A/NF1_2D_organoid_profiling_pipeline/data/SARCO361_T1/0.converted/middle_slice/E9-6_sc.parquet'. Please use a new path for this parameter.\n",
                        "Error processing /home/lippincm/4TB_A/NF1_2D_organoid_profiling_pipeline/data/SARCO361_T1/cellprofiler_middle_slice_output/E9-7/gff_extracted_features.sqlite: An existing file or directory was provided as dest_path: '/home/lippincm/4TB_A/NF1_2D_organoid_profiling_pipeline/data/SARCO361_T1/0.converted/middle_slice/E9-7_sc.parquet'. Please use a new path for this parameter.\n"
                    ]
                },
                {
                    "name": "stderr",
                    "output_type": "stream",
                    "text": [
                        " 60%|\u2588\u2588\u2588\u2588\u2588\u2588    | 210/349 [01:20<00:26,  5.28it/s]"
                    ]
                },
                {
                    "name": "stdout",
                    "output_type": "stream",
                    "text": [
                        "Error processing /home/lippincm/4TB_A/NF1_2D_organoid_profiling_pipeline/data/SARCO361_T1/cellprofiler_middle_slice_output/F10-1/gff_extracted_features.sqlite: list index out of range\n"
                    ]
                },
                {
                    "name": "stderr",
                    "output_type": "stream",
                    "text": [
                        " 60%|\u2588\u2588\u2588\u2588\u2588\u2588    | 211/349 [01:20<00:26,  5.16it/s]"
                    ]
                },
                {
                    "name": "stdout",
                    "output_type": "stream",
                    "text": [
                        "Error processing /home/lippincm/4TB_A/NF1_2D_organoid_profiling_pipeline/data/SARCO361_T1/cellprofiler_middle_slice_output/F10-2/gff_extracted_features.sqlite: An existing file or directory was provided as dest_path: '/home/lippincm/4TB_A/NF1_2D_organoid_profiling_pipeline/data/SARCO361_T1/0.converted/middle_slice/F10-2_sc.parquet'. Please use a new path for this parameter.\n"
                    ]
                },
                {
                    "name": "stderr",
                    "output_type": "stream",
                    "text": [
                        " 61%|\u2588\u2588\u2588\u2588\u2588\u2588    | 212/349 [01:21<00:27,  4.98it/s]"
                    ]
                },
                {
                    "name": "stdout",
                    "output_type": "stream",
                    "text": [
                        "Error processing /home/lippincm/4TB_A/NF1_2D_organoid_profiling_pipeline/data/SARCO361_T1/cellprofiler_middle_slice_output/F10-3/gff_extracted_features.sqlite: An existing file or directory was provided as dest_path: '/home/lippincm/4TB_A/NF1_2D_organoid_profiling_pipeline/data/SARCO361_T1/0.converted/middle_slice/F10-3_sc.parquet'. Please use a new path for this parameter.\n"
                    ]
                },
                {
                    "name": "stderr",
                    "output_type": "stream",
                    "text": [
                        " 61%|\u2588\u2588\u2588\u2588\u2588\u2588    | 213/349 [01:21<00:28,  4.79it/s]"
                    ]
                },
                {
                    "name": "stdout",
                    "output_type": "stream",
                    "text": [
                        "Error processing /home/lippincm/4TB_A/NF1_2D_organoid_profiling_pipeline/data/SARCO361_T1/cellprofiler_middle_slice_output/F10-4/gff_extracted_features.sqlite: An existing file or directory was provided as dest_path: '/home/lippincm/4TB_A/NF1_2D_organoid_profiling_pipeline/data/SARCO361_T1/0.converted/middle_slice/F10-4_sc.parquet'. Please use a new path for this parameter.\n"
                    ]
                },
                {
                    "name": "stderr",
                    "output_type": "stream",
                    "text": [
                        " 61%|\u2588\u2588\u2588\u2588\u2588\u2588\u258f   | 214/349 [01:21<00:33,  4.02it/s]"
                    ]
                },
                {
                    "name": "stdout",
                    "output_type": "stream",
                    "text": [
                        "Error processing /home/lippincm/4TB_A/NF1_2D_organoid_profiling_pipeline/data/SARCO361_T1/cellprofiler_middle_slice_output/F10-5/gff_extracted_features.sqlite: list index out of range\n",
                        "Error processing /home/lippincm/4TB_A/NF1_2D_organoid_profiling_pipeline/data/SARCO361_T1/cellprofiler_middle_slice_output/F10-6/gff_extracted_features.sqlite: An existing file or directory was provided as dest_path: '/home/lippincm/4TB_A/NF1_2D_organoid_profiling_pipeline/data/SARCO361_T1/0.converted/middle_slice/F10-6_sc.parquet'. Please use a new path for this parameter.\n"
                    ]
                },
                {
                    "name": "stderr",
                    "output_type": "stream",
                    "text": [
                        " 62%|\u2588\u2588\u2588\u2588\u2588\u2588\u258f   | 216/349 [01:22<00:34,  3.84it/s]"
                    ]
                },
                {
                    "name": "stdout",
                    "output_type": "stream",
                    "text": [
                        "Error processing /home/lippincm/4TB_A/NF1_2D_organoid_profiling_pipeline/data/SARCO361_T1/cellprofiler_middle_slice_output/F10-7/gff_extracted_features.sqlite: list index out of range\n"
                    ]
                },
                {
                    "name": "stderr",
                    "output_type": "stream",
                    "text": [
                        " 62%|\u2588\u2588\u2588\u2588\u2588\u2588\u258f   | 217/349 [01:22<00:37,  3.50it/s]"
                    ]
                },
                {
                    "name": "stdout",
                    "output_type": "stream",
                    "text": [
                        "Error processing /home/lippincm/4TB_A/NF1_2D_organoid_profiling_pipeline/data/SARCO361_T1/cellprofiler_middle_slice_output/F11-1/gff_extracted_features.sqlite: list index out of range\n"
                    ]
                },
                {
                    "name": "stderr",
                    "output_type": "stream",
                    "text": [
                        " 62%|\u2588\u2588\u2588\u2588\u2588\u2588\u258f   | 218/349 [01:23<00:43,  3.04it/s]"
                    ]
                },
                {
                    "name": "stdout",
                    "output_type": "stream",
                    "text": [
                        "Error processing /home/lippincm/4TB_A/NF1_2D_organoid_profiling_pipeline/data/SARCO361_T1/cellprofiler_middle_slice_output/F11-2/gff_extracted_features.sqlite: list index out of range\n",
                        "Error processing /home/lippincm/4TB_A/NF1_2D_organoid_profiling_pipeline/data/SARCO361_T1/cellprofiler_middle_slice_output/F11-3/gff_extracted_features.sqlite: An existing file or directory was provided as dest_path: '/home/lippincm/4TB_A/NF1_2D_organoid_profiling_pipeline/data/SARCO361_T1/0.converted/middle_slice/F11-3_sc.parquet'. Please use a new path for this parameter.\n"
                    ]
                },
                {
                    "name": "stderr",
                    "output_type": "stream",
                    "text": [
                        " 63%|\u2588\u2588\u2588\u2588\u2588\u2588\u258e   | 220/349 [01:23<00:32,  4.01it/s]"
                    ]
                },
                {
                    "name": "stdout",
                    "output_type": "stream",
                    "text": [
                        "Error processing /home/lippincm/4TB_A/NF1_2D_organoid_profiling_pipeline/data/SARCO361_T1/cellprofiler_middle_slice_output/F11-4/gff_extracted_features.sqlite: An existing file or directory was provided as dest_path: '/home/lippincm/4TB_A/NF1_2D_organoid_profiling_pipeline/data/SARCO361_T1/0.converted/middle_slice/F11-4_sc.parquet'. Please use a new path for this parameter.\n"
                    ]
                },
                {
                    "name": "stderr",
                    "output_type": "stream",
                    "text": [
                        " 64%|\u2588\u2588\u2588\u2588\u2588\u2588\u258e   | 222/349 [01:24<00:35,  3.57it/s]"
                    ]
                },
                {
                    "name": "stdout",
                    "output_type": "stream",
                    "text": [
                        "Error processing /home/lippincm/4TB_A/NF1_2D_organoid_profiling_pipeline/data/SARCO361_T1/cellprofiler_middle_slice_output/F11-5/gff_extracted_features.sqlite: An existing file or directory was provided as dest_path: '/home/lippincm/4TB_A/NF1_2D_organoid_profiling_pipeline/data/SARCO361_T1/0.converted/middle_slice/F11-5_sc.parquet'. Please use a new path for this parameter.\n",
                        "Error processing /home/lippincm/4TB_A/NF1_2D_organoid_profiling_pipeline/data/SARCO361_T1/cellprofiler_middle_slice_output/F11-6/gff_extracted_features.sqlite: An existing file or directory was provided as dest_path: '/home/lippincm/4TB_A/NF1_2D_organoid_profiling_pipeline/data/SARCO361_T1/0.converted/middle_slice/F11-6_sc.parquet'. Please use a new path for this parameter.\n"
                    ]
                },
                {
                    "name": "stderr",
                    "output_type": "stream",
                    "text": [
                        " 64%|\u2588\u2588\u2588\u2588\u2588\u2588\u258d   | 224/349 [01:24<00:24,  5.12it/s]"
                    ]
                },
                {
                    "name": "stdout",
                    "output_type": "stream",
                    "text": [
                        "Error processing /home/lippincm/4TB_A/NF1_2D_organoid_profiling_pipeline/data/SARCO361_T1/cellprofiler_middle_slice_output/F11-7/gff_extracted_features.sqlite: An existing file or directory was provided as dest_path: '/home/lippincm/4TB_A/NF1_2D_organoid_profiling_pipeline/data/SARCO361_T1/0.converted/middle_slice/F11-7_sc.parquet'. Please use a new path for this parameter.\n",
                        "Error processing /home/lippincm/4TB_A/NF1_2D_organoid_profiling_pipeline/data/SARCO361_T1/cellprofiler_middle_slice_output/F2-1/gff_extracted_features.sqlite: An existing file or directory was provided as dest_path: '/home/lippincm/4TB_A/NF1_2D_organoid_profiling_pipeline/data/SARCO361_T1/0.converted/middle_slice/F2-1_sc.parquet'. Please use a new path for this parameter.\n",
                        "Error processing /home/lippincm/4TB_A/NF1_2D_organoid_profiling_pipeline/data/SARCO361_T1/cellprofiler_middle_slice_output/F2-2/gff_extracted_features.sqlite: An existing file or directory was provided as dest_path: '/home/lippincm/4TB_A/NF1_2D_organoid_profiling_pipeline/data/SARCO361_T1/0.converted/middle_slice/F2-2_sc.parquet'. Please use a new path for this parameter.\n"
                    ]
                },
                {
                    "name": "stderr",
                    "output_type": "stream",
                    "text": [
                        " 65%|\u2588\u2588\u2588\u2588\u2588\u2588\u258c   | 227/349 [01:24<00:19,  6.16it/s]"
                    ]
                },
                {
                    "name": "stdout",
                    "output_type": "stream",
                    "text": [
                        "Error processing /home/lippincm/4TB_A/NF1_2D_organoid_profiling_pipeline/data/SARCO361_T1/cellprofiler_middle_slice_output/F2-3/gff_extracted_features.sqlite: An existing file or directory was provided as dest_path: '/home/lippincm/4TB_A/NF1_2D_organoid_profiling_pipeline/data/SARCO361_T1/0.converted/middle_slice/F2-3_sc.parquet'. Please use a new path for this parameter.\n",
                        "Error processing /home/lippincm/4TB_A/NF1_2D_organoid_profiling_pipeline/data/SARCO361_T1/cellprofiler_middle_slice_output/F2-4/gff_extracted_features.sqlite: An existing file or directory was provided as dest_path: '/home/lippincm/4TB_A/NF1_2D_organoid_profiling_pipeline/data/SARCO361_T1/0.converted/middle_slice/F2-4_sc.parquet'. Please use a new path for this parameter.\n"
                    ]
                },
                {
                    "name": "stderr",
                    "output_type": "stream",
                    "text": [
                        " 65%|\u2588\u2588\u2588\u2588\u2588\u2588\u258c   | 228/349 [01:25<00:27,  4.36it/s]"
                    ]
                },
                {
                    "name": "stdout",
                    "output_type": "stream",
                    "text": [
                        "Error processing /home/lippincm/4TB_A/NF1_2D_organoid_profiling_pipeline/data/SARCO361_T1/cellprofiler_middle_slice_output/F2-5/gff_extracted_features.sqlite: list index out of range\n"
                    ]
                },
                {
                    "name": "stderr",
                    "output_type": "stream",
                    "text": [
                        " 66%|\u2588\u2588\u2588\u2588\u2588\u2588\u258c   | 230/349 [01:25<00:25,  4.61it/s]"
                    ]
                },
                {
                    "name": "stdout",
                    "output_type": "stream",
                    "text": [
                        "Error processing /home/lippincm/4TB_A/NF1_2D_organoid_profiling_pipeline/data/SARCO361_T1/cellprofiler_middle_slice_output/F2-6/gff_extracted_features.sqlite: An existing file or directory was provided as dest_path: '/home/lippincm/4TB_A/NF1_2D_organoid_profiling_pipeline/data/SARCO361_T1/0.converted/middle_slice/F2-6_sc.parquet'. Please use a new path for this parameter.\n",
                        "Error processing /home/lippincm/4TB_A/NF1_2D_organoid_profiling_pipeline/data/SARCO361_T1/cellprofiler_middle_slice_output/F2-7/gff_extracted_features.sqlite: An existing file or directory was provided as dest_path: '/home/lippincm/4TB_A/NF1_2D_organoid_profiling_pipeline/data/SARCO361_T1/0.converted/middle_slice/F2-7_sc.parquet'. Please use a new path for this parameter.\n"
                    ]
                },
                {
                    "name": "stderr",
                    "output_type": "stream",
                    "text": [
                        " 67%|\u2588\u2588\u2588\u2588\u2588\u2588\u258b   | 233/349 [01:26<00:26,  4.32it/s]"
                    ]
                },
                {
                    "name": "stdout",
                    "output_type": "stream",
                    "text": [
                        "Error processing /home/lippincm/4TB_A/NF1_2D_organoid_profiling_pipeline/data/SARCO361_T1/cellprofiler_middle_slice_output/F3-1/gff_extracted_features.sqlite: list index out of range\n",
                        "Error processing /home/lippincm/4TB_A/NF1_2D_organoid_profiling_pipeline/data/SARCO361_T1/cellprofiler_middle_slice_output/F3-2/gff_extracted_features.sqlite: An existing file or directory was provided as dest_path: '/home/lippincm/4TB_A/NF1_2D_organoid_profiling_pipeline/data/SARCO361_T1/0.converted/middle_slice/F3-2_sc.parquet'. Please use a new path for this parameter.\n",
                        "Error processing /home/lippincm/4TB_A/NF1_2D_organoid_profiling_pipeline/data/SARCO361_T1/cellprofiler_middle_slice_output/F3-3/gff_extracted_features.sqlite: An existing file or directory was provided as dest_path: '/home/lippincm/4TB_A/NF1_2D_organoid_profiling_pipeline/data/SARCO361_T1/0.converted/middle_slice/F3-3_sc.parquet'. Please use a new path for this parameter.\n"
                    ]
                },
                {
                    "name": "stderr",
                    "output_type": "stream",
                    "text": [
                        " 67%|\u2588\u2588\u2588\u2588\u2588\u2588\u258b   | 234/349 [01:26<00:33,  3.47it/s]"
                    ]
                },
                {
                    "name": "stdout",
                    "output_type": "stream",
                    "text": [
                        "Error processing /home/lippincm/4TB_A/NF1_2D_organoid_profiling_pipeline/data/SARCO361_T1/cellprofiler_middle_slice_output/F3-4/gff_extracted_features.sqlite: list index out of range\n"
                    ]
                },
                {
                    "name": "stderr",
                    "output_type": "stream",
                    "text": [
                        " 67%|\u2588\u2588\u2588\u2588\u2588\u2588\u258b   | 235/349 [01:27<00:33,  3.35it/s]"
                    ]
                },
                {
                    "name": "stdout",
                    "output_type": "stream",
                    "text": [
                        "Error processing /home/lippincm/4TB_A/NF1_2D_organoid_profiling_pipeline/data/SARCO361_T1/cellprofiler_middle_slice_output/F3-5/gff_extracted_features.sqlite: list index out of range\n"
                    ]
                },
                {
                    "name": "stderr",
                    "output_type": "stream",
                    "text": [
                        " 68%|\u2588\u2588\u2588\u2588\u2588\u2588\u258a   | 237/349 [01:27<00:33,  3.36it/s]"
                    ]
                },
                {
                    "name": "stdout",
                    "output_type": "stream",
                    "text": [
                        "Error processing /home/lippincm/4TB_A/NF1_2D_organoid_profiling_pipeline/data/SARCO361_T1/cellprofiler_middle_slice_output/F3-6/gff_extracted_features.sqlite: list index out of range\n",
                        "Error processing /home/lippincm/4TB_A/NF1_2D_organoid_profiling_pipeline/data/SARCO361_T1/cellprofiler_middle_slice_output/F3-7/gff_extracted_features.sqlite: An existing file or directory was provided as dest_path: '/home/lippincm/4TB_A/NF1_2D_organoid_profiling_pipeline/data/SARCO361_T1/0.converted/middle_slice/F3-7_sc.parquet'. Please use a new path for this parameter.\n"
                    ]
                },
                {
                    "name": "stderr",
                    "output_type": "stream",
                    "text": [
                        " 68%|\u2588\u2588\u2588\u2588\u2588\u2588\u258a   | 239/349 [01:27<00:22,  4.97it/s]"
                    ]
                },
                {
                    "name": "stdout",
                    "output_type": "stream",
                    "text": [
                        "Error processing /home/lippincm/4TB_A/NF1_2D_organoid_profiling_pipeline/data/SARCO361_T1/cellprofiler_middle_slice_output/F4-1/gff_extracted_features.sqlite: An existing file or directory was provided as dest_path: '/home/lippincm/4TB_A/NF1_2D_organoid_profiling_pipeline/data/SARCO361_T1/0.converted/middle_slice/F4-1_sc.parquet'. Please use a new path for this parameter.\n",
                        "Error processing /home/lippincm/4TB_A/NF1_2D_organoid_profiling_pipeline/data/SARCO361_T1/cellprofiler_middle_slice_output/F4-2/gff_extracted_features.sqlite: An existing file or directory was provided as dest_path: '/home/lippincm/4TB_A/NF1_2D_organoid_profiling_pipeline/data/SARCO361_T1/0.converted/middle_slice/F4-2_sc.parquet'. Please use a new path for this parameter.\n"
                    ]
                },
                {
                    "name": "stderr",
                    "output_type": "stream",
                    "text": [
                        " 69%|\u2588\u2588\u2588\u2588\u2588\u2588\u2589   | 240/349 [01:28<00:22,  4.92it/s]"
                    ]
                },
                {
                    "name": "stdout",
                    "output_type": "stream",
                    "text": [
                        "Error processing /home/lippincm/4TB_A/NF1_2D_organoid_profiling_pipeline/data/SARCO361_T1/cellprofiler_middle_slice_output/F4-3/gff_extracted_features.sqlite: An existing file or directory was provided as dest_path: '/home/lippincm/4TB_A/NF1_2D_organoid_profiling_pipeline/data/SARCO361_T1/0.converted/middle_slice/F4-3_sc.parquet'. Please use a new path for this parameter.\n"
                    ]
                },
                {
                    "name": "stderr",
                    "output_type": "stream",
                    "text": [
                        " 69%|\u2588\u2588\u2588\u2588\u2588\u2588\u2589   | 241/349 [01:28<00:22,  4.85it/s]"
                    ]
                },
                {
                    "name": "stdout",
                    "output_type": "stream",
                    "text": [
                        "Error processing /home/lippincm/4TB_A/NF1_2D_organoid_profiling_pipeline/data/SARCO361_T1/cellprofiler_middle_slice_output/F4-4/gff_extracted_features.sqlite: An existing file or directory was provided as dest_path: '/home/lippincm/4TB_A/NF1_2D_organoid_profiling_pipeline/data/SARCO361_T1/0.converted/middle_slice/F4-4_sc.parquet'. Please use a new path for this parameter.\n",
                        "Error processing /home/lippincm/4TB_A/NF1_2D_organoid_profiling_pipeline/data/SARCO361_T1/cellprofiler_middle_slice_output/F4-5/gff_extracted_features.sqlite: An existing file or directory was provided as dest_path: '/home/lippincm/4TB_A/NF1_2D_organoid_profiling_pipeline/data/SARCO361_T1/0.converted/middle_slice/F4-5_sc.parquet'. Please use a new path for this parameter.\n"
                    ]
                },
                {
                    "name": "stderr",
                    "output_type": "stream",
                    "text": [
                        " 70%|\u2588\u2588\u2588\u2588\u2588\u2588\u2589   | 243/349 [01:28<00:18,  5.62it/s]"
                    ]
                },
                {
                    "name": "stdout",
                    "output_type": "stream",
                    "text": [
                        "Error processing /home/lippincm/4TB_A/NF1_2D_organoid_profiling_pipeline/data/SARCO361_T1/cellprofiler_middle_slice_output/F4-6/gff_extracted_features.sqlite: An existing file or directory was provided as dest_path: '/home/lippincm/4TB_A/NF1_2D_organoid_profiling_pipeline/data/SARCO361_T1/0.converted/middle_slice/F4-6_sc.parquet'. Please use a new path for this parameter.\n"
                    ]
                },
                {
                    "name": "stderr",
                    "output_type": "stream",
                    "text": [
                        " 70%|\u2588\u2588\u2588\u2588\u2588\u2588\u2589   | 244/349 [01:28<00:19,  5.44it/s]"
                    ]
                },
                {
                    "name": "stdout",
                    "output_type": "stream",
                    "text": [
                        "Error processing /home/lippincm/4TB_A/NF1_2D_organoid_profiling_pipeline/data/SARCO361_T1/cellprofiler_middle_slice_output/F4-7/gff_extracted_features.sqlite: An existing file or directory was provided as dest_path: '/home/lippincm/4TB_A/NF1_2D_organoid_profiling_pipeline/data/SARCO361_T1/0.converted/middle_slice/F4-7_sc.parquet'. Please use a new path for this parameter.\n"
                    ]
                },
                {
                    "name": "stderr",
                    "output_type": "stream",
                    "text": [
                        " 70%|\u2588\u2588\u2588\u2588\u2588\u2588\u2588   | 245/349 [01:28<00:19,  5.30it/s]"
                    ]
                },
                {
                    "name": "stdout",
                    "output_type": "stream",
                    "text": [
                        "Error processing /home/lippincm/4TB_A/NF1_2D_organoid_profiling_pipeline/data/SARCO361_T1/cellprofiler_middle_slice_output/F5-1/gff_extracted_features.sqlite: An existing file or directory was provided as dest_path: '/home/lippincm/4TB_A/NF1_2D_organoid_profiling_pipeline/data/SARCO361_T1/0.converted/middle_slice/F5-1_sc.parquet'. Please use a new path for this parameter.\n"
                    ]
                },
                {
                    "name": "stderr",
                    "output_type": "stream",
                    "text": [
                        " 70%|\u2588\u2588\u2588\u2588\u2588\u2588\u2588   | 246/349 [01:29<00:27,  3.69it/s]"
                    ]
                },
                {
                    "name": "stdout",
                    "output_type": "stream",
                    "text": [
                        "Error processing /home/lippincm/4TB_A/NF1_2D_organoid_profiling_pipeline/data/SARCO361_T1/cellprofiler_middle_slice_output/F5-2/gff_extracted_features.sqlite: list index out of range\n",
                        "Error processing /home/lippincm/4TB_A/NF1_2D_organoid_profiling_pipeline/data/SARCO361_T1/cellprofiler_middle_slice_output/F5-3/gff_extracted_features.sqlite: An existing file or directory was provided as dest_path: '/home/lippincm/4TB_A/NF1_2D_organoid_profiling_pipeline/data/SARCO361_T1/0.converted/middle_slice/F5-3_sc.parquet'. Please use a new path for this parameter.\n"
                    ]
                },
                {
                    "name": "stderr",
                    "output_type": "stream",
                    "text": [
                        " 71%|\u2588\u2588\u2588\u2588\u2588\u2588\u2588   | 248/349 [01:29<00:24,  4.06it/s]"
                    ]
                },
                {
                    "name": "stdout",
                    "output_type": "stream",
                    "text": [
                        "Error processing /home/lippincm/4TB_A/NF1_2D_organoid_profiling_pipeline/data/SARCO361_T1/cellprofiler_middle_slice_output/F5-4/gff_extracted_features.sqlite: list index out of range\n",
                        "Error processing /home/lippincm/4TB_A/NF1_2D_organoid_profiling_pipeline/data/SARCO361_T1/cellprofiler_middle_slice_output/F5-5/gff_extracted_features.sqlite: An existing file or directory was provided as dest_path: '/home/lippincm/4TB_A/NF1_2D_organoid_profiling_pipeline/data/SARCO361_T1/0.converted/middle_slice/F5-5_sc.parquet'. Please use a new path for this parameter.\n"
                    ]
                },
                {
                    "name": "stderr",
                    "output_type": "stream",
                    "text": [
                        " 72%|\u2588\u2588\u2588\u2588\u2588\u2588\u2588\u258f  | 250/349 [01:30<00:22,  4.31it/s]"
                    ]
                },
                {
                    "name": "stdout",
                    "output_type": "stream",
                    "text": [
                        "Error processing /home/lippincm/4TB_A/NF1_2D_organoid_profiling_pipeline/data/SARCO361_T1/cellprofiler_middle_slice_output/F5-6/gff_extracted_features.sqlite: list index out of range\n"
                    ]
                },
                {
                    "name": "stderr",
                    "output_type": "stream",
                    "text": [
                        " 72%|\u2588\u2588\u2588\u2588\u2588\u2588\u2588\u258f  | 251/349 [01:30<00:24,  4.01it/s]"
                    ]
                },
                {
                    "name": "stdout",
                    "output_type": "stream",
                    "text": [
                        "Error processing /home/lippincm/4TB_A/NF1_2D_organoid_profiling_pipeline/data/SARCO361_T1/cellprofiler_middle_slice_output/F5-7/gff_extracted_features.sqlite: list index out of range\n"
                    ]
                },
                {
                    "name": "stderr",
                    "output_type": "stream",
                    "text": [
                        " 73%|\u2588\u2588\u2588\u2588\u2588\u2588\u2588\u258e  | 254/349 [01:31<00:20,  4.75it/s]"
                    ]
                },
                {
                    "name": "stdout",
                    "output_type": "stream",
                    "text": [
                        "Error processing /home/lippincm/4TB_A/NF1_2D_organoid_profiling_pipeline/data/SARCO361_T1/cellprofiler_middle_slice_output/F6-1/gff_extracted_features.sqlite: list index out of range\n",
                        "Error processing /home/lippincm/4TB_A/NF1_2D_organoid_profiling_pipeline/data/SARCO361_T1/cellprofiler_middle_slice_output/F6-2/gff_extracted_features.sqlite: An existing file or directory was provided as dest_path: '/home/lippincm/4TB_A/NF1_2D_organoid_profiling_pipeline/data/SARCO361_T1/0.converted/middle_slice/F6-2_sc.parquet'. Please use a new path for this parameter.\n",
                        "Error processing /home/lippincm/4TB_A/NF1_2D_organoid_profiling_pipeline/data/SARCO361_T1/cellprofiler_middle_slice_output/F6-3/gff_extracted_features.sqlite: An existing file or directory was provided as dest_path: '/home/lippincm/4TB_A/NF1_2D_organoid_profiling_pipeline/data/SARCO361_T1/0.converted/middle_slice/F6-3_sc.parquet'. Please use a new path for this parameter.\n"
                    ]
                },
                {
                    "name": "stderr",
                    "output_type": "stream",
                    "text": [
                        " 74%|\u2588\u2588\u2588\u2588\u2588\u2588\u2588\u258e  | 257/349 [01:31<00:14,  6.37it/s]"
                    ]
                },
                {
                    "name": "stdout",
                    "output_type": "stream",
                    "text": [
                        "Error processing /home/lippincm/4TB_A/NF1_2D_organoid_profiling_pipeline/data/SARCO361_T1/cellprofiler_middle_slice_output/F6-4/gff_extracted_features.sqlite: An existing file or directory was provided as dest_path: '/home/lippincm/4TB_A/NF1_2D_organoid_profiling_pipeline/data/SARCO361_T1/0.converted/middle_slice/F6-4_sc.parquet'. Please use a new path for this parameter.\n",
                        "Error processing /home/lippincm/4TB_A/NF1_2D_organoid_profiling_pipeline/data/SARCO361_T1/cellprofiler_middle_slice_output/F6-5/gff_extracted_features.sqlite: An existing file or directory was provided as dest_path: '/home/lippincm/4TB_A/NF1_2D_organoid_profiling_pipeline/data/SARCO361_T1/0.converted/middle_slice/F6-5_sc.parquet'. Please use a new path for this parameter.\n",
                        "Error processing /home/lippincm/4TB_A/NF1_2D_organoid_profiling_pipeline/data/SARCO361_T1/cellprofiler_middle_slice_output/F6-6/gff_extracted_features.sqlite: An existing file or directory was provided as dest_path: '/home/lippincm/4TB_A/NF1_2D_organoid_profiling_pipeline/data/SARCO361_T1/0.converted/middle_slice/F6-6_sc.parquet'. Please use a new path for this parameter.\n"
                    ]
                },
                {
                    "name": "stderr",
                    "output_type": "stream",
                    "text": [
                        " 74%|\u2588\u2588\u2588\u2588\u2588\u2588\u2588\u258d  | 258/349 [01:31<00:14,  6.25it/s]"
                    ]
                },
                {
                    "name": "stdout",
                    "output_type": "stream",
                    "text": [
                        "Error processing /home/lippincm/4TB_A/NF1_2D_organoid_profiling_pipeline/data/SARCO361_T1/cellprofiler_middle_slice_output/F6-7/gff_extracted_features.sqlite: An existing file or directory was provided as dest_path: '/home/lippincm/4TB_A/NF1_2D_organoid_profiling_pipeline/data/SARCO361_T1/0.converted/middle_slice/F6-7_sc.parquet'. Please use a new path for this parameter.\n"
                    ]
                },
                {
                    "name": "stderr",
                    "output_type": "stream",
                    "text": [
                        " 74%|\u2588\u2588\u2588\u2588\u2588\u2588\u2588\u258d  | 259/349 [01:32<00:20,  4.33it/s]"
                    ]
                },
                {
                    "name": "stdout",
                    "output_type": "stream",
                    "text": [
                        "Error processing /home/lippincm/4TB_A/NF1_2D_organoid_profiling_pipeline/data/SARCO361_T1/cellprofiler_middle_slice_output/F7-1/gff_extracted_features.sqlite: list index out of range\n"
                    ]
                },
                {
                    "name": "stderr",
                    "output_type": "stream",
                    "text": [
                        " 74%|\u2588\u2588\u2588\u2588\u2588\u2588\u2588\u258d  | 260/349 [01:32<00:19,  4.47it/s]"
                    ]
                },
                {
                    "name": "stdout",
                    "output_type": "stream",
                    "text": [
                        "Error processing /home/lippincm/4TB_A/NF1_2D_organoid_profiling_pipeline/data/SARCO361_T1/cellprofiler_middle_slice_output/F7-2/gff_extracted_features.sqlite: An existing file or directory was provided as dest_path: '/home/lippincm/4TB_A/NF1_2D_organoid_profiling_pipeline/data/SARCO361_T1/0.converted/middle_slice/F7-2_sc.parquet'. Please use a new path for this parameter.\n"
                    ]
                },
                {
                    "name": "stderr",
                    "output_type": "stream",
                    "text": [
                        " 75%|\u2588\u2588\u2588\u2588\u2588\u2588\u2588\u258d  | 261/349 [01:32<00:19,  4.56it/s]"
                    ]
                },
                {
                    "name": "stdout",
                    "output_type": "stream",
                    "text": [
                        "Error processing /home/lippincm/4TB_A/NF1_2D_organoid_profiling_pipeline/data/SARCO361_T1/cellprofiler_middle_slice_output/F7-3/gff_extracted_features.sqlite: An existing file or directory was provided as dest_path: '/home/lippincm/4TB_A/NF1_2D_organoid_profiling_pipeline/data/SARCO361_T1/0.converted/middle_slice/F7-3_sc.parquet'. Please use a new path for this parameter.\n"
                    ]
                },
                {
                    "name": "stderr",
                    "output_type": "stream",
                    "text": [
                        " 75%|\u2588\u2588\u2588\u2588\u2588\u2588\u2588\u258c  | 262/349 [01:33<00:25,  3.47it/s]"
                    ]
                },
                {
                    "name": "stdout",
                    "output_type": "stream",
                    "text": [
                        "Error processing /home/lippincm/4TB_A/NF1_2D_organoid_profiling_pipeline/data/SARCO361_T1/cellprofiler_middle_slice_output/F7-4/gff_extracted_features.sqlite: list index out of range\n"
                    ]
                },
                {
                    "name": "stderr",
                    "output_type": "stream",
                    "text": [
                        " 75%|\u2588\u2588\u2588\u2588\u2588\u2588\u2588\u258c  | 263/349 [01:33<00:34,  2.52it/s]"
                    ]
                },
                {
                    "name": "stdout",
                    "output_type": "stream",
                    "text": [
                        "Error processing /home/lippincm/4TB_A/NF1_2D_organoid_profiling_pipeline/data/SARCO361_T1/cellprofiler_middle_slice_output/F7-5/gff_extracted_features.sqlite: list index out of range\n"
                    ]
                },
                {
                    "name": "stderr",
                    "output_type": "stream",
                    "text": [
                        " 76%|\u2588\u2588\u2588\u2588\u2588\u2588\u2588\u258c  | 264/349 [01:34<00:33,  2.53it/s]"
                    ]
                },
                {
                    "name": "stdout",
                    "output_type": "stream",
                    "text": [
                        "Error processing /home/lippincm/4TB_A/NF1_2D_organoid_profiling_pipeline/data/SARCO361_T1/cellprofiler_middle_slice_output/F7-6/gff_extracted_features.sqlite: list index out of range\n"
                    ]
                },
                {
                    "name": "stderr",
                    "output_type": "stream",
                    "text": [
                        " 76%|\u2588\u2588\u2588\u2588\u2588\u2588\u2588\u258c  | 265/349 [01:34<00:32,  2.62it/s]"
                    ]
                },
                {
                    "name": "stdout",
                    "output_type": "stream",
                    "text": [
                        "Error processing /home/lippincm/4TB_A/NF1_2D_organoid_profiling_pipeline/data/SARCO361_T1/cellprofiler_middle_slice_output/F7-7/gff_extracted_features.sqlite: list index out of range\n"
                    ]
                },
                {
                    "name": "stderr",
                    "output_type": "stream",
                    "text": [
                        " 76%|\u2588\u2588\u2588\u2588\u2588\u2588\u2588\u258c  | 266/349 [01:34<00:33,  2.49it/s]"
                    ]
                },
                {
                    "name": "stdout",
                    "output_type": "stream",
                    "text": [
                        "Error processing /home/lippincm/4TB_A/NF1_2D_organoid_profiling_pipeline/data/SARCO361_T1/cellprofiler_middle_slice_output/F8-1/gff_extracted_features.sqlite: list index out of range\n",
                        "Error processing /home/lippincm/4TB_A/NF1_2D_organoid_profiling_pipeline/data/SARCO361_T1/cellprofiler_middle_slice_output/F8-2/gff_extracted_features.sqlite: An existing file or directory was provided as dest_path: '/home/lippincm/4TB_A/NF1_2D_organoid_profiling_pipeline/data/SARCO361_T1/0.converted/middle_slice/F8-2_sc.parquet'. Please use a new path for this parameter.\n"
                    ]
                },
                {
                    "name": "stderr",
                    "output_type": "stream",
                    "text": [
                        " 77%|\u2588\u2588\u2588\u2588\u2588\u2588\u2588\u258b  | 268/349 [01:35<00:27,  2.98it/s]"
                    ]
                },
                {
                    "name": "stdout",
                    "output_type": "stream",
                    "text": [
                        "Error processing /home/lippincm/4TB_A/NF1_2D_organoid_profiling_pipeline/data/SARCO361_T1/cellprofiler_middle_slice_output/F8-3/gff_extracted_features.sqlite: list index out of range\n"
                    ]
                },
                {
                    "name": "stderr",
                    "output_type": "stream",
                    "text": [
                        " 77%|\u2588\u2588\u2588\u2588\u2588\u2588\u2588\u258b  | 269/349 [01:35<00:24,  3.29it/s]"
                    ]
                },
                {
                    "name": "stdout",
                    "output_type": "stream",
                    "text": [
                        "Error processing /home/lippincm/4TB_A/NF1_2D_organoid_profiling_pipeline/data/SARCO361_T1/cellprofiler_middle_slice_output/F8-4/gff_extracted_features.sqlite: An existing file or directory was provided as dest_path: '/home/lippincm/4TB_A/NF1_2D_organoid_profiling_pipeline/data/SARCO361_T1/0.converted/middle_slice/F8-4_sc.parquet'. Please use a new path for this parameter.\n"
                    ]
                },
                {
                    "name": "stderr",
                    "output_type": "stream",
                    "text": [
                        " 78%|\u2588\u2588\u2588\u2588\u2588\u2588\u2588\u258a  | 272/349 [01:36<00:14,  5.25it/s]"
                    ]
                },
                {
                    "name": "stdout",
                    "output_type": "stream",
                    "text": [
                        "Error processing /home/lippincm/4TB_A/NF1_2D_organoid_profiling_pipeline/data/SARCO361_T1/cellprofiler_middle_slice_output/F8-5/gff_extracted_features.sqlite: An existing file or directory was provided as dest_path: '/home/lippincm/4TB_A/NF1_2D_organoid_profiling_pipeline/data/SARCO361_T1/0.converted/middle_slice/F8-5_sc.parquet'. Please use a new path for this parameter.\n",
                        "Error processing /home/lippincm/4TB_A/NF1_2D_organoid_profiling_pipeline/data/SARCO361_T1/cellprofiler_middle_slice_output/F8-6/gff_extracted_features.sqlite: An existing file or directory was provided as dest_path: '/home/lippincm/4TB_A/NF1_2D_organoid_profiling_pipeline/data/SARCO361_T1/0.converted/middle_slice/F8-6_sc.parquet'. Please use a new path for this parameter.\n",
                        "Error processing /home/lippincm/4TB_A/NF1_2D_organoid_profiling_pipeline/data/SARCO361_T1/cellprofiler_middle_slice_output/F8-7/gff_extracted_features.sqlite: An existing file or directory was provided as dest_path: '/home/lippincm/4TB_A/NF1_2D_organoid_profiling_pipeline/data/SARCO361_T1/0.converted/middle_slice/F8-7_sc.parquet'. Please use a new path for this parameter.\n"
                    ]
                },
                {
                    "name": "stderr",
                    "output_type": "stream",
                    "text": [
                        " 79%|\u2588\u2588\u2588\u2588\u2588\u2588\u2588\u258a  | 274/349 [01:36<00:14,  5.19it/s]"
                    ]
                },
                {
                    "name": "stdout",
                    "output_type": "stream",
                    "text": [
                        "Error processing /home/lippincm/4TB_A/NF1_2D_organoid_profiling_pipeline/data/SARCO361_T1/cellprofiler_middle_slice_output/F9-1/gff_extracted_features.sqlite: list index out of range\n",
                        "Error processing /home/lippincm/4TB_A/NF1_2D_organoid_profiling_pipeline/data/SARCO361_T1/cellprofiler_middle_slice_output/F9-2/gff_extracted_features.sqlite: An existing file or directory was provided as dest_path: '/home/lippincm/4TB_A/NF1_2D_organoid_profiling_pipeline/data/SARCO361_T1/0.converted/middle_slice/F9-2_sc.parquet'. Please use a new path for this parameter.\n",
                        "Error processing /home/lippincm/4TB_A/NF1_2D_organoid_profiling_pipeline/data/SARCO361_T1/cellprofiler_middle_slice_output/F9-3/gff_extracted_features.sqlite: An existing file or directory was provided as dest_path: '/home/lippincm/4TB_A/NF1_2D_organoid_profiling_pipeline/data/SARCO361_T1/0.converted/middle_slice/F9-3_sc.parquet'. Please use a new path for this parameter.\n"
                    ]
                },
                {
                    "name": "stderr",
                    "output_type": "stream",
                    "text": [
                        " 79%|\u2588\u2588\u2588\u2588\u2588\u2588\u2588\u2589  | 276/349 [01:36<00:12,  5.81it/s]"
                    ]
                },
                {
                    "name": "stdout",
                    "output_type": "stream",
                    "text": [
                        "Error processing /home/lippincm/4TB_A/NF1_2D_organoid_profiling_pipeline/data/SARCO361_T1/cellprofiler_middle_slice_output/F9-4/gff_extracted_features.sqlite: An existing file or directory was provided as dest_path: '/home/lippincm/4TB_A/NF1_2D_organoid_profiling_pipeline/data/SARCO361_T1/0.converted/middle_slice/F9-4_sc.parquet'. Please use a new path for this parameter.\n",
                        "Error processing /home/lippincm/4TB_A/NF1_2D_organoid_profiling_pipeline/data/SARCO361_T1/cellprofiler_middle_slice_output/F9-5/gff_extracted_features.sqlite: An existing file or directory was provided as dest_path: '/home/lippincm/4TB_A/NF1_2D_organoid_profiling_pipeline/data/SARCO361_T1/0.converted/middle_slice/F9-5_sc.parquet'. Please use a new path for this parameter.\n"
                    ]
                },
                {
                    "name": "stderr",
                    "output_type": "stream",
                    "text": [
                        " 80%|\u2588\u2588\u2588\u2588\u2588\u2588\u2588\u2589  | 278/349 [01:37<00:11,  6.00it/s]"
                    ]
                },
                {
                    "name": "stdout",
                    "output_type": "stream",
                    "text": [
                        "Error processing /home/lippincm/4TB_A/NF1_2D_organoid_profiling_pipeline/data/SARCO361_T1/cellprofiler_middle_slice_output/F9-6/gff_extracted_features.sqlite: An existing file or directory was provided as dest_path: '/home/lippincm/4TB_A/NF1_2D_organoid_profiling_pipeline/data/SARCO361_T1/0.converted/middle_slice/F9-6_sc.parquet'. Please use a new path for this parameter.\n",
                        "Error processing /home/lippincm/4TB_A/NF1_2D_organoid_profiling_pipeline/data/SARCO361_T1/cellprofiler_middle_slice_output/F9-7/gff_extracted_features.sqlite: An existing file or directory was provided as dest_path: '/home/lippincm/4TB_A/NF1_2D_organoid_profiling_pipeline/data/SARCO361_T1/0.converted/middle_slice/F9-7_sc.parquet'. Please use a new path for this parameter.\n"
                    ]
                },
                {
                    "name": "stderr",
                    "output_type": "stream",
                    "text": [
                        " 80%|\u2588\u2588\u2588\u2588\u2588\u2588\u2588\u2588  | 280/349 [01:37<00:10,  6.31it/s]"
                    ]
                },
                {
                    "name": "stdout",
                    "output_type": "stream",
                    "text": [
                        "Error processing /home/lippincm/4TB_A/NF1_2D_organoid_profiling_pipeline/data/SARCO361_T1/cellprofiler_middle_slice_output/G10-1/gff_extracted_features.sqlite: An existing file or directory was provided as dest_path: '/home/lippincm/4TB_A/NF1_2D_organoid_profiling_pipeline/data/SARCO361_T1/0.converted/middle_slice/G10-1_sc.parquet'. Please use a new path for this parameter.\n"
                    ]
                },
                {
                    "name": "stderr",
                    "output_type": "stream",
                    "text": [
                        " 81%|\u2588\u2588\u2588\u2588\u2588\u2588\u2588\u2588  | 281/349 [01:37<00:11,  5.92it/s]"
                    ]
                },
                {
                    "name": "stdout",
                    "output_type": "stream",
                    "text": [
                        "Error processing /home/lippincm/4TB_A/NF1_2D_organoid_profiling_pipeline/data/SARCO361_T1/cellprofiler_middle_slice_output/G10-2/gff_extracted_features.sqlite: An existing file or directory was provided as dest_path: '/home/lippincm/4TB_A/NF1_2D_organoid_profiling_pipeline/data/SARCO361_T1/0.converted/middle_slice/G10-2_sc.parquet'. Please use a new path for this parameter.\n"
                    ]
                },
                {
                    "name": "stderr",
                    "output_type": "stream",
                    "text": [
                        " 81%|\u2588\u2588\u2588\u2588\u2588\u2588\u2588\u2588\u258f | 284/349 [01:38<00:10,  6.37it/s]"
                    ]
                },
                {
                    "name": "stdout",
                    "output_type": "stream",
                    "text": [
                        "Error processing /home/lippincm/4TB_A/NF1_2D_organoid_profiling_pipeline/data/SARCO361_T1/cellprofiler_middle_slice_output/G10-3/gff_extracted_features.sqlite: list index out of range\n",
                        "Error processing /home/lippincm/4TB_A/NF1_2D_organoid_profiling_pipeline/data/SARCO361_T1/cellprofiler_middle_slice_output/G10-4/gff_extracted_features.sqlite: An existing file or directory was provided as dest_path: '/home/lippincm/4TB_A/NF1_2D_organoid_profiling_pipeline/data/SARCO361_T1/0.converted/middle_slice/G10-4_sc.parquet'. Please use a new path for this parameter.\n",
                        "Error processing /home/lippincm/4TB_A/NF1_2D_organoid_profiling_pipeline/data/SARCO361_T1/cellprofiler_middle_slice_output/G10-5/gff_extracted_features.sqlite: An existing file or directory was provided as dest_path: '/home/lippincm/4TB_A/NF1_2D_organoid_profiling_pipeline/data/SARCO361_T1/0.converted/middle_slice/G10-5_sc.parquet'. Please use a new path for this parameter.\n"
                    ]
                },
                {
                    "name": "stderr",
                    "output_type": "stream",
                    "text": [
                        " 82%|\u2588\u2588\u2588\u2588\u2588\u2588\u2588\u2588\u258f | 285/349 [01:38<00:13,  4.62it/s]"
                    ]
                },
                {
                    "name": "stdout",
                    "output_type": "stream",
                    "text": [
                        "Error processing /home/lippincm/4TB_A/NF1_2D_organoid_profiling_pipeline/data/SARCO361_T1/cellprofiler_middle_slice_output/G10-6/gff_extracted_features.sqlite: list index out of range\n",
                        "Error processing /home/lippincm/4TB_A/NF1_2D_organoid_profiling_pipeline/data/SARCO361_T1/cellprofiler_middle_slice_output/G10-7/gff_extracted_features.sqlite: An existing file or directory was provided as dest_path: '/home/lippincm/4TB_A/NF1_2D_organoid_profiling_pipeline/data/SARCO361_T1/0.converted/middle_slice/G10-7_sc.parquet'. Please use a new path for this parameter.\n"
                    ]
                },
                {
                    "name": "stderr",
                    "output_type": "stream",
                    "text": [
                        " 82%|\u2588\u2588\u2588\u2588\u2588\u2588\u2588\u2588\u258f | 287/349 [01:38<00:11,  5.42it/s]"
                    ]
                },
                {
                    "name": "stdout",
                    "output_type": "stream",
                    "text": [
                        "Error processing /home/lippincm/4TB_A/NF1_2D_organoid_profiling_pipeline/data/SARCO361_T1/cellprofiler_middle_slice_output/G11-1/gff_extracted_features.sqlite: An existing file or directory was provided as dest_path: '/home/lippincm/4TB_A/NF1_2D_organoid_profiling_pipeline/data/SARCO361_T1/0.converted/middle_slice/G11-1_sc.parquet'. Please use a new path for this parameter.\n"
                    ]
                },
                {
                    "name": "stderr",
                    "output_type": "stream",
                    "text": [
                        " 83%|\u2588\u2588\u2588\u2588\u2588\u2588\u2588\u2588\u258e | 288/349 [01:39<00:14,  4.08it/s]"
                    ]
                },
                {
                    "name": "stdout",
                    "output_type": "stream",
                    "text": [
                        "Error processing /home/lippincm/4TB_A/NF1_2D_organoid_profiling_pipeline/data/SARCO361_T1/cellprofiler_middle_slice_output/G11-2/gff_extracted_features.sqlite: list index out of range\n"
                    ]
                },
                {
                    "name": "stderr",
                    "output_type": "stream",
                    "text": [
                        " 83%|\u2588\u2588\u2588\u2588\u2588\u2588\u2588\u2588\u258e | 289/349 [01:39<00:18,  3.26it/s]"
                    ]
                },
                {
                    "name": "stdout",
                    "output_type": "stream",
                    "text": [
                        "Error processing /home/lippincm/4TB_A/NF1_2D_organoid_profiling_pipeline/data/SARCO361_T1/cellprofiler_middle_slice_output/G11-3/gff_extracted_features.sqlite: list index out of range\n"
                    ]
                },
                {
                    "name": "stderr",
                    "output_type": "stream",
                    "text": [
                        " 83%|\u2588\u2588\u2588\u2588\u2588\u2588\u2588\u2588\u258e | 290/349 [01:40<00:20,  2.91it/s]"
                    ]
                },
                {
                    "name": "stdout",
                    "output_type": "stream",
                    "text": [
                        "Error processing /home/lippincm/4TB_A/NF1_2D_organoid_profiling_pipeline/data/SARCO361_T1/cellprofiler_middle_slice_output/G11-4/gff_extracted_features.sqlite: list index out of range\n"
                    ]
                },
                {
                    "name": "stderr",
                    "output_type": "stream",
                    "text": [
                        " 83%|\u2588\u2588\u2588\u2588\u2588\u2588\u2588\u2588\u258e | 291/349 [01:40<00:19,  3.03it/s]"
                    ]
                },
                {
                    "name": "stdout",
                    "output_type": "stream",
                    "text": [
                        "Error processing /home/lippincm/4TB_A/NF1_2D_organoid_profiling_pipeline/data/SARCO361_T1/cellprofiler_middle_slice_output/G11-5/gff_extracted_features.sqlite: list index out of range\n"
                    ]
                },
                {
                    "name": "stderr",
                    "output_type": "stream",
                    "text": [
                        " 84%|\u2588\u2588\u2588\u2588\u2588\u2588\u2588\u2588\u258e | 292/349 [01:40<00:21,  2.69it/s]"
                    ]
                },
                {
                    "name": "stdout",
                    "output_type": "stream",
                    "text": [
                        "Error processing /home/lippincm/4TB_A/NF1_2D_organoid_profiling_pipeline/data/SARCO361_T1/cellprofiler_middle_slice_output/G11-6/gff_extracted_features.sqlite: list index out of range\n"
                    ]
                },
                {
                    "name": "stderr",
                    "output_type": "stream",
                    "text": [
                        " 84%|\u2588\u2588\u2588\u2588\u2588\u2588\u2588\u2588\u258d | 293/349 [01:41<00:19,  2.83it/s]"
                    ]
                },
                {
                    "name": "stdout",
                    "output_type": "stream",
                    "text": [
                        "Error processing /home/lippincm/4TB_A/NF1_2D_organoid_profiling_pipeline/data/SARCO361_T1/cellprofiler_middle_slice_output/G11-7/gff_extracted_features.sqlite: list index out of range\n"
                    ]
                },
                {
                    "name": "stderr",
                    "output_type": "stream",
                    "text": [
                        " 84%|\u2588\u2588\u2588\u2588\u2588\u2588\u2588\u2588\u258d | 294/349 [01:41<00:21,  2.60it/s]"
                    ]
                },
                {
                    "name": "stdout",
                    "output_type": "stream",
                    "text": [
                        "Error processing /home/lippincm/4TB_A/NF1_2D_organoid_profiling_pipeline/data/SARCO361_T1/cellprofiler_middle_slice_output/G2-1/gff_extracted_features.sqlite: list index out of range\n"
                    ]
                },
                {
                    "name": "stderr",
                    "output_type": "stream",
                    "text": [
                        " 85%|\u2588\u2588\u2588\u2588\u2588\u2588\u2588\u2588\u258d | 295/349 [01:42<00:19,  2.74it/s]"
                    ]
                },
                {
                    "name": "stdout",
                    "output_type": "stream",
                    "text": [
                        "Error processing /home/lippincm/4TB_A/NF1_2D_organoid_profiling_pipeline/data/SARCO361_T1/cellprofiler_middle_slice_output/G2-2/gff_extracted_features.sqlite: list index out of range\n"
                    ]
                },
                {
                    "name": "stderr",
                    "output_type": "stream",
                    "text": [
                        " 85%|\u2588\u2588\u2588\u2588\u2588\u2588\u2588\u2588\u258d | 296/349 [01:42<00:20,  2.56it/s]"
                    ]
                },
                {
                    "name": "stdout",
                    "output_type": "stream",
                    "text": [
                        "Error processing /home/lippincm/4TB_A/NF1_2D_organoid_profiling_pipeline/data/SARCO361_T1/cellprofiler_middle_slice_output/G2-3/gff_extracted_features.sqlite: list index out of range\n"
                    ]
                },
                {
                    "name": "stderr",
                    "output_type": "stream",
                    "text": [
                        " 85%|\u2588\u2588\u2588\u2588\u2588\u2588\u2588\u2588\u258c | 297/349 [01:42<00:19,  2.70it/s]"
                    ]
                },
                {
                    "name": "stdout",
                    "output_type": "stream",
                    "text": [
                        "Error processing /home/lippincm/4TB_A/NF1_2D_organoid_profiling_pipeline/data/SARCO361_T1/cellprofiler_middle_slice_output/G2-4/gff_extracted_features.sqlite: list index out of range\n"
                    ]
                },
                {
                    "name": "stderr",
                    "output_type": "stream",
                    "text": [
                        " 85%|\u2588\u2588\u2588\u2588\u2588\u2588\u2588\u2588\u258c | 298/349 [01:43<00:19,  2.56it/s]"
                    ]
                },
                {
                    "name": "stdout",
                    "output_type": "stream",
                    "text": [
                        "Error processing /home/lippincm/4TB_A/NF1_2D_organoid_profiling_pipeline/data/SARCO361_T1/cellprofiler_middle_slice_output/G2-5/gff_extracted_features.sqlite: list index out of range\n"
                    ]
                },
                {
                    "name": "stderr",
                    "output_type": "stream",
                    "text": [
                        " 86%|\u2588\u2588\u2588\u2588\u2588\u2588\u2588\u2588\u258c | 299/349 [01:43<00:18,  2.71it/s]"
                    ]
                },
                {
                    "name": "stdout",
                    "output_type": "stream",
                    "text": [
                        "Error processing /home/lippincm/4TB_A/NF1_2D_organoid_profiling_pipeline/data/SARCO361_T1/cellprofiler_middle_slice_output/G2-6/gff_extracted_features.sqlite: list index out of range\n"
                    ]
                },
                {
                    "name": "stderr",
                    "output_type": "stream",
                    "text": [
                        " 87%|\u2588\u2588\u2588\u2588\u2588\u2588\u2588\u2588\u258b | 302/349 [01:44<00:10,  4.30it/s]"
                    ]
                },
                {
                    "name": "stdout",
                    "output_type": "stream",
                    "text": [
                        "Error processing /home/lippincm/4TB_A/NF1_2D_organoid_profiling_pipeline/data/SARCO361_T1/cellprofiler_middle_slice_output/G2-7/gff_extracted_features.sqlite: list index out of range\n",
                        "Error processing /home/lippincm/4TB_A/NF1_2D_organoid_profiling_pipeline/data/SARCO361_T1/cellprofiler_middle_slice_output/G3-1/gff_extracted_features.sqlite: An existing file or directory was provided as dest_path: '/home/lippincm/4TB_A/NF1_2D_organoid_profiling_pipeline/data/SARCO361_T1/0.converted/middle_slice/G3-1_sc.parquet'. Please use a new path for this parameter.\n",
                        "Error processing /home/lippincm/4TB_A/NF1_2D_organoid_profiling_pipeline/data/SARCO361_T1/cellprofiler_middle_slice_output/G3-2/gff_extracted_features.sqlite: An existing file or directory was provided as dest_path: '/home/lippincm/4TB_A/NF1_2D_organoid_profiling_pipeline/data/SARCO361_T1/0.converted/middle_slice/G3-2_sc.parquet'. Please use a new path for this parameter.\n"
                    ]
                },
                {
                    "name": "stderr",
                    "output_type": "stream",
                    "text": [
                        " 87%|\u2588\u2588\u2588\u2588\u2588\u2588\u2588\u2588\u258b | 303/349 [01:44<00:10,  4.47it/s]"
                    ]
                },
                {
                    "name": "stdout",
                    "output_type": "stream",
                    "text": [
                        "Error processing /home/lippincm/4TB_A/NF1_2D_organoid_profiling_pipeline/data/SARCO361_T1/cellprofiler_middle_slice_output/G3-3/gff_extracted_features.sqlite: An existing file or directory was provided as dest_path: '/home/lippincm/4TB_A/NF1_2D_organoid_profiling_pipeline/data/SARCO361_T1/0.converted/middle_slice/G3-3_sc.parquet'. Please use a new path for this parameter.\n"
                    ]
                },
                {
                    "name": "stderr",
                    "output_type": "stream",
                    "text": [
                        " 87%|\u2588\u2588\u2588\u2588\u2588\u2588\u2588\u2588\u258b | 304/349 [01:44<00:10,  4.49it/s]"
                    ]
                },
                {
                    "name": "stdout",
                    "output_type": "stream",
                    "text": [
                        "Error processing /home/lippincm/4TB_A/NF1_2D_organoid_profiling_pipeline/data/SARCO361_T1/cellprofiler_middle_slice_output/G3-4/gff_extracted_features.sqlite: An existing file or directory was provided as dest_path: '/home/lippincm/4TB_A/NF1_2D_organoid_profiling_pipeline/data/SARCO361_T1/0.converted/middle_slice/G3-4_sc.parquet'. Please use a new path for this parameter.\n",
                        "Error processing /home/lippincm/4TB_A/NF1_2D_organoid_profiling_pipeline/data/SARCO361_T1/cellprofiler_middle_slice_output/G3-5/gff_extracted_features.sqlite: An existing file or directory was provided as dest_path: '/home/lippincm/4TB_A/NF1_2D_organoid_profiling_pipeline/data/SARCO361_T1/0.converted/middle_slice/G3-5_sc.parquet'. Please use a new path for this parameter.\n"
                    ]
                },
                {
                    "name": "stderr",
                    "output_type": "stream",
                    "text": [
                        " 88%|\u2588\u2588\u2588\u2588\u2588\u2588\u2588\u2588\u258a | 306/349 [01:44<00:07,  5.43it/s]"
                    ]
                },
                {
                    "name": "stdout",
                    "output_type": "stream",
                    "text": [
                        "Error processing /home/lippincm/4TB_A/NF1_2D_organoid_profiling_pipeline/data/SARCO361_T1/cellprofiler_middle_slice_output/G3-6/gff_extracted_features.sqlite: An existing file or directory was provided as dest_path: '/home/lippincm/4TB_A/NF1_2D_organoid_profiling_pipeline/data/SARCO361_T1/0.converted/middle_slice/G3-6_sc.parquet'. Please use a new path for this parameter.\n"
                    ]
                },
                {
                    "name": "stderr",
                    "output_type": "stream",
                    "text": [
                        " 88%|\u2588\u2588\u2588\u2588\u2588\u2588\u2588\u2588\u258a | 307/349 [01:45<00:08,  5.22it/s]"
                    ]
                },
                {
                    "name": "stdout",
                    "output_type": "stream",
                    "text": [
                        "Error processing /home/lippincm/4TB_A/NF1_2D_organoid_profiling_pipeline/data/SARCO361_T1/cellprofiler_middle_slice_output/G3-7/gff_extracted_features.sqlite: An existing file or directory was provided as dest_path: '/home/lippincm/4TB_A/NF1_2D_organoid_profiling_pipeline/data/SARCO361_T1/0.converted/middle_slice/G3-7_sc.parquet'. Please use a new path for this parameter.\n"
                    ]
                },
                {
                    "name": "stderr",
                    "output_type": "stream",
                    "text": [
                        " 88%|\u2588\u2588\u2588\u2588\u2588\u2588\u2588\u2588\u258a | 308/349 [01:45<00:09,  4.47it/s]"
                    ]
                },
                {
                    "name": "stdout",
                    "output_type": "stream",
                    "text": [
                        "Error processing /home/lippincm/4TB_A/NF1_2D_organoid_profiling_pipeline/data/SARCO361_T1/cellprofiler_middle_slice_output/G4-1/gff_extracted_features.sqlite: list index out of range\n",
                        "Error processing /home/lippincm/4TB_A/NF1_2D_organoid_profiling_pipeline/data/SARCO361_T1/cellprofiler_middle_slice_output/G4-2/gff_extracted_features.sqlite: An existing file or directory was provided as dest_path: '/home/lippincm/4TB_A/NF1_2D_organoid_profiling_pipeline/data/SARCO361_T1/0.converted/middle_slice/G4-2_sc.parquet'. Please use a new path for this parameter.\n"
                    ]
                },
                {
                    "name": "stderr",
                    "output_type": "stream",
                    "text": [
                        " 89%|\u2588\u2588\u2588\u2588\u2588\u2588\u2588\u2588\u2589 | 310/349 [01:45<00:08,  4.66it/s]"
                    ]
                },
                {
                    "name": "stdout",
                    "output_type": "stream",
                    "text": [
                        "Error processing /home/lippincm/4TB_A/NF1_2D_organoid_profiling_pipeline/data/SARCO361_T1/cellprofiler_middle_slice_output/G4-3/gff_extracted_features.sqlite: list index out of range\n"
                    ]
                },
                {
                    "name": "stderr",
                    "output_type": "stream",
                    "text": [
                        " 89%|\u2588\u2588\u2588\u2588\u2588\u2588\u2588\u2588\u2589 | 311/349 [01:46<00:09,  4.20it/s]"
                    ]
                },
                {
                    "name": "stdout",
                    "output_type": "stream",
                    "text": [
                        "Error processing /home/lippincm/4TB_A/NF1_2D_organoid_profiling_pipeline/data/SARCO361_T1/cellprofiler_middle_slice_output/G4-4/gff_extracted_features.sqlite: list index out of range\n",
                        "Error processing /home/lippincm/4TB_A/NF1_2D_organoid_profiling_pipeline/data/SARCO361_T1/cellprofiler_middle_slice_output/G4-5/gff_extracted_features.sqlite: An existing file or directory was provided as dest_path: '/home/lippincm/4TB_A/NF1_2D_organoid_profiling_pipeline/data/SARCO361_T1/0.converted/middle_slice/G4-5_sc.parquet'. Please use a new path for this parameter.\n"
                    ]
                },
                {
                    "name": "stderr",
                    "output_type": "stream",
                    "text": [
                        " 90%|\u2588\u2588\u2588\u2588\u2588\u2588\u2588\u2588\u2589 | 313/349 [01:46<00:07,  5.02it/s]"
                    ]
                },
                {
                    "name": "stdout",
                    "output_type": "stream",
                    "text": [
                        "Error processing /home/lippincm/4TB_A/NF1_2D_organoid_profiling_pipeline/data/SARCO361_T1/cellprofiler_middle_slice_output/G4-6/gff_extracted_features.sqlite: An existing file or directory was provided as dest_path: '/home/lippincm/4TB_A/NF1_2D_organoid_profiling_pipeline/data/SARCO361_T1/0.converted/middle_slice/G4-6_sc.parquet'. Please use a new path for this parameter.\n"
                    ]
                },
                {
                    "name": "stderr",
                    "output_type": "stream",
                    "text": [
                        " 91%|\u2588\u2588\u2588\u2588\u2588\u2588\u2588\u2588\u2588 | 316/349 [01:46<00:06,  5.44it/s]"
                    ]
                },
                {
                    "name": "stdout",
                    "output_type": "stream",
                    "text": [
                        "Error processing /home/lippincm/4TB_A/NF1_2D_organoid_profiling_pipeline/data/SARCO361_T1/cellprofiler_middle_slice_output/G4-7/gff_extracted_features.sqlite: list index out of range\n",
                        "Error processing /home/lippincm/4TB_A/NF1_2D_organoid_profiling_pipeline/data/SARCO361_T1/cellprofiler_middle_slice_output/G5-1/gff_extracted_features.sqlite: An existing file or directory was provided as dest_path: '/home/lippincm/4TB_A/NF1_2D_organoid_profiling_pipeline/data/SARCO361_T1/0.converted/middle_slice/G5-1_sc.parquet'. Please use a new path for this parameter.\n",
                        "Error processing /home/lippincm/4TB_A/NF1_2D_organoid_profiling_pipeline/data/SARCO361_T1/cellprofiler_middle_slice_output/G5-2/gff_extracted_features.sqlite: An existing file or directory was provided as dest_path: '/home/lippincm/4TB_A/NF1_2D_organoid_profiling_pipeline/data/SARCO361_T1/0.converted/middle_slice/G5-2_sc.parquet'. Please use a new path for this parameter.\n"
                    ]
                },
                {
                    "name": "stderr",
                    "output_type": "stream",
                    "text": [
                        " 91%|\u2588\u2588\u2588\u2588\u2588\u2588\u2588\u2588\u2588 | 318/349 [01:47<00:06,  4.57it/s]"
                    ]
                },
                {
                    "name": "stdout",
                    "output_type": "stream",
                    "text": [
                        "Error processing /home/lippincm/4TB_A/NF1_2D_organoid_profiling_pipeline/data/SARCO361_T1/cellprofiler_middle_slice_output/G5-3/gff_extracted_features.sqlite: list index out of range\n",
                        "Error processing /home/lippincm/4TB_A/NF1_2D_organoid_profiling_pipeline/data/SARCO361_T1/cellprofiler_middle_slice_output/G5-4/gff_extracted_features.sqlite: An existing file or directory was provided as dest_path: '/home/lippincm/4TB_A/NF1_2D_organoid_profiling_pipeline/data/SARCO361_T1/0.converted/middle_slice/G5-4_sc.parquet'. Please use a new path for this parameter.\n"
                    ]
                },
                {
                    "name": "stderr",
                    "output_type": "stream",
                    "text": [
                        " 91%|\u2588\u2588\u2588\u2588\u2588\u2588\u2588\u2588\u2588\u258f| 319/349 [01:47<00:06,  4.70it/s]"
                    ]
                },
                {
                    "name": "stdout",
                    "output_type": "stream",
                    "text": [
                        "Error processing /home/lippincm/4TB_A/NF1_2D_organoid_profiling_pipeline/data/SARCO361_T1/cellprofiler_middle_slice_output/G5-5/gff_extracted_features.sqlite: An existing file or directory was provided as dest_path: '/home/lippincm/4TB_A/NF1_2D_organoid_profiling_pipeline/data/SARCO361_T1/0.converted/middle_slice/G5-5_sc.parquet'. Please use a new path for this parameter.\n"
                    ]
                },
                {
                    "name": "stderr",
                    "output_type": "stream",
                    "text": [
                        " 92%|\u2588\u2588\u2588\u2588\u2588\u2588\u2588\u2588\u2588\u258f| 320/349 [01:47<00:06,  4.71it/s]"
                    ]
                },
                {
                    "name": "stdout",
                    "output_type": "stream",
                    "text": [
                        "Error processing /home/lippincm/4TB_A/NF1_2D_organoid_profiling_pipeline/data/SARCO361_T1/cellprofiler_middle_slice_output/G5-6/gff_extracted_features.sqlite: An existing file or directory was provided as dest_path: '/home/lippincm/4TB_A/NF1_2D_organoid_profiling_pipeline/data/SARCO361_T1/0.converted/middle_slice/G5-6_sc.parquet'. Please use a new path for this parameter.\n"
                    ]
                },
                {
                    "name": "stderr",
                    "output_type": "stream",
                    "text": [
                        " 93%|\u2588\u2588\u2588\u2588\u2588\u2588\u2588\u2588\u2588\u258e| 323/349 [01:48<00:03,  6.52it/s]"
                    ]
                },
                {
                    "name": "stdout",
                    "output_type": "stream",
                    "text": [
                        "Error processing /home/lippincm/4TB_A/NF1_2D_organoid_profiling_pipeline/data/SARCO361_T1/cellprofiler_middle_slice_output/G5-7/gff_extracted_features.sqlite: An existing file or directory was provided as dest_path: '/home/lippincm/4TB_A/NF1_2D_organoid_profiling_pipeline/data/SARCO361_T1/0.converted/middle_slice/G5-7_sc.parquet'. Please use a new path for this parameter.\n",
                        "Error processing /home/lippincm/4TB_A/NF1_2D_organoid_profiling_pipeline/data/SARCO361_T1/cellprofiler_middle_slice_output/G6-1/gff_extracted_features.sqlite: An existing file or directory was provided as dest_path: '/home/lippincm/4TB_A/NF1_2D_organoid_profiling_pipeline/data/SARCO361_T1/0.converted/middle_slice/G6-1_sc.parquet'. Please use a new path for this parameter.\n",
                        "Error processing /home/lippincm/4TB_A/NF1_2D_organoid_profiling_pipeline/data/SARCO361_T1/cellprofiler_middle_slice_output/G6-2/gff_extracted_features.sqlite: An existing file or directory was provided as dest_path: '/home/lippincm/4TB_A/NF1_2D_organoid_profiling_pipeline/data/SARCO361_T1/0.converted/middle_slice/G6-2_sc.parquet'. Please use a new path for this parameter.\n"
                    ]
                },
                {
                    "name": "stderr",
                    "output_type": "stream",
                    "text": [
                        " 93%|\u2588\u2588\u2588\u2588\u2588\u2588\u2588\u2588\u2588\u258e| 324/349 [01:48<00:04,  5.99it/s]"
                    ]
                },
                {
                    "name": "stdout",
                    "output_type": "stream",
                    "text": [
                        "Error processing /home/lippincm/4TB_A/NF1_2D_organoid_profiling_pipeline/data/SARCO361_T1/cellprofiler_middle_slice_output/G6-3/gff_extracted_features.sqlite: An existing file or directory was provided as dest_path: '/home/lippincm/4TB_A/NF1_2D_organoid_profiling_pipeline/data/SARCO361_T1/0.converted/middle_slice/G6-3_sc.parquet'. Please use a new path for this parameter.\n"
                    ]
                },
                {
                    "name": "stderr",
                    "output_type": "stream",
                    "text": [
                        " 93%|\u2588\u2588\u2588\u2588\u2588\u2588\u2588\u2588\u2588\u258e| 325/349 [01:48<00:05,  4.22it/s]"
                    ]
                },
                {
                    "name": "stdout",
                    "output_type": "stream",
                    "text": [
                        "Error processing /home/lippincm/4TB_A/NF1_2D_organoid_profiling_pipeline/data/SARCO361_T1/cellprofiler_middle_slice_output/G6-4/gff_extracted_features.sqlite: list index out of range\n"
                    ]
                },
                {
                    "name": "stderr",
                    "output_type": "stream",
                    "text": [
                        " 94%|\u2588\u2588\u2588\u2588\u2588\u2588\u2588\u2588\u2588\u258e| 327/349 [01:49<00:05,  3.98it/s]"
                    ]
                },
                {
                    "name": "stdout",
                    "output_type": "stream",
                    "text": [
                        "Error processing /home/lippincm/4TB_A/NF1_2D_organoid_profiling_pipeline/data/SARCO361_T1/cellprofiler_middle_slice_output/G6-5/gff_extracted_features.sqlite: list index out of range\n",
                        "Error processing /home/lippincm/4TB_A/NF1_2D_organoid_profiling_pipeline/data/SARCO361_T1/cellprofiler_middle_slice_output/G6-6/gff_extracted_features.sqlite: An existing file or directory was provided as dest_path: '/home/lippincm/4TB_A/NF1_2D_organoid_profiling_pipeline/data/SARCO361_T1/0.converted/middle_slice/G6-6_sc.parquet'. Please use a new path for this parameter.\n",
                        "Error processing /home/lippincm/4TB_A/NF1_2D_organoid_profiling_pipeline/data/SARCO361_T1/cellprofiler_middle_slice_output/G6-7/gff_extracted_features.sqlite: An existing file or directory was provided as dest_path: '/home/lippincm/4TB_A/NF1_2D_organoid_profiling_pipeline/data/SARCO361_T1/0.converted/middle_slice/G6-7_sc.parquet'. Please use a new path for this parameter.\n"
                    ]
                },
                {
                    "name": "stderr",
                    "output_type": "stream",
                    "text": [
                        " 94%|\u2588\u2588\u2588\u2588\u2588\u2588\u2588\u2588\u2588\u258d| 329/349 [01:49<00:04,  5.00it/s]"
                    ]
                },
                {
                    "name": "stdout",
                    "output_type": "stream",
                    "text": [
                        "Error processing /home/lippincm/4TB_A/NF1_2D_organoid_profiling_pipeline/data/SARCO361_T1/cellprofiler_middle_slice_output/G7-1/gff_extracted_features.sqlite: An existing file or directory was provided as dest_path: '/home/lippincm/4TB_A/NF1_2D_organoid_profiling_pipeline/data/SARCO361_T1/0.converted/middle_slice/G7-1_sc.parquet'. Please use a new path for this parameter.\n"
                    ]
                },
                {
                    "name": "stderr",
                    "output_type": "stream",
                    "text": [
                        " 95%|\u2588\u2588\u2588\u2588\u2588\u2588\u2588\u2588\u2588\u258d| 330/349 [01:50<00:04,  4.36it/s]"
                    ]
                },
                {
                    "name": "stdout",
                    "output_type": "stream",
                    "text": [
                        "Error processing /home/lippincm/4TB_A/NF1_2D_organoid_profiling_pipeline/data/SARCO361_T1/cellprofiler_middle_slice_output/G7-2/gff_extracted_features.sqlite: list index out of range\n"
                    ]
                },
                {
                    "name": "stderr",
                    "output_type": "stream",
                    "text": [
                        " 95%|\u2588\u2588\u2588\u2588\u2588\u2588\u2588\u2588\u2588\u258d| 331/349 [01:50<00:04,  3.93it/s]"
                    ]
                },
                {
                    "name": "stdout",
                    "output_type": "stream",
                    "text": [
                        "Error processing /home/lippincm/4TB_A/NF1_2D_organoid_profiling_pipeline/data/SARCO361_T1/cellprofiler_middle_slice_output/G7-3/gff_extracted_features.sqlite: An existing file or directory was provided as dest_path: '/home/lippincm/4TB_A/NF1_2D_organoid_profiling_pipeline/data/SARCO361_T1/0.converted/middle_slice/G7-3_sc.parquet'. Please use a new path for this parameter.\n",
                        "Error processing /home/lippincm/4TB_A/NF1_2D_organoid_profiling_pipeline/data/SARCO361_T1/cellprofiler_middle_slice_output/G7-4/gff_extracted_features.sqlite: An existing file or directory was provided as dest_path: '/home/lippincm/4TB_A/NF1_2D_organoid_profiling_pipeline/data/SARCO361_T1/0.converted/middle_slice/G7-4_sc.parquet'. Please use a new path for this parameter.\n"
                    ]
                },
                {
                    "name": "stderr",
                    "output_type": "stream",
                    "text": [
                        " 95%|\u2588\u2588\u2588\u2588\u2588\u2588\u2588\u2588\u2588\u258c| 333/349 [01:50<00:03,  4.82it/s]"
                    ]
                },
                {
                    "name": "stdout",
                    "output_type": "stream",
                    "text": [
                        "Error processing /home/lippincm/4TB_A/NF1_2D_organoid_profiling_pipeline/data/SARCO361_T1/cellprofiler_middle_slice_output/G7-5/gff_extracted_features.sqlite: An existing file or directory was provided as dest_path: '/home/lippincm/4TB_A/NF1_2D_organoid_profiling_pipeline/data/SARCO361_T1/0.converted/middle_slice/G7-5_sc.parquet'. Please use a new path for this parameter.\n"
                    ]
                },
                {
                    "name": "stderr",
                    "output_type": "stream",
                    "text": [
                        " 96%|\u2588\u2588\u2588\u2588\u2588\u2588\u2588\u2588\u2588\u258c| 334/349 [01:51<00:03,  3.83it/s]"
                    ]
                },
                {
                    "name": "stdout",
                    "output_type": "stream",
                    "text": [
                        "Error processing /home/lippincm/4TB_A/NF1_2D_organoid_profiling_pipeline/data/SARCO361_T1/cellprofiler_middle_slice_output/G7-6/gff_extracted_features.sqlite: list index out of range\n"
                    ]
                },
                {
                    "name": "stderr",
                    "output_type": "stream",
                    "text": [
                        " 97%|\u2588\u2588\u2588\u2588\u2588\u2588\u2588\u2588\u2588\u258b| 337/349 [01:51<00:02,  5.76it/s]"
                    ]
                },
                {
                    "name": "stdout",
                    "output_type": "stream",
                    "text": [
                        "Error processing /home/lippincm/4TB_A/NF1_2D_organoid_profiling_pipeline/data/SARCO361_T1/cellprofiler_middle_slice_output/G7-7/gff_extracted_features.sqlite: An existing file or directory was provided as dest_path: '/home/lippincm/4TB_A/NF1_2D_organoid_profiling_pipeline/data/SARCO361_T1/0.converted/middle_slice/G7-7_sc.parquet'. Please use a new path for this parameter.\n",
                        "Error processing /home/lippincm/4TB_A/NF1_2D_organoid_profiling_pipeline/data/SARCO361_T1/cellprofiler_middle_slice_output/G8-1/gff_extracted_features.sqlite: An existing file or directory was provided as dest_path: '/home/lippincm/4TB_A/NF1_2D_organoid_profiling_pipeline/data/SARCO361_T1/0.converted/middle_slice/G8-1_sc.parquet'. Please use a new path for this parameter.\n",
                        "Error processing /home/lippincm/4TB_A/NF1_2D_organoid_profiling_pipeline/data/SARCO361_T1/cellprofiler_middle_slice_output/G8-2/gff_extracted_features.sqlite: An existing file or directory was provided as dest_path: '/home/lippincm/4TB_A/NF1_2D_organoid_profiling_pipeline/data/SARCO361_T1/0.converted/middle_slice/G8-2_sc.parquet'. Please use a new path for this parameter.\n",
                        "Error processing /home/lippincm/4TB_A/NF1_2D_organoid_profiling_pipeline/data/SARCO361_T1/cellprofiler_middle_slice_output/G8-3/gff_extracted_features.sqlite: An existing file or directory was provided as dest_path: '/home/lippincm/4TB_A/NF1_2D_organoid_profiling_pipeline/data/SARCO361_T1/0.converted/middle_slice/G8-3_sc.parquet'. Please use a new path for this parameter.\n"
                    ]
                },
                {
                    "name": "stderr",
                    "output_type": "stream",
                    "text": [
                        " 97%|\u2588\u2588\u2588\u2588\u2588\u2588\u2588\u2588\u2588\u258b| 339/349 [01:51<00:01,  6.06it/s]"
                    ]
                },
                {
                    "name": "stdout",
                    "output_type": "stream",
                    "text": [
                        "Error processing /home/lippincm/4TB_A/NF1_2D_organoid_profiling_pipeline/data/SARCO361_T1/cellprofiler_middle_slice_output/G8-4/gff_extracted_features.sqlite: An existing file or directory was provided as dest_path: '/home/lippincm/4TB_A/NF1_2D_organoid_profiling_pipeline/data/SARCO361_T1/0.converted/middle_slice/G8-4_sc.parquet'. Please use a new path for this parameter.\n"
                    ]
                },
                {
                    "name": "stderr",
                    "output_type": "stream",
                    "text": [
                        " 97%|\u2588\u2588\u2588\u2588\u2588\u2588\u2588\u2588\u2588\u258b| 340/349 [01:52<00:02,  4.41it/s]"
                    ]
                },
                {
                    "name": "stdout",
                    "output_type": "stream",
                    "text": [
                        "Error processing /home/lippincm/4TB_A/NF1_2D_organoid_profiling_pipeline/data/SARCO361_T1/cellprofiler_middle_slice_output/G8-5/gff_extracted_features.sqlite: list index out of range\n"
                    ]
                },
                {
                    "name": "stderr",
                    "output_type": "stream",
                    "text": [
                        " 98%|\u2588\u2588\u2588\u2588\u2588\u2588\u2588\u2588\u2588\u258a| 341/349 [01:52<00:01,  4.44it/s]"
                    ]
                },
                {
                    "name": "stdout",
                    "output_type": "stream",
                    "text": [
                        "Error processing /home/lippincm/4TB_A/NF1_2D_organoid_profiling_pipeline/data/SARCO361_T1/cellprofiler_middle_slice_output/G8-6/gff_extracted_features.sqlite: An existing file or directory was provided as dest_path: '/home/lippincm/4TB_A/NF1_2D_organoid_profiling_pipeline/data/SARCO361_T1/0.converted/middle_slice/G8-6_sc.parquet'. Please use a new path for this parameter.\n"
                    ]
                },
                {
                    "name": "stderr",
                    "output_type": "stream",
                    "text": [
                        " 98%|\u2588\u2588\u2588\u2588\u2588\u2588\u2588\u2588\u2588\u258a| 342/349 [01:52<00:01,  4.49it/s]"
                    ]
                },
                {
                    "name": "stdout",
                    "output_type": "stream",
                    "text": [
                        "Error processing /home/lippincm/4TB_A/NF1_2D_organoid_profiling_pipeline/data/SARCO361_T1/cellprofiler_middle_slice_output/G8-7/gff_extracted_features.sqlite: An existing file or directory was provided as dest_path: '/home/lippincm/4TB_A/NF1_2D_organoid_profiling_pipeline/data/SARCO361_T1/0.converted/middle_slice/G8-7_sc.parquet'. Please use a new path for this parameter.\n"
                    ]
                },
                {
                    "name": "stderr",
                    "output_type": "stream",
                    "text": [
                        " 98%|\u2588\u2588\u2588\u2588\u2588\u2588\u2588\u2588\u2588\u258a| 343/349 [01:52<00:01,  4.46it/s]"
                    ]
                },
                {
                    "name": "stdout",
                    "output_type": "stream",
                    "text": [
                        "Error processing /home/lippincm/4TB_A/NF1_2D_organoid_profiling_pipeline/data/SARCO361_T1/cellprofiler_middle_slice_output/G9-1/gff_extracted_features.sqlite: An existing file or directory was provided as dest_path: '/home/lippincm/4TB_A/NF1_2D_organoid_profiling_pipeline/data/SARCO361_T1/0.converted/middle_slice/G9-1_sc.parquet'. Please use a new path for this parameter.\n"
                    ]
                },
                {
                    "name": "stderr",
                    "output_type": "stream",
                    "text": [
                        " 99%|\u2588\u2588\u2588\u2588\u2588\u2588\u2588\u2588\u2588\u2589| 346/349 [01:53<00:00,  6.15it/s]"
                    ]
                },
                {
                    "name": "stdout",
                    "output_type": "stream",
                    "text": [
                        "Error processing /home/lippincm/4TB_A/NF1_2D_organoid_profiling_pipeline/data/SARCO361_T1/cellprofiler_middle_slice_output/G9-2/gff_extracted_features.sqlite: An existing file or directory was provided as dest_path: '/home/lippincm/4TB_A/NF1_2D_organoid_profiling_pipeline/data/SARCO361_T1/0.converted/middle_slice/G9-2_sc.parquet'. Please use a new path for this parameter.\n",
                        "Error processing /home/lippincm/4TB_A/NF1_2D_organoid_profiling_pipeline/data/SARCO361_T1/cellprofiler_middle_slice_output/G9-3/gff_extracted_features.sqlite: An existing file or directory was provided as dest_path: '/home/lippincm/4TB_A/NF1_2D_organoid_profiling_pipeline/data/SARCO361_T1/0.converted/middle_slice/G9-3_sc.parquet'. Please use a new path for this parameter.\n",
                        "Error processing /home/lippincm/4TB_A/NF1_2D_organoid_profiling_pipeline/data/SARCO361_T1/cellprofiler_middle_slice_output/G9-4/gff_extracted_features.sqlite: An existing file or directory was provided as dest_path: '/home/lippincm/4TB_A/NF1_2D_organoid_profiling_pipeline/data/SARCO361_T1/0.converted/middle_slice/G9-4_sc.parquet'. Please use a new path for this parameter.\n",
                        "Error processing /home/lippincm/4TB_A/NF1_2D_organoid_profiling_pipeline/data/SARCO361_T1/cellprofiler_middle_slice_output/G9-5/gff_extracted_features.sqlite: An existing file or directory was provided as dest_path: '/home/lippincm/4TB_A/NF1_2D_organoid_profiling_pipeline/data/SARCO361_T1/0.converted/middle_slice/G9-5_sc.parquet'. Please use a new path for this parameter.\n"
                    ]
                },
                {
                    "name": "stderr",
                    "output_type": "stream",
                    "text": [
                        "100%|\u2588\u2588\u2588\u2588\u2588\u2588\u2588\u2588\u2588\u2589| 348/349 [01:53<00:00,  4.75it/s]"
                    ]
                },
                {
                    "name": "stdout",
                    "output_type": "stream",
                    "text": [
                        "Error processing /home/lippincm/4TB_A/NF1_2D_organoid_profiling_pipeline/data/SARCO361_T1/cellprofiler_middle_slice_output/G9-6/gff_extracted_features.sqlite: list index out of range\n"
                    ]
                },
                {
                    "name": "stderr",
                    "output_type": "stream",
                    "text": [
                        "100%|\u2588\u2588\u2588\u2588\u2588\u2588\u2588\u2588\u2588\u2588| 349/349 [01:54<00:00,  3.06it/s]\n"
                    ]
                },
                {
                    "name": "stdout",
                    "output_type": "stream",
                    "text": [
                        "Error processing /home/lippincm/4TB_A/NF1_2D_organoid_profiling_pipeline/data/SARCO361_T1/cellprofiler_middle_slice_output/G9-7/gff_extracted_features.sqlite: An existing file or directory was provided as dest_path: '/home/lippincm/4TB_A/NF1_2D_organoid_profiling_pipeline/data/SARCO361_T1/0.converted/middle_slice/G9-7_sc.parquet'. Please use a new path for this parameter.\n"
                    ]
                },
                {
                    "name": "stderr",
                    "output_type": "stream",
                    "text": [
                        "  0%|          | 0/349 [00:00<?, ?it/s]"
                    ]
                },
                {
                    "name": "stdout",
                    "output_type": "stream",
                    "text": [
                        "Error processing /home/lippincm/4TB_A/NF1_2D_organoid_profiling_pipeline/data/SARCO361_T1/cellprofiler_zmax_proj_output/C10-1/gff_extracted_features.sqlite: An existing file or directory was provided as dest_path: '/home/lippincm/4TB_A/NF1_2D_organoid_profiling_pipeline/data/SARCO361_T1/0.converted/zmax_proj/C10-1_sc.parquet'. Please use a new path for this parameter.\n"
                    ]
                },
                {
                    "name": "stderr",
                    "output_type": "stream",
                    "text": [
                        "  1%|          | 2/349 [00:00<01:33,  3.69it/s]"
                    ]
                },
                {
                    "name": "stdout",
                    "output_type": "stream",
                    "text": [
                        "Error processing /home/lippincm/4TB_A/NF1_2D_organoid_profiling_pipeline/data/SARCO361_T1/cellprofiler_zmax_proj_output/C10-2/gff_extracted_features.sqlite: list index out of range\n",
                        "Error processing /home/lippincm/4TB_A/NF1_2D_organoid_profiling_pipeline/data/SARCO361_T1/cellprofiler_zmax_proj_output/C10-3/gff_extracted_features.sqlite: An existing file or directory was provided as dest_path: '/home/lippincm/4TB_A/NF1_2D_organoid_profiling_pipeline/data/SARCO361_T1/0.converted/zmax_proj/C10-3_sc.parquet'. Please use a new path for this parameter.\n"
                    ]
                },
                {
                    "name": "stderr",
                    "output_type": "stream",
                    "text": [
                        "  1%|          | 4/349 [00:00<01:20,  4.31it/s]"
                    ]
                },
                {
                    "name": "stdout",
                    "output_type": "stream",
                    "text": [
                        "Error processing /home/lippincm/4TB_A/NF1_2D_organoid_profiling_pipeline/data/SARCO361_T1/cellprofiler_zmax_proj_output/C10-4/gff_extracted_features.sqlite: list index out of range\n"
                    ]
                },
                {
                    "name": "stderr",
                    "output_type": "stream",
                    "text": [
                        "  1%|\u258f         | 5/349 [00:01<01:19,  4.35it/s]"
                    ]
                },
                {
                    "name": "stdout",
                    "output_type": "stream",
                    "text": [
                        "Error processing /home/lippincm/4TB_A/NF1_2D_organoid_profiling_pipeline/data/SARCO361_T1/cellprofiler_zmax_proj_output/C10-5/gff_extracted_features.sqlite: An existing file or directory was provided as dest_path: '/home/lippincm/4TB_A/NF1_2D_organoid_profiling_pipeline/data/SARCO361_T1/0.converted/zmax_proj/C10-5_sc.parquet'. Please use a new path for this parameter.\n",
                        "Error processing /home/lippincm/4TB_A/NF1_2D_organoid_profiling_pipeline/data/SARCO361_T1/cellprofiler_zmax_proj_output/C10-6/gff_extracted_features.sqlite: An existing file or directory was provided as dest_path: '/home/lippincm/4TB_A/NF1_2D_organoid_profiling_pipeline/data/SARCO361_T1/0.converted/zmax_proj/C10-6_sc.parquet'. Please use a new path for this parameter.\n"
                    ]
                },
                {
                    "name": "stderr",
                    "output_type": "stream",
                    "text": [
                        "  2%|\u258f         | 7/349 [00:01<01:42,  3.34it/s]"
                    ]
                },
                {
                    "name": "stdout",
                    "output_type": "stream",
                    "text": [
                        "Error processing /home/lippincm/4TB_A/NF1_2D_organoid_profiling_pipeline/data/SARCO361_T1/cellprofiler_zmax_proj_output/C10-7/gff_extracted_features.sqlite: list index out of range\n",
                        "Error processing /home/lippincm/4TB_A/NF1_2D_organoid_profiling_pipeline/data/SARCO361_T1/cellprofiler_zmax_proj_output/C11-1/gff_extracted_features.sqlite: An existing file or directory was provided as dest_path: '/home/lippincm/4TB_A/NF1_2D_organoid_profiling_pipeline/data/SARCO361_T1/0.converted/zmax_proj/C11-1_sc.parquet'. Please use a new path for this parameter.\n"
                    ]
                },
                {
                    "name": "stderr",
                    "output_type": "stream",
                    "text": [
                        "  3%|\u258e         | 9/349 [00:02<01:39,  3.42it/s]"
                    ]
                },
                {
                    "name": "stdout",
                    "output_type": "stream",
                    "text": [
                        "Error processing /home/lippincm/4TB_A/NF1_2D_organoid_profiling_pipeline/data/SARCO361_T1/cellprofiler_zmax_proj_output/C11-2/gff_extracted_features.sqlite: list index out of range\n",
                        "Error processing /home/lippincm/4TB_A/NF1_2D_organoid_profiling_pipeline/data/SARCO361_T1/cellprofiler_zmax_proj_output/C11-3/gff_extracted_features.sqlite: An existing file or directory was provided as dest_path: '/home/lippincm/4TB_A/NF1_2D_organoid_profiling_pipeline/data/SARCO361_T1/0.converted/zmax_proj/C11-3_sc.parquet'. Please use a new path for this parameter.\n"
                    ]
                },
                {
                    "name": "stderr",
                    "output_type": "stream",
                    "text": [
                        "  3%|\u258e         | 11/349 [00:03<01:37,  3.47it/s]"
                    ]
                },
                {
                    "name": "stdout",
                    "output_type": "stream",
                    "text": [
                        "Error processing /home/lippincm/4TB_A/NF1_2D_organoid_profiling_pipeline/data/SARCO361_T1/cellprofiler_zmax_proj_output/C11-4/gff_extracted_features.sqlite: list index out of range\n"
                    ]
                },
                {
                    "name": "stderr",
                    "output_type": "stream",
                    "text": [
                        "  3%|\u258e         | 12/349 [00:03<01:48,  3.10it/s]"
                    ]
                },
                {
                    "name": "stdout",
                    "output_type": "stream",
                    "text": [
                        "Error processing /home/lippincm/4TB_A/NF1_2D_organoid_profiling_pipeline/data/SARCO361_T1/cellprofiler_zmax_proj_output/C11-5/gff_extracted_features.sqlite: list index out of range\n"
                    ]
                },
                {
                    "name": "stderr",
                    "output_type": "stream",
                    "text": [
                        "  4%|\u258e         | 13/349 [00:03<01:53,  2.96it/s]"
                    ]
                },
                {
                    "name": "stdout",
                    "output_type": "stream",
                    "text": [
                        "Error processing /home/lippincm/4TB_A/NF1_2D_organoid_profiling_pipeline/data/SARCO361_T1/cellprofiler_zmax_proj_output/C11-6/gff_extracted_features.sqlite: list index out of range\n"
                    ]
                },
                {
                    "name": "stderr",
                    "output_type": "stream",
                    "text": [
                        "  4%|\u258d         | 14/349 [00:04<02:01,  2.76it/s]"
                    ]
                },
                {
                    "name": "stdout",
                    "output_type": "stream",
                    "text": [
                        "Error processing /home/lippincm/4TB_A/NF1_2D_organoid_profiling_pipeline/data/SARCO361_T1/cellprofiler_zmax_proj_output/C11-7/gff_extracted_features.sqlite: list index out of range\n"
                    ]
                },
                {
                    "name": "stderr",
                    "output_type": "stream",
                    "text": [
                        "  4%|\u258d         | 15/349 [00:04<02:09,  2.58it/s]"
                    ]
                },
                {
                    "name": "stdout",
                    "output_type": "stream",
                    "text": [
                        "Error processing /home/lippincm/4TB_A/NF1_2D_organoid_profiling_pipeline/data/SARCO361_T1/cellprofiler_zmax_proj_output/C2-1/gff_extracted_features.sqlite: list index out of range\n"
                    ]
                },
                {
                    "name": "stderr",
                    "output_type": "stream",
                    "text": [
                        "  5%|\u258d         | 16/349 [00:05<02:05,  2.65it/s]"
                    ]
                },
                {
                    "name": "stdout",
                    "output_type": "stream",
                    "text": [
                        "Error processing /home/lippincm/4TB_A/NF1_2D_organoid_profiling_pipeline/data/SARCO361_T1/cellprofiler_zmax_proj_output/C2-2/gff_extracted_features.sqlite: list index out of range\n"
                    ]
                },
                {
                    "name": "stderr",
                    "output_type": "stream",
                    "text": [
                        "  5%|\u258d         | 17/349 [00:05<01:49,  3.03it/s]"
                    ]
                },
                {
                    "name": "stdout",
                    "output_type": "stream",
                    "text": [
                        "Error processing /home/lippincm/4TB_A/NF1_2D_organoid_profiling_pipeline/data/SARCO361_T1/cellprofiler_zmax_proj_output/C2-3/gff_extracted_features.sqlite: An existing file or directory was provided as dest_path: '/home/lippincm/4TB_A/NF1_2D_organoid_profiling_pipeline/data/SARCO361_T1/0.converted/zmax_proj/C2-3_sc.parquet'. Please use a new path for this parameter.\n"
                    ]
                },
                {
                    "name": "stderr",
                    "output_type": "stream",
                    "text": [
                        "  5%|\u258c         | 18/349 [00:05<01:49,  3.04it/s]"
                    ]
                },
                {
                    "name": "stdout",
                    "output_type": "stream",
                    "text": [
                        "Error processing /home/lippincm/4TB_A/NF1_2D_organoid_profiling_pipeline/data/SARCO361_T1/cellprofiler_zmax_proj_output/C2-4/gff_extracted_features.sqlite: list index out of range\n"
                    ]
                },
                {
                    "name": "stderr",
                    "output_type": "stream",
                    "text": [
                        "  5%|\u258c         | 19/349 [00:06<02:01,  2.73it/s]"
                    ]
                },
                {
                    "name": "stdout",
                    "output_type": "stream",
                    "text": [
                        "Error processing /home/lippincm/4TB_A/NF1_2D_organoid_profiling_pipeline/data/SARCO361_T1/cellprofiler_zmax_proj_output/C2-5/gff_extracted_features.sqlite: list index out of range\n",
                        "Error processing /home/lippincm/4TB_A/NF1_2D_organoid_profiling_pipeline/data/SARCO361_T1/cellprofiler_zmax_proj_output/C2-6/gff_extracted_features.sqlite: An existing file or directory was provided as dest_path: '/home/lippincm/4TB_A/NF1_2D_organoid_profiling_pipeline/data/SARCO361_T1/0.converted/zmax_proj/C2-6_sc.parquet'. Please use a new path for this parameter.\n"
                    ]
                },
                {
                    "name": "stderr",
                    "output_type": "stream",
                    "text": [
                        "  6%|\u258c         | 21/349 [00:06<01:27,  3.76it/s]"
                    ]
                },
                {
                    "name": "stdout",
                    "output_type": "stream",
                    "text": [
                        "Error processing /home/lippincm/4TB_A/NF1_2D_organoid_profiling_pipeline/data/SARCO361_T1/cellprofiler_zmax_proj_output/C2-7/gff_extracted_features.sqlite: An existing file or directory was provided as dest_path: '/home/lippincm/4TB_A/NF1_2D_organoid_profiling_pipeline/data/SARCO361_T1/0.converted/zmax_proj/C2-7_sc.parquet'. Please use a new path for this parameter.\n",
                        "Error processing /home/lippincm/4TB_A/NF1_2D_organoid_profiling_pipeline/data/SARCO361_T1/cellprofiler_zmax_proj_output/C3-1/gff_extracted_features.sqlite: An existing file or directory was provided as dest_path: '/home/lippincm/4TB_A/NF1_2D_organoid_profiling_pipeline/data/SARCO361_T1/0.converted/zmax_proj/C3-1_sc.parquet'. Please use a new path for this parameter.\n"
                    ]
                },
                {
                    "name": "stderr",
                    "output_type": "stream",
                    "text": [
                        "  7%|\u258b         | 24/349 [00:06<01:08,  4.72it/s]"
                    ]
                },
                {
                    "name": "stdout",
                    "output_type": "stream",
                    "text": [
                        "Error processing /home/lippincm/4TB_A/NF1_2D_organoid_profiling_pipeline/data/SARCO361_T1/cellprofiler_zmax_proj_output/C3-2/gff_extracted_features.sqlite: An existing file or directory was provided as dest_path: '/home/lippincm/4TB_A/NF1_2D_organoid_profiling_pipeline/data/SARCO361_T1/0.converted/zmax_proj/C3-2_sc.parquet'. Please use a new path for this parameter.\n",
                        "Error processing /home/lippincm/4TB_A/NF1_2D_organoid_profiling_pipeline/data/SARCO361_T1/cellprofiler_zmax_proj_output/C3-3/gff_extracted_features.sqlite: An existing file or directory was provided as dest_path: '/home/lippincm/4TB_A/NF1_2D_organoid_profiling_pipeline/data/SARCO361_T1/0.converted/zmax_proj/C3-3_sc.parquet'. Please use a new path for this parameter.\n"
                    ]
                },
                {
                    "name": "stderr",
                    "output_type": "stream",
                    "text": [
                        "  7%|\u258b         | 25/349 [00:07<01:12,  4.48it/s]"
                    ]
                },
                {
                    "name": "stdout",
                    "output_type": "stream",
                    "text": [
                        "Error processing /home/lippincm/4TB_A/NF1_2D_organoid_profiling_pipeline/data/SARCO361_T1/cellprofiler_zmax_proj_output/C3-4/gff_extracted_features.sqlite: An existing file or directory was provided as dest_path: '/home/lippincm/4TB_A/NF1_2D_organoid_profiling_pipeline/data/SARCO361_T1/0.converted/zmax_proj/C3-4_sc.parquet'. Please use a new path for this parameter.\n",
                        "Error processing /home/lippincm/4TB_A/NF1_2D_organoid_profiling_pipeline/data/SARCO361_T1/cellprofiler_zmax_proj_output/C3-5/gff_extracted_features.sqlite: An existing file or directory was provided as dest_path: '/home/lippincm/4TB_A/NF1_2D_organoid_profiling_pipeline/data/SARCO361_T1/0.converted/zmax_proj/C3-5_sc.parquet'. Please use a new path for this parameter.\n"
                    ]
                },
                {
                    "name": "stderr",
                    "output_type": "stream",
                    "text": [
                        "  8%|\u258a         | 27/349 [00:07<01:16,  4.22it/s]"
                    ]
                },
                {
                    "name": "stdout",
                    "output_type": "stream",
                    "text": [
                        "Error processing /home/lippincm/4TB_A/NF1_2D_organoid_profiling_pipeline/data/SARCO361_T1/cellprofiler_zmax_proj_output/C3-6/gff_extracted_features.sqlite: list index out of range\n",
                        "Error processing /home/lippincm/4TB_A/NF1_2D_organoid_profiling_pipeline/data/SARCO361_T1/cellprofiler_zmax_proj_output/C3-7/gff_extracted_features.sqlite: An existing file or directory was provided as dest_path: '/home/lippincm/4TB_A/NF1_2D_organoid_profiling_pipeline/data/SARCO361_T1/0.converted/zmax_proj/C3-7_sc.parquet'. Please use a new path for this parameter.\n"
                    ]
                },
                {
                    "name": "stderr",
                    "output_type": "stream",
                    "text": [
                        "  9%|\u2589         | 31/349 [00:08<00:50,  6.25it/s]"
                    ]
                },
                {
                    "name": "stdout",
                    "output_type": "stream",
                    "text": [
                        "Error processing /home/lippincm/4TB_A/NF1_2D_organoid_profiling_pipeline/data/SARCO361_T1/cellprofiler_zmax_proj_output/C4-1/gff_extracted_features.sqlite: An existing file or directory was provided as dest_path: '/home/lippincm/4TB_A/NF1_2D_organoid_profiling_pipeline/data/SARCO361_T1/0.converted/zmax_proj/C4-1_sc.parquet'. Please use a new path for this parameter.\n",
                        "Error processing /home/lippincm/4TB_A/NF1_2D_organoid_profiling_pipeline/data/SARCO361_T1/cellprofiler_zmax_proj_output/C4-2/gff_extracted_features.sqlite: An existing file or directory was provided as dest_path: '/home/lippincm/4TB_A/NF1_2D_organoid_profiling_pipeline/data/SARCO361_T1/0.converted/zmax_proj/C4-2_sc.parquet'. Please use a new path for this parameter.\n",
                        "Error processing /home/lippincm/4TB_A/NF1_2D_organoid_profiling_pipeline/data/SARCO361_T1/cellprofiler_zmax_proj_output/C4-3/gff_extracted_features.sqlite: An existing file or directory was provided as dest_path: '/home/lippincm/4TB_A/NF1_2D_organoid_profiling_pipeline/data/SARCO361_T1/0.converted/zmax_proj/C4-3_sc.parquet'. Please use a new path for this parameter.\n"
                    ]
                },
                {
                    "name": "stderr",
                    "output_type": "stream",
                    "text": [
                        "  9%|\u2589         | 32/349 [00:08<00:54,  5.81it/s]"
                    ]
                },
                {
                    "name": "stdout",
                    "output_type": "stream",
                    "text": [
                        "Error processing /home/lippincm/4TB_A/NF1_2D_organoid_profiling_pipeline/data/SARCO361_T1/cellprofiler_zmax_proj_output/C4-4/gff_extracted_features.sqlite: An existing file or directory was provided as dest_path: '/home/lippincm/4TB_A/NF1_2D_organoid_profiling_pipeline/data/SARCO361_T1/0.converted/zmax_proj/C4-4_sc.parquet'. Please use a new path for this parameter.\n",
                        "Error processing /home/lippincm/4TB_A/NF1_2D_organoid_profiling_pipeline/data/SARCO361_T1/cellprofiler_zmax_proj_output/C4-5/gff_extracted_features.sqlite: An existing file or directory was provided as dest_path: '/home/lippincm/4TB_A/NF1_2D_organoid_profiling_pipeline/data/SARCO361_T1/0.converted/zmax_proj/C4-5_sc.parquet'. Please use a new path for this parameter.\n"
                    ]
                },
                {
                    "name": "stderr",
                    "output_type": "stream",
                    "text": [
                        " 10%|\u2588         | 36/349 [00:08<00:43,  7.27it/s]"
                    ]
                },
                {
                    "name": "stdout",
                    "output_type": "stream",
                    "text": [
                        "Error processing /home/lippincm/4TB_A/NF1_2D_organoid_profiling_pipeline/data/SARCO361_T1/cellprofiler_zmax_proj_output/C4-6/gff_extracted_features.sqlite: An existing file or directory was provided as dest_path: '/home/lippincm/4TB_A/NF1_2D_organoid_profiling_pipeline/data/SARCO361_T1/0.converted/zmax_proj/C4-6_sc.parquet'. Please use a new path for this parameter.\n",
                        "Error processing /home/lippincm/4TB_A/NF1_2D_organoid_profiling_pipeline/data/SARCO361_T1/cellprofiler_zmax_proj_output/C4-7/gff_extracted_features.sqlite: An existing file or directory was provided as dest_path: '/home/lippincm/4TB_A/NF1_2D_organoid_profiling_pipeline/data/SARCO361_T1/0.converted/zmax_proj/C4-7_sc.parquet'. Please use a new path for this parameter.\n",
                        "Error processing /home/lippincm/4TB_A/NF1_2D_organoid_profiling_pipeline/data/SARCO361_T1/cellprofiler_zmax_proj_output/C5-1/gff_extracted_features.sqlite: An existing file or directory was provided as dest_path: '/home/lippincm/4TB_A/NF1_2D_organoid_profiling_pipeline/data/SARCO361_T1/0.converted/zmax_proj/C5-1_sc.parquet'. Please use a new path for this parameter.\n"
                    ]
                },
                {
                    "name": "stderr",
                    "output_type": "stream",
                    "text": [
                        " 11%|\u2588         | 37/349 [00:09<01:04,  4.87it/s]"
                    ]
                },
                {
                    "name": "stdout",
                    "output_type": "stream",
                    "text": [
                        "Error processing /home/lippincm/4TB_A/NF1_2D_organoid_profiling_pipeline/data/SARCO361_T1/cellprofiler_zmax_proj_output/C5-2/gff_extracted_features.sqlite: list index out of range\n"
                    ]
                },
                {
                    "name": "stderr",
                    "output_type": "stream",
                    "text": [
                        " 11%|\u2588\u258f        | 40/349 [00:09<00:58,  5.32it/s]"
                    ]
                },
                {
                    "name": "stdout",
                    "output_type": "stream",
                    "text": [
                        "Error processing /home/lippincm/4TB_A/NF1_2D_organoid_profiling_pipeline/data/SARCO361_T1/cellprofiler_zmax_proj_output/C5-3/gff_extracted_features.sqlite: list index out of range\n",
                        "Error processing /home/lippincm/4TB_A/NF1_2D_organoid_profiling_pipeline/data/SARCO361_T1/cellprofiler_zmax_proj_output/C5-4/gff_extracted_features.sqlite: An existing file or directory was provided as dest_path: '/home/lippincm/4TB_A/NF1_2D_organoid_profiling_pipeline/data/SARCO361_T1/0.converted/zmax_proj/C5-4_sc.parquet'. Please use a new path for this parameter.\n",
                        "Error processing /home/lippincm/4TB_A/NF1_2D_organoid_profiling_pipeline/data/SARCO361_T1/cellprofiler_zmax_proj_output/C5-5/gff_extracted_features.sqlite: An existing file or directory was provided as dest_path: '/home/lippincm/4TB_A/NF1_2D_organoid_profiling_pipeline/data/SARCO361_T1/0.converted/zmax_proj/C5-5_sc.parquet'. Please use a new path for this parameter.\n"
                    ]
                },
                {
                    "name": "stderr",
                    "output_type": "stream",
                    "text": [
                        " 12%|\u2588\u258f        | 41/349 [00:10<00:59,  5.17it/s]"
                    ]
                },
                {
                    "name": "stdout",
                    "output_type": "stream",
                    "text": [
                        "Error processing /home/lippincm/4TB_A/NF1_2D_organoid_profiling_pipeline/data/SARCO361_T1/cellprofiler_zmax_proj_output/C5-6/gff_extracted_features.sqlite: An existing file or directory was provided as dest_path: '/home/lippincm/4TB_A/NF1_2D_organoid_profiling_pipeline/data/SARCO361_T1/0.converted/zmax_proj/C5-6_sc.parquet'. Please use a new path for this parameter.\n"
                    ]
                },
                {
                    "name": "stderr",
                    "output_type": "stream",
                    "text": [
                        " 13%|\u2588\u258e        | 44/349 [00:10<00:55,  5.51it/s]"
                    ]
                },
                {
                    "name": "stdout",
                    "output_type": "stream",
                    "text": [
                        "Error processing /home/lippincm/4TB_A/NF1_2D_organoid_profiling_pipeline/data/SARCO361_T1/cellprofiler_zmax_proj_output/C5-7/gff_extracted_features.sqlite: list index out of range\n",
                        "Error processing /home/lippincm/4TB_A/NF1_2D_organoid_profiling_pipeline/data/SARCO361_T1/cellprofiler_zmax_proj_output/C6-1/gff_extracted_features.sqlite: An existing file or directory was provided as dest_path: '/home/lippincm/4TB_A/NF1_2D_organoid_profiling_pipeline/data/SARCO361_T1/0.converted/zmax_proj/C6-1_sc.parquet'. Please use a new path for this parameter.\n",
                        "Error processing /home/lippincm/4TB_A/NF1_2D_organoid_profiling_pipeline/data/SARCO361_T1/cellprofiler_zmax_proj_output/C6-2/gff_extracted_features.sqlite: An existing file or directory was provided as dest_path: '/home/lippincm/4TB_A/NF1_2D_organoid_profiling_pipeline/data/SARCO361_T1/0.converted/zmax_proj/C6-2_sc.parquet'. Please use a new path for this parameter.\n"
                    ]
                },
                {
                    "name": "stderr",
                    "output_type": "stream",
                    "text": [
                        " 13%|\u2588\u258e        | 46/349 [00:11<01:02,  4.83it/s]"
                    ]
                },
                {
                    "name": "stdout",
                    "output_type": "stream",
                    "text": [
                        "Error processing /home/lippincm/4TB_A/NF1_2D_organoid_profiling_pipeline/data/SARCO361_T1/cellprofiler_zmax_proj_output/C6-3/gff_extracted_features.sqlite: An existing file or directory was provided as dest_path: '/home/lippincm/4TB_A/NF1_2D_organoid_profiling_pipeline/data/SARCO361_T1/0.converted/zmax_proj/C6-3_sc.parquet'. Please use a new path for this parameter.\n",
                        "Error processing /home/lippincm/4TB_A/NF1_2D_organoid_profiling_pipeline/data/SARCO361_T1/cellprofiler_zmax_proj_output/C6-4/gff_extracted_features.sqlite: An existing file or directory was provided as dest_path: '/home/lippincm/4TB_A/NF1_2D_organoid_profiling_pipeline/data/SARCO361_T1/0.converted/zmax_proj/C6-4_sc.parquet'. Please use a new path for this parameter.\n"
                    ]
                },
                {
                    "name": "stderr",
                    "output_type": "stream",
                    "text": [
                        " 13%|\u2588\u258e        | 47/349 [00:11<01:02,  4.81it/s]"
                    ]
                },
                {
                    "name": "stdout",
                    "output_type": "stream",
                    "text": [
                        "Error processing /home/lippincm/4TB_A/NF1_2D_organoid_profiling_pipeline/data/SARCO361_T1/cellprofiler_zmax_proj_output/C6-5/gff_extracted_features.sqlite: An existing file or directory was provided as dest_path: '/home/lippincm/4TB_A/NF1_2D_organoid_profiling_pipeline/data/SARCO361_T1/0.converted/zmax_proj/C6-5_sc.parquet'. Please use a new path for this parameter.\n"
                    ]
                },
                {
                    "name": "stderr",
                    "output_type": "stream",
                    "text": [
                        " 14%|\u2588\u258d        | 48/349 [00:11<01:23,  3.60it/s]"
                    ]
                },
                {
                    "name": "stdout",
                    "output_type": "stream",
                    "text": [
                        "Error processing /home/lippincm/4TB_A/NF1_2D_organoid_profiling_pipeline/data/SARCO361_T1/cellprofiler_zmax_proj_output/C6-6/gff_extracted_features.sqlite: list index out of range\n",
                        "Error processing /home/lippincm/4TB_A/NF1_2D_organoid_profiling_pipeline/data/SARCO361_T1/cellprofiler_zmax_proj_output/C6-7/gff_extracted_features.sqlite: An existing file or directory was provided as dest_path: '/home/lippincm/4TB_A/NF1_2D_organoid_profiling_pipeline/data/SARCO361_T1/0.converted/zmax_proj/C6-7_sc.parquet'. Please use a new path for this parameter.\n"
                    ]
                },
                {
                    "name": "stderr",
                    "output_type": "stream",
                    "text": [
                        " 14%|\u2588\u258d        | 50/349 [00:12<01:04,  4.63it/s]"
                    ]
                },
                {
                    "name": "stdout",
                    "output_type": "stream",
                    "text": [
                        "Error processing /home/lippincm/4TB_A/NF1_2D_organoid_profiling_pipeline/data/SARCO361_T1/cellprofiler_zmax_proj_output/C7-1/gff_extracted_features.sqlite: An existing file or directory was provided as dest_path: '/home/lippincm/4TB_A/NF1_2D_organoid_profiling_pipeline/data/SARCO361_T1/0.converted/zmax_proj/C7-1_sc.parquet'. Please use a new path for this parameter.\n"
                    ]
                },
                {
                    "name": "stderr",
                    "output_type": "stream",
                    "text": [
                        " 15%|\u2588\u258d        | 51/349 [00:12<01:03,  4.66it/s]"
                    ]
                },
                {
                    "name": "stdout",
                    "output_type": "stream",
                    "text": [
                        "Error processing /home/lippincm/4TB_A/NF1_2D_organoid_profiling_pipeline/data/SARCO361_T1/cellprofiler_zmax_proj_output/C7-2/gff_extracted_features.sqlite: An existing file or directory was provided as dest_path: '/home/lippincm/4TB_A/NF1_2D_organoid_profiling_pipeline/data/SARCO361_T1/0.converted/zmax_proj/C7-2_sc.parquet'. Please use a new path for this parameter.\n",
                        "Error processing /home/lippincm/4TB_A/NF1_2D_organoid_profiling_pipeline/data/SARCO361_T1/cellprofiler_zmax_proj_output/C7-3/gff_extracted_features.sqlite: An existing file or directory was provided as dest_path: '/home/lippincm/4TB_A/NF1_2D_organoid_profiling_pipeline/data/SARCO361_T1/0.converted/zmax_proj/C7-3_sc.parquet'. Please use a new path for this parameter.\n"
                    ]
                },
                {
                    "name": "stderr",
                    "output_type": "stream",
                    "text": [
                        " 15%|\u2588\u258c        | 53/349 [00:12<00:54,  5.39it/s]"
                    ]
                },
                {
                    "name": "stdout",
                    "output_type": "stream",
                    "text": [
                        "Error processing /home/lippincm/4TB_A/NF1_2D_organoid_profiling_pipeline/data/SARCO361_T1/cellprofiler_zmax_proj_output/C7-4/gff_extracted_features.sqlite: An existing file or directory was provided as dest_path: '/home/lippincm/4TB_A/NF1_2D_organoid_profiling_pipeline/data/SARCO361_T1/0.converted/zmax_proj/C7-4_sc.parquet'. Please use a new path for this parameter.\n",
                        "Error processing /home/lippincm/4TB_A/NF1_2D_organoid_profiling_pipeline/data/SARCO361_T1/cellprofiler_zmax_proj_output/C7-5/gff_extracted_features.sqlite: An existing file or directory was provided as dest_path: '/home/lippincm/4TB_A/NF1_2D_organoid_profiling_pipeline/data/SARCO361_T1/0.converted/zmax_proj/C7-5_sc.parquet'. Please use a new path for this parameter.\n"
                    ]
                },
                {
                    "name": "stderr",
                    "output_type": "stream",
                    "text": [
                        " 16%|\u2588\u258b        | 57/349 [00:13<00:41,  7.11it/s]"
                    ]
                },
                {
                    "name": "stdout",
                    "output_type": "stream",
                    "text": [
                        "Error processing /home/lippincm/4TB_A/NF1_2D_organoid_profiling_pipeline/data/SARCO361_T1/cellprofiler_zmax_proj_output/C7-6/gff_extracted_features.sqlite: An existing file or directory was provided as dest_path: '/home/lippincm/4TB_A/NF1_2D_organoid_profiling_pipeline/data/SARCO361_T1/0.converted/zmax_proj/C7-6_sc.parquet'. Please use a new path for this parameter.\n",
                        "Error processing /home/lippincm/4TB_A/NF1_2D_organoid_profiling_pipeline/data/SARCO361_T1/cellprofiler_zmax_proj_output/C7-7/gff_extracted_features.sqlite: An existing file or directory was provided as dest_path: '/home/lippincm/4TB_A/NF1_2D_organoid_profiling_pipeline/data/SARCO361_T1/0.converted/zmax_proj/C7-7_sc.parquet'. Please use a new path for this parameter.\n",
                        "Error processing /home/lippincm/4TB_A/NF1_2D_organoid_profiling_pipeline/data/SARCO361_T1/cellprofiler_zmax_proj_output/C8-1/gff_extracted_features.sqlite: An existing file or directory was provided as dest_path: '/home/lippincm/4TB_A/NF1_2D_organoid_profiling_pipeline/data/SARCO361_T1/0.converted/zmax_proj/C8-1_sc.parquet'. Please use a new path for this parameter.\n",
                        "Error processing /home/lippincm/4TB_A/NF1_2D_organoid_profiling_pipeline/data/SARCO361_T1/cellprofiler_zmax_proj_output/C8-2/gff_extracted_features.sqlite: An existing file or directory was provided as dest_path: '/home/lippincm/4TB_A/NF1_2D_organoid_profiling_pipeline/data/SARCO361_T1/0.converted/zmax_proj/C8-2_sc.parquet'. Please use a new path for this parameter.\n"
                    ]
                },
                {
                    "name": "stderr",
                    "output_type": "stream",
                    "text": [
                        " 17%|\u2588\u258b        | 59/349 [00:13<00:51,  5.61it/s]"
                    ]
                },
                {
                    "name": "stdout",
                    "output_type": "stream",
                    "text": [
                        "Error processing /home/lippincm/4TB_A/NF1_2D_organoid_profiling_pipeline/data/SARCO361_T1/cellprofiler_zmax_proj_output/C8-3/gff_extracted_features.sqlite: An existing file or directory was provided as dest_path: '/home/lippincm/4TB_A/NF1_2D_organoid_profiling_pipeline/data/SARCO361_T1/0.converted/zmax_proj/C8-3_sc.parquet'. Please use a new path for this parameter.\n"
                    ]
                },
                {
                    "name": "stderr",
                    "output_type": "stream",
                    "text": [
                        " 17%|\u2588\u258b        | 60/349 [00:13<00:54,  5.31it/s]"
                    ]
                },
                {
                    "name": "stdout",
                    "output_type": "stream",
                    "text": [
                        "Error processing /home/lippincm/4TB_A/NF1_2D_organoid_profiling_pipeline/data/SARCO361_T1/cellprofiler_zmax_proj_output/C8-4/gff_extracted_features.sqlite: An existing file or directory was provided as dest_path: '/home/lippincm/4TB_A/NF1_2D_organoid_profiling_pipeline/data/SARCO361_T1/0.converted/zmax_proj/C8-4_sc.parquet'. Please use a new path for this parameter.\n",
                        "Error processing /home/lippincm/4TB_A/NF1_2D_organoid_profiling_pipeline/data/SARCO361_T1/cellprofiler_zmax_proj_output/C8-5/gff_extracted_features.sqlite: An existing file or directory was provided as dest_path: '/home/lippincm/4TB_A/NF1_2D_organoid_profiling_pipeline/data/SARCO361_T1/0.converted/zmax_proj/C8-5_sc.parquet'. Please use a new path for this parameter.\n"
                    ]
                },
                {
                    "name": "stderr",
                    "output_type": "stream",
                    "text": [
                        " 18%|\u2588\u258a        | 62/349 [00:14<01:01,  4.63it/s]"
                    ]
                },
                {
                    "name": "stdout",
                    "output_type": "stream",
                    "text": [
                        "Error processing /home/lippincm/4TB_A/NF1_2D_organoid_profiling_pipeline/data/SARCO361_T1/cellprofiler_zmax_proj_output/C8-6/gff_extracted_features.sqlite: list index out of range\n"
                    ]
                },
                {
                    "name": "stderr",
                    "output_type": "stream",
                    "text": [
                        " 18%|\u2588\u258a        | 64/349 [00:14<01:05,  4.36it/s]"
                    ]
                },
                {
                    "name": "stdout",
                    "output_type": "stream",
                    "text": [
                        "Error processing /home/lippincm/4TB_A/NF1_2D_organoid_profiling_pipeline/data/SARCO361_T1/cellprofiler_zmax_proj_output/C8-7/gff_extracted_features.sqlite: list index out of range\n",
                        "Error processing /home/lippincm/4TB_A/NF1_2D_organoid_profiling_pipeline/data/SARCO361_T1/cellprofiler_zmax_proj_output/C9-1/gff_extracted_features.sqlite: An existing file or directory was provided as dest_path: '/home/lippincm/4TB_A/NF1_2D_organoid_profiling_pipeline/data/SARCO361_T1/0.converted/zmax_proj/C9-1_sc.parquet'. Please use a new path for this parameter.\n"
                    ]
                },
                {
                    "name": "stderr",
                    "output_type": "stream",
                    "text": [
                        " 19%|\u2588\u258a        | 65/349 [00:15<01:10,  4.01it/s]"
                    ]
                },
                {
                    "name": "stdout",
                    "output_type": "stream",
                    "text": [
                        "Error processing /home/lippincm/4TB_A/NF1_2D_organoid_profiling_pipeline/data/SARCO361_T1/cellprofiler_zmax_proj_output/C9-2/gff_extracted_features.sqlite: list index out of range\n"
                    ]
                },
                {
                    "name": "stderr",
                    "output_type": "stream",
                    "text": [
                        " 19%|\u2588\u2589        | 66/349 [00:15<01:07,  4.20it/s]"
                    ]
                },
                {
                    "name": "stdout",
                    "output_type": "stream",
                    "text": [
                        "Error processing /home/lippincm/4TB_A/NF1_2D_organoid_profiling_pipeline/data/SARCO361_T1/cellprofiler_zmax_proj_output/C9-3/gff_extracted_features.sqlite: An existing file or directory was provided as dest_path: '/home/lippincm/4TB_A/NF1_2D_organoid_profiling_pipeline/data/SARCO361_T1/0.converted/zmax_proj/C9-3_sc.parquet'. Please use a new path for this parameter.\n",
                        "Error processing /home/lippincm/4TB_A/NF1_2D_organoid_profiling_pipeline/data/SARCO361_T1/cellprofiler_zmax_proj_output/C9-4/gff_extracted_features.sqlite: An existing file or directory was provided as dest_path: '/home/lippincm/4TB_A/NF1_2D_organoid_profiling_pipeline/data/SARCO361_T1/0.converted/zmax_proj/C9-4_sc.parquet'. Please use a new path for this parameter.\n"
                    ]
                },
                {
                    "name": "stderr",
                    "output_type": "stream",
                    "text": [
                        " 19%|\u2588\u2589        | 68/349 [00:16<01:26,  3.25it/s]"
                    ]
                },
                {
                    "name": "stdout",
                    "output_type": "stream",
                    "text": [
                        "Error processing /home/lippincm/4TB_A/NF1_2D_organoid_profiling_pipeline/data/SARCO361_T1/cellprofiler_zmax_proj_output/C9-5/gff_extracted_features.sqlite: An existing file or directory was provided as dest_path: '/home/lippincm/4TB_A/NF1_2D_organoid_profiling_pipeline/data/SARCO361_T1/0.converted/zmax_proj/C9-5_sc.parquet'. Please use a new path for this parameter.\n"
                    ]
                },
                {
                    "name": "stderr",
                    "output_type": "stream",
                    "text": [
                        " 20%|\u2588\u2589        | 69/349 [00:16<01:36,  2.90it/s]"
                    ]
                },
                {
                    "name": "stdout",
                    "output_type": "stream",
                    "text": [
                        "Error processing /home/lippincm/4TB_A/NF1_2D_organoid_profiling_pipeline/data/SARCO361_T1/cellprofiler_zmax_proj_output/C9-6/gff_extracted_features.sqlite: list index out of range\n"
                    ]
                },
                {
                    "name": "stderr",
                    "output_type": "stream",
                    "text": [
                        " 20%|\u2588\u2588        | 70/349 [00:17<01:36,  2.88it/s]"
                    ]
                },
                {
                    "name": "stdout",
                    "output_type": "stream",
                    "text": [
                        "Error processing /home/lippincm/4TB_A/NF1_2D_organoid_profiling_pipeline/data/SARCO361_T1/cellprofiler_zmax_proj_output/C9-7/gff_extracted_features.sqlite: list index out of range\n"
                    ]
                },
                {
                    "name": "stderr",
                    "output_type": "stream",
                    "text": [
                        " 21%|\u2588\u2588        | 72/349 [00:17<01:17,  3.58it/s]"
                    ]
                },
                {
                    "name": "stdout",
                    "output_type": "stream",
                    "text": [
                        "Error processing /home/lippincm/4TB_A/NF1_2D_organoid_profiling_pipeline/data/SARCO361_T1/cellprofiler_zmax_proj_output/D10-1/gff_extracted_features.sqlite: An existing file or directory was provided as dest_path: '/home/lippincm/4TB_A/NF1_2D_organoid_profiling_pipeline/data/SARCO361_T1/0.converted/zmax_proj/D10-1_sc.parquet'. Please use a new path for this parameter.\n",
                        "Error processing /home/lippincm/4TB_A/NF1_2D_organoid_profiling_pipeline/data/SARCO361_T1/cellprofiler_zmax_proj_output/D10-2/gff_extracted_features.sqlite: An existing file or directory was provided as dest_path: '/home/lippincm/4TB_A/NF1_2D_organoid_profiling_pipeline/data/SARCO361_T1/0.converted/zmax_proj/D10-2_sc.parquet'. Please use a new path for this parameter.\n"
                    ]
                },
                {
                    "name": "stderr",
                    "output_type": "stream",
                    "text": [
                        " 21%|\u2588\u2588        | 73/349 [00:17<01:28,  3.11it/s]"
                    ]
                },
                {
                    "name": "stdout",
                    "output_type": "stream",
                    "text": [
                        "Error processing /home/lippincm/4TB_A/NF1_2D_organoid_profiling_pipeline/data/SARCO361_T1/cellprofiler_zmax_proj_output/D10-3/gff_extracted_features.sqlite: An existing file or directory was provided as dest_path: '/home/lippincm/4TB_A/NF1_2D_organoid_profiling_pipeline/data/SARCO361_T1/0.converted/zmax_proj/D10-3_sc.parquet'. Please use a new path for this parameter.\n"
                    ]
                },
                {
                    "name": "stderr",
                    "output_type": "stream",
                    "text": [
                        " 22%|\u2588\u2588\u258f       | 76/349 [00:18<00:53,  5.12it/s]"
                    ]
                },
                {
                    "name": "stdout",
                    "output_type": "stream",
                    "text": [
                        "Error processing /home/lippincm/4TB_A/NF1_2D_organoid_profiling_pipeline/data/SARCO361_T1/cellprofiler_zmax_proj_output/D10-4/gff_extracted_features.sqlite: An existing file or directory was provided as dest_path: '/home/lippincm/4TB_A/NF1_2D_organoid_profiling_pipeline/data/SARCO361_T1/0.converted/zmax_proj/D10-4_sc.parquet'. Please use a new path for this parameter.\n",
                        "Error processing /home/lippincm/4TB_A/NF1_2D_organoid_profiling_pipeline/data/SARCO361_T1/cellprofiler_zmax_proj_output/D10-5/gff_extracted_features.sqlite: An existing file or directory was provided as dest_path: '/home/lippincm/4TB_A/NF1_2D_organoid_profiling_pipeline/data/SARCO361_T1/0.converted/zmax_proj/D10-5_sc.parquet'. Please use a new path for this parameter.\n",
                        "Error processing /home/lippincm/4TB_A/NF1_2D_organoid_profiling_pipeline/data/SARCO361_T1/cellprofiler_zmax_proj_output/D10-6/gff_extracted_features.sqlite: An existing file or directory was provided as dest_path: '/home/lippincm/4TB_A/NF1_2D_organoid_profiling_pipeline/data/SARCO361_T1/0.converted/zmax_proj/D10-6_sc.parquet'. Please use a new path for this parameter.\n"
                    ]
                },
                {
                    "name": "stderr",
                    "output_type": "stream",
                    "text": [
                        " 22%|\u2588\u2588\u258f       | 77/349 [00:18<01:11,  3.81it/s]"
                    ]
                },
                {
                    "name": "stdout",
                    "output_type": "stream",
                    "text": [
                        "Error processing /home/lippincm/4TB_A/NF1_2D_organoid_profiling_pipeline/data/SARCO361_T1/cellprofiler_zmax_proj_output/D10-7/gff_extracted_features.sqlite: list index out of range\n"
                    ]
                },
                {
                    "name": "stderr",
                    "output_type": "stream",
                    "text": [
                        " 22%|\u2588\u2588\u258f       | 78/349 [00:18<01:07,  4.00it/s]"
                    ]
                },
                {
                    "name": "stdout",
                    "output_type": "stream",
                    "text": [
                        "Error processing /home/lippincm/4TB_A/NF1_2D_organoid_profiling_pipeline/data/SARCO361_T1/cellprofiler_zmax_proj_output/D11-1/gff_extracted_features.sqlite: An existing file or directory was provided as dest_path: '/home/lippincm/4TB_A/NF1_2D_organoid_profiling_pipeline/data/SARCO361_T1/0.converted/zmax_proj/D11-1_sc.parquet'. Please use a new path for this parameter.\n"
                    ]
                },
                {
                    "name": "stderr",
                    "output_type": "stream",
                    "text": [
                        " 23%|\u2588\u2588\u258e       | 79/349 [00:19<01:06,  4.09it/s]"
                    ]
                },
                {
                    "name": "stdout",
                    "output_type": "stream",
                    "text": [
                        "Error processing /home/lippincm/4TB_A/NF1_2D_organoid_profiling_pipeline/data/SARCO361_T1/cellprofiler_zmax_proj_output/D11-2/gff_extracted_features.sqlite: An existing file or directory was provided as dest_path: '/home/lippincm/4TB_A/NF1_2D_organoid_profiling_pipeline/data/SARCO361_T1/0.converted/zmax_proj/D11-2_sc.parquet'. Please use a new path for this parameter.\n"
                    ]
                },
                {
                    "name": "stderr",
                    "output_type": "stream",
                    "text": [
                        " 23%|\u2588\u2588\u258e       | 80/349 [00:19<01:22,  3.24it/s]"
                    ]
                },
                {
                    "name": "stdout",
                    "output_type": "stream",
                    "text": [
                        "Error processing /home/lippincm/4TB_A/NF1_2D_organoid_profiling_pipeline/data/SARCO361_T1/cellprofiler_zmax_proj_output/D11-3/gff_extracted_features.sqlite: list index out of range\n"
                    ]
                },
                {
                    "name": "stderr",
                    "output_type": "stream",
                    "text": [
                        " 23%|\u2588\u2588\u258e       | 82/349 [00:20<01:08,  3.87it/s]"
                    ]
                },
                {
                    "name": "stdout",
                    "output_type": "stream",
                    "text": [
                        "Error processing /home/lippincm/4TB_A/NF1_2D_organoid_profiling_pipeline/data/SARCO361_T1/cellprofiler_zmax_proj_output/D11-4/gff_extracted_features.sqlite: An existing file or directory was provided as dest_path: '/home/lippincm/4TB_A/NF1_2D_organoid_profiling_pipeline/data/SARCO361_T1/0.converted/zmax_proj/D11-4_sc.parquet'. Please use a new path for this parameter.\n",
                        "Error processing /home/lippincm/4TB_A/NF1_2D_organoid_profiling_pipeline/data/SARCO361_T1/cellprofiler_zmax_proj_output/D11-5/gff_extracted_features.sqlite: An existing file or directory was provided as dest_path: '/home/lippincm/4TB_A/NF1_2D_organoid_profiling_pipeline/data/SARCO361_T1/0.converted/zmax_proj/D11-5_sc.parquet'. Please use a new path for this parameter.\n"
                    ]
                },
                {
                    "name": "stderr",
                    "output_type": "stream",
                    "text": [
                        " 24%|\u2588\u2588\u258d       | 83/349 [00:20<01:05,  4.06it/s]"
                    ]
                },
                {
                    "name": "stdout",
                    "output_type": "stream",
                    "text": [
                        "Error processing /home/lippincm/4TB_A/NF1_2D_organoid_profiling_pipeline/data/SARCO361_T1/cellprofiler_zmax_proj_output/D11-6/gff_extracted_features.sqlite: An existing file or directory was provided as dest_path: '/home/lippincm/4TB_A/NF1_2D_organoid_profiling_pipeline/data/SARCO361_T1/0.converted/zmax_proj/D11-6_sc.parquet'. Please use a new path for this parameter.\n"
                    ]
                },
                {
                    "name": "stderr",
                    "output_type": "stream",
                    "text": [
                        " 24%|\u2588\u2588\u258d       | 85/349 [00:20<01:00,  4.40it/s]"
                    ]
                },
                {
                    "name": "stdout",
                    "output_type": "stream",
                    "text": [
                        "Error processing /home/lippincm/4TB_A/NF1_2D_organoid_profiling_pipeline/data/SARCO361_T1/cellprofiler_zmax_proj_output/D11-7/gff_extracted_features.sqlite: An existing file or directory was provided as dest_path: '/home/lippincm/4TB_A/NF1_2D_organoid_profiling_pipeline/data/SARCO361_T1/0.converted/zmax_proj/D11-7_sc.parquet'. Please use a new path for this parameter.\n",
                        "Error processing /home/lippincm/4TB_A/NF1_2D_organoid_profiling_pipeline/data/SARCO361_T1/cellprofiler_zmax_proj_output/D2-1/gff_extracted_features.sqlite: An existing file or directory was provided as dest_path: '/home/lippincm/4TB_A/NF1_2D_organoid_profiling_pipeline/data/SARCO361_T1/0.converted/zmax_proj/D2-1_sc.parquet'. Please use a new path for this parameter.\n",
                        "Error processing /home/lippincm/4TB_A/NF1_2D_organoid_profiling_pipeline/data/SARCO361_T1/cellprofiler_zmax_proj_output/D2-2/gff_extracted_features.sqlite: An existing file or directory was provided as dest_path: '/home/lippincm/4TB_A/NF1_2D_organoid_profiling_pipeline/data/SARCO361_T1/0.converted/zmax_proj/D2-2_sc.parquet'. Please use a new path for this parameter.\n"
                    ]
                },
                {
                    "name": "stderr",
                    "output_type": "stream",
                    "text": [
                        " 25%|\u2588\u2588\u258c       | 88/349 [00:21<00:56,  4.64it/s]"
                    ]
                },
                {
                    "name": "stdout",
                    "output_type": "stream",
                    "text": [
                        "Error processing /home/lippincm/4TB_A/NF1_2D_organoid_profiling_pipeline/data/SARCO361_T1/cellprofiler_zmax_proj_output/D2-4/gff_extracted_features.sqlite: list index out of range\n",
                        "Error processing /home/lippincm/4TB_A/NF1_2D_organoid_profiling_pipeline/data/SARCO361_T1/cellprofiler_zmax_proj_output/D2-5/gff_extracted_features.sqlite: An existing file or directory was provided as dest_path: '/home/lippincm/4TB_A/NF1_2D_organoid_profiling_pipeline/data/SARCO361_T1/0.converted/zmax_proj/D2-5_sc.parquet'. Please use a new path for this parameter.\n"
                    ]
                },
                {
                    "name": "stderr",
                    "output_type": "stream",
                    "text": [
                        " 26%|\u2588\u2588\u258c       | 89/349 [00:21<01:04,  4.03it/s]"
                    ]
                },
                {
                    "name": "stdout",
                    "output_type": "stream",
                    "text": [
                        "Error processing /home/lippincm/4TB_A/NF1_2D_organoid_profiling_pipeline/data/SARCO361_T1/cellprofiler_zmax_proj_output/D2-6/gff_extracted_features.sqlite: list index out of range\n",
                        "Error processing /home/lippincm/4TB_A/NF1_2D_organoid_profiling_pipeline/data/SARCO361_T1/cellprofiler_zmax_proj_output/D2-7/gff_extracted_features.sqlite: An existing file or directory was provided as dest_path: '/home/lippincm/4TB_A/NF1_2D_organoid_profiling_pipeline/data/SARCO361_T1/0.converted/zmax_proj/D2-7_sc.parquet'. Please use a new path for this parameter.\n"
                    ]
                },
                {
                    "name": "stderr",
                    "output_type": "stream",
                    "text": [
                        " 26%|\u2588\u2588\u258b       | 92/349 [00:22<00:51,  4.98it/s]"
                    ]
                },
                {
                    "name": "stdout",
                    "output_type": "stream",
                    "text": [
                        "Error processing /home/lippincm/4TB_A/NF1_2D_organoid_profiling_pipeline/data/SARCO361_T1/cellprofiler_zmax_proj_output/D3-1/gff_extracted_features.sqlite: list index out of range\n",
                        "Error processing /home/lippincm/4TB_A/NF1_2D_organoid_profiling_pipeline/data/SARCO361_T1/cellprofiler_zmax_proj_output/D3-2/gff_extracted_features.sqlite: An existing file or directory was provided as dest_path: '/home/lippincm/4TB_A/NF1_2D_organoid_profiling_pipeline/data/SARCO361_T1/0.converted/zmax_proj/D3-2_sc.parquet'. Please use a new path for this parameter.\n",
                        "Error processing /home/lippincm/4TB_A/NF1_2D_organoid_profiling_pipeline/data/SARCO361_T1/cellprofiler_zmax_proj_output/D3-3/gff_extracted_features.sqlite: An existing file or directory was provided as dest_path: '/home/lippincm/4TB_A/NF1_2D_organoid_profiling_pipeline/data/SARCO361_T1/0.converted/zmax_proj/D3-3_sc.parquet'. Please use a new path for this parameter.\n"
                    ]
                },
                {
                    "name": "stderr",
                    "output_type": "stream",
                    "text": [
                        " 28%|\u2588\u2588\u258a       | 96/349 [00:22<00:31,  7.94it/s]"
                    ]
                },
                {
                    "name": "stdout",
                    "output_type": "stream",
                    "text": [
                        "Error processing /home/lippincm/4TB_A/NF1_2D_organoid_profiling_pipeline/data/SARCO361_T1/cellprofiler_zmax_proj_output/D3-4/gff_extracted_features.sqlite: An existing file or directory was provided as dest_path: '/home/lippincm/4TB_A/NF1_2D_organoid_profiling_pipeline/data/SARCO361_T1/0.converted/zmax_proj/D3-4_sc.parquet'. Please use a new path for this parameter.\n",
                        "Error processing /home/lippincm/4TB_A/NF1_2D_organoid_profiling_pipeline/data/SARCO361_T1/cellprofiler_zmax_proj_output/D3-5/gff_extracted_features.sqlite: An existing file or directory was provided as dest_path: '/home/lippincm/4TB_A/NF1_2D_organoid_profiling_pipeline/data/SARCO361_T1/0.converted/zmax_proj/D3-5_sc.parquet'. Please use a new path for this parameter.\n",
                        "Error processing /home/lippincm/4TB_A/NF1_2D_organoid_profiling_pipeline/data/SARCO361_T1/cellprofiler_zmax_proj_output/D3-6/gff_extracted_features.sqlite: An existing file or directory was provided as dest_path: '/home/lippincm/4TB_A/NF1_2D_organoid_profiling_pipeline/data/SARCO361_T1/0.converted/zmax_proj/D3-6_sc.parquet'. Please use a new path for this parameter.\n"
                    ]
                },
                {
                    "name": "stderr",
                    "output_type": "stream",
                    "text": [
                        " 28%|\u2588\u2588\u258a       | 98/349 [00:22<00:32,  7.81it/s]"
                    ]
                },
                {
                    "name": "stdout",
                    "output_type": "stream",
                    "text": [
                        "Error processing /home/lippincm/4TB_A/NF1_2D_organoid_profiling_pipeline/data/SARCO361_T1/cellprofiler_zmax_proj_output/D3-7/gff_extracted_features.sqlite: An existing file or directory was provided as dest_path: '/home/lippincm/4TB_A/NF1_2D_organoid_profiling_pipeline/data/SARCO361_T1/0.converted/zmax_proj/D3-7_sc.parquet'. Please use a new path for this parameter.\n",
                        "Error processing /home/lippincm/4TB_A/NF1_2D_organoid_profiling_pipeline/data/SARCO361_T1/cellprofiler_zmax_proj_output/D4-1/gff_extracted_features.sqlite: An existing file or directory was provided as dest_path: '/home/lippincm/4TB_A/NF1_2D_organoid_profiling_pipeline/data/SARCO361_T1/0.converted/zmax_proj/D4-1_sc.parquet'. Please use a new path for this parameter.\n",
                        "Error processing /home/lippincm/4TB_A/NF1_2D_organoid_profiling_pipeline/data/SARCO361_T1/cellprofiler_zmax_proj_output/D4-2/gff_extracted_features.sqlite: An existing file or directory was provided as dest_path: '/home/lippincm/4TB_A/NF1_2D_organoid_profiling_pipeline/data/SARCO361_T1/0.converted/zmax_proj/D4-2_sc.parquet'. Please use a new path for this parameter.\n"
                    ]
                },
                {
                    "name": "stderr",
                    "output_type": "stream",
                    "text": [
                        " 29%|\u2588\u2588\u258a       | 100/349 [00:23<00:34,  7.30it/s]"
                    ]
                },
                {
                    "name": "stdout",
                    "output_type": "stream",
                    "text": [
                        "Error processing /home/lippincm/4TB_A/NF1_2D_organoid_profiling_pipeline/data/SARCO361_T1/cellprofiler_zmax_proj_output/D4-3/gff_extracted_features.sqlite: An existing file or directory was provided as dest_path: '/home/lippincm/4TB_A/NF1_2D_organoid_profiling_pipeline/data/SARCO361_T1/0.converted/zmax_proj/D4-3_sc.parquet'. Please use a new path for this parameter.\n"
                    ]
                },
                {
                    "name": "stderr",
                    "output_type": "stream",
                    "text": [
                        " 29%|\u2588\u2588\u2589       | 101/349 [00:23<00:38,  6.47it/s]"
                    ]
                },
                {
                    "name": "stdout",
                    "output_type": "stream",
                    "text": [
                        "Error processing /home/lippincm/4TB_A/NF1_2D_organoid_profiling_pipeline/data/SARCO361_T1/cellprofiler_zmax_proj_output/D4-4/gff_extracted_features.sqlite: An existing file or directory was provided as dest_path: '/home/lippincm/4TB_A/NF1_2D_organoid_profiling_pipeline/data/SARCO361_T1/0.converted/zmax_proj/D4-4_sc.parquet'. Please use a new path for this parameter.\n"
                    ]
                },
                {
                    "name": "stderr",
                    "output_type": "stream",
                    "text": [
                        " 30%|\u2588\u2588\u2589       | 104/349 [00:23<00:39,  6.13it/s]"
                    ]
                },
                {
                    "name": "stdout",
                    "output_type": "stream",
                    "text": [
                        "Error processing /home/lippincm/4TB_A/NF1_2D_organoid_profiling_pipeline/data/SARCO361_T1/cellprofiler_zmax_proj_output/D4-5/gff_extracted_features.sqlite: list index out of range\n",
                        "Error processing /home/lippincm/4TB_A/NF1_2D_organoid_profiling_pipeline/data/SARCO361_T1/cellprofiler_zmax_proj_output/D4-6/gff_extracted_features.sqlite: An existing file or directory was provided as dest_path: '/home/lippincm/4TB_A/NF1_2D_organoid_profiling_pipeline/data/SARCO361_T1/0.converted/zmax_proj/D4-6_sc.parquet'. Please use a new path for this parameter.\n",
                        "Error processing /home/lippincm/4TB_A/NF1_2D_organoid_profiling_pipeline/data/SARCO361_T1/cellprofiler_zmax_proj_output/D4-7/gff_extracted_features.sqlite: An existing file or directory was provided as dest_path: '/home/lippincm/4TB_A/NF1_2D_organoid_profiling_pipeline/data/SARCO361_T1/0.converted/zmax_proj/D4-7_sc.parquet'. Please use a new path for this parameter.\n"
                    ]
                },
                {
                    "name": "stderr",
                    "output_type": "stream",
                    "text": [
                        " 30%|\u2588\u2588\u2588       | 106/349 [00:24<00:32,  7.37it/s]"
                    ]
                },
                {
                    "name": "stdout",
                    "output_type": "stream",
                    "text": [
                        "Error processing /home/lippincm/4TB_A/NF1_2D_organoid_profiling_pipeline/data/SARCO361_T1/cellprofiler_zmax_proj_output/D5-1/gff_extracted_features.sqlite: An existing file or directory was provided as dest_path: '/home/lippincm/4TB_A/NF1_2D_organoid_profiling_pipeline/data/SARCO361_T1/0.converted/zmax_proj/D5-1_sc.parquet'. Please use a new path for this parameter.\n",
                        "Error processing /home/lippincm/4TB_A/NF1_2D_organoid_profiling_pipeline/data/SARCO361_T1/cellprofiler_zmax_proj_output/D5-2/gff_extracted_features.sqlite: An existing file or directory was provided as dest_path: '/home/lippincm/4TB_A/NF1_2D_organoid_profiling_pipeline/data/SARCO361_T1/0.converted/zmax_proj/D5-2_sc.parquet'. Please use a new path for this parameter.\n",
                        "Error processing /home/lippincm/4TB_A/NF1_2D_organoid_profiling_pipeline/data/SARCO361_T1/cellprofiler_zmax_proj_output/D5-3/gff_extracted_features.sqlite: An existing file or directory was provided as dest_path: '/home/lippincm/4TB_A/NF1_2D_organoid_profiling_pipeline/data/SARCO361_T1/0.converted/zmax_proj/D5-3_sc.parquet'. Please use a new path for this parameter.\n"
                    ]
                },
                {
                    "name": "stderr",
                    "output_type": "stream",
                    "text": [
                        " 31%|\u2588\u2588\u2588       | 108/349 [00:24<00:28,  8.41it/s]"
                    ]
                },
                {
                    "name": "stdout",
                    "output_type": "stream",
                    "text": [
                        "Error processing /home/lippincm/4TB_A/NF1_2D_organoid_profiling_pipeline/data/SARCO361_T1/cellprofiler_zmax_proj_output/D5-4/gff_extracted_features.sqlite: An existing file or directory was provided as dest_path: '/home/lippincm/4TB_A/NF1_2D_organoid_profiling_pipeline/data/SARCO361_T1/0.converted/zmax_proj/D5-4_sc.parquet'. Please use a new path for this parameter.\n"
                    ]
                },
                {
                    "name": "stderr",
                    "output_type": "stream",
                    "text": [
                        " 31%|\u2588\u2588\u2588       | 109/349 [00:24<00:33,  7.13it/s]"
                    ]
                },
                {
                    "name": "stdout",
                    "output_type": "stream",
                    "text": [
                        "Error processing /home/lippincm/4TB_A/NF1_2D_organoid_profiling_pipeline/data/SARCO361_T1/cellprofiler_zmax_proj_output/D5-5/gff_extracted_features.sqlite: An existing file or directory was provided as dest_path: '/home/lippincm/4TB_A/NF1_2D_organoid_profiling_pipeline/data/SARCO361_T1/0.converted/zmax_proj/D5-5_sc.parquet'. Please use a new path for this parameter.\n",
                        "Error processing /home/lippincm/4TB_A/NF1_2D_organoid_profiling_pipeline/data/SARCO361_T1/cellprofiler_zmax_proj_output/D5-6/gff_extracted_features.sqlite: An existing file or directory was provided as dest_path: '/home/lippincm/4TB_A/NF1_2D_organoid_profiling_pipeline/data/SARCO361_T1/0.converted/zmax_proj/D5-6_sc.parquet'. Please use a new path for this parameter.\n"
                    ]
                },
                {
                    "name": "stderr",
                    "output_type": "stream",
                    "text": [
                        " 32%|\u2588\u2588\u2588\u258f      | 111/349 [00:24<00:33,  7.06it/s]"
                    ]
                },
                {
                    "name": "stdout",
                    "output_type": "stream",
                    "text": [
                        "Error processing /home/lippincm/4TB_A/NF1_2D_organoid_profiling_pipeline/data/SARCO361_T1/cellprofiler_zmax_proj_output/D5-7/gff_extracted_features.sqlite: An existing file or directory was provided as dest_path: '/home/lippincm/4TB_A/NF1_2D_organoid_profiling_pipeline/data/SARCO361_T1/0.converted/zmax_proj/D5-7_sc.parquet'. Please use a new path for this parameter.\n"
                    ]
                },
                {
                    "name": "stderr",
                    "output_type": "stream",
                    "text": [
                        " 33%|\u2588\u2588\u2588\u258e      | 114/349 [00:25<00:29,  8.04it/s]"
                    ]
                },
                {
                    "name": "stdout",
                    "output_type": "stream",
                    "text": [
                        "Error processing /home/lippincm/4TB_A/NF1_2D_organoid_profiling_pipeline/data/SARCO361_T1/cellprofiler_zmax_proj_output/D6-1/gff_extracted_features.sqlite: An existing file or directory was provided as dest_path: '/home/lippincm/4TB_A/NF1_2D_organoid_profiling_pipeline/data/SARCO361_T1/0.converted/zmax_proj/D6-1_sc.parquet'. Please use a new path for this parameter.\n",
                        "Error processing /home/lippincm/4TB_A/NF1_2D_organoid_profiling_pipeline/data/SARCO361_T1/cellprofiler_zmax_proj_output/D6-2/gff_extracted_features.sqlite: An existing file or directory was provided as dest_path: '/home/lippincm/4TB_A/NF1_2D_organoid_profiling_pipeline/data/SARCO361_T1/0.converted/zmax_proj/D6-2_sc.parquet'. Please use a new path for this parameter.\n",
                        "Error processing /home/lippincm/4TB_A/NF1_2D_organoid_profiling_pipeline/data/SARCO361_T1/cellprofiler_zmax_proj_output/D6-3/gff_extracted_features.sqlite: An existing file or directory was provided as dest_path: '/home/lippincm/4TB_A/NF1_2D_organoid_profiling_pipeline/data/SARCO361_T1/0.converted/zmax_proj/D6-3_sc.parquet'. Please use a new path for this parameter.\n"
                    ]
                },
                {
                    "name": "stderr",
                    "output_type": "stream",
                    "text": [
                        " 33%|\u2588\u2588\u2588\u258e      | 116/349 [00:25<00:24,  9.47it/s]"
                    ]
                },
                {
                    "name": "stdout",
                    "output_type": "stream",
                    "text": [
                        "Error processing /home/lippincm/4TB_A/NF1_2D_organoid_profiling_pipeline/data/SARCO361_T1/cellprofiler_zmax_proj_output/D6-4/gff_extracted_features.sqlite: An existing file or directory was provided as dest_path: '/home/lippincm/4TB_A/NF1_2D_organoid_profiling_pipeline/data/SARCO361_T1/0.converted/zmax_proj/D6-4_sc.parquet'. Please use a new path for this parameter.\n",
                        "Error processing /home/lippincm/4TB_A/NF1_2D_organoid_profiling_pipeline/data/SARCO361_T1/cellprofiler_zmax_proj_output/D6-5/gff_extracted_features.sqlite: An existing file or directory was provided as dest_path: '/home/lippincm/4TB_A/NF1_2D_organoid_profiling_pipeline/data/SARCO361_T1/0.converted/zmax_proj/D6-5_sc.parquet'. Please use a new path for this parameter.\n",
                        "Error processing /home/lippincm/4TB_A/NF1_2D_organoid_profiling_pipeline/data/SARCO361_T1/cellprofiler_zmax_proj_output/D6-6/gff_extracted_features.sqlite: list index out of range\n"
                    ]
                },
                {
                    "name": "stderr",
                    "output_type": "stream",
                    "text": [
                        " 34%|\u2588\u2588\u2588\u258d      | 118/349 [00:25<00:36,  6.32it/s]"
                    ]
                },
                {
                    "name": "stdout",
                    "output_type": "stream",
                    "text": [
                        "Error processing /home/lippincm/4TB_A/NF1_2D_organoid_profiling_pipeline/data/SARCO361_T1/cellprofiler_zmax_proj_output/D6-7/gff_extracted_features.sqlite: An existing file or directory was provided as dest_path: '/home/lippincm/4TB_A/NF1_2D_organoid_profiling_pipeline/data/SARCO361_T1/0.converted/zmax_proj/D6-7_sc.parquet'. Please use a new path for this parameter.\n"
                    ]
                },
                {
                    "name": "stderr",
                    "output_type": "stream",
                    "text": [
                        " 34%|\u2588\u2588\u2588\u258d      | 120/349 [00:26<00:43,  5.26it/s]"
                    ]
                },
                {
                    "name": "stdout",
                    "output_type": "stream",
                    "text": [
                        "Error processing /home/lippincm/4TB_A/NF1_2D_organoid_profiling_pipeline/data/SARCO361_T1/cellprofiler_zmax_proj_output/D7-1/gff_extracted_features.sqlite: list index out of range\n",
                        "Error processing /home/lippincm/4TB_A/NF1_2D_organoid_profiling_pipeline/data/SARCO361_T1/cellprofiler_zmax_proj_output/D7-2/gff_extracted_features.sqlite: An existing file or directory was provided as dest_path: '/home/lippincm/4TB_A/NF1_2D_organoid_profiling_pipeline/data/SARCO361_T1/0.converted/zmax_proj/D7-2_sc.parquet'. Please use a new path for this parameter.\n"
                    ]
                },
                {
                    "name": "stderr",
                    "output_type": "stream",
                    "text": [
                        " 35%|\u2588\u2588\u2588\u258d      | 121/349 [00:26<00:43,  5.20it/s]"
                    ]
                },
                {
                    "name": "stdout",
                    "output_type": "stream",
                    "text": [
                        "Error processing /home/lippincm/4TB_A/NF1_2D_organoid_profiling_pipeline/data/SARCO361_T1/cellprofiler_zmax_proj_output/D7-3/gff_extracted_features.sqlite: An existing file or directory was provided as dest_path: '/home/lippincm/4TB_A/NF1_2D_organoid_profiling_pipeline/data/SARCO361_T1/0.converted/zmax_proj/D7-3_sc.parquet'. Please use a new path for this parameter.\n"
                    ]
                },
                {
                    "name": "stderr",
                    "output_type": "stream",
                    "text": [
                        " 35%|\u2588\u2588\u2588\u258d      | 122/349 [00:26<00:45,  4.99it/s]"
                    ]
                },
                {
                    "name": "stdout",
                    "output_type": "stream",
                    "text": [
                        "Error processing /home/lippincm/4TB_A/NF1_2D_organoid_profiling_pipeline/data/SARCO361_T1/cellprofiler_zmax_proj_output/D7-4/gff_extracted_features.sqlite: An existing file or directory was provided as dest_path: '/home/lippincm/4TB_A/NF1_2D_organoid_profiling_pipeline/data/SARCO361_T1/0.converted/zmax_proj/D7-4_sc.parquet'. Please use a new path for this parameter.\n",
                        "Error processing /home/lippincm/4TB_A/NF1_2D_organoid_profiling_pipeline/data/SARCO361_T1/cellprofiler_zmax_proj_output/D7-5/gff_extracted_features.sqlite: An existing file or directory was provided as dest_path: '/home/lippincm/4TB_A/NF1_2D_organoid_profiling_pipeline/data/SARCO361_T1/0.converted/zmax_proj/D7-5_sc.parquet'. Please use a new path for this parameter.\n"
                    ]
                },
                {
                    "name": "stderr",
                    "output_type": "stream",
                    "text": [
                        " 36%|\u2588\u2588\u2588\u258c      | 124/349 [00:27<00:39,  5.73it/s]"
                    ]
                },
                {
                    "name": "stdout",
                    "output_type": "stream",
                    "text": [
                        "Error processing /home/lippincm/4TB_A/NF1_2D_organoid_profiling_pipeline/data/SARCO361_T1/cellprofiler_zmax_proj_output/D7-6/gff_extracted_features.sqlite: An existing file or directory was provided as dest_path: '/home/lippincm/4TB_A/NF1_2D_organoid_profiling_pipeline/data/SARCO361_T1/0.converted/zmax_proj/D7-6_sc.parquet'. Please use a new path for this parameter.\n"
                    ]
                },
                {
                    "name": "stderr",
                    "output_type": "stream",
                    "text": [
                        " 36%|\u2588\u2588\u2588\u258c      | 125/349 [00:27<00:42,  5.32it/s]"
                    ]
                },
                {
                    "name": "stdout",
                    "output_type": "stream",
                    "text": [
                        "Error processing /home/lippincm/4TB_A/NF1_2D_organoid_profiling_pipeline/data/SARCO361_T1/cellprofiler_zmax_proj_output/D7-7/gff_extracted_features.sqlite: An existing file or directory was provided as dest_path: '/home/lippincm/4TB_A/NF1_2D_organoid_profiling_pipeline/data/SARCO361_T1/0.converted/zmax_proj/D7-7_sc.parquet'. Please use a new path for this parameter.\n",
                        "Error processing /home/lippincm/4TB_A/NF1_2D_organoid_profiling_pipeline/data/SARCO361_T1/cellprofiler_zmax_proj_output/D8-1/gff_extracted_features.sqlite: An existing file or directory was provided as dest_path: '/home/lippincm/4TB_A/NF1_2D_organoid_profiling_pipeline/data/SARCO361_T1/0.converted/zmax_proj/D8-1_sc.parquet'. Please use a new path for this parameter.\n"
                    ]
                },
                {
                    "name": "stderr",
                    "output_type": "stream",
                    "text": [
                        " 36%|\u2588\u2588\u2588\u258b      | 127/349 [00:27<00:38,  5.77it/s]"
                    ]
                },
                {
                    "name": "stdout",
                    "output_type": "stream",
                    "text": [
                        "Error processing /home/lippincm/4TB_A/NF1_2D_organoid_profiling_pipeline/data/SARCO361_T1/cellprofiler_zmax_proj_output/D8-2/gff_extracted_features.sqlite: An existing file or directory was provided as dest_path: '/home/lippincm/4TB_A/NF1_2D_organoid_profiling_pipeline/data/SARCO361_T1/0.converted/zmax_proj/D8-2_sc.parquet'. Please use a new path for this parameter.\n"
                    ]
                },
                {
                    "name": "stderr",
                    "output_type": "stream",
                    "text": [
                        " 37%|\u2588\u2588\u2588\u258b      | 130/349 [00:28<00:38,  5.74it/s]"
                    ]
                },
                {
                    "name": "stdout",
                    "output_type": "stream",
                    "text": [
                        "Error processing /home/lippincm/4TB_A/NF1_2D_organoid_profiling_pipeline/data/SARCO361_T1/cellprofiler_zmax_proj_output/D8-3/gff_extracted_features.sqlite: An existing file or directory was provided as dest_path: '/home/lippincm/4TB_A/NF1_2D_organoid_profiling_pipeline/data/SARCO361_T1/0.converted/zmax_proj/D8-3_sc.parquet'. Please use a new path for this parameter.\n",
                        "Error processing /home/lippincm/4TB_A/NF1_2D_organoid_profiling_pipeline/data/SARCO361_T1/cellprofiler_zmax_proj_output/D8-4/gff_extracted_features.sqlite: An existing file or directory was provided as dest_path: '/home/lippincm/4TB_A/NF1_2D_organoid_profiling_pipeline/data/SARCO361_T1/0.converted/zmax_proj/D8-4_sc.parquet'. Please use a new path for this parameter.\n",
                        "Error processing /home/lippincm/4TB_A/NF1_2D_organoid_profiling_pipeline/data/SARCO361_T1/cellprofiler_zmax_proj_output/D8-5/gff_extracted_features.sqlite: An existing file or directory was provided as dest_path: '/home/lippincm/4TB_A/NF1_2D_organoid_profiling_pipeline/data/SARCO361_T1/0.converted/zmax_proj/D8-5_sc.parquet'. Please use a new path for this parameter.\n"
                    ]
                },
                {
                    "name": "stderr",
                    "output_type": "stream",
                    "text": [
                        " 38%|\u2588\u2588\u2588\u258a      | 131/349 [00:28<00:39,  5.47it/s]"
                    ]
                },
                {
                    "name": "stdout",
                    "output_type": "stream",
                    "text": [
                        "Error processing /home/lippincm/4TB_A/NF1_2D_organoid_profiling_pipeline/data/SARCO361_T1/cellprofiler_zmax_proj_output/D8-6/gff_extracted_features.sqlite: An existing file or directory was provided as dest_path: '/home/lippincm/4TB_A/NF1_2D_organoid_profiling_pipeline/data/SARCO361_T1/0.converted/zmax_proj/D8-6_sc.parquet'. Please use a new path for this parameter.\n"
                    ]
                },
                {
                    "name": "stderr",
                    "output_type": "stream",
                    "text": [
                        " 38%|\u2588\u2588\u2588\u258a      | 132/349 [00:28<00:40,  5.32it/s]"
                    ]
                },
                {
                    "name": "stdout",
                    "output_type": "stream",
                    "text": [
                        "Error processing /home/lippincm/4TB_A/NF1_2D_organoid_profiling_pipeline/data/SARCO361_T1/cellprofiler_zmax_proj_output/D8-7/gff_extracted_features.sqlite: An existing file or directory was provided as dest_path: '/home/lippincm/4TB_A/NF1_2D_organoid_profiling_pipeline/data/SARCO361_T1/0.converted/zmax_proj/D8-7_sc.parquet'. Please use a new path for this parameter.\n"
                    ]
                },
                {
                    "name": "stderr",
                    "output_type": "stream",
                    "text": [
                        " 39%|\u2588\u2588\u2588\u258a      | 135/349 [00:28<00:31,  6.87it/s]"
                    ]
                },
                {
                    "name": "stdout",
                    "output_type": "stream",
                    "text": [
                        "Error processing /home/lippincm/4TB_A/NF1_2D_organoid_profiling_pipeline/data/SARCO361_T1/cellprofiler_zmax_proj_output/D9-1/gff_extracted_features.sqlite: An existing file or directory was provided as dest_path: '/home/lippincm/4TB_A/NF1_2D_organoid_profiling_pipeline/data/SARCO361_T1/0.converted/zmax_proj/D9-1_sc.parquet'. Please use a new path for this parameter.\n",
                        "Error processing /home/lippincm/4TB_A/NF1_2D_organoid_profiling_pipeline/data/SARCO361_T1/cellprofiler_zmax_proj_output/D9-2/gff_extracted_features.sqlite: An existing file or directory was provided as dest_path: '/home/lippincm/4TB_A/NF1_2D_organoid_profiling_pipeline/data/SARCO361_T1/0.converted/zmax_proj/D9-2_sc.parquet'. Please use a new path for this parameter.\n",
                        "Error processing /home/lippincm/4TB_A/NF1_2D_organoid_profiling_pipeline/data/SARCO361_T1/cellprofiler_zmax_proj_output/D9-3/gff_extracted_features.sqlite: An existing file or directory was provided as dest_path: '/home/lippincm/4TB_A/NF1_2D_organoid_profiling_pipeline/data/SARCO361_T1/0.converted/zmax_proj/D9-3_sc.parquet'. Please use a new path for this parameter.\n"
                    ]
                },
                {
                    "name": "stderr",
                    "output_type": "stream",
                    "text": [
                        " 39%|\u2588\u2588\u2588\u2589      | 136/349 [00:29<00:34,  6.24it/s]"
                    ]
                },
                {
                    "name": "stdout",
                    "output_type": "stream",
                    "text": [
                        "Error processing /home/lippincm/4TB_A/NF1_2D_organoid_profiling_pipeline/data/SARCO361_T1/cellprofiler_zmax_proj_output/D9-4/gff_extracted_features.sqlite: An existing file or directory was provided as dest_path: '/home/lippincm/4TB_A/NF1_2D_organoid_profiling_pipeline/data/SARCO361_T1/0.converted/zmax_proj/D9-4_sc.parquet'. Please use a new path for this parameter.\n"
                    ]
                },
                {
                    "name": "stderr",
                    "output_type": "stream",
                    "text": [
                        " 39%|\u2588\u2588\u2588\u2589      | 137/349 [00:29<00:38,  5.48it/s]"
                    ]
                },
                {
                    "name": "stdout",
                    "output_type": "stream",
                    "text": [
                        "Error processing /home/lippincm/4TB_A/NF1_2D_organoid_profiling_pipeline/data/SARCO361_T1/cellprofiler_zmax_proj_output/D9-5/gff_extracted_features.sqlite: An existing file or directory was provided as dest_path: '/home/lippincm/4TB_A/NF1_2D_organoid_profiling_pipeline/data/SARCO361_T1/0.converted/zmax_proj/D9-5_sc.parquet'. Please use a new path for this parameter.\n"
                    ]
                },
                {
                    "name": "stderr",
                    "output_type": "stream",
                    "text": [
                        " 40%|\u2588\u2588\u2588\u2589      | 138/349 [00:29<00:40,  5.20it/s]"
                    ]
                },
                {
                    "name": "stdout",
                    "output_type": "stream",
                    "text": [
                        "Error processing /home/lippincm/4TB_A/NF1_2D_organoid_profiling_pipeline/data/SARCO361_T1/cellprofiler_zmax_proj_output/D9-6/gff_extracted_features.sqlite: An existing file or directory was provided as dest_path: '/home/lippincm/4TB_A/NF1_2D_organoid_profiling_pipeline/data/SARCO361_T1/0.converted/zmax_proj/D9-6_sc.parquet'. Please use a new path for this parameter.\n"
                    ]
                },
                {
                    "name": "stderr",
                    "output_type": "stream",
                    "text": [
                        " 40%|\u2588\u2588\u2588\u2589      | 139/349 [00:29<00:41,  5.06it/s]"
                    ]
                },
                {
                    "name": "stdout",
                    "output_type": "stream",
                    "text": [
                        "Error processing /home/lippincm/4TB_A/NF1_2D_organoid_profiling_pipeline/data/SARCO361_T1/cellprofiler_zmax_proj_output/D9-7/gff_extracted_features.sqlite: An existing file or directory was provided as dest_path: '/home/lippincm/4TB_A/NF1_2D_organoid_profiling_pipeline/data/SARCO361_T1/0.converted/zmax_proj/D9-7_sc.parquet'. Please use a new path for this parameter.\n"
                    ]
                },
                {
                    "name": "stderr",
                    "output_type": "stream",
                    "text": [
                        " 40%|\u2588\u2588\u2588\u2588      | 141/349 [00:30<00:51,  4.04it/s]"
                    ]
                },
                {
                    "name": "stdout",
                    "output_type": "stream",
                    "text": [
                        "Error processing /home/lippincm/4TB_A/NF1_2D_organoid_profiling_pipeline/data/SARCO361_T1/cellprofiler_zmax_proj_output/E10-1/gff_extracted_features.sqlite: list index out of range\n",
                        "Error processing /home/lippincm/4TB_A/NF1_2D_organoid_profiling_pipeline/data/SARCO361_T1/cellprofiler_zmax_proj_output/E10-2/gff_extracted_features.sqlite: An existing file or directory was provided as dest_path: '/home/lippincm/4TB_A/NF1_2D_organoid_profiling_pipeline/data/SARCO361_T1/0.converted/zmax_proj/E10-2_sc.parquet'. Please use a new path for this parameter.\n"
                    ]
                },
                {
                    "name": "stderr",
                    "output_type": "stream",
                    "text": [
                        " 41%|\u2588\u2588\u2588\u2588      | 142/349 [00:30<00:56,  3.65it/s]"
                    ]
                },
                {
                    "name": "stdout",
                    "output_type": "stream",
                    "text": [
                        "Error processing /home/lippincm/4TB_A/NF1_2D_organoid_profiling_pipeline/data/SARCO361_T1/cellprofiler_zmax_proj_output/E10-3/gff_extracted_features.sqlite: list index out of range\n",
                        "Error processing /home/lippincm/4TB_A/NF1_2D_organoid_profiling_pipeline/data/SARCO361_T1/cellprofiler_zmax_proj_output/E10-4/gff_extracted_features.sqlite: An existing file or directory was provided as dest_path: '/home/lippincm/4TB_A/NF1_2D_organoid_profiling_pipeline/data/SARCO361_T1/0.converted/zmax_proj/E10-4_sc.parquet'. Please use a new path for this parameter.\n"
                    ]
                },
                {
                    "name": "stderr",
                    "output_type": "stream",
                    "text": [
                        " 41%|\u2588\u2588\u2588\u2588\u258f     | 144/349 [00:31<00:43,  4.70it/s]"
                    ]
                },
                {
                    "name": "stdout",
                    "output_type": "stream",
                    "text": [
                        "Error processing /home/lippincm/4TB_A/NF1_2D_organoid_profiling_pipeline/data/SARCO361_T1/cellprofiler_zmax_proj_output/E10-5/gff_extracted_features.sqlite: An existing file or directory was provided as dest_path: '/home/lippincm/4TB_A/NF1_2D_organoid_profiling_pipeline/data/SARCO361_T1/0.converted/zmax_proj/E10-5_sc.parquet'. Please use a new path for this parameter.\n"
                    ]
                },
                {
                    "name": "stderr",
                    "output_type": "stream",
                    "text": [
                        " 42%|\u2588\u2588\u2588\u2588\u258f     | 145/349 [00:31<01:07,  3.00it/s]"
                    ]
                },
                {
                    "name": "stdout",
                    "output_type": "stream",
                    "text": [
                        "Error processing /home/lippincm/4TB_A/NF1_2D_organoid_profiling_pipeline/data/SARCO361_T1/cellprofiler_zmax_proj_output/E10-6/gff_extracted_features.sqlite: list index out of range\n"
                    ]
                },
                {
                    "name": "stderr",
                    "output_type": "stream",
                    "text": [
                        " 42%|\u2588\u2588\u2588\u2588\u258f     | 146/349 [00:32<01:06,  3.04it/s]"
                    ]
                },
                {
                    "name": "stdout",
                    "output_type": "stream",
                    "text": [
                        "Error processing /home/lippincm/4TB_A/NF1_2D_organoid_profiling_pipeline/data/SARCO361_T1/cellprofiler_zmax_proj_output/E10-7/gff_extracted_features.sqlite: list index out of range\n"
                    ]
                },
                {
                    "name": "stderr",
                    "output_type": "stream",
                    "text": [
                        " 42%|\u2588\u2588\u2588\u2588\u258f     | 147/349 [00:32<01:00,  3.36it/s]"
                    ]
                },
                {
                    "name": "stdout",
                    "output_type": "stream",
                    "text": [
                        "Error processing /home/lippincm/4TB_A/NF1_2D_organoid_profiling_pipeline/data/SARCO361_T1/cellprofiler_zmax_proj_output/E11-1/gff_extracted_features.sqlite: An existing file or directory was provided as dest_path: '/home/lippincm/4TB_A/NF1_2D_organoid_profiling_pipeline/data/SARCO361_T1/0.converted/zmax_proj/E11-1_sc.parquet'. Please use a new path for this parameter.\n",
                        "Error processing /home/lippincm/4TB_A/NF1_2D_organoid_profiling_pipeline/data/SARCO361_T1/cellprofiler_zmax_proj_output/E11-2/gff_extracted_features.sqlite: An existing file or directory was provided as dest_path: '/home/lippincm/4TB_A/NF1_2D_organoid_profiling_pipeline/data/SARCO361_T1/0.converted/zmax_proj/E11-2_sc.parquet'. Please use a new path for this parameter.\n"
                    ]
                },
                {
                    "name": "stderr",
                    "output_type": "stream",
                    "text": [
                        " 43%|\u2588\u2588\u2588\u2588\u258e     | 149/349 [00:32<00:53,  3.72it/s]"
                    ]
                },
                {
                    "name": "stdout",
                    "output_type": "stream",
                    "text": [
                        "Error processing /home/lippincm/4TB_A/NF1_2D_organoid_profiling_pipeline/data/SARCO361_T1/cellprofiler_zmax_proj_output/E11-3/gff_extracted_features.sqlite: list index out of range\n",
                        "Error processing /home/lippincm/4TB_A/NF1_2D_organoid_profiling_pipeline/data/SARCO361_T1/cellprofiler_zmax_proj_output/E11-4/gff_extracted_features.sqlite: An existing file or directory was provided as dest_path: '/home/lippincm/4TB_A/NF1_2D_organoid_profiling_pipeline/data/SARCO361_T1/0.converted/zmax_proj/E11-4_sc.parquet'. Please use a new path for this parameter.\n"
                    ]
                },
                {
                    "name": "stderr",
                    "output_type": "stream",
                    "text": [
                        " 43%|\u2588\u2588\u2588\u2588\u258e     | 151/349 [00:33<00:53,  3.73it/s]"
                    ]
                },
                {
                    "name": "stdout",
                    "output_type": "stream",
                    "text": [
                        "Error processing /home/lippincm/4TB_A/NF1_2D_organoid_profiling_pipeline/data/SARCO361_T1/cellprofiler_zmax_proj_output/E11-5/gff_extracted_features.sqlite: list index out of range\n"
                    ]
                },
                {
                    "name": "stderr",
                    "output_type": "stream",
                    "text": [
                        " 44%|\u2588\u2588\u2588\u2588\u258e     | 152/349 [00:33<00:50,  3.91it/s]"
                    ]
                },
                {
                    "name": "stdout",
                    "output_type": "stream",
                    "text": [
                        "Error processing /home/lippincm/4TB_A/NF1_2D_organoid_profiling_pipeline/data/SARCO361_T1/cellprofiler_zmax_proj_output/E11-6/gff_extracted_features.sqlite: An existing file or directory was provided as dest_path: '/home/lippincm/4TB_A/NF1_2D_organoid_profiling_pipeline/data/SARCO361_T1/0.converted/zmax_proj/E11-6_sc.parquet'. Please use a new path for this parameter.\n"
                    ]
                },
                {
                    "name": "stderr",
                    "output_type": "stream",
                    "text": [
                        " 44%|\u2588\u2588\u2588\u2588\u258d     | 153/349 [00:33<00:51,  3.80it/s]"
                    ]
                },
                {
                    "name": "stdout",
                    "output_type": "stream",
                    "text": [
                        "Error processing /home/lippincm/4TB_A/NF1_2D_organoid_profiling_pipeline/data/SARCO361_T1/cellprofiler_zmax_proj_output/E11-7/gff_extracted_features.sqlite: An existing file or directory was provided as dest_path: '/home/lippincm/4TB_A/NF1_2D_organoid_profiling_pipeline/data/SARCO361_T1/0.converted/zmax_proj/E11-7_sc.parquet'. Please use a new path for this parameter.\n"
                    ]
                },
                {
                    "name": "stderr",
                    "output_type": "stream",
                    "text": [
                        " 44%|\u2588\u2588\u2588\u2588\u258d     | 154/349 [00:34<00:56,  3.46it/s]"
                    ]
                },
                {
                    "name": "stdout",
                    "output_type": "stream",
                    "text": [
                        "Error processing /home/lippincm/4TB_A/NF1_2D_organoid_profiling_pipeline/data/SARCO361_T1/cellprofiler_zmax_proj_output/E2-1/gff_extracted_features.sqlite: list index out of range\n"
                    ]
                },
                {
                    "name": "stderr",
                    "output_type": "stream",
                    "text": [
                        " 45%|\u2588\u2588\u2588\u2588\u258d     | 156/349 [00:34<00:48,  4.02it/s]"
                    ]
                },
                {
                    "name": "stdout",
                    "output_type": "stream",
                    "text": [
                        "Error processing /home/lippincm/4TB_A/NF1_2D_organoid_profiling_pipeline/data/SARCO361_T1/cellprofiler_zmax_proj_output/E2-2/gff_extracted_features.sqlite: An existing file or directory was provided as dest_path: '/home/lippincm/4TB_A/NF1_2D_organoid_profiling_pipeline/data/SARCO361_T1/0.converted/zmax_proj/E2-2_sc.parquet'. Please use a new path for this parameter.\n",
                        "Error processing /home/lippincm/4TB_A/NF1_2D_organoid_profiling_pipeline/data/SARCO361_T1/cellprofiler_zmax_proj_output/E2-3/gff_extracted_features.sqlite: An existing file or directory was provided as dest_path: '/home/lippincm/4TB_A/NF1_2D_organoid_profiling_pipeline/data/SARCO361_T1/0.converted/zmax_proj/E2-3_sc.parquet'. Please use a new path for this parameter.\n"
                    ]
                },
                {
                    "name": "stderr",
                    "output_type": "stream",
                    "text": [
                        " 45%|\u2588\u2588\u2588\u2588\u258d     | 157/349 [00:35<00:53,  3.60it/s]"
                    ]
                },
                {
                    "name": "stdout",
                    "output_type": "stream",
                    "text": [
                        "Error processing /home/lippincm/4TB_A/NF1_2D_organoid_profiling_pipeline/data/SARCO361_T1/cellprofiler_zmax_proj_output/E2-4/gff_extracted_features.sqlite: list index out of range\n"
                    ]
                },
                {
                    "name": "stderr",
                    "output_type": "stream",
                    "text": [
                        " 45%|\u2588\u2588\u2588\u2588\u258c     | 158/349 [00:35<01:02,  3.06it/s]"
                    ]
                },
                {
                    "name": "stdout",
                    "output_type": "stream",
                    "text": [
                        "Error processing /home/lippincm/4TB_A/NF1_2D_organoid_profiling_pipeline/data/SARCO361_T1/cellprofiler_zmax_proj_output/E2-5/gff_extracted_features.sqlite: list index out of range\n",
                        "Error processing /home/lippincm/4TB_A/NF1_2D_organoid_profiling_pipeline/data/SARCO361_T1/cellprofiler_zmax_proj_output/E2-6/gff_extracted_features.sqlite: An existing file or directory was provided as dest_path: '/home/lippincm/4TB_A/NF1_2D_organoid_profiling_pipeline/data/SARCO361_T1/0.converted/zmax_proj/E2-6_sc.parquet'. Please use a new path for this parameter.\n"
                    ]
                },
                {
                    "name": "stderr",
                    "output_type": "stream",
                    "text": [
                        " 46%|\u2588\u2588\u2588\u2588\u258c     | 160/349 [00:35<00:45,  4.15it/s]"
                    ]
                },
                {
                    "name": "stdout",
                    "output_type": "stream",
                    "text": [
                        "Error processing /home/lippincm/4TB_A/NF1_2D_organoid_profiling_pipeline/data/SARCO361_T1/cellprofiler_zmax_proj_output/E2-7/gff_extracted_features.sqlite: An existing file or directory was provided as dest_path: '/home/lippincm/4TB_A/NF1_2D_organoid_profiling_pipeline/data/SARCO361_T1/0.converted/zmax_proj/E2-7_sc.parquet'. Please use a new path for this parameter.\n"
                    ]
                },
                {
                    "name": "stderr",
                    "output_type": "stream",
                    "text": [
                        " 46%|\u2588\u2588\u2588\u2588\u258c     | 161/349 [00:36<01:06,  2.84it/s]"
                    ]
                },
                {
                    "name": "stdout",
                    "output_type": "stream",
                    "text": [
                        "Error processing /home/lippincm/4TB_A/NF1_2D_organoid_profiling_pipeline/data/SARCO361_T1/cellprofiler_zmax_proj_output/E3-1/gff_extracted_features.sqlite: list index out of range\n"
                    ]
                },
                {
                    "name": "stderr",
                    "output_type": "stream",
                    "text": [
                        " 47%|\u2588\u2588\u2588\u2588\u258b     | 164/349 [00:36<00:40,  4.61it/s]"
                    ]
                },
                {
                    "name": "stdout",
                    "output_type": "stream",
                    "text": [
                        "Error processing /home/lippincm/4TB_A/NF1_2D_organoid_profiling_pipeline/data/SARCO361_T1/cellprofiler_zmax_proj_output/E3-2/gff_extracted_features.sqlite: An existing file or directory was provided as dest_path: '/home/lippincm/4TB_A/NF1_2D_organoid_profiling_pipeline/data/SARCO361_T1/0.converted/zmax_proj/E3-2_sc.parquet'. Please use a new path for this parameter.\n",
                        "Error processing /home/lippincm/4TB_A/NF1_2D_organoid_profiling_pipeline/data/SARCO361_T1/cellprofiler_zmax_proj_output/E3-3/gff_extracted_features.sqlite: An existing file or directory was provided as dest_path: '/home/lippincm/4TB_A/NF1_2D_organoid_profiling_pipeline/data/SARCO361_T1/0.converted/zmax_proj/E3-3_sc.parquet'. Please use a new path for this parameter.\n",
                        "Error processing /home/lippincm/4TB_A/NF1_2D_organoid_profiling_pipeline/data/SARCO361_T1/cellprofiler_zmax_proj_output/E3-4/gff_extracted_features.sqlite: An existing file or directory was provided as dest_path: '/home/lippincm/4TB_A/NF1_2D_organoid_profiling_pipeline/data/SARCO361_T1/0.converted/zmax_proj/E3-4_sc.parquet'. Please use a new path for this parameter.\n"
                    ]
                },
                {
                    "name": "stderr",
                    "output_type": "stream",
                    "text": [
                        " 47%|\u2588\u2588\u2588\u2588\u258b     | 165/349 [00:37<00:39,  4.66it/s]"
                    ]
                },
                {
                    "name": "stdout",
                    "output_type": "stream",
                    "text": [
                        "Error processing /home/lippincm/4TB_A/NF1_2D_organoid_profiling_pipeline/data/SARCO361_T1/cellprofiler_zmax_proj_output/E3-5/gff_extracted_features.sqlite: An existing file or directory was provided as dest_path: '/home/lippincm/4TB_A/NF1_2D_organoid_profiling_pipeline/data/SARCO361_T1/0.converted/zmax_proj/E3-5_sc.parquet'. Please use a new path for this parameter.\n"
                    ]
                },
                {
                    "name": "stderr",
                    "output_type": "stream",
                    "text": [
                        " 48%|\u2588\u2588\u2588\u2588\u258a     | 166/349 [00:37<00:43,  4.16it/s]"
                    ]
                },
                {
                    "name": "stdout",
                    "output_type": "stream",
                    "text": [
                        "Error processing /home/lippincm/4TB_A/NF1_2D_organoid_profiling_pipeline/data/SARCO361_T1/cellprofiler_zmax_proj_output/E3-6/gff_extracted_features.sqlite: list index out of range\n"
                    ]
                },
                {
                    "name": "stderr",
                    "output_type": "stream",
                    "text": [
                        " 48%|\u2588\u2588\u2588\u2588\u258a     | 169/349 [00:37<00:37,  4.79it/s]"
                    ]
                },
                {
                    "name": "stdout",
                    "output_type": "stream",
                    "text": [
                        "Error processing /home/lippincm/4TB_A/NF1_2D_organoid_profiling_pipeline/data/SARCO361_T1/cellprofiler_zmax_proj_output/E3-7/gff_extracted_features.sqlite: list index out of range\n",
                        "Error processing /home/lippincm/4TB_A/NF1_2D_organoid_profiling_pipeline/data/SARCO361_T1/cellprofiler_zmax_proj_output/E4-1/gff_extracted_features.sqlite: An existing file or directory was provided as dest_path: '/home/lippincm/4TB_A/NF1_2D_organoid_profiling_pipeline/data/SARCO361_T1/0.converted/zmax_proj/E4-1_sc.parquet'. Please use a new path for this parameter.\n",
                        "Error processing /home/lippincm/4TB_A/NF1_2D_organoid_profiling_pipeline/data/SARCO361_T1/cellprofiler_zmax_proj_output/E4-2/gff_extracted_features.sqlite: An existing file or directory was provided as dest_path: '/home/lippincm/4TB_A/NF1_2D_organoid_profiling_pipeline/data/SARCO361_T1/0.converted/zmax_proj/E4-2_sc.parquet'. Please use a new path for this parameter.\n"
                    ]
                },
                {
                    "name": "stderr",
                    "output_type": "stream",
                    "text": [
                        " 49%|\u2588\u2588\u2588\u2588\u258a     | 170/349 [00:38<00:47,  3.78it/s]"
                    ]
                },
                {
                    "name": "stdout",
                    "output_type": "stream",
                    "text": [
                        "Error processing /home/lippincm/4TB_A/NF1_2D_organoid_profiling_pipeline/data/SARCO361_T1/cellprofiler_zmax_proj_output/E4-3/gff_extracted_features.sqlite: list index out of range\n",
                        "Error processing /home/lippincm/4TB_A/NF1_2D_organoid_profiling_pipeline/data/SARCO361_T1/cellprofiler_zmax_proj_output/E4-4/gff_extracted_features.sqlite: An existing file or directory was provided as dest_path: '/home/lippincm/4TB_A/NF1_2D_organoid_profiling_pipeline/data/SARCO361_T1/0.converted/zmax_proj/E4-4_sc.parquet'. Please use a new path for this parameter.\n"
                    ]
                },
                {
                    "name": "stderr",
                    "output_type": "stream",
                    "text": [
                        " 49%|\u2588\u2588\u2588\u2588\u2589     | 172/349 [00:38<00:43,  4.11it/s]"
                    ]
                },
                {
                    "name": "stdout",
                    "output_type": "stream",
                    "text": [
                        "Error processing /home/lippincm/4TB_A/NF1_2D_organoid_profiling_pipeline/data/SARCO361_T1/cellprofiler_zmax_proj_output/E4-5/gff_extracted_features.sqlite: An existing file or directory was provided as dest_path: '/home/lippincm/4TB_A/NF1_2D_organoid_profiling_pipeline/data/SARCO361_T1/0.converted/zmax_proj/E4-5_sc.parquet'. Please use a new path for this parameter.\n",
                        "Error processing /home/lippincm/4TB_A/NF1_2D_organoid_profiling_pipeline/data/SARCO361_T1/cellprofiler_zmax_proj_output/E4-6/gff_extracted_features.sqlite: An existing file or directory was provided as dest_path: '/home/lippincm/4TB_A/NF1_2D_organoid_profiling_pipeline/data/SARCO361_T1/0.converted/zmax_proj/E4-6_sc.parquet'. Please use a new path for this parameter.\n"
                    ]
                },
                {
                    "name": "stderr",
                    "output_type": "stream",
                    "text": [
                        " 50%|\u2588\u2588\u2588\u2588\u2588     | 176/349 [00:39<00:30,  5.75it/s]"
                    ]
                },
                {
                    "name": "stdout",
                    "output_type": "stream",
                    "text": [
                        "Error processing /home/lippincm/4TB_A/NF1_2D_organoid_profiling_pipeline/data/SARCO361_T1/cellprofiler_zmax_proj_output/E4-7/gff_extracted_features.sqlite: list index out of range\n",
                        "Error processing /home/lippincm/4TB_A/NF1_2D_organoid_profiling_pipeline/data/SARCO361_T1/cellprofiler_zmax_proj_output/E5-1/gff_extracted_features.sqlite: An existing file or directory was provided as dest_path: '/home/lippincm/4TB_A/NF1_2D_organoid_profiling_pipeline/data/SARCO361_T1/0.converted/zmax_proj/E5-1_sc.parquet'. Please use a new path for this parameter.\n",
                        "Error processing /home/lippincm/4TB_A/NF1_2D_organoid_profiling_pipeline/data/SARCO361_T1/cellprofiler_zmax_proj_output/E5-2/gff_extracted_features.sqlite: An existing file or directory was provided as dest_path: '/home/lippincm/4TB_A/NF1_2D_organoid_profiling_pipeline/data/SARCO361_T1/0.converted/zmax_proj/E5-2_sc.parquet'. Please use a new path for this parameter.\n"
                    ]
                },
                {
                    "name": "stderr",
                    "output_type": "stream",
                    "text": [
                        " 51%|\u2588\u2588\u2588\u2588\u2588     | 177/349 [00:39<00:39,  4.37it/s]"
                    ]
                },
                {
                    "name": "stdout",
                    "output_type": "stream",
                    "text": [
                        "Error processing /home/lippincm/4TB_A/NF1_2D_organoid_profiling_pipeline/data/SARCO361_T1/cellprofiler_zmax_proj_output/E5-3/gff_extracted_features.sqlite: list index out of range\n",
                        "Error processing /home/lippincm/4TB_A/NF1_2D_organoid_profiling_pipeline/data/SARCO361_T1/cellprofiler_zmax_proj_output/E5-4/gff_extracted_features.sqlite: An existing file or directory was provided as dest_path: '/home/lippincm/4TB_A/NF1_2D_organoid_profiling_pipeline/data/SARCO361_T1/0.converted/zmax_proj/E5-4_sc.parquet'. Please use a new path for this parameter.\n"
                    ]
                },
                {
                    "name": "stderr",
                    "output_type": "stream",
                    "text": [
                        " 51%|\u2588\u2588\u2588\u2588\u2588\u258f    | 179/349 [00:40<00:31,  5.38it/s]"
                    ]
                },
                {
                    "name": "stdout",
                    "output_type": "stream",
                    "text": [
                        "Error processing /home/lippincm/4TB_A/NF1_2D_organoid_profiling_pipeline/data/SARCO361_T1/cellprofiler_zmax_proj_output/E5-5/gff_extracted_features.sqlite: An existing file or directory was provided as dest_path: '/home/lippincm/4TB_A/NF1_2D_organoid_profiling_pipeline/data/SARCO361_T1/0.converted/zmax_proj/E5-5_sc.parquet'. Please use a new path for this parameter.\n"
                    ]
                },
                {
                    "name": "stderr",
                    "output_type": "stream",
                    "text": [
                        " 52%|\u2588\u2588\u2588\u2588\u2588\u258f    | 181/349 [00:40<00:35,  4.76it/s]"
                    ]
                },
                {
                    "name": "stdout",
                    "output_type": "stream",
                    "text": [
                        "Error processing /home/lippincm/4TB_A/NF1_2D_organoid_profiling_pipeline/data/SARCO361_T1/cellprofiler_zmax_proj_output/E5-6/gff_extracted_features.sqlite: list index out of range\n",
                        "Error processing /home/lippincm/4TB_A/NF1_2D_organoid_profiling_pipeline/data/SARCO361_T1/cellprofiler_zmax_proj_output/E5-7/gff_extracted_features.sqlite: An existing file or directory was provided as dest_path: '/home/lippincm/4TB_A/NF1_2D_organoid_profiling_pipeline/data/SARCO361_T1/0.converted/zmax_proj/E5-7_sc.parquet'. Please use a new path for this parameter.\n",
                        "Error processing /home/lippincm/4TB_A/NF1_2D_organoid_profiling_pipeline/data/SARCO361_T1/cellprofiler_zmax_proj_output/E6-1/gff_extracted_features.sqlite: An existing file or directory was provided as dest_path: '/home/lippincm/4TB_A/NF1_2D_organoid_profiling_pipeline/data/SARCO361_T1/0.converted/zmax_proj/E6-1_sc.parquet'. Please use a new path for this parameter.\n"
                    ]
                },
                {
                    "name": "stderr",
                    "output_type": "stream",
                    "text": [
                        " 52%|\u2588\u2588\u2588\u2588\u2588\u258f    | 183/349 [00:40<00:30,  5.43it/s]"
                    ]
                },
                {
                    "name": "stdout",
                    "output_type": "stream",
                    "text": [
                        "Error processing /home/lippincm/4TB_A/NF1_2D_organoid_profiling_pipeline/data/SARCO361_T1/cellprofiler_zmax_proj_output/E6-2/gff_extracted_features.sqlite: An existing file or directory was provided as dest_path: '/home/lippincm/4TB_A/NF1_2D_organoid_profiling_pipeline/data/SARCO361_T1/0.converted/zmax_proj/E6-2_sc.parquet'. Please use a new path for this parameter.\n",
                        "Error processing /home/lippincm/4TB_A/NF1_2D_organoid_profiling_pipeline/data/SARCO361_T1/cellprofiler_zmax_proj_output/E6-3/gff_extracted_features.sqlite: An existing file or directory was provided as dest_path: '/home/lippincm/4TB_A/NF1_2D_organoid_profiling_pipeline/data/SARCO361_T1/0.converted/zmax_proj/E6-3_sc.parquet'. Please use a new path for this parameter.\n"
                    ]
                },
                {
                    "name": "stderr",
                    "output_type": "stream",
                    "text": [
                        " 53%|\u2588\u2588\u2588\u2588\u2588\u258e    | 185/349 [00:41<00:27,  6.02it/s]"
                    ]
                },
                {
                    "name": "stdout",
                    "output_type": "stream",
                    "text": [
                        "Error processing /home/lippincm/4TB_A/NF1_2D_organoid_profiling_pipeline/data/SARCO361_T1/cellprofiler_zmax_proj_output/E6-4/gff_extracted_features.sqlite: An existing file or directory was provided as dest_path: '/home/lippincm/4TB_A/NF1_2D_organoid_profiling_pipeline/data/SARCO361_T1/0.converted/zmax_proj/E6-4_sc.parquet'. Please use a new path for this parameter.\n"
                    ]
                },
                {
                    "name": "stderr",
                    "output_type": "stream",
                    "text": [
                        " 53%|\u2588\u2588\u2588\u2588\u2588\u258e    | 186/349 [00:41<00:28,  5.76it/s]"
                    ]
                },
                {
                    "name": "stdout",
                    "output_type": "stream",
                    "text": [
                        "Error processing /home/lippincm/4TB_A/NF1_2D_organoid_profiling_pipeline/data/SARCO361_T1/cellprofiler_zmax_proj_output/E6-5/gff_extracted_features.sqlite: An existing file or directory was provided as dest_path: '/home/lippincm/4TB_A/NF1_2D_organoid_profiling_pipeline/data/SARCO361_T1/0.converted/zmax_proj/E6-5_sc.parquet'. Please use a new path for this parameter.\n",
                        "Error processing /home/lippincm/4TB_A/NF1_2D_organoid_profiling_pipeline/data/SARCO361_T1/cellprofiler_zmax_proj_output/E6-6/gff_extracted_features.sqlite: An existing file or directory was provided as dest_path: '/home/lippincm/4TB_A/NF1_2D_organoid_profiling_pipeline/data/SARCO361_T1/0.converted/zmax_proj/E6-6_sc.parquet'. Please use a new path for this parameter.\n"
                    ]
                },
                {
                    "name": "stderr",
                    "output_type": "stream",
                    "text": [
                        " 54%|\u2588\u2588\u2588\u2588\u2588\u258d    | 188/349 [00:41<00:25,  6.29it/s]"
                    ]
                },
                {
                    "name": "stdout",
                    "output_type": "stream",
                    "text": [
                        "Error processing /home/lippincm/4TB_A/NF1_2D_organoid_profiling_pipeline/data/SARCO361_T1/cellprofiler_zmax_proj_output/E6-7/gff_extracted_features.sqlite: An existing file or directory was provided as dest_path: '/home/lippincm/4TB_A/NF1_2D_organoid_profiling_pipeline/data/SARCO361_T1/0.converted/zmax_proj/E6-7_sc.parquet'. Please use a new path for this parameter.\n"
                    ]
                },
                {
                    "name": "stderr",
                    "output_type": "stream",
                    "text": [
                        " 54%|\u2588\u2588\u2588\u2588\u2588\u258d    | 189/349 [00:41<00:27,  5.87it/s]"
                    ]
                },
                {
                    "name": "stdout",
                    "output_type": "stream",
                    "text": [
                        "Error processing /home/lippincm/4TB_A/NF1_2D_organoid_profiling_pipeline/data/SARCO361_T1/cellprofiler_zmax_proj_output/E7-1/gff_extracted_features.sqlite: An existing file or directory was provided as dest_path: '/home/lippincm/4TB_A/NF1_2D_organoid_profiling_pipeline/data/SARCO361_T1/0.converted/zmax_proj/E7-1_sc.parquet'. Please use a new path for this parameter.\n"
                    ]
                },
                {
                    "name": "stderr",
                    "output_type": "stream",
                    "text": [
                        " 54%|\u2588\u2588\u2588\u2588\u2588\u258d    | 190/349 [00:42<00:32,  4.82it/s]"
                    ]
                },
                {
                    "name": "stdout",
                    "output_type": "stream",
                    "text": [
                        "Error processing /home/lippincm/4TB_A/NF1_2D_organoid_profiling_pipeline/data/SARCO361_T1/cellprofiler_zmax_proj_output/E7-2/gff_extracted_features.sqlite: list index out of range\n"
                    ]
                },
                {
                    "name": "stderr",
                    "output_type": "stream",
                    "text": [
                        " 55%|\u2588\u2588\u2588\u2588\u2588\u258c    | 193/349 [00:42<00:24,  6.48it/s]"
                    ]
                },
                {
                    "name": "stdout",
                    "output_type": "stream",
                    "text": [
                        "Error processing /home/lippincm/4TB_A/NF1_2D_organoid_profiling_pipeline/data/SARCO361_T1/cellprofiler_zmax_proj_output/E7-3/gff_extracted_features.sqlite: An existing file or directory was provided as dest_path: '/home/lippincm/4TB_A/NF1_2D_organoid_profiling_pipeline/data/SARCO361_T1/0.converted/zmax_proj/E7-3_sc.parquet'. Please use a new path for this parameter.\n",
                        "Error processing /home/lippincm/4TB_A/NF1_2D_organoid_profiling_pipeline/data/SARCO361_T1/cellprofiler_zmax_proj_output/E7-4/gff_extracted_features.sqlite: An existing file or directory was provided as dest_path: '/home/lippincm/4TB_A/NF1_2D_organoid_profiling_pipeline/data/SARCO361_T1/0.converted/zmax_proj/E7-4_sc.parquet'. Please use a new path for this parameter.\n",
                        "Error processing /home/lippincm/4TB_A/NF1_2D_organoid_profiling_pipeline/data/SARCO361_T1/cellprofiler_zmax_proj_output/E7-5/gff_extracted_features.sqlite: An existing file or directory was provided as dest_path: '/home/lippincm/4TB_A/NF1_2D_organoid_profiling_pipeline/data/SARCO361_T1/0.converted/zmax_proj/E7-5_sc.parquet'. Please use a new path for this parameter.\n"
                    ]
                },
                {
                    "name": "stderr",
                    "output_type": "stream",
                    "text": [
                        " 56%|\u2588\u2588\u2588\u2588\u2588\u258c    | 194/349 [00:42<00:25,  6.03it/s]"
                    ]
                },
                {
                    "name": "stdout",
                    "output_type": "stream",
                    "text": [
                        "Error processing /home/lippincm/4TB_A/NF1_2D_organoid_profiling_pipeline/data/SARCO361_T1/cellprofiler_zmax_proj_output/E7-6/gff_extracted_features.sqlite: An existing file or directory was provided as dest_path: '/home/lippincm/4TB_A/NF1_2D_organoid_profiling_pipeline/data/SARCO361_T1/0.converted/zmax_proj/E7-6_sc.parquet'. Please use a new path for this parameter.\n"
                    ]
                },
                {
                    "name": "stderr",
                    "output_type": "stream",
                    "text": [
                        " 56%|\u2588\u2588\u2588\u2588\u2588\u258c    | 195/349 [00:43<00:38,  4.04it/s]"
                    ]
                },
                {
                    "name": "stdout",
                    "output_type": "stream",
                    "text": [
                        "Error processing /home/lippincm/4TB_A/NF1_2D_organoid_profiling_pipeline/data/SARCO361_T1/cellprofiler_zmax_proj_output/E7-7/gff_extracted_features.sqlite: list index out of range\n"
                    ]
                },
                {
                    "name": "stderr",
                    "output_type": "stream",
                    "text": [
                        " 56%|\u2588\u2588\u2588\u2588\u2588\u258c    | 196/349 [00:43<00:36,  4.15it/s]"
                    ]
                },
                {
                    "name": "stdout",
                    "output_type": "stream",
                    "text": [
                        "Error processing /home/lippincm/4TB_A/NF1_2D_organoid_profiling_pipeline/data/SARCO361_T1/cellprofiler_zmax_proj_output/E8-1/gff_extracted_features.sqlite: An existing file or directory was provided as dest_path: '/home/lippincm/4TB_A/NF1_2D_organoid_profiling_pipeline/data/SARCO361_T1/0.converted/zmax_proj/E8-1_sc.parquet'. Please use a new path for this parameter.\n"
                    ]
                },
                {
                    "name": "stderr",
                    "output_type": "stream",
                    "text": [
                        " 56%|\u2588\u2588\u2588\u2588\u2588\u258b    | 197/349 [00:43<00:45,  3.36it/s]"
                    ]
                },
                {
                    "name": "stdout",
                    "output_type": "stream",
                    "text": [
                        "Error processing /home/lippincm/4TB_A/NF1_2D_organoid_profiling_pipeline/data/SARCO361_T1/cellprofiler_zmax_proj_output/E8-2/gff_extracted_features.sqlite: list index out of range\n"
                    ]
                },
                {
                    "name": "stderr",
                    "output_type": "stream",
                    "text": [
                        " 57%|\u2588\u2588\u2588\u2588\u2588\u258b    | 198/349 [00:44<00:41,  3.68it/s]"
                    ]
                },
                {
                    "name": "stdout",
                    "output_type": "stream",
                    "text": [
                        "Error processing /home/lippincm/4TB_A/NF1_2D_organoid_profiling_pipeline/data/SARCO361_T1/cellprofiler_zmax_proj_output/E8-3/gff_extracted_features.sqlite: An existing file or directory was provided as dest_path: '/home/lippincm/4TB_A/NF1_2D_organoid_profiling_pipeline/data/SARCO361_T1/0.converted/zmax_proj/E8-3_sc.parquet'. Please use a new path for this parameter.\n",
                        "Error processing /home/lippincm/4TB_A/NF1_2D_organoid_profiling_pipeline/data/SARCO361_T1/cellprofiler_zmax_proj_output/E8-4/gff_extracted_features.sqlite: An existing file or directory was provided as dest_path: '/home/lippincm/4TB_A/NF1_2D_organoid_profiling_pipeline/data/SARCO361_T1/0.converted/zmax_proj/E8-4_sc.parquet'. Please use a new path for this parameter.\n"
                    ]
                },
                {
                    "name": "stderr",
                    "output_type": "stream",
                    "text": [
                        " 57%|\u2588\u2588\u2588\u2588\u2588\u258b    | 200/349 [00:44<00:35,  4.16it/s]"
                    ]
                },
                {
                    "name": "stdout",
                    "output_type": "stream",
                    "text": [
                        "Error processing /home/lippincm/4TB_A/NF1_2D_organoid_profiling_pipeline/data/SARCO361_T1/cellprofiler_zmax_proj_output/E8-5/gff_extracted_features.sqlite: list index out of range\n",
                        "Error processing /home/lippincm/4TB_A/NF1_2D_organoid_profiling_pipeline/data/SARCO361_T1/cellprofiler_zmax_proj_output/E8-6/gff_extracted_features.sqlite: An existing file or directory was provided as dest_path: '/home/lippincm/4TB_A/NF1_2D_organoid_profiling_pipeline/data/SARCO361_T1/0.converted/zmax_proj/E8-6_sc.parquet'. Please use a new path for this parameter.\n"
                    ]
                },
                {
                    "name": "stderr",
                    "output_type": "stream",
                    "text": [
                        " 58%|\u2588\u2588\u2588\u2588\u2588\u258a    | 202/349 [00:44<00:29,  4.96it/s]"
                    ]
                },
                {
                    "name": "stdout",
                    "output_type": "stream",
                    "text": [
                        "Error processing /home/lippincm/4TB_A/NF1_2D_organoid_profiling_pipeline/data/SARCO361_T1/cellprofiler_zmax_proj_output/E8-7/gff_extracted_features.sqlite: An existing file or directory was provided as dest_path: '/home/lippincm/4TB_A/NF1_2D_organoid_profiling_pipeline/data/SARCO361_T1/0.converted/zmax_proj/E8-7_sc.parquet'. Please use a new path for this parameter.\n",
                        "Error processing /home/lippincm/4TB_A/NF1_2D_organoid_profiling_pipeline/data/SARCO361_T1/cellprofiler_zmax_proj_output/E9-1/gff_extracted_features.sqlite: An existing file or directory was provided as dest_path: '/home/lippincm/4TB_A/NF1_2D_organoid_profiling_pipeline/data/SARCO361_T1/0.converted/zmax_proj/E9-1_sc.parquet'. Please use a new path for this parameter.\n"
                    ]
                },
                {
                    "name": "stderr",
                    "output_type": "stream",
                    "text": [
                        " 59%|\u2588\u2588\u2588\u2588\u2588\u258a    | 205/349 [00:45<00:23,  6.17it/s]"
                    ]
                },
                {
                    "name": "stdout",
                    "output_type": "stream",
                    "text": [
                        "Error processing /home/lippincm/4TB_A/NF1_2D_organoid_profiling_pipeline/data/SARCO361_T1/cellprofiler_zmax_proj_output/E9-2/gff_extracted_features.sqlite: An existing file or directory was provided as dest_path: '/home/lippincm/4TB_A/NF1_2D_organoid_profiling_pipeline/data/SARCO361_T1/0.converted/zmax_proj/E9-2_sc.parquet'. Please use a new path for this parameter.\n",
                        "Error processing /home/lippincm/4TB_A/NF1_2D_organoid_profiling_pipeline/data/SARCO361_T1/cellprofiler_zmax_proj_output/E9-3/gff_extracted_features.sqlite: An existing file or directory was provided as dest_path: '/home/lippincm/4TB_A/NF1_2D_organoid_profiling_pipeline/data/SARCO361_T1/0.converted/zmax_proj/E9-3_sc.parquet'. Please use a new path for this parameter.\n"
                    ]
                },
                {
                    "name": "stderr",
                    "output_type": "stream",
                    "text": [
                        " 59%|\u2588\u2588\u2588\u2588\u2588\u2589    | 206/349 [00:45<00:26,  5.49it/s]"
                    ]
                },
                {
                    "name": "stdout",
                    "output_type": "stream",
                    "text": [
                        "Error processing /home/lippincm/4TB_A/NF1_2D_organoid_profiling_pipeline/data/SARCO361_T1/cellprofiler_zmax_proj_output/E9-4/gff_extracted_features.sqlite: An existing file or directory was provided as dest_path: '/home/lippincm/4TB_A/NF1_2D_organoid_profiling_pipeline/data/SARCO361_T1/0.converted/zmax_proj/E9-4_sc.parquet'. Please use a new path for this parameter.\n"
                    ]
                },
                {
                    "name": "stderr",
                    "output_type": "stream",
                    "text": [
                        " 60%|\u2588\u2588\u2588\u2588\u2588\u2589    | 209/349 [00:45<00:19,  7.15it/s]"
                    ]
                },
                {
                    "name": "stdout",
                    "output_type": "stream",
                    "text": [
                        "Error processing /home/lippincm/4TB_A/NF1_2D_organoid_profiling_pipeline/data/SARCO361_T1/cellprofiler_zmax_proj_output/E9-5/gff_extracted_features.sqlite: An existing file or directory was provided as dest_path: '/home/lippincm/4TB_A/NF1_2D_organoid_profiling_pipeline/data/SARCO361_T1/0.converted/zmax_proj/E9-5_sc.parquet'. Please use a new path for this parameter.\n",
                        "Error processing /home/lippincm/4TB_A/NF1_2D_organoid_profiling_pipeline/data/SARCO361_T1/cellprofiler_zmax_proj_output/E9-6/gff_extracted_features.sqlite: An existing file or directory was provided as dest_path: '/home/lippincm/4TB_A/NF1_2D_organoid_profiling_pipeline/data/SARCO361_T1/0.converted/zmax_proj/E9-6_sc.parquet'. Please use a new path for this parameter.\n",
                        "Error processing /home/lippincm/4TB_A/NF1_2D_organoid_profiling_pipeline/data/SARCO361_T1/cellprofiler_zmax_proj_output/E9-7/gff_extracted_features.sqlite: An existing file or directory was provided as dest_path: '/home/lippincm/4TB_A/NF1_2D_organoid_profiling_pipeline/data/SARCO361_T1/0.converted/zmax_proj/E9-7_sc.parquet'. Please use a new path for this parameter.\n"
                    ]
                },
                {
                    "name": "stderr",
                    "output_type": "stream",
                    "text": [
                        " 60%|\u2588\u2588\u2588\u2588\u2588\u2588    | 210/349 [00:46<00:25,  5.37it/s]"
                    ]
                },
                {
                    "name": "stdout",
                    "output_type": "stream",
                    "text": [
                        "Error processing /home/lippincm/4TB_A/NF1_2D_organoid_profiling_pipeline/data/SARCO361_T1/cellprofiler_zmax_proj_output/F10-1/gff_extracted_features.sqlite: list index out of range\n",
                        "Error processing /home/lippincm/4TB_A/NF1_2D_organoid_profiling_pipeline/data/SARCO361_T1/cellprofiler_zmax_proj_output/F10-2/gff_extracted_features.sqlite: An existing file or directory was provided as dest_path: '/home/lippincm/4TB_A/NF1_2D_organoid_profiling_pipeline/data/SARCO361_T1/0.converted/zmax_proj/F10-2_sc.parquet'. Please use a new path for this parameter.\n"
                    ]
                },
                {
                    "name": "stderr",
                    "output_type": "stream",
                    "text": [
                        " 61%|\u2588\u2588\u2588\u2588\u2588\u2588    | 212/349 [00:46<00:22,  6.11it/s]"
                    ]
                },
                {
                    "name": "stdout",
                    "output_type": "stream",
                    "text": [
                        "Error processing /home/lippincm/4TB_A/NF1_2D_organoid_profiling_pipeline/data/SARCO361_T1/cellprofiler_zmax_proj_output/F10-3/gff_extracted_features.sqlite: An existing file or directory was provided as dest_path: '/home/lippincm/4TB_A/NF1_2D_organoid_profiling_pipeline/data/SARCO361_T1/0.converted/zmax_proj/F10-3_sc.parquet'. Please use a new path for this parameter.\n"
                    ]
                },
                {
                    "name": "stderr",
                    "output_type": "stream",
                    "text": [
                        " 61%|\u2588\u2588\u2588\u2588\u2588\u2588    | 213/349 [00:46<00:23,  5.75it/s]"
                    ]
                },
                {
                    "name": "stdout",
                    "output_type": "stream",
                    "text": [
                        "Error processing /home/lippincm/4TB_A/NF1_2D_organoid_profiling_pipeline/data/SARCO361_T1/cellprofiler_zmax_proj_output/F10-4/gff_extracted_features.sqlite: An existing file or directory was provided as dest_path: '/home/lippincm/4TB_A/NF1_2D_organoid_profiling_pipeline/data/SARCO361_T1/0.converted/zmax_proj/F10-4_sc.parquet'. Please use a new path for this parameter.\n"
                    ]
                },
                {
                    "name": "stderr",
                    "output_type": "stream",
                    "text": [
                        " 61%|\u2588\u2588\u2588\u2588\u2588\u2588\u258f   | 214/349 [00:47<00:33,  4.06it/s]"
                    ]
                },
                {
                    "name": "stdout",
                    "output_type": "stream",
                    "text": [
                        "Error processing /home/lippincm/4TB_A/NF1_2D_organoid_profiling_pipeline/data/SARCO361_T1/cellprofiler_zmax_proj_output/F10-5/gff_extracted_features.sqlite: list index out of range\n"
                    ]
                },
                {
                    "name": "stderr",
                    "output_type": "stream",
                    "text": [
                        " 62%|\u2588\u2588\u2588\u2588\u2588\u2588\u258f   | 215/349 [00:47<00:31,  4.21it/s]"
                    ]
                },
                {
                    "name": "stdout",
                    "output_type": "stream",
                    "text": [
                        "Error processing /home/lippincm/4TB_A/NF1_2D_organoid_profiling_pipeline/data/SARCO361_T1/cellprofiler_zmax_proj_output/F10-6/gff_extracted_features.sqlite: An existing file or directory was provided as dest_path: '/home/lippincm/4TB_A/NF1_2D_organoid_profiling_pipeline/data/SARCO361_T1/0.converted/zmax_proj/F10-6_sc.parquet'. Please use a new path for this parameter.\n",
                        "Error processing /home/lippincm/4TB_A/NF1_2D_organoid_profiling_pipeline/data/SARCO361_T1/cellprofiler_zmax_proj_output/F10-7/gff_extracted_features.sqlite: An existing file or directory was provided as dest_path: '/home/lippincm/4TB_A/NF1_2D_organoid_profiling_pipeline/data/SARCO361_T1/0.converted/zmax_proj/F10-7_sc.parquet'. Please use a new path for this parameter.\n"
                    ]
                },
                {
                    "name": "stderr",
                    "output_type": "stream",
                    "text": [
                        " 63%|\u2588\u2588\u2588\u2588\u2588\u2588\u258e   | 219/349 [00:47<00:22,  5.69it/s]"
                    ]
                },
                {
                    "name": "stdout",
                    "output_type": "stream",
                    "text": [
                        "Error processing /home/lippincm/4TB_A/NF1_2D_organoid_profiling_pipeline/data/SARCO361_T1/cellprofiler_zmax_proj_output/F11-1/gff_extracted_features.sqlite: list index out of range\n",
                        "Error processing /home/lippincm/4TB_A/NF1_2D_organoid_profiling_pipeline/data/SARCO361_T1/cellprofiler_zmax_proj_output/F11-2/gff_extracted_features.sqlite: An existing file or directory was provided as dest_path: '/home/lippincm/4TB_A/NF1_2D_organoid_profiling_pipeline/data/SARCO361_T1/0.converted/zmax_proj/F11-2_sc.parquet'. Please use a new path for this parameter.\n",
                        "Error processing /home/lippincm/4TB_A/NF1_2D_organoid_profiling_pipeline/data/SARCO361_T1/cellprofiler_zmax_proj_output/F11-3/gff_extracted_features.sqlite: An existing file or directory was provided as dest_path: '/home/lippincm/4TB_A/NF1_2D_organoid_profiling_pipeline/data/SARCO361_T1/0.converted/zmax_proj/F11-3_sc.parquet'. Please use a new path for this parameter.\n"
                    ]
                },
                {
                    "name": "stderr",
                    "output_type": "stream",
                    "text": [
                        " 63%|\u2588\u2588\u2588\u2588\u2588\u2588\u258e   | 221/349 [00:48<00:17,  7.20it/s]"
                    ]
                },
                {
                    "name": "stdout",
                    "output_type": "stream",
                    "text": [
                        "Error processing /home/lippincm/4TB_A/NF1_2D_organoid_profiling_pipeline/data/SARCO361_T1/cellprofiler_zmax_proj_output/F11-4/gff_extracted_features.sqlite: An existing file or directory was provided as dest_path: '/home/lippincm/4TB_A/NF1_2D_organoid_profiling_pipeline/data/SARCO361_T1/0.converted/zmax_proj/F11-4_sc.parquet'. Please use a new path for this parameter.\n",
                        "Error processing /home/lippincm/4TB_A/NF1_2D_organoid_profiling_pipeline/data/SARCO361_T1/cellprofiler_zmax_proj_output/F11-5/gff_extracted_features.sqlite: An existing file or directory was provided as dest_path: '/home/lippincm/4TB_A/NF1_2D_organoid_profiling_pipeline/data/SARCO361_T1/0.converted/zmax_proj/F11-5_sc.parquet'. Please use a new path for this parameter.\n"
                    ]
                },
                {
                    "name": "stderr",
                    "output_type": "stream",
                    "text": [
                        " 64%|\u2588\u2588\u2588\u2588\u2588\u2588\u258e   | 222/349 [00:48<00:19,  6.47it/s]"
                    ]
                },
                {
                    "name": "stdout",
                    "output_type": "stream",
                    "text": [
                        "Error processing /home/lippincm/4TB_A/NF1_2D_organoid_profiling_pipeline/data/SARCO361_T1/cellprofiler_zmax_proj_output/F11-6/gff_extracted_features.sqlite: An existing file or directory was provided as dest_path: '/home/lippincm/4TB_A/NF1_2D_organoid_profiling_pipeline/data/SARCO361_T1/0.converted/zmax_proj/F11-6_sc.parquet'. Please use a new path for this parameter.\n"
                    ]
                },
                {
                    "name": "stderr",
                    "output_type": "stream",
                    "text": [
                        " 64%|\u2588\u2588\u2588\u2588\u2588\u2588\u258d   | 223/349 [00:48<00:20,  6.06it/s]"
                    ]
                },
                {
                    "name": "stdout",
                    "output_type": "stream",
                    "text": [
                        "Error processing /home/lippincm/4TB_A/NF1_2D_organoid_profiling_pipeline/data/SARCO361_T1/cellprofiler_zmax_proj_output/F11-7/gff_extracted_features.sqlite: An existing file or directory was provided as dest_path: '/home/lippincm/4TB_A/NF1_2D_organoid_profiling_pipeline/data/SARCO361_T1/0.converted/zmax_proj/F11-7_sc.parquet'. Please use a new path for this parameter.\n",
                        "Error processing /home/lippincm/4TB_A/NF1_2D_organoid_profiling_pipeline/data/SARCO361_T1/cellprofiler_zmax_proj_output/F2-1/gff_extracted_features.sqlite: An existing file or directory was provided as dest_path: '/home/lippincm/4TB_A/NF1_2D_organoid_profiling_pipeline/data/SARCO361_T1/0.converted/zmax_proj/F2-1_sc.parquet'. Please use a new path for this parameter.\n"
                    ]
                },
                {
                    "name": "stderr",
                    "output_type": "stream",
                    "text": [
                        " 64%|\u2588\u2588\u2588\u2588\u2588\u2588\u258d   | 225/349 [00:48<00:19,  6.51it/s]"
                    ]
                },
                {
                    "name": "stdout",
                    "output_type": "stream",
                    "text": [
                        "Error processing /home/lippincm/4TB_A/NF1_2D_organoid_profiling_pipeline/data/SARCO361_T1/cellprofiler_zmax_proj_output/F2-2/gff_extracted_features.sqlite: An existing file or directory was provided as dest_path: '/home/lippincm/4TB_A/NF1_2D_organoid_profiling_pipeline/data/SARCO361_T1/0.converted/zmax_proj/F2-2_sc.parquet'. Please use a new path for this parameter.\n"
                    ]
                },
                {
                    "name": "stderr",
                    "output_type": "stream",
                    "text": [
                        " 65%|\u2588\u2588\u2588\u2588\u2588\u2588\u258d   | 226/349 [00:48<00:20,  6.02it/s]"
                    ]
                },
                {
                    "name": "stdout",
                    "output_type": "stream",
                    "text": [
                        "Error processing /home/lippincm/4TB_A/NF1_2D_organoid_profiling_pipeline/data/SARCO361_T1/cellprofiler_zmax_proj_output/F2-3/gff_extracted_features.sqlite: An existing file or directory was provided as dest_path: '/home/lippincm/4TB_A/NF1_2D_organoid_profiling_pipeline/data/SARCO361_T1/0.converted/zmax_proj/F2-3_sc.parquet'. Please use a new path for this parameter.\n"
                    ]
                },
                {
                    "name": "stderr",
                    "output_type": "stream",
                    "text": [
                        " 65%|\u2588\u2588\u2588\u2588\u2588\u2588\u258c   | 227/349 [00:49<00:21,  5.72it/s]"
                    ]
                },
                {
                    "name": "stdout",
                    "output_type": "stream",
                    "text": [
                        "Error processing /home/lippincm/4TB_A/NF1_2D_organoid_profiling_pipeline/data/SARCO361_T1/cellprofiler_zmax_proj_output/F2-4/gff_extracted_features.sqlite: An existing file or directory was provided as dest_path: '/home/lippincm/4TB_A/NF1_2D_organoid_profiling_pipeline/data/SARCO361_T1/0.converted/zmax_proj/F2-4_sc.parquet'. Please use a new path for this parameter.\n"
                    ]
                },
                {
                    "name": "stderr",
                    "output_type": "stream",
                    "text": [
                        " 65%|\u2588\u2588\u2588\u2588\u2588\u2588\u258c   | 228/349 [00:49<00:29,  4.05it/s]"
                    ]
                },
                {
                    "name": "stdout",
                    "output_type": "stream",
                    "text": [
                        "Error processing /home/lippincm/4TB_A/NF1_2D_organoid_profiling_pipeline/data/SARCO361_T1/cellprofiler_zmax_proj_output/F2-5/gff_extracted_features.sqlite: list index out of range\n",
                        "Error processing /home/lippincm/4TB_A/NF1_2D_organoid_profiling_pipeline/data/SARCO361_T1/cellprofiler_zmax_proj_output/F2-6/gff_extracted_features.sqlite: An existing file or directory was provided as dest_path: '/home/lippincm/4TB_A/NF1_2D_organoid_profiling_pipeline/data/SARCO361_T1/0.converted/zmax_proj/F2-6_sc.parquet'. Please use a new path for this parameter.\n"
                    ]
                },
                {
                    "name": "stderr",
                    "output_type": "stream",
                    "text": [
                        " 66%|\u2588\u2588\u2588\u2588\u2588\u2588\u258c   | 230/349 [00:49<00:24,  4.84it/s]"
                    ]
                },
                {
                    "name": "stdout",
                    "output_type": "stream",
                    "text": [
                        "Error processing /home/lippincm/4TB_A/NF1_2D_organoid_profiling_pipeline/data/SARCO361_T1/cellprofiler_zmax_proj_output/F2-7/gff_extracted_features.sqlite: An existing file or directory was provided as dest_path: '/home/lippincm/4TB_A/NF1_2D_organoid_profiling_pipeline/data/SARCO361_T1/0.converted/zmax_proj/F2-7_sc.parquet'. Please use a new path for this parameter.\n"
                    ]
                },
                {
                    "name": "stderr",
                    "output_type": "stream",
                    "text": [
                        " 66%|\u2588\u2588\u2588\u2588\u2588\u2588\u258c   | 231/349 [00:50<00:28,  4.19it/s]"
                    ]
                },
                {
                    "name": "stdout",
                    "output_type": "stream",
                    "text": [
                        "Error processing /home/lippincm/4TB_A/NF1_2D_organoid_profiling_pipeline/data/SARCO361_T1/cellprofiler_zmax_proj_output/F3-1/gff_extracted_features.sqlite: list index out of range\n"
                    ]
                },
                {
                    "name": "stderr",
                    "output_type": "stream",
                    "text": [
                        " 66%|\u2588\u2588\u2588\u2588\u2588\u2588\u258b   | 232/349 [00:50<00:27,  4.21it/s]"
                    ]
                },
                {
                    "name": "stdout",
                    "output_type": "stream",
                    "text": [
                        "Error processing /home/lippincm/4TB_A/NF1_2D_organoid_profiling_pipeline/data/SARCO361_T1/cellprofiler_zmax_proj_output/F3-2/gff_extracted_features.sqlite: An existing file or directory was provided as dest_path: '/home/lippincm/4TB_A/NF1_2D_organoid_profiling_pipeline/data/SARCO361_T1/0.converted/zmax_proj/F3-2_sc.parquet'. Please use a new path for this parameter.\n",
                        "Error processing /home/lippincm/4TB_A/NF1_2D_organoid_profiling_pipeline/data/SARCO361_T1/cellprofiler_zmax_proj_output/F3-3/gff_extracted_features.sqlite: An existing file or directory was provided as dest_path: '/home/lippincm/4TB_A/NF1_2D_organoid_profiling_pipeline/data/SARCO361_T1/0.converted/zmax_proj/F3-3_sc.parquet'. Please use a new path for this parameter.\n"
                    ]
                },
                {
                    "name": "stderr",
                    "output_type": "stream",
                    "text": [
                        " 67%|\u2588\u2588\u2588\u2588\u2588\u2588\u258b   | 234/349 [00:50<00:22,  5.12it/s]"
                    ]
                },
                {
                    "name": "stdout",
                    "output_type": "stream",
                    "text": [
                        "Error processing /home/lippincm/4TB_A/NF1_2D_organoid_profiling_pipeline/data/SARCO361_T1/cellprofiler_zmax_proj_output/F3-4/gff_extracted_features.sqlite: An existing file or directory was provided as dest_path: '/home/lippincm/4TB_A/NF1_2D_organoid_profiling_pipeline/data/SARCO361_T1/0.converted/zmax_proj/F3-4_sc.parquet'. Please use a new path for this parameter.\n",
                        "Error processing /home/lippincm/4TB_A/NF1_2D_organoid_profiling_pipeline/data/SARCO361_T1/cellprofiler_zmax_proj_output/F3-5/gff_extracted_features.sqlite: An existing file or directory was provided as dest_path: '/home/lippincm/4TB_A/NF1_2D_organoid_profiling_pipeline/data/SARCO361_T1/0.converted/zmax_proj/F3-5_sc.parquet'. Please use a new path for this parameter.\n"
                    ]
                },
                {
                    "name": "stderr",
                    "output_type": "stream",
                    "text": [
                        " 68%|\u2588\u2588\u2588\u2588\u2588\u2588\u258a   | 236/349 [00:51<00:21,  5.21it/s]"
                    ]
                },
                {
                    "name": "stdout",
                    "output_type": "stream",
                    "text": [
                        "Error processing /home/lippincm/4TB_A/NF1_2D_organoid_profiling_pipeline/data/SARCO361_T1/cellprofiler_zmax_proj_output/F3-6/gff_extracted_features.sqlite: list index out of range\n"
                    ]
                },
                {
                    "name": "stderr",
                    "output_type": "stream",
                    "text": [
                        " 68%|\u2588\u2588\u2588\u2588\u2588\u2588\u258a   | 237/349 [00:51<00:22,  5.04it/s]"
                    ]
                },
                {
                    "name": "stdout",
                    "output_type": "stream",
                    "text": [
                        "Error processing /home/lippincm/4TB_A/NF1_2D_organoid_profiling_pipeline/data/SARCO361_T1/cellprofiler_zmax_proj_output/F3-7/gff_extracted_features.sqlite: An existing file or directory was provided as dest_path: '/home/lippincm/4TB_A/NF1_2D_organoid_profiling_pipeline/data/SARCO361_T1/0.converted/zmax_proj/F3-7_sc.parquet'. Please use a new path for this parameter.\n"
                    ]
                },
                {
                    "name": "stderr",
                    "output_type": "stream",
                    "text": [
                        " 69%|\u2588\u2588\u2588\u2588\u2588\u2588\u2589   | 240/349 [00:51<00:16,  6.69it/s]"
                    ]
                },
                {
                    "name": "stdout",
                    "output_type": "stream",
                    "text": [
                        "Error processing /home/lippincm/4TB_A/NF1_2D_organoid_profiling_pipeline/data/SARCO361_T1/cellprofiler_zmax_proj_output/F4-1/gff_extracted_features.sqlite: An existing file or directory was provided as dest_path: '/home/lippincm/4TB_A/NF1_2D_organoid_profiling_pipeline/data/SARCO361_T1/0.converted/zmax_proj/F4-1_sc.parquet'. Please use a new path for this parameter.\n",
                        "Error processing /home/lippincm/4TB_A/NF1_2D_organoid_profiling_pipeline/data/SARCO361_T1/cellprofiler_zmax_proj_output/F4-2/gff_extracted_features.sqlite: An existing file or directory was provided as dest_path: '/home/lippincm/4TB_A/NF1_2D_organoid_profiling_pipeline/data/SARCO361_T1/0.converted/zmax_proj/F4-2_sc.parquet'. Please use a new path for this parameter.\n",
                        "Error processing /home/lippincm/4TB_A/NF1_2D_organoid_profiling_pipeline/data/SARCO361_T1/cellprofiler_zmax_proj_output/F4-3/gff_extracted_features.sqlite: An existing file or directory was provided as dest_path: '/home/lippincm/4TB_A/NF1_2D_organoid_profiling_pipeline/data/SARCO361_T1/0.converted/zmax_proj/F4-3_sc.parquet'. Please use a new path for this parameter.\n"
                    ]
                },
                {
                    "name": "stderr",
                    "output_type": "stream",
                    "text": [
                        " 69%|\u2588\u2588\u2588\u2588\u2588\u2588\u2589   | 242/349 [00:51<00:15,  7.02it/s]"
                    ]
                },
                {
                    "name": "stdout",
                    "output_type": "stream",
                    "text": [
                        "Error processing /home/lippincm/4TB_A/NF1_2D_organoid_profiling_pipeline/data/SARCO361_T1/cellprofiler_zmax_proj_output/F4-4/gff_extracted_features.sqlite: An existing file or directory was provided as dest_path: '/home/lippincm/4TB_A/NF1_2D_organoid_profiling_pipeline/data/SARCO361_T1/0.converted/zmax_proj/F4-4_sc.parquet'. Please use a new path for this parameter.\n",
                        "Error processing /home/lippincm/4TB_A/NF1_2D_organoid_profiling_pipeline/data/SARCO361_T1/cellprofiler_zmax_proj_output/F4-5/gff_extracted_features.sqlite: An existing file or directory was provided as dest_path: '/home/lippincm/4TB_A/NF1_2D_organoid_profiling_pipeline/data/SARCO361_T1/0.converted/zmax_proj/F4-5_sc.parquet'. Please use a new path for this parameter.\n"
                    ]
                },
                {
                    "name": "stderr",
                    "output_type": "stream",
                    "text": [
                        " 70%|\u2588\u2588\u2588\u2588\u2588\u2588\u2589   | 243/349 [00:52<00:17,  6.21it/s]"
                    ]
                },
                {
                    "name": "stdout",
                    "output_type": "stream",
                    "text": [
                        "Error processing /home/lippincm/4TB_A/NF1_2D_organoid_profiling_pipeline/data/SARCO361_T1/cellprofiler_zmax_proj_output/F4-6/gff_extracted_features.sqlite: An existing file or directory was provided as dest_path: '/home/lippincm/4TB_A/NF1_2D_organoid_profiling_pipeline/data/SARCO361_T1/0.converted/zmax_proj/F4-6_sc.parquet'. Please use a new path for this parameter.\n"
                    ]
                },
                {
                    "name": "stderr",
                    "output_type": "stream",
                    "text": [
                        " 70%|\u2588\u2588\u2588\u2588\u2588\u2588\u2589   | 244/349 [00:52<00:18,  5.76it/s]"
                    ]
                },
                {
                    "name": "stdout",
                    "output_type": "stream",
                    "text": [
                        "Error processing /home/lippincm/4TB_A/NF1_2D_organoid_profiling_pipeline/data/SARCO361_T1/cellprofiler_zmax_proj_output/F4-7/gff_extracted_features.sqlite: An existing file or directory was provided as dest_path: '/home/lippincm/4TB_A/NF1_2D_organoid_profiling_pipeline/data/SARCO361_T1/0.converted/zmax_proj/F4-7_sc.parquet'. Please use a new path for this parameter.\n",
                        "Error processing /home/lippincm/4TB_A/NF1_2D_organoid_profiling_pipeline/data/SARCO361_T1/cellprofiler_zmax_proj_output/F5-1/gff_extracted_features.sqlite: An existing file or directory was provided as dest_path: '/home/lippincm/4TB_A/NF1_2D_organoid_profiling_pipeline/data/SARCO361_T1/0.converted/zmax_proj/F5-1_sc.parquet'. Please use a new path for this parameter.\n"
                    ]
                },
                {
                    "name": "stderr",
                    "output_type": "stream",
                    "text": [
                        " 71%|\u2588\u2588\u2588\u2588\u2588\u2588\u2588   | 248/349 [00:52<00:13,  7.39it/s]"
                    ]
                },
                {
                    "name": "stdout",
                    "output_type": "stream",
                    "text": [
                        "Error processing /home/lippincm/4TB_A/NF1_2D_organoid_profiling_pipeline/data/SARCO361_T1/cellprofiler_zmax_proj_output/F5-2/gff_extracted_features.sqlite: An existing file or directory was provided as dest_path: '/home/lippincm/4TB_A/NF1_2D_organoid_profiling_pipeline/data/SARCO361_T1/0.converted/zmax_proj/F5-2_sc.parquet'. Please use a new path for this parameter.\n",
                        "Error processing /home/lippincm/4TB_A/NF1_2D_organoid_profiling_pipeline/data/SARCO361_T1/cellprofiler_zmax_proj_output/F5-3/gff_extracted_features.sqlite: An existing file or directory was provided as dest_path: '/home/lippincm/4TB_A/NF1_2D_organoid_profiling_pipeline/data/SARCO361_T1/0.converted/zmax_proj/F5-3_sc.parquet'. Please use a new path for this parameter.\n",
                        "Error processing /home/lippincm/4TB_A/NF1_2D_organoid_profiling_pipeline/data/SARCO361_T1/cellprofiler_zmax_proj_output/F5-4/gff_extracted_features.sqlite: An existing file or directory was provided as dest_path: '/home/lippincm/4TB_A/NF1_2D_organoid_profiling_pipeline/data/SARCO361_T1/0.converted/zmax_proj/F5-4_sc.parquet'. Please use a new path for this parameter.\n",
                        "Error processing /home/lippincm/4TB_A/NF1_2D_organoid_profiling_pipeline/data/SARCO361_T1/cellprofiler_zmax_proj_output/F5-5/gff_extracted_features.sqlite: An existing file or directory was provided as dest_path: '/home/lippincm/4TB_A/NF1_2D_organoid_profiling_pipeline/data/SARCO361_T1/0.converted/zmax_proj/F5-5_sc.parquet'. Please use a new path for this parameter.\n"
                    ]
                },
                {
                    "name": "stderr",
                    "output_type": "stream",
                    "text": [
                        " 72%|\u2588\u2588\u2588\u2588\u2588\u2588\u2588\u258f  | 250/349 [00:53<00:13,  7.26it/s]"
                    ]
                },
                {
                    "name": "stdout",
                    "output_type": "stream",
                    "text": [
                        "Error processing /home/lippincm/4TB_A/NF1_2D_organoid_profiling_pipeline/data/SARCO361_T1/cellprofiler_zmax_proj_output/F5-6/gff_extracted_features.sqlite: An existing file or directory was provided as dest_path: '/home/lippincm/4TB_A/NF1_2D_organoid_profiling_pipeline/data/SARCO361_T1/0.converted/zmax_proj/F5-6_sc.parquet'. Please use a new path for this parameter.\n"
                    ]
                },
                {
                    "name": "stderr",
                    "output_type": "stream",
                    "text": [
                        " 72%|\u2588\u2588\u2588\u2588\u2588\u2588\u2588\u258f  | 251/349 [00:53<00:17,  5.69it/s]"
                    ]
                },
                {
                    "name": "stdout",
                    "output_type": "stream",
                    "text": [
                        "Error processing /home/lippincm/4TB_A/NF1_2D_organoid_profiling_pipeline/data/SARCO361_T1/cellprofiler_zmax_proj_output/F5-7/gff_extracted_features.sqlite: list index out of range\n"
                    ]
                },
                {
                    "name": "stderr",
                    "output_type": "stream",
                    "text": [
                        " 72%|\u2588\u2588\u2588\u2588\u2588\u2588\u2588\u258f  | 252/349 [00:53<00:20,  4.69it/s]"
                    ]
                },
                {
                    "name": "stdout",
                    "output_type": "stream",
                    "text": [
                        "Error processing /home/lippincm/4TB_A/NF1_2D_organoid_profiling_pipeline/data/SARCO361_T1/cellprofiler_zmax_proj_output/F6-1/gff_extracted_features.sqlite: list index out of range\n"
                    ]
                },
                {
                    "name": "stderr",
                    "output_type": "stream",
                    "text": [
                        " 72%|\u2588\u2588\u2588\u2588\u2588\u2588\u2588\u258f  | 253/349 [00:54<00:25,  3.78it/s]"
                    ]
                },
                {
                    "name": "stdout",
                    "output_type": "stream",
                    "text": [
                        "Error processing /home/lippincm/4TB_A/NF1_2D_organoid_profiling_pipeline/data/SARCO361_T1/cellprofiler_zmax_proj_output/F6-2/gff_extracted_features.sqlite: An existing file or directory was provided as dest_path: '/home/lippincm/4TB_A/NF1_2D_organoid_profiling_pipeline/data/SARCO361_T1/0.converted/zmax_proj/F6-2_sc.parquet'. Please use a new path for this parameter.\n",
                        "Error processing /home/lippincm/4TB_A/NF1_2D_organoid_profiling_pipeline/data/SARCO361_T1/cellprofiler_zmax_proj_output/F6-3/gff_extracted_features.sqlite: An existing file or directory was provided as dest_path: '/home/lippincm/4TB_A/NF1_2D_organoid_profiling_pipeline/data/SARCO361_T1/0.converted/zmax_proj/F6-3_sc.parquet'. Please use a new path for this parameter.\n"
                    ]
                },
                {
                    "name": "stderr",
                    "output_type": "stream",
                    "text": [
                        " 73%|\u2588\u2588\u2588\u2588\u2588\u2588\u2588\u258e  | 255/349 [00:54<00:22,  4.27it/s]"
                    ]
                },
                {
                    "name": "stdout",
                    "output_type": "stream",
                    "text": [
                        "Error processing /home/lippincm/4TB_A/NF1_2D_organoid_profiling_pipeline/data/SARCO361_T1/cellprofiler_zmax_proj_output/F6-4/gff_extracted_features.sqlite: An existing file or directory was provided as dest_path: '/home/lippincm/4TB_A/NF1_2D_organoid_profiling_pipeline/data/SARCO361_T1/0.converted/zmax_proj/F6-4_sc.parquet'. Please use a new path for this parameter.\n"
                    ]
                },
                {
                    "name": "stderr",
                    "output_type": "stream",
                    "text": [
                        " 73%|\u2588\u2588\u2588\u2588\u2588\u2588\u2588\u258e  | 256/349 [00:54<00:21,  4.40it/s]"
                    ]
                },
                {
                    "name": "stdout",
                    "output_type": "stream",
                    "text": [
                        "Error processing /home/lippincm/4TB_A/NF1_2D_organoid_profiling_pipeline/data/SARCO361_T1/cellprofiler_zmax_proj_output/F6-5/gff_extracted_features.sqlite: An existing file or directory was provided as dest_path: '/home/lippincm/4TB_A/NF1_2D_organoid_profiling_pipeline/data/SARCO361_T1/0.converted/zmax_proj/F6-5_sc.parquet'. Please use a new path for this parameter.\n"
                    ]
                },
                {
                    "name": "stderr",
                    "output_type": "stream",
                    "text": [
                        " 74%|\u2588\u2588\u2588\u2588\u2588\u2588\u2588\u258e  | 257/349 [00:55<00:23,  3.92it/s]"
                    ]
                },
                {
                    "name": "stdout",
                    "output_type": "stream",
                    "text": [
                        "Error processing /home/lippincm/4TB_A/NF1_2D_organoid_profiling_pipeline/data/SARCO361_T1/cellprofiler_zmax_proj_output/F6-6/gff_extracted_features.sqlite: list index out of range\n"
                    ]
                },
                {
                    "name": "stderr",
                    "output_type": "stream",
                    "text": [
                        " 74%|\u2588\u2588\u2588\u2588\u2588\u2588\u2588\u258d  | 258/349 [00:55<00:22,  4.12it/s]"
                    ]
                },
                {
                    "name": "stdout",
                    "output_type": "stream",
                    "text": [
                        "Error processing /home/lippincm/4TB_A/NF1_2D_organoid_profiling_pipeline/data/SARCO361_T1/cellprofiler_zmax_proj_output/F6-7/gff_extracted_features.sqlite: An existing file or directory was provided as dest_path: '/home/lippincm/4TB_A/NF1_2D_organoid_profiling_pipeline/data/SARCO361_T1/0.converted/zmax_proj/F6-7_sc.parquet'. Please use a new path for this parameter.\n"
                    ]
                },
                {
                    "name": "stderr",
                    "output_type": "stream",
                    "text": [
                        " 74%|\u2588\u2588\u2588\u2588\u2588\u2588\u2588\u258d  | 259/349 [00:55<00:28,  3.14it/s]"
                    ]
                },
                {
                    "name": "stdout",
                    "output_type": "stream",
                    "text": [
                        "Error processing /home/lippincm/4TB_A/NF1_2D_organoid_profiling_pipeline/data/SARCO361_T1/cellprofiler_zmax_proj_output/F7-1/gff_extracted_features.sqlite: list index out of range\n"
                    ]
                },
                {
                    "name": "stderr",
                    "output_type": "stream",
                    "text": [
                        " 74%|\u2588\u2588\u2588\u2588\u2588\u2588\u2588\u258d  | 260/349 [00:56<00:25,  3.48it/s]"
                    ]
                },
                {
                    "name": "stdout",
                    "output_type": "stream",
                    "text": [
                        "Error processing /home/lippincm/4TB_A/NF1_2D_organoid_profiling_pipeline/data/SARCO361_T1/cellprofiler_zmax_proj_output/F7-2/gff_extracted_features.sqlite: An existing file or directory was provided as dest_path: '/home/lippincm/4TB_A/NF1_2D_organoid_profiling_pipeline/data/SARCO361_T1/0.converted/zmax_proj/F7-2_sc.parquet'. Please use a new path for this parameter.\n"
                    ]
                },
                {
                    "name": "stderr",
                    "output_type": "stream",
                    "text": [
                        " 75%|\u2588\u2588\u2588\u2588\u2588\u2588\u2588\u258c  | 263/349 [00:56<00:19,  4.50it/s]"
                    ]
                },
                {
                    "name": "stdout",
                    "output_type": "stream",
                    "text": [
                        "Error processing /home/lippincm/4TB_A/NF1_2D_organoid_profiling_pipeline/data/SARCO361_T1/cellprofiler_zmax_proj_output/F7-3/gff_extracted_features.sqlite: list index out of range\n",
                        "Error processing /home/lippincm/4TB_A/NF1_2D_organoid_profiling_pipeline/data/SARCO361_T1/cellprofiler_zmax_proj_output/F7-4/gff_extracted_features.sqlite: An existing file or directory was provided as dest_path: '/home/lippincm/4TB_A/NF1_2D_organoid_profiling_pipeline/data/SARCO361_T1/0.converted/zmax_proj/F7-4_sc.parquet'. Please use a new path for this parameter.\n",
                        "Error processing /home/lippincm/4TB_A/NF1_2D_organoid_profiling_pipeline/data/SARCO361_T1/cellprofiler_zmax_proj_output/F7-5/gff_extracted_features.sqlite: An existing file or directory was provided as dest_path: '/home/lippincm/4TB_A/NF1_2D_organoid_profiling_pipeline/data/SARCO361_T1/0.converted/zmax_proj/F7-5_sc.parquet'. Please use a new path for this parameter.\n"
                    ]
                },
                {
                    "name": "stderr",
                    "output_type": "stream",
                    "text": [
                        " 76%|\u2588\u2588\u2588\u2588\u2588\u2588\u2588\u258c  | 264/349 [00:57<00:21,  4.02it/s]"
                    ]
                },
                {
                    "name": "stdout",
                    "output_type": "stream",
                    "text": [
                        "Error processing /home/lippincm/4TB_A/NF1_2D_organoid_profiling_pipeline/data/SARCO361_T1/cellprofiler_zmax_proj_output/F7-6/gff_extracted_features.sqlite: list index out of range\n"
                    ]
                },
                {
                    "name": "stderr",
                    "output_type": "stream",
                    "text": [
                        " 77%|\u2588\u2588\u2588\u2588\u2588\u2588\u2588\u258b  | 267/349 [00:57<00:15,  5.47it/s]"
                    ]
                },
                {
                    "name": "stdout",
                    "output_type": "stream",
                    "text": [
                        "Error processing /home/lippincm/4TB_A/NF1_2D_organoid_profiling_pipeline/data/SARCO361_T1/cellprofiler_zmax_proj_output/F7-7/gff_extracted_features.sqlite: list index out of range\n",
                        "Error processing /home/lippincm/4TB_A/NF1_2D_organoid_profiling_pipeline/data/SARCO361_T1/cellprofiler_zmax_proj_output/F8-1/gff_extracted_features.sqlite: An existing file or directory was provided as dest_path: '/home/lippincm/4TB_A/NF1_2D_organoid_profiling_pipeline/data/SARCO361_T1/0.converted/zmax_proj/F8-1_sc.parquet'. Please use a new path for this parameter.\n",
                        "Error processing /home/lippincm/4TB_A/NF1_2D_organoid_profiling_pipeline/data/SARCO361_T1/cellprofiler_zmax_proj_output/F8-2/gff_extracted_features.sqlite: An existing file or directory was provided as dest_path: '/home/lippincm/4TB_A/NF1_2D_organoid_profiling_pipeline/data/SARCO361_T1/0.converted/zmax_proj/F8-2_sc.parquet'. Please use a new path for this parameter.\n"
                    ]
                },
                {
                    "name": "stderr",
                    "output_type": "stream",
                    "text": [
                        " 77%|\u2588\u2588\u2588\u2588\u2588\u2588\u2588\u258b  | 268/349 [00:57<00:15,  5.29it/s]"
                    ]
                },
                {
                    "name": "stdout",
                    "output_type": "stream",
                    "text": [
                        "Error processing /home/lippincm/4TB_A/NF1_2D_organoid_profiling_pipeline/data/SARCO361_T1/cellprofiler_zmax_proj_output/F8-3/gff_extracted_features.sqlite: An existing file or directory was provided as dest_path: '/home/lippincm/4TB_A/NF1_2D_organoid_profiling_pipeline/data/SARCO361_T1/0.converted/zmax_proj/F8-3_sc.parquet'. Please use a new path for this parameter.\n"
                    ]
                },
                {
                    "name": "stderr",
                    "output_type": "stream",
                    "text": [
                        " 77%|\u2588\u2588\u2588\u2588\u2588\u2588\u2588\u258b  | 269/349 [00:57<00:16,  4.89it/s]"
                    ]
                },
                {
                    "name": "stdout",
                    "output_type": "stream",
                    "text": [
                        "Error processing /home/lippincm/4TB_A/NF1_2D_organoid_profiling_pipeline/data/SARCO361_T1/cellprofiler_zmax_proj_output/F8-4/gff_extracted_features.sqlite: An existing file or directory was provided as dest_path: '/home/lippincm/4TB_A/NF1_2D_organoid_profiling_pipeline/data/SARCO361_T1/0.converted/zmax_proj/F8-4_sc.parquet'. Please use a new path for this parameter.\n",
                        "Error processing /home/lippincm/4TB_A/NF1_2D_organoid_profiling_pipeline/data/SARCO361_T1/cellprofiler_zmax_proj_output/F8-5/gff_extracted_features.sqlite: An existing file or directory was provided as dest_path: '/home/lippincm/4TB_A/NF1_2D_organoid_profiling_pipeline/data/SARCO361_T1/0.converted/zmax_proj/F8-5_sc.parquet'. Please use a new path for this parameter.\n"
                    ]
                },
                {
                    "name": "stderr",
                    "output_type": "stream",
                    "text": [
                        " 78%|\u2588\u2588\u2588\u2588\u2588\u2588\u2588\u258a  | 271/349 [00:58<00:14,  5.43it/s]"
                    ]
                },
                {
                    "name": "stdout",
                    "output_type": "stream",
                    "text": [
                        "Error processing /home/lippincm/4TB_A/NF1_2D_organoid_profiling_pipeline/data/SARCO361_T1/cellprofiler_zmax_proj_output/F8-6/gff_extracted_features.sqlite: An existing file or directory was provided as dest_path: '/home/lippincm/4TB_A/NF1_2D_organoid_profiling_pipeline/data/SARCO361_T1/0.converted/zmax_proj/F8-6_sc.parquet'. Please use a new path for this parameter.\n",
                        "Error processing /home/lippincm/4TB_A/NF1_2D_organoid_profiling_pipeline/data/SARCO361_T1/cellprofiler_zmax_proj_output/F8-7/gff_extracted_features.sqlite: An existing file or directory was provided as dest_path: '/home/lippincm/4TB_A/NF1_2D_organoid_profiling_pipeline/data/SARCO361_T1/0.converted/zmax_proj/F8-7_sc.parquet'. Please use a new path for this parameter.\n"
                    ]
                },
                {
                    "name": "stderr",
                    "output_type": "stream",
                    "text": [
                        " 79%|\u2588\u2588\u2588\u2588\u2588\u2588\u2588\u2589  | 275/349 [00:58<00:10,  7.23it/s]"
                    ]
                },
                {
                    "name": "stdout",
                    "output_type": "stream",
                    "text": [
                        "Error processing /home/lippincm/4TB_A/NF1_2D_organoid_profiling_pipeline/data/SARCO361_T1/cellprofiler_zmax_proj_output/F9-1/gff_extracted_features.sqlite: An existing file or directory was provided as dest_path: '/home/lippincm/4TB_A/NF1_2D_organoid_profiling_pipeline/data/SARCO361_T1/0.converted/zmax_proj/F9-1_sc.parquet'. Please use a new path for this parameter.\n",
                        "Error processing /home/lippincm/4TB_A/NF1_2D_organoid_profiling_pipeline/data/SARCO361_T1/cellprofiler_zmax_proj_output/F9-2/gff_extracted_features.sqlite: An existing file or directory was provided as dest_path: '/home/lippincm/4TB_A/NF1_2D_organoid_profiling_pipeline/data/SARCO361_T1/0.converted/zmax_proj/F9-2_sc.parquet'. Please use a new path for this parameter.\n",
                        "Error processing /home/lippincm/4TB_A/NF1_2D_organoid_profiling_pipeline/data/SARCO361_T1/cellprofiler_zmax_proj_output/F9-3/gff_extracted_features.sqlite: An existing file or directory was provided as dest_path: '/home/lippincm/4TB_A/NF1_2D_organoid_profiling_pipeline/data/SARCO361_T1/0.converted/zmax_proj/F9-3_sc.parquet'. Please use a new path for this parameter.\n"
                    ]
                },
                {
                    "name": "stderr",
                    "output_type": "stream",
                    "text": [
                        " 79%|\u2588\u2588\u2588\u2588\u2588\u2588\u2588\u2589  | 276/349 [00:58<00:11,  6.47it/s]"
                    ]
                },
                {
                    "name": "stdout",
                    "output_type": "stream",
                    "text": [
                        "Error processing /home/lippincm/4TB_A/NF1_2D_organoid_profiling_pipeline/data/SARCO361_T1/cellprofiler_zmax_proj_output/F9-4/gff_extracted_features.sqlite: An existing file or directory was provided as dest_path: '/home/lippincm/4TB_A/NF1_2D_organoid_profiling_pipeline/data/SARCO361_T1/0.converted/zmax_proj/F9-4_sc.parquet'. Please use a new path for this parameter.\n",
                        "Error processing /home/lippincm/4TB_A/NF1_2D_organoid_profiling_pipeline/data/SARCO361_T1/cellprofiler_zmax_proj_output/F9-5/gff_extracted_features.sqlite: An existing file or directory was provided as dest_path: '/home/lippincm/4TB_A/NF1_2D_organoid_profiling_pipeline/data/SARCO361_T1/0.converted/zmax_proj/F9-5_sc.parquet'. Please use a new path for this parameter.\n"
                    ]
                },
                {
                    "name": "stderr",
                    "output_type": "stream",
                    "text": [
                        " 80%|\u2588\u2588\u2588\u2588\u2588\u2588\u2588\u2588  | 280/349 [00:59<00:08,  8.14it/s]"
                    ]
                },
                {
                    "name": "stdout",
                    "output_type": "stream",
                    "text": [
                        "Error processing /home/lippincm/4TB_A/NF1_2D_organoid_profiling_pipeline/data/SARCO361_T1/cellprofiler_zmax_proj_output/F9-6/gff_extracted_features.sqlite: An existing file or directory was provided as dest_path: '/home/lippincm/4TB_A/NF1_2D_organoid_profiling_pipeline/data/SARCO361_T1/0.converted/zmax_proj/F9-6_sc.parquet'. Please use a new path for this parameter.\n",
                        "Error processing /home/lippincm/4TB_A/NF1_2D_organoid_profiling_pipeline/data/SARCO361_T1/cellprofiler_zmax_proj_output/F9-7/gff_extracted_features.sqlite: An existing file or directory was provided as dest_path: '/home/lippincm/4TB_A/NF1_2D_organoid_profiling_pipeline/data/SARCO361_T1/0.converted/zmax_proj/F9-7_sc.parquet'. Please use a new path for this parameter.\n",
                        "Error processing /home/lippincm/4TB_A/NF1_2D_organoid_profiling_pipeline/data/SARCO361_T1/cellprofiler_zmax_proj_output/G10-1/gff_extracted_features.sqlite: An existing file or directory was provided as dest_path: '/home/lippincm/4TB_A/NF1_2D_organoid_profiling_pipeline/data/SARCO361_T1/0.converted/zmax_proj/G10-1_sc.parquet'. Please use a new path for this parameter.\n"
                    ]
                },
                {
                    "name": "stderr",
                    "output_type": "stream",
                    "text": [
                        " 81%|\u2588\u2588\u2588\u2588\u2588\u2588\u2588\u2588  | 281/349 [00:59<00:09,  7.16it/s]"
                    ]
                },
                {
                    "name": "stdout",
                    "output_type": "stream",
                    "text": [
                        "Error processing /home/lippincm/4TB_A/NF1_2D_organoid_profiling_pipeline/data/SARCO361_T1/cellprofiler_zmax_proj_output/G10-2/gff_extracted_features.sqlite: An existing file or directory was provided as dest_path: '/home/lippincm/4TB_A/NF1_2D_organoid_profiling_pipeline/data/SARCO361_T1/0.converted/zmax_proj/G10-2_sc.parquet'. Please use a new path for this parameter.\n",
                        "Error processing /home/lippincm/4TB_A/NF1_2D_organoid_profiling_pipeline/data/SARCO361_T1/cellprofiler_zmax_proj_output/G10-3/gff_extracted_features.sqlite: An existing file or directory was provided as dest_path: '/home/lippincm/4TB_A/NF1_2D_organoid_profiling_pipeline/data/SARCO361_T1/0.converted/zmax_proj/G10-3_sc.parquet'. Please use a new path for this parameter.\n"
                    ]
                },
                {
                    "name": "stderr",
                    "output_type": "stream",
                    "text": [
                        " 81%|\u2588\u2588\u2588\u2588\u2588\u2588\u2588\u2588  | 283/349 [00:59<00:09,  7.15it/s]"
                    ]
                },
                {
                    "name": "stdout",
                    "output_type": "stream",
                    "text": [
                        "Error processing /home/lippincm/4TB_A/NF1_2D_organoid_profiling_pipeline/data/SARCO361_T1/cellprofiler_zmax_proj_output/G10-4/gff_extracted_features.sqlite: An existing file or directory was provided as dest_path: '/home/lippincm/4TB_A/NF1_2D_organoid_profiling_pipeline/data/SARCO361_T1/0.converted/zmax_proj/G10-4_sc.parquet'. Please use a new path for this parameter.\n",
                        "Error processing /home/lippincm/4TB_A/NF1_2D_organoid_profiling_pipeline/data/SARCO361_T1/cellprofiler_zmax_proj_output/G10-5/gff_extracted_features.sqlite: An existing file or directory was provided as dest_path: '/home/lippincm/4TB_A/NF1_2D_organoid_profiling_pipeline/data/SARCO361_T1/0.converted/zmax_proj/G10-5_sc.parquet'. Please use a new path for this parameter.\n"
                    ]
                },
                {
                    "name": "stderr",
                    "output_type": "stream",
                    "text": [
                        " 82%|\u2588\u2588\u2588\u2588\u2588\u2588\u2588\u2588\u258f | 285/349 [01:00<00:10,  6.38it/s]"
                    ]
                },
                {
                    "name": "stdout",
                    "output_type": "stream",
                    "text": [
                        "Error processing /home/lippincm/4TB_A/NF1_2D_organoid_profiling_pipeline/data/SARCO361_T1/cellprofiler_zmax_proj_output/G10-6/gff_extracted_features.sqlite: list index out of range\n"
                    ]
                },
                {
                    "name": "stderr",
                    "output_type": "stream",
                    "text": [
                        " 82%|\u2588\u2588\u2588\u2588\u2588\u2588\u2588\u2588\u258f | 286/349 [01:00<00:13,  4.67it/s]"
                    ]
                },
                {
                    "name": "stdout",
                    "output_type": "stream",
                    "text": [
                        "Error processing /home/lippincm/4TB_A/NF1_2D_organoid_profiling_pipeline/data/SARCO361_T1/cellprofiler_zmax_proj_output/G10-7/gff_extracted_features.sqlite: list index out of range\n",
                        "Error processing /home/lippincm/4TB_A/NF1_2D_organoid_profiling_pipeline/data/SARCO361_T1/cellprofiler_zmax_proj_output/G11-1/gff_extracted_features.sqlite: An existing file or directory was provided as dest_path: '/home/lippincm/4TB_A/NF1_2D_organoid_profiling_pipeline/data/SARCO361_T1/0.converted/zmax_proj/G11-1_sc.parquet'. Please use a new path for this parameter.\n"
                    ]
                },
                {
                    "name": "stderr",
                    "output_type": "stream",
                    "text": [
                        " 83%|\u2588\u2588\u2588\u2588\u2588\u2588\u2588\u2588\u258e | 289/349 [01:01<00:12,  4.78it/s]"
                    ]
                },
                {
                    "name": "stdout",
                    "output_type": "stream",
                    "text": [
                        "Error processing /home/lippincm/4TB_A/NF1_2D_organoid_profiling_pipeline/data/SARCO361_T1/cellprofiler_zmax_proj_output/G11-2/gff_extracted_features.sqlite: list index out of range\n",
                        "Error processing /home/lippincm/4TB_A/NF1_2D_organoid_profiling_pipeline/data/SARCO361_T1/cellprofiler_zmax_proj_output/G11-3/gff_extracted_features.sqlite: An existing file or directory was provided as dest_path: '/home/lippincm/4TB_A/NF1_2D_organoid_profiling_pipeline/data/SARCO361_T1/0.converted/zmax_proj/G11-3_sc.parquet'. Please use a new path for this parameter.\n"
                    ]
                },
                {
                    "name": "stderr",
                    "output_type": "stream",
                    "text": [
                        " 83%|\u2588\u2588\u2588\u2588\u2588\u2588\u2588\u2588\u258e | 290/349 [01:01<00:14,  4.13it/s]"
                    ]
                },
                {
                    "name": "stdout",
                    "output_type": "stream",
                    "text": [
                        "Error processing /home/lippincm/4TB_A/NF1_2D_organoid_profiling_pipeline/data/SARCO361_T1/cellprofiler_zmax_proj_output/G11-4/gff_extracted_features.sqlite: list index out of range\n"
                    ]
                },
                {
                    "name": "stderr",
                    "output_type": "stream",
                    "text": [
                        " 84%|\u2588\u2588\u2588\u2588\u2588\u2588\u2588\u2588\u258e | 292/349 [01:02<00:15,  3.69it/s]"
                    ]
                },
                {
                    "name": "stdout",
                    "output_type": "stream",
                    "text": [
                        "Error processing /home/lippincm/4TB_A/NF1_2D_organoid_profiling_pipeline/data/SARCO361_T1/cellprofiler_zmax_proj_output/G11-5/gff_extracted_features.sqlite: list index out of range\n",
                        "Error processing /home/lippincm/4TB_A/NF1_2D_organoid_profiling_pipeline/data/SARCO361_T1/cellprofiler_zmax_proj_output/G11-6/gff_extracted_features.sqlite: An existing file or directory was provided as dest_path: '/home/lippincm/4TB_A/NF1_2D_organoid_profiling_pipeline/data/SARCO361_T1/0.converted/zmax_proj/G11-6_sc.parquet'. Please use a new path for this parameter.\n"
                    ]
                },
                {
                    "name": "stderr",
                    "output_type": "stream",
                    "text": [
                        " 84%|\u2588\u2588\u2588\u2588\u2588\u2588\u2588\u2588\u258d | 293/349 [01:02<00:18,  3.07it/s]"
                    ]
                },
                {
                    "name": "stdout",
                    "output_type": "stream",
                    "text": [
                        "Error processing /home/lippincm/4TB_A/NF1_2D_organoid_profiling_pipeline/data/SARCO361_T1/cellprofiler_zmax_proj_output/G11-7/gff_extracted_features.sqlite: list index out of range\n"
                    ]
                },
                {
                    "name": "stderr",
                    "output_type": "stream",
                    "text": [
                        " 84%|\u2588\u2588\u2588\u2588\u2588\u2588\u2588\u2588\u258d | 294/349 [01:03<00:19,  2.79it/s]"
                    ]
                },
                {
                    "name": "stdout",
                    "output_type": "stream",
                    "text": [
                        "Error processing /home/lippincm/4TB_A/NF1_2D_organoid_profiling_pipeline/data/SARCO361_T1/cellprofiler_zmax_proj_output/G2-1/gff_extracted_features.sqlite: list index out of range\n"
                    ]
                },
                {
                    "name": "stderr",
                    "output_type": "stream",
                    "text": [
                        " 85%|\u2588\u2588\u2588\u2588\u2588\u2588\u2588\u2588\u258d | 295/349 [01:03<00:20,  2.59it/s]"
                    ]
                },
                {
                    "name": "stdout",
                    "output_type": "stream",
                    "text": [
                        "Error processing /home/lippincm/4TB_A/NF1_2D_organoid_profiling_pipeline/data/SARCO361_T1/cellprofiler_zmax_proj_output/G2-2/gff_extracted_features.sqlite: list index out of range\n"
                    ]
                },
                {
                    "name": "stderr",
                    "output_type": "stream",
                    "text": [
                        " 85%|\u2588\u2588\u2588\u2588\u2588\u2588\u2588\u2588\u258c | 297/349 [01:04<00:15,  3.42it/s]"
                    ]
                },
                {
                    "name": "stdout",
                    "output_type": "stream",
                    "text": [
                        "Error processing /home/lippincm/4TB_A/NF1_2D_organoid_profiling_pipeline/data/SARCO361_T1/cellprofiler_zmax_proj_output/G2-3/gff_extracted_features.sqlite: An existing file or directory was provided as dest_path: '/home/lippincm/4TB_A/NF1_2D_organoid_profiling_pipeline/data/SARCO361_T1/0.converted/zmax_proj/G2-3_sc.parquet'. Please use a new path for this parameter.\n",
                        "Error processing /home/lippincm/4TB_A/NF1_2D_organoid_profiling_pipeline/data/SARCO361_T1/cellprofiler_zmax_proj_output/G2-4/gff_extracted_features.sqlite: An existing file or directory was provided as dest_path: '/home/lippincm/4TB_A/NF1_2D_organoid_profiling_pipeline/data/SARCO361_T1/0.converted/zmax_proj/G2-4_sc.parquet'. Please use a new path for this parameter.\n"
                    ]
                },
                {
                    "name": "stderr",
                    "output_type": "stream",
                    "text": [
                        " 85%|\u2588\u2588\u2588\u2588\u2588\u2588\u2588\u2588\u258c | 298/349 [01:04<00:18,  2.76it/s]"
                    ]
                },
                {
                    "name": "stdout",
                    "output_type": "stream",
                    "text": [
                        "Error processing /home/lippincm/4TB_A/NF1_2D_organoid_profiling_pipeline/data/SARCO361_T1/cellprofiler_zmax_proj_output/G2-5/gff_extracted_features.sqlite: list index out of range\n"
                    ]
                },
                {
                    "name": "stderr",
                    "output_type": "stream",
                    "text": [
                        " 86%|\u2588\u2588\u2588\u2588\u2588\u2588\u2588\u2588\u258c | 299/349 [01:05<00:19,  2.58it/s]"
                    ]
                },
                {
                    "name": "stdout",
                    "output_type": "stream",
                    "text": [
                        "Error processing /home/lippincm/4TB_A/NF1_2D_organoid_profiling_pipeline/data/SARCO361_T1/cellprofiler_zmax_proj_output/G2-6/gff_extracted_features.sqlite: list index out of range\n"
                    ]
                },
                {
                    "name": "stderr",
                    "output_type": "stream",
                    "text": [
                        " 86%|\u2588\u2588\u2588\u2588\u2588\u2588\u2588\u2588\u258c | 300/349 [01:05<00:20,  2.43it/s]"
                    ]
                },
                {
                    "name": "stdout",
                    "output_type": "stream",
                    "text": [
                        "Error processing /home/lippincm/4TB_A/NF1_2D_organoid_profiling_pipeline/data/SARCO361_T1/cellprofiler_zmax_proj_output/G2-7/gff_extracted_features.sqlite: list index out of range\n",
                        "Error processing /home/lippincm/4TB_A/NF1_2D_organoid_profiling_pipeline/data/SARCO361_T1/cellprofiler_zmax_proj_output/G3-1/gff_extracted_features.sqlite: An existing file or directory was provided as dest_path: '/home/lippincm/4TB_A/NF1_2D_organoid_profiling_pipeline/data/SARCO361_T1/0.converted/zmax_proj/G3-1_sc.parquet'. Please use a new path for this parameter.\n"
                    ]
                },
                {
                    "name": "stderr",
                    "output_type": "stream",
                    "text": [
                        " 87%|\u2588\u2588\u2588\u2588\u2588\u2588\u2588\u2588\u258b | 304/349 [01:06<00:09,  4.88it/s]"
                    ]
                },
                {
                    "name": "stdout",
                    "output_type": "stream",
                    "text": [
                        "Error processing /home/lippincm/4TB_A/NF1_2D_organoid_profiling_pipeline/data/SARCO361_T1/cellprofiler_zmax_proj_output/G3-2/gff_extracted_features.sqlite: An existing file or directory was provided as dest_path: '/home/lippincm/4TB_A/NF1_2D_organoid_profiling_pipeline/data/SARCO361_T1/0.converted/zmax_proj/G3-2_sc.parquet'. Please use a new path for this parameter.\n",
                        "Error processing /home/lippincm/4TB_A/NF1_2D_organoid_profiling_pipeline/data/SARCO361_T1/cellprofiler_zmax_proj_output/G3-3/gff_extracted_features.sqlite: An existing file or directory was provided as dest_path: '/home/lippincm/4TB_A/NF1_2D_organoid_profiling_pipeline/data/SARCO361_T1/0.converted/zmax_proj/G3-3_sc.parquet'. Please use a new path for this parameter.\n",
                        "Error processing /home/lippincm/4TB_A/NF1_2D_organoid_profiling_pipeline/data/SARCO361_T1/cellprofiler_zmax_proj_output/G3-4/gff_extracted_features.sqlite: An existing file or directory was provided as dest_path: '/home/lippincm/4TB_A/NF1_2D_organoid_profiling_pipeline/data/SARCO361_T1/0.converted/zmax_proj/G3-4_sc.parquet'. Please use a new path for this parameter.\n"
                    ]
                },
                {
                    "name": "stderr",
                    "output_type": "stream",
                    "text": [
                        " 88%|\u2588\u2588\u2588\u2588\u2588\u2588\u2588\u2588\u258a | 306/349 [01:06<00:07,  5.59it/s]"
                    ]
                },
                {
                    "name": "stdout",
                    "output_type": "stream",
                    "text": [
                        "Error processing /home/lippincm/4TB_A/NF1_2D_organoid_profiling_pipeline/data/SARCO361_T1/cellprofiler_zmax_proj_output/G3-5/gff_extracted_features.sqlite: An existing file or directory was provided as dest_path: '/home/lippincm/4TB_A/NF1_2D_organoid_profiling_pipeline/data/SARCO361_T1/0.converted/zmax_proj/G3-5_sc.parquet'. Please use a new path for this parameter.\n",
                        "Error processing /home/lippincm/4TB_A/NF1_2D_organoid_profiling_pipeline/data/SARCO361_T1/cellprofiler_zmax_proj_output/G3-6/gff_extracted_features.sqlite: An existing file or directory was provided as dest_path: '/home/lippincm/4TB_A/NF1_2D_organoid_profiling_pipeline/data/SARCO361_T1/0.converted/zmax_proj/G3-6_sc.parquet'. Please use a new path for this parameter.\n"
                    ]
                },
                {
                    "name": "stderr",
                    "output_type": "stream",
                    "text": [
                        " 88%|\u2588\u2588\u2588\u2588\u2588\u2588\u2588\u2588\u258a | 307/349 [01:06<00:08,  5.14it/s]"
                    ]
                },
                {
                    "name": "stdout",
                    "output_type": "stream",
                    "text": [
                        "Error processing /home/lippincm/4TB_A/NF1_2D_organoid_profiling_pipeline/data/SARCO361_T1/cellprofiler_zmax_proj_output/G3-7/gff_extracted_features.sqlite: An existing file or directory was provided as dest_path: '/home/lippincm/4TB_A/NF1_2D_organoid_profiling_pipeline/data/SARCO361_T1/0.converted/zmax_proj/G3-7_sc.parquet'. Please use a new path for this parameter.\n"
                    ]
                },
                {
                    "name": "stderr",
                    "output_type": "stream",
                    "text": [
                        " 88%|\u2588\u2588\u2588\u2588\u2588\u2588\u2588\u2588\u258a | 308/349 [01:07<00:10,  3.97it/s]"
                    ]
                },
                {
                    "name": "stdout",
                    "output_type": "stream",
                    "text": [
                        "Error processing /home/lippincm/4TB_A/NF1_2D_organoid_profiling_pipeline/data/SARCO361_T1/cellprofiler_zmax_proj_output/G4-1/gff_extracted_features.sqlite: list index out of range\n",
                        "Error processing /home/lippincm/4TB_A/NF1_2D_organoid_profiling_pipeline/data/SARCO361_T1/cellprofiler_zmax_proj_output/G4-2/gff_extracted_features.sqlite: An existing file or directory was provided as dest_path: '/home/lippincm/4TB_A/NF1_2D_organoid_profiling_pipeline/data/SARCO361_T1/0.converted/zmax_proj/G4-2_sc.parquet'. Please use a new path for this parameter.\n"
                    ]
                },
                {
                    "name": "stderr",
                    "output_type": "stream",
                    "text": [
                        " 89%|\u2588\u2588\u2588\u2588\u2588\u2588\u2588\u2588\u2589 | 311/349 [01:07<00:07,  4.84it/s]"
                    ]
                },
                {
                    "name": "stdout",
                    "output_type": "stream",
                    "text": [
                        "Error processing /home/lippincm/4TB_A/NF1_2D_organoid_profiling_pipeline/data/SARCO361_T1/cellprofiler_zmax_proj_output/G4-3/gff_extracted_features.sqlite: An existing file or directory was provided as dest_path: '/home/lippincm/4TB_A/NF1_2D_organoid_profiling_pipeline/data/SARCO361_T1/0.converted/zmax_proj/G4-3_sc.parquet'. Please use a new path for this parameter.\n",
                        "Error processing /home/lippincm/4TB_A/NF1_2D_organoid_profiling_pipeline/data/SARCO361_T1/cellprofiler_zmax_proj_output/G4-4/gff_extracted_features.sqlite: An existing file or directory was provided as dest_path: '/home/lippincm/4TB_A/NF1_2D_organoid_profiling_pipeline/data/SARCO361_T1/0.converted/zmax_proj/G4-4_sc.parquet'. Please use a new path for this parameter.\n"
                    ]
                },
                {
                    "name": "stderr",
                    "output_type": "stream",
                    "text": [
                        " 90%|\u2588\u2588\u2588\u2588\u2588\u2588\u2588\u2588\u2589 | 313/349 [01:07<00:06,  5.55it/s]"
                    ]
                },
                {
                    "name": "stdout",
                    "output_type": "stream",
                    "text": [
                        "Error processing /home/lippincm/4TB_A/NF1_2D_organoid_profiling_pipeline/data/SARCO361_T1/cellprofiler_zmax_proj_output/G4-5/gff_extracted_features.sqlite: An existing file or directory was provided as dest_path: '/home/lippincm/4TB_A/NF1_2D_organoid_profiling_pipeline/data/SARCO361_T1/0.converted/zmax_proj/G4-5_sc.parquet'. Please use a new path for this parameter.\n",
                        "Error processing /home/lippincm/4TB_A/NF1_2D_organoid_profiling_pipeline/data/SARCO361_T1/cellprofiler_zmax_proj_output/G4-6/gff_extracted_features.sqlite: An existing file or directory was provided as dest_path: '/home/lippincm/4TB_A/NF1_2D_organoid_profiling_pipeline/data/SARCO361_T1/0.converted/zmax_proj/G4-6_sc.parquet'. Please use a new path for this parameter.\n",
                        "Error processing /home/lippincm/4TB_A/NF1_2D_organoid_profiling_pipeline/data/SARCO361_T1/cellprofiler_zmax_proj_output/G4-7/gff_extracted_features.sqlite: An existing file or directory was provided as dest_path: '/home/lippincm/4TB_A/NF1_2D_organoid_profiling_pipeline/data/SARCO361_T1/0.converted/zmax_proj/G4-7_sc.parquet'. Please use a new path for this parameter.\n"
                    ]
                },
                {
                    "name": "stderr",
                    "output_type": "stream",
                    "text": [
                        " 90%|\u2588\u2588\u2588\u2588\u2588\u2588\u2588\u2588\u2588 | 315/349 [01:08<00:05,  5.94it/s]"
                    ]
                },
                {
                    "name": "stdout",
                    "output_type": "stream",
                    "text": [
                        "Error processing /home/lippincm/4TB_A/NF1_2D_organoid_profiling_pipeline/data/SARCO361_T1/cellprofiler_zmax_proj_output/G5-1/gff_extracted_features.sqlite: An existing file or directory was provided as dest_path: '/home/lippincm/4TB_A/NF1_2D_organoid_profiling_pipeline/data/SARCO361_T1/0.converted/zmax_proj/G5-1_sc.parquet'. Please use a new path for this parameter.\n"
                    ]
                },
                {
                    "name": "stderr",
                    "output_type": "stream",
                    "text": [
                        " 91%|\u2588\u2588\u2588\u2588\u2588\u2588\u2588\u2588\u2588 | 318/349 [01:08<00:04,  7.26it/s]"
                    ]
                },
                {
                    "name": "stdout",
                    "output_type": "stream",
                    "text": [
                        "Error processing /home/lippincm/4TB_A/NF1_2D_organoid_profiling_pipeline/data/SARCO361_T1/cellprofiler_zmax_proj_output/G5-2/gff_extracted_features.sqlite: An existing file or directory was provided as dest_path: '/home/lippincm/4TB_A/NF1_2D_organoid_profiling_pipeline/data/SARCO361_T1/0.converted/zmax_proj/G5-2_sc.parquet'. Please use a new path for this parameter.\n",
                        "Error processing /home/lippincm/4TB_A/NF1_2D_organoid_profiling_pipeline/data/SARCO361_T1/cellprofiler_zmax_proj_output/G5-3/gff_extracted_features.sqlite: An existing file or directory was provided as dest_path: '/home/lippincm/4TB_A/NF1_2D_organoid_profiling_pipeline/data/SARCO361_T1/0.converted/zmax_proj/G5-3_sc.parquet'. Please use a new path for this parameter.\n",
                        "Error processing /home/lippincm/4TB_A/NF1_2D_organoid_profiling_pipeline/data/SARCO361_T1/cellprofiler_zmax_proj_output/G5-4/gff_extracted_features.sqlite: An existing file or directory was provided as dest_path: '/home/lippincm/4TB_A/NF1_2D_organoid_profiling_pipeline/data/SARCO361_T1/0.converted/zmax_proj/G5-4_sc.parquet'. Please use a new path for this parameter.\n"
                    ]
                },
                {
                    "name": "stderr",
                    "output_type": "stream",
                    "text": [
                        " 91%|\u2588\u2588\u2588\u2588\u2588\u2588\u2588\u2588\u2588\u258f| 319/349 [01:08<00:04,  6.43it/s]"
                    ]
                },
                {
                    "name": "stdout",
                    "output_type": "stream",
                    "text": [
                        "Error processing /home/lippincm/4TB_A/NF1_2D_organoid_profiling_pipeline/data/SARCO361_T1/cellprofiler_zmax_proj_output/G5-5/gff_extracted_features.sqlite: An existing file or directory was provided as dest_path: '/home/lippincm/4TB_A/NF1_2D_organoid_profiling_pipeline/data/SARCO361_T1/0.converted/zmax_proj/G5-5_sc.parquet'. Please use a new path for this parameter.\n",
                        "Error processing /home/lippincm/4TB_A/NF1_2D_organoid_profiling_pipeline/data/SARCO361_T1/cellprofiler_zmax_proj_output/G5-6/gff_extracted_features.sqlite: An existing file or directory was provided as dest_path: '/home/lippincm/4TB_A/NF1_2D_organoid_profiling_pipeline/data/SARCO361_T1/0.converted/zmax_proj/G5-6_sc.parquet'. Please use a new path for this parameter.\n"
                    ]
                },
                {
                    "name": "stderr",
                    "output_type": "stream",
                    "text": [
                        " 92%|\u2588\u2588\u2588\u2588\u2588\u2588\u2588\u2588\u2588\u258f| 321/349 [01:08<00:04,  6.66it/s]"
                    ]
                },
                {
                    "name": "stdout",
                    "output_type": "stream",
                    "text": [
                        "Error processing /home/lippincm/4TB_A/NF1_2D_organoid_profiling_pipeline/data/SARCO361_T1/cellprofiler_zmax_proj_output/G5-7/gff_extracted_features.sqlite: An existing file or directory was provided as dest_path: '/home/lippincm/4TB_A/NF1_2D_organoid_profiling_pipeline/data/SARCO361_T1/0.converted/zmax_proj/G5-7_sc.parquet'. Please use a new path for this parameter.\n"
                    ]
                },
                {
                    "name": "stderr",
                    "output_type": "stream",
                    "text": [
                        " 92%|\u2588\u2588\u2588\u2588\u2588\u2588\u2588\u2588\u2588\u258f| 322/349 [01:09<00:04,  6.15it/s]"
                    ]
                },
                {
                    "name": "stdout",
                    "output_type": "stream",
                    "text": [
                        "Error processing /home/lippincm/4TB_A/NF1_2D_organoid_profiling_pipeline/data/SARCO361_T1/cellprofiler_zmax_proj_output/G6-1/gff_extracted_features.sqlite: An existing file or directory was provided as dest_path: '/home/lippincm/4TB_A/NF1_2D_organoid_profiling_pipeline/data/SARCO361_T1/0.converted/zmax_proj/G6-1_sc.parquet'. Please use a new path for this parameter.\n"
                    ]
                },
                {
                    "name": "stderr",
                    "output_type": "stream",
                    "text": [
                        " 93%|\u2588\u2588\u2588\u2588\u2588\u2588\u2588\u2588\u2588\u258e| 324/349 [01:09<00:04,  5.57it/s]"
                    ]
                },
                {
                    "name": "stdout",
                    "output_type": "stream",
                    "text": [
                        "Error processing /home/lippincm/4TB_A/NF1_2D_organoid_profiling_pipeline/data/SARCO361_T1/cellprofiler_zmax_proj_output/G6-2/gff_extracted_features.sqlite: An existing file or directory was provided as dest_path: '/home/lippincm/4TB_A/NF1_2D_organoid_profiling_pipeline/data/SARCO361_T1/0.converted/zmax_proj/G6-2_sc.parquet'. Please use a new path for this parameter.\n",
                        "Error processing /home/lippincm/4TB_A/NF1_2D_organoid_profiling_pipeline/data/SARCO361_T1/cellprofiler_zmax_proj_output/G6-3/gff_extracted_features.sqlite: An existing file or directory was provided as dest_path: '/home/lippincm/4TB_A/NF1_2D_organoid_profiling_pipeline/data/SARCO361_T1/0.converted/zmax_proj/G6-3_sc.parquet'. Please use a new path for this parameter.\n"
                    ]
                },
                {
                    "name": "stderr",
                    "output_type": "stream",
                    "text": [
                        " 93%|\u2588\u2588\u2588\u2588\u2588\u2588\u2588\u2588\u2588\u258e| 325/349 [01:09<00:04,  5.23it/s]"
                    ]
                },
                {
                    "name": "stdout",
                    "output_type": "stream",
                    "text": [
                        "Error processing /home/lippincm/4TB_A/NF1_2D_organoid_profiling_pipeline/data/SARCO361_T1/cellprofiler_zmax_proj_output/G6-4/gff_extracted_features.sqlite: An existing file or directory was provided as dest_path: '/home/lippincm/4TB_A/NF1_2D_organoid_profiling_pipeline/data/SARCO361_T1/0.converted/zmax_proj/G6-4_sc.parquet'. Please use a new path for this parameter.\n"
                    ]
                },
                {
                    "name": "stderr",
                    "output_type": "stream",
                    "text": [
                        " 94%|\u2588\u2588\u2588\u2588\u2588\u2588\u2588\u2588\u2588\u258e| 327/349 [01:10<00:05,  3.96it/s]"
                    ]
                },
                {
                    "name": "stdout",
                    "output_type": "stream",
                    "text": [
                        "Error processing /home/lippincm/4TB_A/NF1_2D_organoid_profiling_pipeline/data/SARCO361_T1/cellprofiler_zmax_proj_output/G6-5/gff_extracted_features.sqlite: list index out of range\n",
                        "Error processing /home/lippincm/4TB_A/NF1_2D_organoid_profiling_pipeline/data/SARCO361_T1/cellprofiler_zmax_proj_output/G6-6/gff_extracted_features.sqlite: An existing file or directory was provided as dest_path: '/home/lippincm/4TB_A/NF1_2D_organoid_profiling_pipeline/data/SARCO361_T1/0.converted/zmax_proj/G6-6_sc.parquet'. Please use a new path for this parameter.\n"
                    ]
                },
                {
                    "name": "stderr",
                    "output_type": "stream",
                    "text": [
                        " 94%|\u2588\u2588\u2588\u2588\u2588\u2588\u2588\u2588\u2588\u258d| 328/349 [01:10<00:05,  3.97it/s]"
                    ]
                },
                {
                    "name": "stdout",
                    "output_type": "stream",
                    "text": [
                        "Error processing /home/lippincm/4TB_A/NF1_2D_organoid_profiling_pipeline/data/SARCO361_T1/cellprofiler_zmax_proj_output/G6-7/gff_extracted_features.sqlite: An existing file or directory was provided as dest_path: '/home/lippincm/4TB_A/NF1_2D_organoid_profiling_pipeline/data/SARCO361_T1/0.converted/zmax_proj/G6-7_sc.parquet'. Please use a new path for this parameter.\n"
                    ]
                },
                {
                    "name": "stderr",
                    "output_type": "stream",
                    "text": [
                        " 94%|\u2588\u2588\u2588\u2588\u2588\u2588\u2588\u2588\u2588\u258d| 329/349 [01:11<00:05,  3.74it/s]"
                    ]
                },
                {
                    "name": "stdout",
                    "output_type": "stream",
                    "text": [
                        "Error processing /home/lippincm/4TB_A/NF1_2D_organoid_profiling_pipeline/data/SARCO361_T1/cellprofiler_zmax_proj_output/G7-1/gff_extracted_features.sqlite: list index out of range\n"
                    ]
                },
                {
                    "name": "stderr",
                    "output_type": "stream",
                    "text": [
                        " 95%|\u2588\u2588\u2588\u2588\u2588\u2588\u2588\u2588\u2588\u258c| 332/349 [01:11<00:03,  5.40it/s]"
                    ]
                },
                {
                    "name": "stdout",
                    "output_type": "stream",
                    "text": [
                        "Error processing /home/lippincm/4TB_A/NF1_2D_organoid_profiling_pipeline/data/SARCO361_T1/cellprofiler_zmax_proj_output/G7-2/gff_extracted_features.sqlite: list index out of range\n",
                        "Error processing /home/lippincm/4TB_A/NF1_2D_organoid_profiling_pipeline/data/SARCO361_T1/cellprofiler_zmax_proj_output/G7-3/gff_extracted_features.sqlite: An existing file or directory was provided as dest_path: '/home/lippincm/4TB_A/NF1_2D_organoid_profiling_pipeline/data/SARCO361_T1/0.converted/zmax_proj/G7-3_sc.parquet'. Please use a new path for this parameter.\n",
                        "Error processing /home/lippincm/4TB_A/NF1_2D_organoid_profiling_pipeline/data/SARCO361_T1/cellprofiler_zmax_proj_output/G7-4/gff_extracted_features.sqlite: An existing file or directory was provided as dest_path: '/home/lippincm/4TB_A/NF1_2D_organoid_profiling_pipeline/data/SARCO361_T1/0.converted/zmax_proj/G7-4_sc.parquet'. Please use a new path for this parameter.\n"
                    ]
                },
                {
                    "name": "stderr",
                    "output_type": "stream",
                    "text": [
                        " 95%|\u2588\u2588\u2588\u2588\u2588\u2588\u2588\u2588\u2588\u258c| 333/349 [01:11<00:03,  5.25it/s]"
                    ]
                },
                {
                    "name": "stdout",
                    "output_type": "stream",
                    "text": [
                        "Error processing /home/lippincm/4TB_A/NF1_2D_organoid_profiling_pipeline/data/SARCO361_T1/cellprofiler_zmax_proj_output/G7-5/gff_extracted_features.sqlite: An existing file or directory was provided as dest_path: '/home/lippincm/4TB_A/NF1_2D_organoid_profiling_pipeline/data/SARCO361_T1/0.converted/zmax_proj/G7-5_sc.parquet'. Please use a new path for this parameter.\n"
                    ]
                },
                {
                    "name": "stderr",
                    "output_type": "stream",
                    "text": [
                        " 96%|\u2588\u2588\u2588\u2588\u2588\u2588\u2588\u2588\u2588\u258c| 334/349 [01:12<00:03,  4.35it/s]"
                    ]
                },
                {
                    "name": "stdout",
                    "output_type": "stream",
                    "text": [
                        "Error processing /home/lippincm/4TB_A/NF1_2D_organoid_profiling_pipeline/data/SARCO361_T1/cellprofiler_zmax_proj_output/G7-6/gff_extracted_features.sqlite: list index out of range\n",
                        "Error processing /home/lippincm/4TB_A/NF1_2D_organoid_profiling_pipeline/data/SARCO361_T1/cellprofiler_zmax_proj_output/G7-7/gff_extracted_features.sqlite: An existing file or directory was provided as dest_path: '/home/lippincm/4TB_A/NF1_2D_organoid_profiling_pipeline/data/SARCO361_T1/0.converted/zmax_proj/G7-7_sc.parquet'. Please use a new path for this parameter.\n"
                    ]
                },
                {
                    "name": "stderr",
                    "output_type": "stream",
                    "text": [
                        " 96%|\u2588\u2588\u2588\u2588\u2588\u2588\u2588\u2588\u2588\u258b| 336/349 [01:12<00:02,  4.49it/s]"
                    ]
                },
                {
                    "name": "stdout",
                    "output_type": "stream",
                    "text": [
                        "Error processing /home/lippincm/4TB_A/NF1_2D_organoid_profiling_pipeline/data/SARCO361_T1/cellprofiler_zmax_proj_output/G8-1/gff_extracted_features.sqlite: list index out of range\n"
                    ]
                },
                {
                    "name": "stderr",
                    "output_type": "stream",
                    "text": [
                        " 97%|\u2588\u2588\u2588\u2588\u2588\u2588\u2588\u2588\u2588\u258b| 338/349 [01:12<00:02,  5.13it/s]"
                    ]
                },
                {
                    "name": "stdout",
                    "output_type": "stream",
                    "text": [
                        "Error processing /home/lippincm/4TB_A/NF1_2D_organoid_profiling_pipeline/data/SARCO361_T1/cellprofiler_zmax_proj_output/G8-2/gff_extracted_features.sqlite: An existing file or directory was provided as dest_path: '/home/lippincm/4TB_A/NF1_2D_organoid_profiling_pipeline/data/SARCO361_T1/0.converted/zmax_proj/G8-2_sc.parquet'. Please use a new path for this parameter.\n",
                        "Error processing /home/lippincm/4TB_A/NF1_2D_organoid_profiling_pipeline/data/SARCO361_T1/cellprofiler_zmax_proj_output/G8-3/gff_extracted_features.sqlite: An existing file or directory was provided as dest_path: '/home/lippincm/4TB_A/NF1_2D_organoid_profiling_pipeline/data/SARCO361_T1/0.converted/zmax_proj/G8-3_sc.parquet'. Please use a new path for this parameter.\n"
                    ]
                },
                {
                    "name": "stderr",
                    "output_type": "stream",
                    "text": [
                        " 97%|\u2588\u2588\u2588\u2588\u2588\u2588\u2588\u2588\u2588\u258b| 339/349 [01:12<00:01,  5.03it/s]"
                    ]
                },
                {
                    "name": "stdout",
                    "output_type": "stream",
                    "text": [
                        "Error processing /home/lippincm/4TB_A/NF1_2D_organoid_profiling_pipeline/data/SARCO361_T1/cellprofiler_zmax_proj_output/G8-4/gff_extracted_features.sqlite: An existing file or directory was provided as dest_path: '/home/lippincm/4TB_A/NF1_2D_organoid_profiling_pipeline/data/SARCO361_T1/0.converted/zmax_proj/G8-4_sc.parquet'. Please use a new path for this parameter.\n"
                    ]
                },
                {
                    "name": "stderr",
                    "output_type": "stream",
                    "text": [
                        " 97%|\u2588\u2588\u2588\u2588\u2588\u2588\u2588\u2588\u2588\u258b| 340/349 [01:13<00:02,  4.08it/s]"
                    ]
                },
                {
                    "name": "stdout",
                    "output_type": "stream",
                    "text": [
                        "Error processing /home/lippincm/4TB_A/NF1_2D_organoid_profiling_pipeline/data/SARCO361_T1/cellprofiler_zmax_proj_output/G8-5/gff_extracted_features.sqlite: list index out of range\n"
                    ]
                },
                {
                    "name": "stderr",
                    "output_type": "stream",
                    "text": [
                        " 98%|\u2588\u2588\u2588\u2588\u2588\u2588\u2588\u2588\u2588\u258a| 341/349 [01:13<00:01,  4.14it/s]"
                    ]
                },
                {
                    "name": "stdout",
                    "output_type": "stream",
                    "text": [
                        "Error processing /home/lippincm/4TB_A/NF1_2D_organoid_profiling_pipeline/data/SARCO361_T1/cellprofiler_zmax_proj_output/G8-6/gff_extracted_features.sqlite: An existing file or directory was provided as dest_path: '/home/lippincm/4TB_A/NF1_2D_organoid_profiling_pipeline/data/SARCO361_T1/0.converted/zmax_proj/G8-6_sc.parquet'. Please use a new path for this parameter.\n",
                        "Error processing /home/lippincm/4TB_A/NF1_2D_organoid_profiling_pipeline/data/SARCO361_T1/cellprofiler_zmax_proj_output/G8-7/gff_extracted_features.sqlite: An existing file or directory was provided as dest_path: '/home/lippincm/4TB_A/NF1_2D_organoid_profiling_pipeline/data/SARCO361_T1/0.converted/zmax_proj/G8-7_sc.parquet'. Please use a new path for this parameter.\n"
                    ]
                },
                {
                    "name": "stderr",
                    "output_type": "stream",
                    "text": [
                        " 98%|\u2588\u2588\u2588\u2588\u2588\u2588\u2588\u2588\u2588\u258a| 343/349 [01:13<00:01,  5.08it/s]"
                    ]
                },
                {
                    "name": "stdout",
                    "output_type": "stream",
                    "text": [
                        "Error processing /home/lippincm/4TB_A/NF1_2D_organoid_profiling_pipeline/data/SARCO361_T1/cellprofiler_zmax_proj_output/G9-1/gff_extracted_features.sqlite: An existing file or directory was provided as dest_path: '/home/lippincm/4TB_A/NF1_2D_organoid_profiling_pipeline/data/SARCO361_T1/0.converted/zmax_proj/G9-1_sc.parquet'. Please use a new path for this parameter.\n"
                    ]
                },
                {
                    "name": "stderr",
                    "output_type": "stream",
                    "text": [
                        " 99%|\u2588\u2588\u2588\u2588\u2588\u2588\u2588\u2588\u2588\u258a| 344/349 [01:14<00:01,  4.98it/s]"
                    ]
                },
                {
                    "name": "stdout",
                    "output_type": "stream",
                    "text": [
                        "Error processing /home/lippincm/4TB_A/NF1_2D_organoid_profiling_pipeline/data/SARCO361_T1/cellprofiler_zmax_proj_output/G9-2/gff_extracted_features.sqlite: An existing file or directory was provided as dest_path: '/home/lippincm/4TB_A/NF1_2D_organoid_profiling_pipeline/data/SARCO361_T1/0.converted/zmax_proj/G9-2_sc.parquet'. Please use a new path for this parameter.\n"
                    ]
                },
                {
                    "name": "stderr",
                    "output_type": "stream",
                    "text": [
                        " 99%|\u2588\u2588\u2588\u2588\u2588\u2588\u2588\u2588\u2588\u2589| 346/349 [01:14<00:00,  4.93it/s]"
                    ]
                },
                {
                    "name": "stdout",
                    "output_type": "stream",
                    "text": [
                        "Error processing /home/lippincm/4TB_A/NF1_2D_organoid_profiling_pipeline/data/SARCO361_T1/cellprofiler_zmax_proj_output/G9-3/gff_extracted_features.sqlite: An existing file or directory was provided as dest_path: '/home/lippincm/4TB_A/NF1_2D_organoid_profiling_pipeline/data/SARCO361_T1/0.converted/zmax_proj/G9-3_sc.parquet'. Please use a new path for this parameter.\n",
                        "Error processing /home/lippincm/4TB_A/NF1_2D_organoid_profiling_pipeline/data/SARCO361_T1/cellprofiler_zmax_proj_output/G9-4/gff_extracted_features.sqlite: An existing file or directory was provided as dest_path: '/home/lippincm/4TB_A/NF1_2D_organoid_profiling_pipeline/data/SARCO361_T1/0.converted/zmax_proj/G9-4_sc.parquet'. Please use a new path for this parameter.\n",
                        "Error processing /home/lippincm/4TB_A/NF1_2D_organoid_profiling_pipeline/data/SARCO361_T1/cellprofiler_zmax_proj_output/G9-5/gff_extracted_features.sqlite: An existing file or directory was provided as dest_path: '/home/lippincm/4TB_A/NF1_2D_organoid_profiling_pipeline/data/SARCO361_T1/0.converted/zmax_proj/G9-5_sc.parquet'. Please use a new path for this parameter.\n"
                    ]
                },
                {
                    "name": "stderr",
                    "output_type": "stream",
                    "text": [
                        "100%|\u2588\u2588\u2588\u2588\u2588\u2588\u2588\u2588\u2588\u2589| 348/349 [01:14<00:00,  5.69it/s]"
                    ]
                },
                {
                    "name": "stdout",
                    "output_type": "stream",
                    "text": [
                        "Error processing /home/lippincm/4TB_A/NF1_2D_organoid_profiling_pipeline/data/SARCO361_T1/cellprofiler_zmax_proj_output/G9-6/gff_extracted_features.sqlite: An existing file or directory was provided as dest_path: '/home/lippincm/4TB_A/NF1_2D_organoid_profiling_pipeline/data/SARCO361_T1/0.converted/zmax_proj/G9-6_sc.parquet'. Please use a new path for this parameter.\n"
                    ]
                },
                {
                    "name": "stderr",
                    "output_type": "stream",
                    "text": [
                        "100%|\u2588\u2588\u2588\u2588\u2588\u2588\u2588\u2588\u2588\u2588| 349/349 [01:14<00:00,  4.65it/s]"
                    ]
                },
                {
                    "name": "stdout",
                    "output_type": "stream",
                    "text": [
                        "Error processing /home/lippincm/4TB_A/NF1_2D_organoid_profiling_pipeline/data/SARCO361_T1/cellprofiler_zmax_proj_output/G9-7/gff_extracted_features.sqlite: An existing file or directory was provided as dest_path: '/home/lippincm/4TB_A/NF1_2D_organoid_profiling_pipeline/data/SARCO361_T1/0.converted/zmax_proj/G9-7_sc.parquet'. Please use a new path for this parameter.\n",
                        "Total files processed: 698\n",
                        "Total errors encountered: 698\n"
                    ]
                },
                {
                    "name": "stderr",
                    "output_type": "stream",
                    "text": [
                        "\n"
                    ]
                }
            ],
            "source": [
                "total = 0\n",
                "errors = 0\n",
                "# loop through the middle and zmax projected sqlite files\n",
                "for featurization_type in well_fov_dict.keys():\n",
                "    for well_fov, file_info in tqdm.tqdm(well_fov_dict[featurization_type].items()):\n",
                "        sqlite_file = file_info[\"image_path\"]\n",
                "        total += 1\n",
                "        # convert the sqlite file to a single cell parquet file\n",
                "        try:\n",
                "            df = convert(\n",
                "                sqlite_file,\n",
                "                preset=preset,\n",
                "                joins=joins,\n",
                "                chunk_size=500,\n",
                "                dest_datatype=dest_datatype,\n",
                "                dest_path=f\"{well_fov_dict[featurization_type][well_fov]['output_dir']}_sc.parquet\",\n",
                "                parsl_config=Config(\n",
                "                    executors=[HighThroughputExecutor()],\n",
                "                    run_dir=f\"cytotable_runinfo/{uuid.uuid4().hex}\",\n",
                "                ),\n",
                "            )\n",
                "            output_dict_of_dfs[featurization_type][\"df_list\"].append(\n",
                "                f\"{well_fov_dict[featurization_type][well_fov]['output_dir']}_sc.parquet\"\n",
                "            )\n",
                "        except Exception as e:\n",
                "            errors += 1\n",
                "            print(f\"Error processing {sqlite_file}: {e}\")\n",
                "            continue\n",
                "print(f\"Total files processed: {total}\")\n",
                "print(f\"Total errors encountered: {errors}\")"
            ]
        },
        {
            "cell_type": "code",
            "execution_count": 6,
            "metadata": {},
            "outputs": [],
            "source": [
                "output_dict_of_dfs = {\n",
                "    \"middle_slice\": {\n",
                "        \"df_list\": [\n",
                "            x\n",
                "            for x in pathlib.Path(\n",
                "                f\"../../data/{patient}/0.converted/middle_slice/\"\n",
                "            ).rglob(\"*.parquet\")\n",
                "        ]\n",
                "    },\n",
                "    \"zmax_proj\": {\n",
                "        \"df_list\": [\n",
                "            x\n",
                "            for x in pathlib.Path(f\"../../data/{patient}/0.converted/zmax_proj/\").rglob(\n",
                "                \"*.parquet\"\n",
                "            )\n",
                "        ]\n",
                "    },\n",
                "}"
            ]
        },
        {
            "cell_type": "code",
            "execution_count": 7,
            "metadata": {},
            "outputs": [
                {
                    "name": "stdout",
                    "output_type": "stream",
                    "text": [
                        "Concatenating 195 dataframes for middle_slice\n",
                        "195\n",
                        "Saved middle_slice data to 918 rows in 2910 columns\n",
                        "Concatenating 268 dataframes for zmax_proj\n",
                        "268\n",
                        "Saved zmax_proj data to 1740 rows in 2910 columns\n"
                    ]
                }
            ],
            "source": [
                "# read in the dataframes and concatenate them in place\n",
                "for featurization_type in output_dict_of_dfs.keys():\n",
                "    print(\n",
                "        f\"Concatenating {len(output_dict_of_dfs[featurization_type]['df_list'])} dataframes for {featurization_type}\"\n",
                "    )\n",
                "    df_list = [\n",
                "        pd.read_parquet(df) for df in output_dict_of_dfs[featurization_type][\"df_list\"]\n",
                "    ]\n",
                "    print(len(df_list))\n",
                "    output_dict_of_dfs[featurization_type][\"df\"] = pd.concat(df_list, ignore_index=True)\n",
                "    # Define the list of columns to prioritize and prefix\n",
                "    prioritized_columns = [\n",
                "        \"Nuclei_Location_Center_X\",\n",
                "        \"Nuclei_Location_Center_Y\",\n",
                "        \"Cells_Location_Center_X\",\n",
                "        \"Cells_Location_Center_Y\",\n",
                "        \"Image_Count_Cells\",\n",
                "    ]\n",
                "\n",
                "    # If any, drop rows where \"Metadata_ImageNumber\" is NaN (artifact of cytotable)\n",
                "    output_dict_of_dfs[featurization_type][\"df\"] = output_dict_of_dfs[\n",
                "        featurization_type\n",
                "    ][\"df\"].dropna(subset=[\"Metadata_ImageNumber\"])\n",
                "\n",
                "    # Rearrange columns and add \"Metadata\" prefix in one line\n",
                "    output_dict_of_dfs[featurization_type][\"df\"] = output_dict_of_dfs[\n",
                "        featurization_type\n",
                "    ][\"df\"][\n",
                "        prioritized_columns\n",
                "        + [\n",
                "            col\n",
                "            for col in output_dict_of_dfs[featurization_type][\"df\"].columns\n",
                "            if col not in prioritized_columns\n",
                "        ]\n",
                "    ].rename(\n",
                "        columns=lambda col: \"Metadata_\" + col if col in prioritized_columns else col\n",
                "    )\n",
                "    # rename Image_Metadata_Well\n",
                "    output_dict_of_dfs[featurization_type][\"df\"] = output_dict_of_dfs[\n",
                "        featurization_type\n",
                "    ][\"df\"].rename(columns={\"Image_Metadata_Well\": \"Metadata_Well\"})\n",
                "\n",
                "    if featurization_type == \"middle_slice\":\n",
                "        output_dict_of_dfs[featurization_type][\"df\"].to_parquet(\n",
                "            middle_slice_sc_output, index=False\n",
                "        )\n",
                "    elif featurization_type == \"zmax_proj\":\n",
                "        output_dict_of_dfs[featurization_type][\"df\"].to_parquet(\n",
                "            max_projected_sc_output, index=False\n",
                "        )\n",
                "    print(\n",
                "        f\"Saved {featurization_type} data to {output_dict_of_dfs[featurization_type]['df'].shape[0]} rows in {output_dict_of_dfs[featurization_type]['df'].shape[1]} columns\"\n",
                "    )"
            ]
        },
        {
            "cell_type": "markdown",
            "metadata": {},
            "source": [
                "## Extract organoid only profiles"
            ]
        },
        {
            "cell_type": "code",
            "execution_count": 8,
            "metadata": {},
            "outputs": [
                {
                    "data": {
                        "text/plain": [
                            "{'middle_slice': {'df_list': []}, 'zmax_proj': {'df_list': []}}"
                        ]
                    },
                    "execution_count": 8,
                    "metadata": {},
                    "output_type": "execute_result"
                }
            ],
            "source": [
                "output_dict_of_dfs = {}\n",
                "for sqlite_dir in [middle_slice_input, max_projected_input]:\n",
                "    output_dict_of_dfs[sqlite_dir.name.split(\"_out\")[0].split(\"cellprofiler_\")[1]] = {\n",
                "        \"df_list\": [],\n",
                "    }\n",
                "output_dict_of_dfs"
            ]
        },
        {
            "cell_type": "code",
            "execution_count": 9,
            "metadata": {},
            "outputs": [
                {
                    "name": "stdout",
                    "output_type": "stream",
                    "text": [
                        "Processing middle_slice files\n"
                    ]
                },
                {
                    "name": "stderr",
                    "output_type": "stream",
                    "text": [
                        "100%|\u2588\u2588\u2588\u2588\u2588\u2588\u2588\u2588\u2588\u2588| 349/349 [00:19<00:00, 17.58it/s]\n"
                    ]
                },
                {
                    "name": "stdout",
                    "output_type": "stream",
                    "text": [
                        "Processing zmax_proj files\n"
                    ]
                },
                {
                    "name": "stderr",
                    "output_type": "stream",
                    "text": [
                        "100%|\u2588\u2588\u2588\u2588\u2588\u2588\u2588\u2588\u2588\u2588| 349/349 [00:20<00:00, 16.90it/s]\n"
                    ]
                }
            ],
            "source": [
                "total = 0\n",
                "errors = 0\n",
                "for featurization_type in well_fov_dict.keys():\n",
                "    print(f\"Processing {featurization_type} files\")\n",
                "    for well_fov, file_info in tqdm.tqdm(well_fov_dict[featurization_type].items()):\n",
                "        well = well_fov.split(\"-\")[0]\n",
                "        fov = well_fov.split(\"-\")[1]\n",
                "        sqlite_file = file_info[\"image_path\"]\n",
                "        total += 1\n",
                "        try:\n",
                "            # Create a DuckDB connection\n",
                "            with duckdb.connect(sqlite_file) as con:\n",
                "                # get the organoid table\n",
                "                organoid_table = con.execute(\"SELECT * FROM Per_Organoid\").df()\n",
                "                organoid_table.rename(\n",
                "                    columns={\n",
                "                        \"ImageNumber\": \"Metadata_ImageNumber\",\n",
                "                        \"Organoid_Number_Object_Number\": \"Metadata_Organoid_Number_Object_Number\",\n",
                "                        \"Image_Metadata_Well\": \"Metadata_Well\",\n",
                "                    },\n",
                "                    inplace=True,\n",
                "                )\n",
                "                organoid_table.insert(0, \"Metadata_Well_FOV\", well_fov)\n",
                "                organoid_table.insert(1, \"Metadata_FOV\", fov)\n",
                "                organoid_table.insert(2, \"Metadata_Well\", well)\n",
                "            output_dict_of_dfs[featurization_type][\"df_list\"].append(organoid_table)\n",
                "\n",
                "        except Exception as e:\n",
                "            errors += 1\n",
                "            print(f\"Error processing {sqlite_file}: {e}\")\n",
                "            continue"
            ]
        },
        {
            "cell_type": "code",
            "execution_count": 10,
            "metadata": {},
            "outputs": [
                {
                    "name": "stdout",
                    "output_type": "stream",
                    "text": [
                        "Concatenating 349 dataframes for middle_slice\n",
                        "Saved middle_slice data to 234 rows in 967 columns\n",
                        "Concatenating 349 dataframes for zmax_proj\n",
                        "Saved zmax_proj data to 676 rows in 967 columns\n"
                    ]
                }
            ],
            "source": [
                "# read in the dataframes and concatenate them in place\n",
                "for featurization_type in output_dict_of_dfs.keys():\n",
                "    print(\n",
                "        f\"Concatenating {len(output_dict_of_dfs[featurization_type]['df_list'])} dataframes for {featurization_type}\"\n",
                "    )\n",
                "    output_dict_of_dfs[featurization_type][\"df\"] = pd.concat(\n",
                "        output_dict_of_dfs[featurization_type][\"df_list\"], ignore_index=True\n",
                "    )\n",
                "\n",
                "    # If any, drop rows where \"Metadata_ImageNumber\" is NaN (artifact of cytotable)\n",
                "    output_dict_of_dfs[featurization_type][\"df\"] = output_dict_of_dfs[\n",
                "        featurization_type\n",
                "    ][\"df\"].dropna(subset=[\"Metadata_ImageNumber\"])\n",
                "    if featurization_type == \"middle_slice\":\n",
                "        output_dict_of_dfs[featurization_type][\"df\"].to_parquet(\n",
                "            middle_slice_organoid_output, index=False\n",
                "        )\n",
                "    elif featurization_type == \"zmax_proj\":\n",
                "        output_dict_of_dfs[featurization_type][\"df\"].to_parquet(\n",
                "            max_projected_organoid_output, index=False\n",
                "        )\n",
                "    print(\n",
                "        f\"Saved {featurization_type} data to {output_dict_of_dfs[featurization_type]['df'].shape[0]} rows in {output_dict_of_dfs[featurization_type]['df'].shape[1]} columns\"\n",
                "    )"
            ]
        }
    ],
    "metadata": {
        "kernelspec": {
            "display_name": "gff_preprocessing_env",
            "language": "python",
            "name": "python3"
        },
        "language_info": {
            "codemirror_mode": {
                "name": "ipython",
                "version": 3
            },
            "file_extension": ".py",
            "mimetype": "text/x-python",
            "name": "python",
            "nbconvert_exporter": "python",
            "pygments_lexer": "ipython3",
            "version": "3.10.15"
        },
        "orig_nbformat": 4
    },
    "nbformat": 4,
    "nbformat_minor": 2
}
